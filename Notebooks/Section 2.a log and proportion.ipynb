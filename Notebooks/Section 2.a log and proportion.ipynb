{
 "cells": [
  {
   "cell_type": "markdown",
   "id": "b7139f22",
   "metadata": {},
   "source": [
    "## Method #1 VOD Logit Benchmark"
   ]
  },
  {
   "cell_type": "code",
   "execution_count": 3,
   "id": "8b867a68",
   "metadata": {},
   "outputs": [],
   "source": [
    "import pandas as pd\n",
    "import numpy as np\n",
    "\n",
    "import matplotlib.pyplot as plt\n",
    "import matplotlib\n",
    "from time import time"
   ]
  },
  {
   "cell_type": "code",
   "execution_count": 42,
   "id": "7016cb9e",
   "metadata": {},
   "outputs": [
    {
     "name": "stdout",
     "output_type": "stream",
     "text": [
      "/Users/karatechop\n"
     ]
    }
   ],
   "source": [
    "cd"
   ]
  },
  {
   "cell_type": "code",
   "execution_count": 43,
   "id": "1848ce1d",
   "metadata": {},
   "outputs": [
    {
     "name": "stdout",
     "output_type": "stream",
     "text": [
      "/Users/karatechop/Documents/GitHub/senior-thesis-pretextual-stops/Data/RIPA-DATA-CA-as-of-2022 (CSV)\n"
     ]
    }
   ],
   "source": [
    "cd /Users/karatechop/Documents/GitHub/senior-thesis-pretextual-stops/Data/RIPA-DATA-CA-as-of-2022\\ \\(CSV\\)"
   ]
  },
  {
   "cell_type": "code",
   "execution_count": 44,
   "id": "fece3380",
   "metadata": {
    "scrolled": true
   },
   "outputs": [
    {
     "name": "stdout",
     "output_type": "stream",
     "text": [
      "Index(['date', 'day_in_year', 'time', 'sunsettime', 'dusktime', 'sex', 'race',\n",
      "       'type', 'duration', 'agency', 'location', 'city', 'lat', 'lon', 'wave',\n",
      "       'mins_stop_time', 'mins_dawn', 'mins_sunrise', 'mins_sunset',\n",
      "       'mins_dusk', 'mins_after_dawn', 'mins_before_dusk', 'dark'],\n",
      "      dtype='object') \n",
      " (2408246, 23)\n"
     ]
    }
   ],
   "source": [
    "df = pd.read_csv('working_main_expanded.csv')\n",
    "print(df.columns,'\\n',df.shape)"
   ]
  },
  {
   "cell_type": "code",
   "execution_count": 177,
   "id": "f10bfb4a",
   "metadata": {},
   "outputs": [
    {
     "data": {
      "text/plain": [
       "(819770, 23)"
      ]
     },
     "execution_count": 177,
     "metadata": {},
     "output_type": "execute_result"
    }
   ],
   "source": [
    "df[df['dark']==1].shape"
   ]
  },
  {
   "cell_type": "markdown",
   "id": "32ee4ef4",
   "metadata": {},
   "source": [
    "Let's find the earliest and latest dark periods for dawn and dusk to filter for our ITP"
   ]
  },
  {
   "cell_type": "code",
   "execution_count": 45,
   "id": "c836bb10",
   "metadata": {},
   "outputs": [],
   "source": [
    "itp_dawn = df[(df['type']!='Non-Moving') &\n",
    "             ((df['mins_stop_time']>=df.mins_dawn.min()) & (df['mins_stop_time']<=df.mins_dawn.max())) & #filtering for ITP (4:30-8:30)\n",
    "             ((df['mins_after_dawn']>=30) | (df['mins_after_dawn']<=0))][['date', #removing sunset->dusk period\n",
    "                                                                          'time',\n",
    "                                                                          'race',\n",
    "                                                                          'location',\n",
    "                                                                          'city',\n",
    "                                                                          'wave',\n",
    "                                                                          'mins_after_dawn',\n",
    "                                                                          'mins_stop_time',\n",
    "                                                                          'mins_dawn',\n",
    "                                                                          'dark']]\n",
    "\n",
    "itp_dawn['period'] = 'dawn'\n",
    "itp_dawn.shape\n",
    "itp_dawn.to_csv('itp_dawn.csv',index=False)"
   ]
  },
  {
   "cell_type": "code",
   "execution_count": 46,
   "id": "627133b9",
   "metadata": {},
   "outputs": [],
   "source": [
    "itp_dusk = df[(df['type']!='Non-Moving') &\n",
    "             ((df['mins_stop_time']>=df.mins_dusk.min()) & (df['mins_stop_time']<=df.mins_dusk.max())) & #filtering for ITP (4:30-8:30)\n",
    "             ((df['mins_before_dusk']>=30) | (df['mins_before_dusk']<=0))][['date', #removing sunset->dusk period\n",
    "                                                                            'time',\n",
    "                                                                            'race',\n",
    "                                                                            'location',\n",
    "                                                                            'city',\n",
    "                                                                            'wave',\n",
    "                                                                            'mins_before_dusk',\n",
    "                                                                            'mins_stop_time',\n",
    "                                                                            'mins_dusk',\n",
    "                                                                            'dark']]\n",
    "itp_dusk['period'] = 'dusk'\n",
    "itp_dusk.shape\n",
    "itp_dusk.to_csv('itp_dusk.csv',index=False)"
   ]
  },
  {
   "cell_type": "code",
   "execution_count": 47,
   "id": "bd737117",
   "metadata": {},
   "outputs": [
    {
     "data": {
      "text/plain": [
       "(337580, 11)"
      ]
     },
     "execution_count": 47,
     "metadata": {},
     "output_type": "execute_result"
    }
   ],
   "source": [
    "itp_dusk.shape"
   ]
  },
  {
   "cell_type": "code",
   "execution_count": 48,
   "id": "236b4436",
   "metadata": {},
   "outputs": [
    {
     "data": {
      "text/plain": [
       "date              0\n",
       "time              0\n",
       "race              0\n",
       "location          0\n",
       "city              0\n",
       "wave              0\n",
       "mins_stop_time    0\n",
       "dark              0\n",
       "period            0\n",
       "dtype: int64"
      ]
     },
     "execution_count": 48,
     "metadata": {},
     "output_type": "execute_result"
    }
   ],
   "source": [
    "itp_full = pd.concat([itp_dawn,itp_dusk]).drop(columns=['mins_after_dawn','mins_before_dusk','mins_dawn','mins_dusk'])\n",
    "itp_full.to_csv('itp_full.csv',index=False)\n",
    "itp_full.isna().sum()"
   ]
  },
  {
   "cell_type": "code",
   "execution_count": 15,
   "id": "3ad52845",
   "metadata": {},
   "outputs": [
    {
     "data": {
      "text/plain": [
       "(419353, 9)"
      ]
     },
     "execution_count": 15,
     "metadata": {},
     "output_type": "execute_result"
    }
   ],
   "source": [
    "itp_full.shape"
   ]
  },
  {
   "cell_type": "markdown",
   "id": "1192f648",
   "metadata": {},
   "source": [
    "## VOD "
   ]
  },
  {
   "cell_type": "code",
   "execution_count": 49,
   "id": "fa8ff037",
   "metadata": {},
   "outputs": [],
   "source": [
    "import scipy\n",
    "import statsmodels.formula.api as smf\n",
    "import statistics as st "
   ]
  },
  {
   "cell_type": "markdown",
   "id": "33536cf1",
   "metadata": {},
   "source": [
    "### Statewide VOD Model"
   ]
  },
  {
   "cell_type": "code",
   "execution_count": 50,
   "id": "568dba1b",
   "metadata": {},
   "outputs": [
    {
     "data": {
      "text/html": [
       "<div>\n",
       "<style scoped>\n",
       "    .dataframe tbody tr th:only-of-type {\n",
       "        vertical-align: middle;\n",
       "    }\n",
       "\n",
       "    .dataframe tbody tr th {\n",
       "        vertical-align: top;\n",
       "    }\n",
       "\n",
       "    .dataframe thead th {\n",
       "        text-align: right;\n",
       "    }\n",
       "</style>\n",
       "<table border=\"1\" class=\"dataframe\">\n",
       "  <thead>\n",
       "    <tr style=\"text-align: right;\">\n",
       "      <th></th>\n",
       "      <th>date</th>\n",
       "      <th>location</th>\n",
       "      <th>city</th>\n",
       "      <th>wave</th>\n",
       "      <th>dark</th>\n",
       "      <th>mins_stop_time</th>\n",
       "      <th>hispanic</th>\n",
       "      <th>black</th>\n",
       "    </tr>\n",
       "  </thead>\n",
       "  <tbody>\n",
       "    <tr>\n",
       "      <th>0</th>\n",
       "      <td>2021-03-12 00:00:00</td>\n",
       "      <td>1100 block of william ct - San Jose</td>\n",
       "      <td>San Jose</td>\n",
       "      <td>2</td>\n",
       "      <td>0</td>\n",
       "      <td>1054.0</td>\n",
       "      <td>1</td>\n",
       "      <td>0</td>\n",
       "    </tr>\n",
       "    <tr>\n",
       "      <th>1</th>\n",
       "      <td>2021-01-21 00:00:00</td>\n",
       "      <td>1500 block of moorpark - San Jose</td>\n",
       "      <td>San Jose</td>\n",
       "      <td>2</td>\n",
       "      <td>1</td>\n",
       "      <td>1215.0</td>\n",
       "      <td>0</td>\n",
       "      <td>0</td>\n",
       "    </tr>\n",
       "  </tbody>\n",
       "</table>\n",
       "</div>"
      ],
      "text/plain": [
       "                  date                             location      city  wave  \\\n",
       "0  2021-03-12 00:00:00  1100 block of william ct - San Jose  San Jose     2   \n",
       "1  2021-01-21 00:00:00    1500 block of moorpark - San Jose  San Jose     2   \n",
       "\n",
       "   dark  mins_stop_time  hispanic  black  \n",
       "0     0          1054.0         1      0  \n",
       "1     1          1215.0         0      0  "
      ]
     },
     "execution_count": 50,
     "metadata": {},
     "output_type": "execute_result"
    }
   ],
   "source": [
    "#https://www.geeksforgeeks.org/ml-one-hot-encoding-of-datasets-in-python/\n",
    "vod_ca_dusk = pd.get_dummies(itp_dusk, columns = ['race'], drop_first=True, prefix='')\\\n",
    "                       [['date',\n",
    "                         'location',\n",
    "                         'city',\n",
    "                         'wave',\n",
    "                         'dark',\n",
    "                             'mins_stop_time',\n",
    "                             '_hispanic/latino(a)',\n",
    "                         '_black/african american']].reset_index(drop=True)\n",
    "                                                    .rename(columns={'_black/african american':'black',\n",
    "                                                                     '_hispanic/latino(a)':'hispanic'})\\\n",
    "                                                    \n",
    "vod_ca_dusk.head(2)\n",
    "# vod_ca_full.shape"
   ]
  },
  {
   "cell_type": "code",
   "execution_count": 52,
   "id": "66b3d6ee",
   "metadata": {},
   "outputs": [
    {
     "name": "stdout",
     "output_type": "stream",
     "text": [
      "Optimization terminated successfully.\n",
      "         Current function value: 0.578552\n",
      "         Iterations 5\n",
      "                                            OR  Lower CI  Upper CI\n",
      "Intercept                             0.038681  0.032973  0.045378\n",
      "C(dark, Treatment(reference=0))[T.1]  0.964845  0.944499  0.985629\n",
      "mins_stop_time                        1.001965  1.001820  1.002110\n",
      "\n",
      "\n",
      "                           Logit Regression Results                           \n",
      "==============================================================================\n",
      "Dep. Variable:                  black   No. Observations:               322245\n",
      "Model:                          Logit   Df Residuals:                   322242\n",
      "Method:                           MLE   Df Model:                            2\n",
      "Date:                Wed, 16 Nov 2022   Pseudo R-squ.:                0.002933\n",
      "Time:                        07:17:50   Log-Likelihood:            -1.8644e+05\n",
      "converged:                       True   LL-Null:                   -1.8698e+05\n",
      "Covariance Type:            nonrobust   LLR p-value:                6.802e-239\n",
      "========================================================================================================\n",
      "                                           coef    std err          z      P>|z|      [0.025      0.975]\n",
      "--------------------------------------------------------------------------------------------------------\n",
      "Intercept                               -3.2524      0.081    -39.924      0.000      -3.412      -3.093\n",
      "C(dark, Treatment(reference=0))[T.1]    -0.0358      0.011     -3.291      0.001      -0.057      -0.014\n",
      "mins_stop_time                           0.0020   7.39e-05     26.549      0.000       0.002       0.002\n",
      "========================================================================================================\n",
      "\n",
      "\n",
      "\n",
      "\n",
      "\n",
      "\n",
      "\n",
      "\n",
      "\n"
     ]
    }
   ],
   "source": [
    "formula = f\"black ~ C(dark, Treatment(reference=0))\"\n",
    "log_reg = smf.logit(formula, data = vod_ca_dusk[vod_ca_dusk['wave']==1]).fit()\n",
    "results = log_reg.summary()\n",
    "OR = pd.DataFrame(\n",
    "    {\n",
    "        \"OR\": log_reg.params,\n",
    "        \"Lower CI\": log_reg.conf_int()[0],\n",
    "        \"Upper CI\": log_reg.conf_int()[1],\n",
    "    },\n",
    ")\n",
    "OR = np.exp(OR)\n",
    "\n",
    "print(f'{OR}\\n\\n\\n{results}\\n\\n\\n\\n\\n\\n\\n\\n\\n')"
   ]
  },
  {
   "cell_type": "markdown",
   "id": "f5588403",
   "metadata": {},
   "source": [
    "### LA MODEL FULL"
   ]
  },
  {
   "cell_type": "code",
   "execution_count": 124,
   "id": "0acd9494",
   "metadata": {},
   "outputs": [],
   "source": [
    "# test = pd.read_csv('la_final_seasonal.csv')\n",
    "test = pd.read_csv('la_final_non_seasonal.csv')\n",
    "test_bw = test[(test['race']=='black/african american') | (test['race']=='white')]\n",
    "test_hw = test[(test['race']=='hispanic/latino(a)') | (test['race']=='white')]\n"
   ]
  },
  {
   "cell_type": "code",
   "execution_count": 125,
   "id": "42a9f181",
   "metadata": {},
   "outputs": [
    {
     "data": {
      "text/plain": [
       "array(['black/african american', 'white'], dtype=object)"
      ]
     },
     "execution_count": 125,
     "metadata": {},
     "output_type": "execute_result"
    }
   ],
   "source": [
    "test_bw['race'].unique()"
   ]
  },
  {
   "cell_type": "code",
   "execution_count": 126,
   "id": "d33f8e26",
   "metadata": {},
   "outputs": [
    {
     "data": {
      "text/plain": [
       "Index(['date', 'time', 'race', 'location', 'city', 'wave', 'mins_before_dusk',\n",
       "       'mins_stop_time', 'mins_dusk', 'dark', 'period', 'coords', 'tract',\n",
       "       'pop_level', 'freq_level', 'dst1', 'dst2', 'diff_dst1', 'diff_dst2'],\n",
       "      dtype='object')"
      ]
     },
     "execution_count": 126,
     "metadata": {},
     "output_type": "execute_result"
    }
   ],
   "source": [
    "test_bw.columns"
   ]
  },
  {
   "cell_type": "code",
   "execution_count": 128,
   "id": "2141ad4f",
   "metadata": {},
   "outputs": [
    {
     "data": {
      "text/html": [
       "<div>\n",
       "<style scoped>\n",
       "    .dataframe tbody tr th:only-of-type {\n",
       "        vertical-align: middle;\n",
       "    }\n",
       "\n",
       "    .dataframe tbody tr th {\n",
       "        vertical-align: top;\n",
       "    }\n",
       "\n",
       "    .dataframe thead th {\n",
       "        text-align: right;\n",
       "    }\n",
       "</style>\n",
       "<table border=\"1\" class=\"dataframe\">\n",
       "  <thead>\n",
       "    <tr style=\"text-align: right;\">\n",
       "      <th></th>\n",
       "      <th>date</th>\n",
       "      <th>tract</th>\n",
       "      <th>pop_level</th>\n",
       "      <th>freq_level</th>\n",
       "      <th>wave</th>\n",
       "      <th>dark</th>\n",
       "      <th>mins_stop_time</th>\n",
       "      <th>mins_before_dusk</th>\n",
       "      <th>mins_dusk</th>\n",
       "      <th>black</th>\n",
       "    </tr>\n",
       "  </thead>\n",
       "  <tbody>\n",
       "    <tr>\n",
       "      <th>0</th>\n",
       "      <td>2018-07-02</td>\n",
       "      <td>2089.03</td>\n",
       "      <td>mid</td>\n",
       "      <td>high</td>\n",
       "      <td>1</td>\n",
       "      <td>0</td>\n",
       "      <td>1050.0</td>\n",
       "      <td>188.0</td>\n",
       "      <td>1238.0</td>\n",
       "      <td>1</td>\n",
       "    </tr>\n",
       "    <tr>\n",
       "      <th>1</th>\n",
       "      <td>2018-07-07</td>\n",
       "      <td>2089.03</td>\n",
       "      <td>mid</td>\n",
       "      <td>high</td>\n",
       "      <td>1</td>\n",
       "      <td>0</td>\n",
       "      <td>1174.0</td>\n",
       "      <td>63.0</td>\n",
       "      <td>1237.0</td>\n",
       "      <td>1</td>\n",
       "    </tr>\n",
       "  </tbody>\n",
       "</table>\n",
       "</div>"
      ],
      "text/plain": [
       "         date    tract pop_level freq_level  wave  dark  mins_stop_time  \\\n",
       "0  2018-07-02  2089.03       mid       high     1     0          1050.0   \n",
       "1  2018-07-07  2089.03       mid       high     1     0          1174.0   \n",
       "\n",
       "   mins_before_dusk  mins_dusk  black  \n",
       "0             188.0     1238.0      1  \n",
       "1              63.0     1237.0      1  "
      ]
     },
     "execution_count": 128,
     "metadata": {},
     "output_type": "execute_result"
    }
   ],
   "source": [
    "#https://www.geeksforgeeks.org/ml-one-hot-encoding-of-datasets-in-python/\n",
    "vod_la_dusk_bw = pd.get_dummies(test_bw, columns = ['race'], drop_first=False, prefix='')\\\n",
    "                       [['date',\n",
    "                         'tract',\n",
    "                         'pop_level',\n",
    "                         'freq_level',\n",
    "                         'wave',\n",
    "                         'dark',\n",
    "                         'mins_stop_time',\n",
    "                         'mins_before_dusk',\n",
    "                         'mins_dusk',\n",
    "                         '_black/african american']].rename(columns={'_black/african american':'black'})\\\n",
    "                                                    .reset_index(drop=True)\n",
    "vod_la_dusk_bw.head(2)\n",
    "# vod_ca_full.shape"
   ]
  },
  {
   "cell_type": "code",
   "execution_count": 142,
   "id": "75a23dba",
   "metadata": {
    "scrolled": true
   },
   "outputs": [
    {
     "data": {
      "text/html": [
       "<div>\n",
       "<style scoped>\n",
       "    .dataframe tbody tr th:only-of-type {\n",
       "        vertical-align: middle;\n",
       "    }\n",
       "\n",
       "    .dataframe tbody tr th {\n",
       "        vertical-align: top;\n",
       "    }\n",
       "\n",
       "    .dataframe thead th {\n",
       "        text-align: right;\n",
       "    }\n",
       "</style>\n",
       "<table border=\"1\" class=\"dataframe\">\n",
       "  <thead>\n",
       "    <tr style=\"text-align: right;\">\n",
       "      <th></th>\n",
       "      <th>date</th>\n",
       "      <th>tract</th>\n",
       "      <th>pop_level</th>\n",
       "      <th>freq_level</th>\n",
       "      <th>wave</th>\n",
       "      <th>dark</th>\n",
       "      <th>mins_before_dusk</th>\n",
       "      <th>mins_stop_time</th>\n",
       "      <th>mins_dusk</th>\n",
       "      <th>hispanic</th>\n",
       "    </tr>\n",
       "  </thead>\n",
       "  <tbody>\n",
       "    <tr>\n",
       "      <th>0</th>\n",
       "      <td>2018-07-01</td>\n",
       "      <td>2089.03</td>\n",
       "      <td>mid</td>\n",
       "      <td>high</td>\n",
       "      <td>1</td>\n",
       "      <td>0</td>\n",
       "      <td>93.0</td>\n",
       "      <td>1145.0</td>\n",
       "      <td>1238.0</td>\n",
       "      <td>1</td>\n",
       "    </tr>\n",
       "    <tr>\n",
       "      <th>1</th>\n",
       "      <td>2018-07-02</td>\n",
       "      <td>2089.03</td>\n",
       "      <td>mid</td>\n",
       "      <td>high</td>\n",
       "      <td>1</td>\n",
       "      <td>0</td>\n",
       "      <td>78.0</td>\n",
       "      <td>1160.0</td>\n",
       "      <td>1238.0</td>\n",
       "      <td>1</td>\n",
       "    </tr>\n",
       "  </tbody>\n",
       "</table>\n",
       "</div>"
      ],
      "text/plain": [
       "         date    tract pop_level freq_level  wave  dark  mins_before_dusk  \\\n",
       "0  2018-07-01  2089.03       mid       high     1     0              93.0   \n",
       "1  2018-07-02  2089.03       mid       high     1     0              78.0   \n",
       "\n",
       "   mins_stop_time  mins_dusk  hispanic  \n",
       "0          1145.0     1238.0         1  \n",
       "1          1160.0     1238.0         1  "
      ]
     },
     "execution_count": 142,
     "metadata": {},
     "output_type": "execute_result"
    }
   ],
   "source": [
    "#https://www.geeksforgeeks.org/ml-one-hot-encoding-of-datasets-in-python/\n",
    "vod_la_dusk_hw = pd.get_dummies(test_hw, columns = ['race'], drop_first=False, prefix='')\\\n",
    "                       [['date',\n",
    "                         'tract',\n",
    "                         'pop_level',\n",
    "                         'freq_level',\n",
    "                         'wave',\n",
    "                         'dark',\n",
    "                         'mins_before_dusk',\n",
    "                         'mins_stop_time',\n",
    "                         'mins_dusk',\n",
    "                         '_hispanic/latino(a)']].rename(columns={'_hispanic/latino(a)':'hispanic'})\\\n",
    "                                                    .reset_index(drop=True)\n",
    "vod_la_dusk_hw.head(2)\n",
    "# vod_ca_full.shape"
   ]
  },
  {
   "cell_type": "code",
   "execution_count": 150,
   "id": "3b04c824",
   "metadata": {},
   "outputs": [
    {
     "data": {
      "text/html": [
       "<div>\n",
       "<style scoped>\n",
       "    .dataframe tbody tr th:only-of-type {\n",
       "        vertical-align: middle;\n",
       "    }\n",
       "\n",
       "    .dataframe tbody tr th {\n",
       "        vertical-align: top;\n",
       "    }\n",
       "\n",
       "    .dataframe thead th {\n",
       "        text-align: right;\n",
       "    }\n",
       "</style>\n",
       "<table border=\"1\" class=\"dataframe\">\n",
       "  <thead>\n",
       "    <tr style=\"text-align: right;\">\n",
       "      <th></th>\n",
       "      <th>tract</th>\n",
       "      <th>wave</th>\n",
       "      <th>dark</th>\n",
       "      <th>mins_stop_time</th>\n",
       "      <th>mins_before_dusk</th>\n",
       "      <th>mins_dusk</th>\n",
       "      <th>black</th>\n",
       "    </tr>\n",
       "  </thead>\n",
       "  <tbody>\n",
       "    <tr>\n",
       "      <th>tract</th>\n",
       "      <td>1.000000</td>\n",
       "      <td>NaN</td>\n",
       "      <td>-0.031131</td>\n",
       "      <td>-0.031665</td>\n",
       "      <td>0.026712</td>\n",
       "      <td>0.007744</td>\n",
       "      <td>0.121996</td>\n",
       "    </tr>\n",
       "    <tr>\n",
       "      <th>wave</th>\n",
       "      <td>NaN</td>\n",
       "      <td>NaN</td>\n",
       "      <td>NaN</td>\n",
       "      <td>NaN</td>\n",
       "      <td>NaN</td>\n",
       "      <td>NaN</td>\n",
       "      <td>NaN</td>\n",
       "    </tr>\n",
       "    <tr>\n",
       "      <th>dark</th>\n",
       "      <td>-0.031131</td>\n",
       "      <td>NaN</td>\n",
       "      <td>1.000000</td>\n",
       "      <td>0.681980</td>\n",
       "      <td>-0.850129</td>\n",
       "      <td>-0.584324</td>\n",
       "      <td>0.047175</td>\n",
       "    </tr>\n",
       "    <tr>\n",
       "      <th>mins_stop_time</th>\n",
       "      <td>-0.031665</td>\n",
       "      <td>NaN</td>\n",
       "      <td>0.681980</td>\n",
       "      <td>1.000000</td>\n",
       "      <td>-0.756454</td>\n",
       "      <td>-0.112191</td>\n",
       "      <td>0.095150</td>\n",
       "    </tr>\n",
       "    <tr>\n",
       "      <th>mins_before_dusk</th>\n",
       "      <td>0.026712</td>\n",
       "      <td>NaN</td>\n",
       "      <td>-0.850129</td>\n",
       "      <td>-0.756454</td>\n",
       "      <td>1.000000</td>\n",
       "      <td>0.734785</td>\n",
       "      <td>-0.059352</td>\n",
       "    </tr>\n",
       "    <tr>\n",
       "      <th>mins_dusk</th>\n",
       "      <td>0.007744</td>\n",
       "      <td>NaN</td>\n",
       "      <td>-0.584324</td>\n",
       "      <td>-0.112191</td>\n",
       "      <td>0.734785</td>\n",
       "      <td>1.000000</td>\n",
       "      <td>0.008506</td>\n",
       "    </tr>\n",
       "    <tr>\n",
       "      <th>black</th>\n",
       "      <td>0.121996</td>\n",
       "      <td>NaN</td>\n",
       "      <td>0.047175</td>\n",
       "      <td>0.095150</td>\n",
       "      <td>-0.059352</td>\n",
       "      <td>0.008506</td>\n",
       "      <td>1.000000</td>\n",
       "    </tr>\n",
       "  </tbody>\n",
       "</table>\n",
       "</div>"
      ],
      "text/plain": [
       "                     tract  wave      dark  mins_stop_time  mins_before_dusk  \\\n",
       "tract             1.000000   NaN -0.031131       -0.031665          0.026712   \n",
       "wave                   NaN   NaN       NaN             NaN               NaN   \n",
       "dark             -0.031131   NaN  1.000000        0.681980         -0.850129   \n",
       "mins_stop_time   -0.031665   NaN  0.681980        1.000000         -0.756454   \n",
       "mins_before_dusk  0.026712   NaN -0.850129       -0.756454          1.000000   \n",
       "mins_dusk         0.007744   NaN -0.584324       -0.112191          0.734785   \n",
       "black             0.121996   NaN  0.047175        0.095150         -0.059352   \n",
       "\n",
       "                  mins_dusk     black  \n",
       "tract              0.007744  0.121996  \n",
       "wave                    NaN       NaN  \n",
       "dark              -0.584324  0.047175  \n",
       "mins_stop_time    -0.112191  0.095150  \n",
       "mins_before_dusk   0.734785 -0.059352  \n",
       "mins_dusk          1.000000  0.008506  \n",
       "black              0.008506  1.000000  "
      ]
     },
     "execution_count": 150,
     "metadata": {},
     "output_type": "execute_result"
    }
   ],
   "source": [
    "vod_la_dusk_bw.corr(method='pearson')"
   ]
  },
  {
   "cell_type": "code",
   "execution_count": 143,
   "id": "11e96627",
   "metadata": {},
   "outputs": [
    {
     "name": "stdout",
     "output_type": "stream",
     "text": [
      "53713 104883\n"
     ]
    }
   ],
   "source": [
    "print(vod_la_dusk_bw.shape[0],vod_la_dusk_hw.shape[0])"
   ]
  },
  {
   "cell_type": "code",
   "execution_count": 158,
   "id": "b31f9ce0",
   "metadata": {},
   "outputs": [
    {
     "name": "stdout",
     "output_type": "stream",
     "text": [
      "Optimization terminated successfully.\n",
      "         Current function value: 0.460583\n",
      "         Iterations 6\n",
      "                                                     OR  Lower CI  Upper CI\n",
      "Intercept                                      0.145826  0.105169  0.202200\n",
      "C(dark, Treatment(reference=0))[T.1]           0.895309  0.857755  0.934507\n",
      "C(pop_level, Treatment(reference=1))[T.high]   1.368218  1.249010  1.498803\n",
      "C(pop_level, Treatment(reference=1))[T.mid]    1.351982  1.298734  1.407413\n",
      "C(freq_level, Treatment(reference=1))[T.high]  2.693084  2.533152  2.863114\n",
      "C(freq_level, Treatment(reference=1))[T.mid]   1.473467  1.381153  1.571950\n",
      "mins_stop_time                                 1.002171  1.001878  1.002463\n",
      "\n",
      "\n",
      "                           Logit Regression Results                           \n",
      "==============================================================================\n",
      "Dep. Variable:               hispanic   No. Observations:               104883\n",
      "Model:                          Logit   Df Residuals:                   104876\n",
      "Method:                           MLE   Df Model:                            6\n",
      "Date:                Wed, 16 Nov 2022   Pseudo R-squ.:                 0.02182\n",
      "Time:                        09:12:56   Log-Likelihood:                -48307.\n",
      "converged:                       True   LL-Null:                       -49385.\n",
      "Covariance Type:            nonrobust   LLR p-value:                     0.000\n",
      "=================================================================================================================\n",
      "                                                    coef    std err          z      P>|z|      [0.025      0.975]\n",
      "-----------------------------------------------------------------------------------------------------------------\n",
      "Intercept                                        -1.9253      0.167    -11.546      0.000      -2.252      -1.598\n",
      "C(dark, Treatment(reference=0))[T.1]             -0.1106      0.022     -5.058      0.000      -0.153      -0.068\n",
      "C(pop_level, Treatment(reference=1))[T.high]      0.3135      0.047      6.741      0.000       0.222       0.405\n",
      "C(pop_level, Treatment(reference=1))[T.mid]       0.3016      0.021     14.710      0.000       0.261       0.342\n",
      "C(freq_level, Treatment(reference=1))[T.high]     0.9907      0.031     31.716      0.000       0.929       1.052\n",
      "C(freq_level, Treatment(reference=1))[T.mid]      0.3876      0.033     11.742      0.000       0.323       0.452\n",
      "mins_stop_time                                    0.0022      0.000     14.560      0.000       0.002       0.002\n",
      "=================================================================================================================\n",
      "\n",
      "\n",
      "\n",
      "\n",
      "\n",
      "\n",
      "\n",
      "\n",
      "\n"
     ]
    }
   ],
   "source": [
    "    formula = f\"hispanic ~ C(dark, Treatment(reference=0))  + mins_stop_time\\\n",
    "                                                        + C(pop_level, Treatment(reference=1))\\\n",
    "                                                        + C(freq_level, Treatment(reference=1))\"\n",
    "log_reg = smf.logit(formula, data = vod_la_dusk_hw).fit()\n",
    "results = log_reg.summary()\n",
    "OR = pd.DataFrame(\n",
    "    {\n",
    "        \"OR\": log_reg.params,\n",
    "        \"Lower CI\": log_reg.conf_int()[0],\n",
    "        \"Upper CI\": log_reg.conf_int()[1],\n",
    "    },\n",
    ")\n",
    "OR = np.exp(OR)\n",
    "\n",
    "print(f'{OR}\\n\\n\\n{results}\\n\\n\\n\\n\\n\\n\\n\\n\\n')"
   ]
  },
  {
   "cell_type": "code",
   "execution_count": 165,
   "id": "5c0d0fa4",
   "metadata": {},
   "outputs": [
    {
     "data": {
      "text/html": [
       "<div>\n",
       "<style scoped>\n",
       "    .dataframe tbody tr th:only-of-type {\n",
       "        vertical-align: middle;\n",
       "    }\n",
       "\n",
       "    .dataframe tbody tr th {\n",
       "        vertical-align: top;\n",
       "    }\n",
       "\n",
       "    .dataframe thead th {\n",
       "        text-align: right;\n",
       "    }\n",
       "</style>\n",
       "<table border=\"1\" class=\"dataframe\">\n",
       "  <thead>\n",
       "    <tr style=\"text-align: right;\">\n",
       "      <th></th>\n",
       "      <th>tract</th>\n",
       "      <th>wave</th>\n",
       "      <th>dark</th>\n",
       "      <th>mins_stop_time</th>\n",
       "      <th>mins_before_dusk</th>\n",
       "      <th>mins_dusk</th>\n",
       "      <th>black</th>\n",
       "    </tr>\n",
       "  </thead>\n",
       "  <tbody>\n",
       "    <tr>\n",
       "      <th>tract</th>\n",
       "      <td>1.000000</td>\n",
       "      <td>NaN</td>\n",
       "      <td>-0.031131</td>\n",
       "      <td>-0.031665</td>\n",
       "      <td>0.026712</td>\n",
       "      <td>0.007744</td>\n",
       "      <td>0.121996</td>\n",
       "    </tr>\n",
       "    <tr>\n",
       "      <th>wave</th>\n",
       "      <td>NaN</td>\n",
       "      <td>NaN</td>\n",
       "      <td>NaN</td>\n",
       "      <td>NaN</td>\n",
       "      <td>NaN</td>\n",
       "      <td>NaN</td>\n",
       "      <td>NaN</td>\n",
       "    </tr>\n",
       "    <tr>\n",
       "      <th>dark</th>\n",
       "      <td>-0.031131</td>\n",
       "      <td>NaN</td>\n",
       "      <td>1.000000</td>\n",
       "      <td>0.681980</td>\n",
       "      <td>-0.850129</td>\n",
       "      <td>-0.584324</td>\n",
       "      <td>0.047175</td>\n",
       "    </tr>\n",
       "    <tr>\n",
       "      <th>mins_stop_time</th>\n",
       "      <td>-0.031665</td>\n",
       "      <td>NaN</td>\n",
       "      <td>0.681980</td>\n",
       "      <td>1.000000</td>\n",
       "      <td>-0.756454</td>\n",
       "      <td>-0.112191</td>\n",
       "      <td>0.095150</td>\n",
       "    </tr>\n",
       "    <tr>\n",
       "      <th>mins_before_dusk</th>\n",
       "      <td>0.026712</td>\n",
       "      <td>NaN</td>\n",
       "      <td>-0.850129</td>\n",
       "      <td>-0.756454</td>\n",
       "      <td>1.000000</td>\n",
       "      <td>0.734785</td>\n",
       "      <td>-0.059352</td>\n",
       "    </tr>\n",
       "    <tr>\n",
       "      <th>mins_dusk</th>\n",
       "      <td>0.007744</td>\n",
       "      <td>NaN</td>\n",
       "      <td>-0.584324</td>\n",
       "      <td>-0.112191</td>\n",
       "      <td>0.734785</td>\n",
       "      <td>1.000000</td>\n",
       "      <td>0.008506</td>\n",
       "    </tr>\n",
       "    <tr>\n",
       "      <th>black</th>\n",
       "      <td>0.121996</td>\n",
       "      <td>NaN</td>\n",
       "      <td>0.047175</td>\n",
       "      <td>0.095150</td>\n",
       "      <td>-0.059352</td>\n",
       "      <td>0.008506</td>\n",
       "      <td>1.000000</td>\n",
       "    </tr>\n",
       "  </tbody>\n",
       "</table>\n",
       "</div>"
      ],
      "text/plain": [
       "                     tract  wave      dark  mins_stop_time  mins_before_dusk  \\\n",
       "tract             1.000000   NaN -0.031131       -0.031665          0.026712   \n",
       "wave                   NaN   NaN       NaN             NaN               NaN   \n",
       "dark             -0.031131   NaN  1.000000        0.681980         -0.850129   \n",
       "mins_stop_time   -0.031665   NaN  0.681980        1.000000         -0.756454   \n",
       "mins_before_dusk  0.026712   NaN -0.850129       -0.756454          1.000000   \n",
       "mins_dusk         0.007744   NaN -0.584324       -0.112191          0.734785   \n",
       "black             0.121996   NaN  0.047175        0.095150         -0.059352   \n",
       "\n",
       "                  mins_dusk     black  \n",
       "tract              0.007744  0.121996  \n",
       "wave                    NaN       NaN  \n",
       "dark              -0.584324  0.047175  \n",
       "mins_stop_time    -0.112191  0.095150  \n",
       "mins_before_dusk   0.734785 -0.059352  \n",
       "mins_dusk          1.000000  0.008506  \n",
       "black              0.008506  1.000000  "
      ]
     },
     "execution_count": 165,
     "metadata": {},
     "output_type": "execute_result"
    }
   ],
   "source": [
    "vod_la_dusk_bw.corr(method='pearson')"
   ]
  },
  {
   "cell_type": "code",
   "execution_count": 2,
   "id": "88486035",
   "metadata": {},
   "outputs": [
    {
     "ename": "NameError",
     "evalue": "name 'pd' is not defined",
     "output_type": "error",
     "traceback": [
      "\u001b[0;31m---------------------------------------------------------------------------\u001b[0m",
      "\u001b[0;31mNameError\u001b[0m                                 Traceback (most recent call last)",
      "Input \u001b[0;32mIn [2]\u001b[0m, in \u001b[0;36m<cell line: 1>\u001b[0;34m()\u001b[0m\n\u001b[0;32m----> 1\u001b[0m \u001b[43mpd\u001b[49m\u001b[38;5;241m.\u001b[39mset_option(\u001b[38;5;124m'\u001b[39m\u001b[38;5;124mdisplay.float_format\u001b[39m\u001b[38;5;124m'\u001b[39m, \u001b[38;5;28;01mlambda\u001b[39;00m x: \u001b[38;5;124m'\u001b[39m\u001b[38;5;132;01m%.3f\u001b[39;00m\u001b[38;5;124m'\u001b[39m \u001b[38;5;241m%\u001b[39m x)\n\u001b[1;32m      2\u001b[0m formula \u001b[38;5;241m=\u001b[39m \u001b[38;5;124mf\u001b[39m\u001b[38;5;124m\"\u001b[39m\u001b[38;5;124mblack ~ C(dark, Treatment(reference=0)) + mins_stop_time\u001b[39m\u001b[38;5;130;01m\\\u001b[39;00m\n\u001b[1;32m      3\u001b[0m \u001b[38;5;124m                                                    + C(pop_level, Treatment(reference=1))\u001b[39m\u001b[38;5;130;01m\\\u001b[39;00m\n\u001b[1;32m      4\u001b[0m \u001b[38;5;124m                                                    + C(freq_level, Treatment(reference=1))\u001b[39m\u001b[38;5;124m\"\u001b[39m\n\u001b[1;32m      5\u001b[0m log_reg \u001b[38;5;241m=\u001b[39m smf\u001b[38;5;241m.\u001b[39mlogit(formula, data \u001b[38;5;241m=\u001b[39m vod_la_dusk_bw)\u001b[38;5;241m.\u001b[39mfit()\n",
      "\u001b[0;31mNameError\u001b[0m: name 'pd' is not defined"
     ]
    }
   ],
   "source": [
    "pd.set_option('display.float_format', lambda x: '%.3f' % x)\n",
    "formula = f\"black ~ C(dark, Treatment(reference=0)) + mins_stop_time\\\n",
    "                                                    + C(pop_level, Treatment(reference=1))\\\n",
    "                                                    + C(freq_level, Treatment(reference=1))\"\n",
    "log_reg = smf.logit(formula, data = vod_la_dusk_bw).fit()\n",
    "results = log_reg.summary()\n",
    "OR = pd.DataFrame(\n",
    "    {\n",
    "        \"OR\": log_reg.params,\n",
    "        \"Lower CI\": log_reg.conf_int()[0],\n",
    "        \"Upper CI\": log_reg.conf_int()[1],\n",
    "    },\n",
    ")\n",
    "OR = np.exp(OR)\n",
    "\n",
    "print(f'{OR}\\n\\n\\n{results}\\n\\n\\n\\n\\n\\n\\n\\n\\n')"
   ]
  },
  {
   "cell_type": "code",
   "execution_count": null,
   "id": "172274ed",
   "metadata": {},
   "outputs": [],
   "source": [
    "#PSUEDO\n",
    "# C(location_POP, Treatment(reference=0) low/medium/high population area, 3 levels\n",
    "# C(location_FREQ, Treatment(reference=0) low/medium/high stop frequency area, 3 levels\n",
    "# TABLE GOING INTO PSEUDO SHOULD HAVE 8 COLS (DEP, DARK (1), LOC(3), POP(3))\n",
    "\n",
    "psuedo_formula = f\"black ~ dark + C(location_FREQ, Treatment(reference=0)) + C(location_POP, Treatment(reference=0))\"\n"
   ]
  },
  {
   "cell_type": "markdown",
   "id": "8b770381",
   "metadata": {},
   "source": [
    "### By City"
   ]
  },
  {
   "cell_type": "code",
   "execution_count": 341,
   "id": "e5c54846",
   "metadata": {},
   "outputs": [
    {
     "data": {
      "text/plain": [
       "57260"
      ]
     },
     "execution_count": 341,
     "metadata": {},
     "output_type": "execute_result"
    }
   ],
   "source": [
    "la = vod[vod['city'] == 'Los Angeles'].reset_index(drop=True)\n",
    "la.head(2)\n",
    "la['location'] = [i.lower().lstrip('').rstrip('') for i in la['location']]\n",
    "locations_la = la['location'].unique()\n",
    "len(locations_la)"
   ]
  },
  {
   "cell_type": "markdown",
   "id": "405b3273",
   "metadata": {},
   "source": [
    "## Method #2 Proportions Before/After Sunset"
   ]
  },
  {
   "cell_type": "code",
   "execution_count": 66,
   "id": "7aed5740",
   "metadata": {},
   "outputs": [
    {
     "name": "stdout",
     "output_type": "stream",
     "text": [
      "/Users/karatechop\n"
     ]
    }
   ],
   "source": [
    "cd"
   ]
  },
  {
   "cell_type": "code",
   "execution_count": 67,
   "id": "d9c6ff4e",
   "metadata": {
    "scrolled": true
   },
   "outputs": [
    {
     "name": "stdout",
     "output_type": "stream",
     "text": [
      "/Users/karatechop/Documents/GitHub/senior-thesis-pretextual-stops/Data/RIPA-DATA-CA-as-of-2022 (CSV)\n"
     ]
    }
   ],
   "source": [
    "cd /Users/karatechop/Documents/GitHub/senior-thesis-pretextual-stops/Data/RIPA-DATA-CA-as-of-2022\\ \\(CSV\\)"
   ]
  },
  {
   "cell_type": "code",
   "execution_count": 68,
   "id": "ae86dc02",
   "metadata": {},
   "outputs": [],
   "source": [
    "# itp_dawn\n",
    "# itp_dusk\n",
    "# itp_full"
   ]
  },
  {
   "cell_type": "code",
   "execution_count": 80,
   "id": "e5ce516a",
   "metadata": {},
   "outputs": [
    {
     "name": "stdout",
     "output_type": "stream",
     "text": [
      "Index(['date', 'race', 'location', 'city', 'mins_before_dusk',\n",
      "       'mins_stop_time', 'mins_dusk', 'dark'],\n",
      "      dtype='object')\n"
     ]
    },
    {
     "data": {
      "text/html": [
       "<div>\n",
       "<style scoped>\n",
       "    .dataframe tbody tr th:only-of-type {\n",
       "        vertical-align: middle;\n",
       "    }\n",
       "\n",
       "    .dataframe tbody tr th {\n",
       "        vertical-align: top;\n",
       "    }\n",
       "\n",
       "    .dataframe thead th {\n",
       "        text-align: right;\n",
       "    }\n",
       "</style>\n",
       "<table border=\"1\" class=\"dataframe\">\n",
       "  <thead>\n",
       "    <tr style=\"text-align: right;\">\n",
       "      <th></th>\n",
       "      <th>date</th>\n",
       "      <th>race</th>\n",
       "      <th>location</th>\n",
       "      <th>city</th>\n",
       "      <th>mins_before_dusk</th>\n",
       "      <th>mins_stop_time</th>\n",
       "      <th>mins_dusk</th>\n",
       "      <th>dark</th>\n",
       "    </tr>\n",
       "  </thead>\n",
       "  <tbody>\n",
       "    <tr>\n",
       "      <th>27</th>\n",
       "      <td>2021-03-12 00:00:00</td>\n",
       "      <td>hispanic/latino(a)</td>\n",
       "      <td>1100 block of william ct - San Jose</td>\n",
       "      <td>San Jose</td>\n",
       "      <td>65.000</td>\n",
       "      <td>1054.000</td>\n",
       "      <td>1119.000</td>\n",
       "      <td>0</td>\n",
       "    </tr>\n",
       "    <tr>\n",
       "      <th>79</th>\n",
       "      <td>2021-01-30 00:00:00</td>\n",
       "      <td>hispanic/latino(a)</td>\n",
       "      <td>1300 block of sthal street - San Jose</td>\n",
       "      <td>San Jose</td>\n",
       "      <td>28.000</td>\n",
       "      <td>1050.000</td>\n",
       "      <td>1078.000</td>\n",
       "      <td>0</td>\n",
       "    </tr>\n",
       "  </tbody>\n",
       "</table>\n",
       "</div>"
      ],
      "text/plain": [
       "                   date                race  \\\n",
       "27  2021-03-12 00:00:00  hispanic/latino(a)   \n",
       "79  2021-01-30 00:00:00  hispanic/latino(a)   \n",
       "\n",
       "                                 location      city  mins_before_dusk  \\\n",
       "27    1100 block of william ct - San Jose  San Jose            65.000   \n",
       "79  1300 block of sthal street - San Jose  San Jose            28.000   \n",
       "\n",
       "    mins_stop_time  mins_dusk  dark  \n",
       "27        1054.000   1119.000     0  \n",
       "79        1050.000   1078.000     0  "
      ]
     },
     "execution_count": 80,
     "metadata": {},
     "output_type": "execute_result"
    }
   ],
   "source": [
    "print(itp_dusk.columns)\n",
    "itp_dusk.head(2)"
   ]
  },
  {
   "cell_type": "markdown",
   "id": "e05b4b11",
   "metadata": {},
   "source": [
    "## CA"
   ]
  },
  {
   "cell_type": "code",
   "execution_count": 174,
   "id": "50bcf0e3",
   "metadata": {},
   "outputs": [
    {
     "data": {
      "text/plain": [
       "array(['hispanic/latino(a)', 'black/african american', 'white', 'asian',\n",
       "       'group 4'], dtype=object)"
      ]
     },
     "execution_count": 174,
     "metadata": {},
     "output_type": "execute_result"
    }
   ],
   "source": [
    "df1_bw.race.unique()"
   ]
  },
  {
   "cell_type": "code",
   "execution_count": 5,
   "id": "6250791a",
   "metadata": {},
   "outputs": [],
   "source": [
    "test = pd.read_csv('la_final_seasonal.csv')"
   ]
  },
  {
   "cell_type": "code",
   "execution_count": 195,
   "id": "2828d5ac",
   "metadata": {
    "scrolled": false
   },
   "outputs": [
    {
     "name": "stderr",
     "output_type": "stream",
     "text": [
      "/var/folders/td/yc8lq2qx2ks3ck292tbf6wtm0000gn/T/ipykernel_6220/2521869304.py:6: SettingWithCopyWarning: \n",
      "A value is trying to be set on a copy of a slice from a DataFrame.\n",
      "Try using .loc[row_indexer,col_indexer] = value instead\n",
      "\n",
      "See the caveats in the documentation: https://pandas.pydata.org/pandas-docs/stable/user_guide/indexing.html#returning-a-view-versus-a-copy\n",
      "  df1_bw['before_dusk_category'] = [min(np.arange(-90,91,10), key=lambda x:abs(x-i)) for i in df1_bw['mins_before_dusk']]\n"
     ]
    },
    {
     "data": {
      "text/html": [
       "<div>\n",
       "<style scoped>\n",
       "    .dataframe tbody tr th:only-of-type {\n",
       "        vertical-align: middle;\n",
       "    }\n",
       "\n",
       "    .dataframe tbody tr th {\n",
       "        vertical-align: top;\n",
       "    }\n",
       "\n",
       "    .dataframe thead th {\n",
       "        text-align: right;\n",
       "    }\n",
       "</style>\n",
       "<table border=\"1\" class=\"dataframe\">\n",
       "  <thead>\n",
       "    <tr style=\"text-align: right;\">\n",
       "      <th></th>\n",
       "      <th>before_dusk_category</th>\n",
       "      <th>total_stops</th>\n",
       "      <th>white_stops</th>\n",
       "      <th>black_aa_stops</th>\n",
       "      <th>hispanic_stops</th>\n",
       "      <th>prop_white</th>\n",
       "      <th>prop_black_aa</th>\n",
       "      <th>prop_hispanic</th>\n",
       "    </tr>\n",
       "  </thead>\n",
       "  <tbody>\n",
       "    <tr>\n",
       "      <th>0</th>\n",
       "      <td>90</td>\n",
       "      <td>9962</td>\n",
       "      <td>1805</td>\n",
       "      <td>2482</td>\n",
       "      <td>4697</td>\n",
       "      <td>0.181</td>\n",
       "      <td>0.249</td>\n",
       "      <td>0.471</td>\n",
       "    </tr>\n",
       "    <tr>\n",
       "      <th>1</th>\n",
       "      <td>80</td>\n",
       "      <td>10550</td>\n",
       "      <td>1811</td>\n",
       "      <td>2639</td>\n",
       "      <td>5109</td>\n",
       "      <td>0.172</td>\n",
       "      <td>0.250</td>\n",
       "      <td>0.484</td>\n",
       "    </tr>\n",
       "    <tr>\n",
       "      <th>2</th>\n",
       "      <td>70</td>\n",
       "      <td>10645</td>\n",
       "      <td>1875</td>\n",
       "      <td>2678</td>\n",
       "      <td>5084</td>\n",
       "      <td>0.176</td>\n",
       "      <td>0.252</td>\n",
       "      <td>0.478</td>\n",
       "    </tr>\n",
       "    <tr>\n",
       "      <th>3</th>\n",
       "      <td>60</td>\n",
       "      <td>11242</td>\n",
       "      <td>1824</td>\n",
       "      <td>2919</td>\n",
       "      <td>5512</td>\n",
       "      <td>0.162</td>\n",
       "      <td>0.260</td>\n",
       "      <td>0.490</td>\n",
       "    </tr>\n",
       "    <tr>\n",
       "      <th>4</th>\n",
       "      <td>50</td>\n",
       "      <td>11793</td>\n",
       "      <td>1905</td>\n",
       "      <td>3033</td>\n",
       "      <td>5704</td>\n",
       "      <td>0.162</td>\n",
       "      <td>0.257</td>\n",
       "      <td>0.484</td>\n",
       "    </tr>\n",
       "    <tr>\n",
       "      <th>5</th>\n",
       "      <td>40</td>\n",
       "      <td>12348</td>\n",
       "      <td>1946</td>\n",
       "      <td>3247</td>\n",
       "      <td>6035</td>\n",
       "      <td>0.158</td>\n",
       "      <td>0.263</td>\n",
       "      <td>0.489</td>\n",
       "    </tr>\n",
       "    <tr>\n",
       "      <th>6</th>\n",
       "      <td>30</td>\n",
       "      <td>7517</td>\n",
       "      <td>1164</td>\n",
       "      <td>2025</td>\n",
       "      <td>3645</td>\n",
       "      <td>0.155</td>\n",
       "      <td>0.269</td>\n",
       "      <td>0.485</td>\n",
       "    </tr>\n",
       "    <tr>\n",
       "      <th>7</th>\n",
       "      <td>0</td>\n",
       "      <td>7519</td>\n",
       "      <td>1286</td>\n",
       "      <td>2014</td>\n",
       "      <td>3529</td>\n",
       "      <td>0.171</td>\n",
       "      <td>0.268</td>\n",
       "      <td>0.469</td>\n",
       "    </tr>\n",
       "    <tr>\n",
       "      <th>8</th>\n",
       "      <td>-10</td>\n",
       "      <td>15012</td>\n",
       "      <td>2449</td>\n",
       "      <td>4197</td>\n",
       "      <td>6991</td>\n",
       "      <td>0.163</td>\n",
       "      <td>0.280</td>\n",
       "      <td>0.466</td>\n",
       "    </tr>\n",
       "    <tr>\n",
       "      <th>9</th>\n",
       "      <td>-20</td>\n",
       "      <td>14985</td>\n",
       "      <td>2449</td>\n",
       "      <td>4185</td>\n",
       "      <td>7067</td>\n",
       "      <td>0.163</td>\n",
       "      <td>0.279</td>\n",
       "      <td>0.472</td>\n",
       "    </tr>\n",
       "    <tr>\n",
       "      <th>10</th>\n",
       "      <td>-30</td>\n",
       "      <td>14762</td>\n",
       "      <td>2365</td>\n",
       "      <td>4127</td>\n",
       "      <td>6977</td>\n",
       "      <td>0.160</td>\n",
       "      <td>0.280</td>\n",
       "      <td>0.473</td>\n",
       "    </tr>\n",
       "    <tr>\n",
       "      <th>11</th>\n",
       "      <td>-40</td>\n",
       "      <td>13163</td>\n",
       "      <td>2153</td>\n",
       "      <td>3694</td>\n",
       "      <td>6180</td>\n",
       "      <td>0.164</td>\n",
       "      <td>0.281</td>\n",
       "      <td>0.469</td>\n",
       "    </tr>\n",
       "    <tr>\n",
       "      <th>12</th>\n",
       "      <td>-50</td>\n",
       "      <td>11941</td>\n",
       "      <td>1961</td>\n",
       "      <td>3315</td>\n",
       "      <td>5595</td>\n",
       "      <td>0.164</td>\n",
       "      <td>0.278</td>\n",
       "      <td>0.469</td>\n",
       "    </tr>\n",
       "    <tr>\n",
       "      <th>13</th>\n",
       "      <td>-60</td>\n",
       "      <td>10897</td>\n",
       "      <td>1728</td>\n",
       "      <td>3059</td>\n",
       "      <td>5215</td>\n",
       "      <td>0.159</td>\n",
       "      <td>0.281</td>\n",
       "      <td>0.479</td>\n",
       "    </tr>\n",
       "    <tr>\n",
       "      <th>14</th>\n",
       "      <td>-70</td>\n",
       "      <td>9855</td>\n",
       "      <td>1633</td>\n",
       "      <td>2603</td>\n",
       "      <td>4740</td>\n",
       "      <td>0.166</td>\n",
       "      <td>0.264</td>\n",
       "      <td>0.481</td>\n",
       "    </tr>\n",
       "    <tr>\n",
       "      <th>15</th>\n",
       "      <td>-80</td>\n",
       "      <td>8996</td>\n",
       "      <td>1483</td>\n",
       "      <td>2401</td>\n",
       "      <td>4279</td>\n",
       "      <td>0.165</td>\n",
       "      <td>0.267</td>\n",
       "      <td>0.476</td>\n",
       "    </tr>\n",
       "    <tr>\n",
       "      <th>16</th>\n",
       "      <td>-90</td>\n",
       "      <td>8542</td>\n",
       "      <td>1451</td>\n",
       "      <td>2293</td>\n",
       "      <td>4005</td>\n",
       "      <td>0.170</td>\n",
       "      <td>0.268</td>\n",
       "      <td>0.469</td>\n",
       "    </tr>\n",
       "  </tbody>\n",
       "</table>\n",
       "</div>"
      ],
      "text/plain": [
       "    before_dusk_category  total_stops  white_stops  black_aa_stops  \\\n",
       "0                     90         9962         1805            2482   \n",
       "1                     80        10550         1811            2639   \n",
       "2                     70        10645         1875            2678   \n",
       "3                     60        11242         1824            2919   \n",
       "4                     50        11793         1905            3033   \n",
       "5                     40        12348         1946            3247   \n",
       "6                     30         7517         1164            2025   \n",
       "7                      0         7519         1286            2014   \n",
       "8                    -10        15012         2449            4197   \n",
       "9                    -20        14985         2449            4185   \n",
       "10                   -30        14762         2365            4127   \n",
       "11                   -40        13163         2153            3694   \n",
       "12                   -50        11941         1961            3315   \n",
       "13                   -60        10897         1728            3059   \n",
       "14                   -70         9855         1633            2603   \n",
       "15                   -80         8996         1483            2401   \n",
       "16                   -90         8542         1451            2293   \n",
       "\n",
       "    hispanic_stops  prop_white  prop_black_aa  prop_hispanic  \n",
       "0             4697       0.181          0.249          0.471  \n",
       "1             5109       0.172          0.250          0.484  \n",
       "2             5084       0.176          0.252          0.478  \n",
       "3             5512       0.162          0.260          0.490  \n",
       "4             5704       0.162          0.257          0.484  \n",
       "5             6035       0.158          0.263          0.489  \n",
       "6             3645       0.155          0.269          0.485  \n",
       "7             3529       0.171          0.268          0.469  \n",
       "8             6991       0.163          0.280          0.466  \n",
       "9             7067       0.163          0.279          0.472  \n",
       "10            6977       0.160          0.280          0.473  \n",
       "11            6180       0.164          0.281          0.469  \n",
       "12            5595       0.164          0.278          0.469  \n",
       "13            5215       0.159          0.281          0.479  \n",
       "14            4740       0.166          0.264          0.481  \n",
       "15            4279       0.165          0.267          0.476  \n",
       "16            4005       0.170          0.268          0.469  "
      ]
     },
     "execution_count": 195,
     "metadata": {},
     "output_type": "execute_result"
    }
   ],
   "source": [
    "df1_bw = itp_dusk[(itp_dusk['mins_before_dusk'] <= 95) &\\\n",
    "                  (itp_dusk['mins_before_dusk'] >= -95)] #&\\\n",
    "#                   (itp_dusk['city']=='Los Angeles')]\n",
    "#         (df['type']=='Moving')][['date','wave','race','mins_stop_time','mins_sunset','mins_after_sunset']]\n",
    "\n",
    "df1_bw['before_dusk_category'] = [min(np.arange(-90,91,10), key=lambda x:abs(x-i)) for i in df1_bw['mins_before_dusk']]\n",
    "prop_table = df1_bw.groupby('before_dusk_category',as_index=False).agg('count')[['before_dusk_category','race']]\n",
    "\n",
    "\n",
    "#############################################\n",
    "prop_table['black_aa_stops'] = df1_bw[df1_bw['race']=='black/african american'].groupby('before_dusk_category',as_index=False)\\\n",
    "                                                                   .agg('count')[['before_dusk_category','race']]\\\n",
    "                                                                   .rename(columns={'race':'black_aa'})['black_aa']\n",
    "prop_table['prop_black_aa'] = round(prop_table['black_aa_stops']/prop_table['race'],4)\n",
    "\n",
    "\n",
    "\n",
    "\n",
    "prop_table['white_stops'] = df1_bw[df1_bw['race']=='white'].groupby('before_dusk_category',as_index=False)\\\n",
    "                                                                   .agg('count')[['before_dusk_category','race']]\\\n",
    "                                                                   .rename(columns={'race':'white'})['white']\n",
    "prop_table['prop_white'] = round(prop_table['white_stops']/prop_table['race'],4)\n",
    "\n",
    "\n",
    "\n",
    "\n",
    "prop_table['hispanic_stops'] = df1_bw[df1_bw['race']=='hispanic/latino(a)'].groupby('before_dusk_category',as_index=False)\\\n",
    "                                                                   .agg('count')[['before_dusk_category','race']]\\\n",
    "                                                                   .rename(columns={'race':'hispanic'})['hispanic']\n",
    "prop_table['prop_hispanic'] = round(prop_table['hispanic_stops']/prop_table['race'],4)\n",
    "\n",
    "#############################################\n",
    "\n",
    "\n",
    "prop_table = prop_table.sort_values(by='before_dusk_category',ascending=False)\\\n",
    "                       .reset_index(drop=True)\\\n",
    "                       .rename(columns={'race':'total_stops'})[['before_dusk_category', 'total_stops', \n",
    "                                                                'white_stops','black_aa_stops', 'hispanic_stops',\n",
    "                                                                'prop_white','prop_black_aa','prop_hispanic']]\n",
    "\n",
    "prop_table_pre = prop_table[(prop_table['before_dusk_category']>=30)]\n",
    "prop_table_dusk = prop_table[(prop_table['before_dusk_category']<= 0)]\n",
    "prop_table"
   ]
  },
  {
   "cell_type": "code",
   "execution_count": 222,
   "id": "e1dfd742",
   "metadata": {
    "scrolled": false
   },
   "outputs": [
    {
     "data": {
      "image/png": "[encoded data removed]",
      "text/plain": [
       "<Figure size 640x480 with 1 Axes>"
      ]
     },
     "metadata": {},
     "output_type": "display_data"
    }
   ],
   "source": [
    "matplotlib.rcParams['legend.handlelength'] = 0\n",
    "matplotlib.rcParams['legend.numpoints'] = 1\n",
    "fig,ax=plt.subplots()\n",
    "\n",
    "\n",
    "ax.plot(prop_table_pre['before_dusk_category'],prop_table_pre['prop_hispanic'],linewidth=1,c='black',label='hispanic',marker=\"o\",linestyle='--')\n",
    "ax.plot(prop_table_pre['before_dusk_category'],prop_table_pre['prop_black_aa'],linewidth=1,c='black',label='black_aa',marker=\"^\",linestyle='--')\n",
    "ax.plot(prop_table_pre['before_dusk_category'],prop_table_pre['prop_white'],linewidth=1,c='black',label='white',marker=\"s\",linestyle='--')\n",
    "\n",
    "\n",
    "\n",
    "# ax.scatter(prop_table_sunset['before_dusk_category'],prop_table_sunset['prop'],linewidth=2,c='black',label='reported stops',marker=\"o\")\n",
    "ax.plot(prop_table_dusk['before_dusk_category'],prop_table_dusk['prop_hispanic'],linewidth=2,c='black',alpha=.15,marker=\"o\")\n",
    "ax.plot(prop_table_dusk['before_dusk_category'],prop_table_dusk['prop_black_aa'],linewidth=2,c='black',alpha=.15,marker=\"^\")\n",
    "ax.plot(prop_table_dusk['before_dusk_category'],prop_table_dusk['prop_white'],linewidth=2,c='black',alpha=.15,marker=\"s\")\n",
    "\n",
    "\n",
    "ax.set_ylabel(\"proportion of racial group stopped\")\n",
    "ax.set_xlabel('minutes before dusk')\n",
    "\n",
    "\n",
    "plt.xticks(np.arange(90,-91,-30))\n",
    "ax.invert_xaxis()\n",
    "\n",
    "plt.xlim(65,-65)\n",
    "plt.axvline(x = 30,c='black',alpha=.5,linestyle='dashed')\n",
    "plt.axvline(x = 0,c='black',alpha=.5,linestyle='dashed')\n",
    "plt.axvspan(30, 0, color='black', alpha=0.03)\n",
    "plt.axvspan(0, -95, color='black', alpha=0.2)\n",
    "\n",
    "\n",
    "plt.title('Proportion of Black Driver Stops Before/After Dusk (Statewide)',weight='semibold',pad=5)\n",
    "plt.legend()\n",
    "plt.tight_layout(pad=0, w_pad=2, h_pad=2)\n",
    "\n",
    "plt.show()\n",
    "\n",
    "# save the plot as a file\n",
    "# fig.savefig('/Users/karatechop/Documents/GitHub/senior-thesis-pretextual-stops/Notebooks/Exports/Total Stops vs Proportion Black Civil Twilight (CA).jpg',\n",
    "#             format='jpeg',\n",
    "#             dpi=100,\n",
    "#             bbox_inches='tight')"
   ]
  },
  {
   "cell_type": "code",
   "execution_count": 197,
   "id": "159cf79d",
   "metadata": {},
   "outputs": [
    {
     "name": "stdout",
     "output_type": "stream",
     "text": [
      "light:0.2568697084678018\n",
      " dark:0.2756760495193305\n"
     ]
    }
   ],
   "source": [
    "df1_bw = df1_bw.reset_index(drop=True)\n",
    "\n",
    "light = df1_bw[(df1_bw['dark']==0)&\\\n",
    "              ((df1_bw['mins_before_dusk'] >-15) | (df1_bw['mins_before_dusk'] < 15))]\n",
    "prop_light = (light[light['race'] == 'black/african american']).shape[0]/light.shape[0]\n",
    "\n",
    "dark = df1_bw[(df1_bw['dark']==1)&\\\n",
    "              ((df1_bw['mins_before_dusk'] >-15) | (df1_bw['mins_before_dusk'] < 15))]\n",
    "prop_dark = (dark[dark['race'] == 'black/african american']).shape[0]/dark.shape[0]\n",
    "\n",
    "print(f'light:{prop_light}\\n dark:{prop_dark}')"
   ]
  },
  {
   "cell_type": "code",
   "execution_count": 132,
   "id": "ca898085",
   "metadata": {},
   "outputs": [],
   "source": [
    "# grouped_hours = hour_test[(hour_test['mins_stop_time']>=(60*15))&(hour_test['mins_stop_time']<=(60*22))]\n",
    "# plt.xticks(np.arange(0,(60*24.5),60),rotation=60)\n",
    "\n",
    "# for i in hour_test.race.unique():\n",
    "#     grouped_hours = hour_test[hour_test['race']==i].groupby('mins_stop_time',as_index=False).agg('count')[['mins_stop_time','race']]\n",
    "#     plt.plot(grouped_hours.mins_stop_time,grouped_hours.race,label=f'{i}')\n",
    "\n",
    "# # plt.axvline(x = 1020,c='black',alpha=.8,linestyle='dashed')\n",
    "# # plt.axvline(x = 1200,c='black',alpha=.8,linestyle='dashed')\n",
    "# # plt.axvspan(0, 1020, color='black', alpha=0.2)\n",
    "# # plt.axvspan(1200, 1440, color='black', alpha=0.2)\n",
    "# plt.axvline(x = 1020,c='black',alpha=.8,linestyle='dashed')\n",
    "# plt.axvspan(1020, 1440, color='black', alpha=0.2)\n",
    "\n",
    "# plt.axvline(x = 1200,c='black',alpha=.4,linestyle='dashed')\n",
    "# plt.axvspan(1200, 1440, color='black', alpha=0.35)\n",
    "\n",
    "# plt.xlim(360,1440)\n",
    "# plt.ylim(0,2000)\n",
    "\n",
    "# plt.legend(fontsize=6,borderpad=1,loc='upper left')"
   ]
  },
  {
   "cell_type": "code",
   "execution_count": 179,
   "id": "f0e22760",
   "metadata": {},
   "outputs": [
    {
     "data": {
      "text/plain": [
       "(210791, 9)"
      ]
     },
     "execution_count": 179,
     "metadata": {},
     "output_type": "execute_result"
    }
   ],
   "source": [
    "itp_full[itp_full['dark']==1].shape"
   ]
  },
  {
   "cell_type": "code",
   "execution_count": 116,
   "id": "fa7a1f61",
   "metadata": {},
   "outputs": [],
   "source": [
    "test = pd.read_csv('la_final_non_seasonal.csv')"
   ]
  },
  {
   "cell_type": "code",
   "execution_count": 170,
   "id": "223c4808",
   "metadata": {
    "scrolled": true
   },
   "outputs": [
    {
     "data": {
      "text/plain": [
       "(149655, 19)"
      ]
     },
     "execution_count": 170,
     "metadata": {},
     "output_type": "execute_result"
    }
   ],
   "source": [
    "test.shape"
   ]
  },
  {
   "cell_type": "code",
   "execution_count": 171,
   "id": "6e28ac56",
   "metadata": {},
   "outputs": [
    {
     "data": {
      "text/plain": [
       "(44871, 19)"
      ]
     },
     "execution_count": 171,
     "metadata": {},
     "output_type": "execute_result"
    }
   ],
   "source": [
    "test2 = pd.read_csv('la_final_seasonal.csv')\n",
    "test2.shape"
   ]
  },
  {
   "cell_type": "code",
   "execution_count": 117,
   "id": "109abb56",
   "metadata": {},
   "outputs": [
    {
     "data": {
      "text/plain": [
       "array(['hispanic/latino(a)', 'black/african american', 'group 4', 'white',\n",
       "       'asian'], dtype=object)"
      ]
     },
     "execution_count": 117,
     "metadata": {},
     "output_type": "execute_result"
    }
   ],
   "source": [
    "test['race'].unique()"
   ]
  },
  {
   "cell_type": "code",
   "execution_count": 121,
   "id": "35279d09",
   "metadata": {
    "scrolled": false
   },
   "outputs": [
    {
     "name": "stdout",
     "output_type": "stream",
     "text": [
      "(30475, 19)\n"
     ]
    },
    {
     "name": "stderr",
     "output_type": "stream",
     "text": [
      "/var/folders/td/yc8lq2qx2ks3ck292tbf6wtm0000gn/T/ipykernel_18675/2096169669.py:7: SettingWithCopyWarning: \n",
      "A value is trying to be set on a copy of a slice from a DataFrame.\n",
      "Try using .loc[row_indexer,col_indexer] = value instead\n",
      "\n",
      "See the caveats in the documentation: https://pandas.pydata.org/pandas-docs/stable/user_guide/indexing.html#returning-a-view-versus-a-copy\n",
      "  df1_bw['before_dusk_category'] = [min(np.arange(-90,91,10), key=lambda x:abs(x-i)) for i in df1_bw['mins_before_dusk']]\n"
     ]
    },
    {
     "data": {
      "text/html": [
       "<div>\n",
       "<style scoped>\n",
       "    .dataframe tbody tr th:only-of-type {\n",
       "        vertical-align: middle;\n",
       "    }\n",
       "\n",
       "    .dataframe tbody tr th {\n",
       "        vertical-align: top;\n",
       "    }\n",
       "\n",
       "    .dataframe thead th {\n",
       "        text-align: right;\n",
       "    }\n",
       "</style>\n",
       "<table border=\"1\" class=\"dataframe\">\n",
       "  <thead>\n",
       "    <tr style=\"text-align: right;\">\n",
       "      <th></th>\n",
       "      <th>before_dusk_category</th>\n",
       "      <th>total_stops</th>\n",
       "      <th>black_aa_stops</th>\n",
       "      <th>prop_black_aa</th>\n",
       "    </tr>\n",
       "  </thead>\n",
       "  <tbody>\n",
       "    <tr>\n",
       "      <th>0</th>\n",
       "      <td>90</td>\n",
       "      <td>1546</td>\n",
       "      <td>981</td>\n",
       "      <td>0.6345</td>\n",
       "    </tr>\n",
       "    <tr>\n",
       "      <th>1</th>\n",
       "      <td>80</td>\n",
       "      <td>1602</td>\n",
       "      <td>1021</td>\n",
       "      <td>0.6373</td>\n",
       "    </tr>\n",
       "    <tr>\n",
       "      <th>2</th>\n",
       "      <td>70</td>\n",
       "      <td>1649</td>\n",
       "      <td>1053</td>\n",
       "      <td>0.6386</td>\n",
       "    </tr>\n",
       "    <tr>\n",
       "      <th>3</th>\n",
       "      <td>60</td>\n",
       "      <td>1785</td>\n",
       "      <td>1197</td>\n",
       "      <td>0.6706</td>\n",
       "    </tr>\n",
       "    <tr>\n",
       "      <th>4</th>\n",
       "      <td>50</td>\n",
       "      <td>1828</td>\n",
       "      <td>1193</td>\n",
       "      <td>0.6526</td>\n",
       "    </tr>\n",
       "    <tr>\n",
       "      <th>5</th>\n",
       "      <td>40</td>\n",
       "      <td>1941</td>\n",
       "      <td>1280</td>\n",
       "      <td>0.6595</td>\n",
       "    </tr>\n",
       "    <tr>\n",
       "      <th>6</th>\n",
       "      <td>30</td>\n",
       "      <td>1155</td>\n",
       "      <td>791</td>\n",
       "      <td>0.6848</td>\n",
       "    </tr>\n",
       "    <tr>\n",
       "      <th>7</th>\n",
       "      <td>0</td>\n",
       "      <td>1260</td>\n",
       "      <td>801</td>\n",
       "      <td>0.6357</td>\n",
       "    </tr>\n",
       "    <tr>\n",
       "      <th>8</th>\n",
       "      <td>-10</td>\n",
       "      <td>2525</td>\n",
       "      <td>1668</td>\n",
       "      <td>0.6606</td>\n",
       "    </tr>\n",
       "    <tr>\n",
       "      <th>9</th>\n",
       "      <td>-20</td>\n",
       "      <td>2478</td>\n",
       "      <td>1640</td>\n",
       "      <td>0.6618</td>\n",
       "    </tr>\n",
       "    <tr>\n",
       "      <th>10</th>\n",
       "      <td>-30</td>\n",
       "      <td>2478</td>\n",
       "      <td>1639</td>\n",
       "      <td>0.6614</td>\n",
       "    </tr>\n",
       "    <tr>\n",
       "      <th>11</th>\n",
       "      <td>-40</td>\n",
       "      <td>2201</td>\n",
       "      <td>1464</td>\n",
       "      <td>0.6652</td>\n",
       "    </tr>\n",
       "    <tr>\n",
       "      <th>12</th>\n",
       "      <td>-50</td>\n",
       "      <td>1906</td>\n",
       "      <td>1260</td>\n",
       "      <td>0.6611</td>\n",
       "    </tr>\n",
       "    <tr>\n",
       "      <th>13</th>\n",
       "      <td>-60</td>\n",
       "      <td>1746</td>\n",
       "      <td>1155</td>\n",
       "      <td>0.6615</td>\n",
       "    </tr>\n",
       "    <tr>\n",
       "      <th>14</th>\n",
       "      <td>-70</td>\n",
       "      <td>1572</td>\n",
       "      <td>1036</td>\n",
       "      <td>0.6590</td>\n",
       "    </tr>\n",
       "    <tr>\n",
       "      <th>15</th>\n",
       "      <td>-80</td>\n",
       "      <td>1424</td>\n",
       "      <td>971</td>\n",
       "      <td>0.6819</td>\n",
       "    </tr>\n",
       "    <tr>\n",
       "      <th>16</th>\n",
       "      <td>-90</td>\n",
       "      <td>1379</td>\n",
       "      <td>903</td>\n",
       "      <td>0.6548</td>\n",
       "    </tr>\n",
       "  </tbody>\n",
       "</table>\n",
       "</div>"
      ],
      "text/plain": [
       "    before_dusk_category  total_stops  black_aa_stops  prop_black_aa\n",
       "0                     90         1546             981         0.6345\n",
       "1                     80         1602            1021         0.6373\n",
       "2                     70         1649            1053         0.6386\n",
       "3                     60         1785            1197         0.6706\n",
       "4                     50         1828            1193         0.6526\n",
       "5                     40         1941            1280         0.6595\n",
       "6                     30         1155             791         0.6848\n",
       "7                      0         1260             801         0.6357\n",
       "8                    -10         2525            1668         0.6606\n",
       "9                    -20         2478            1640         0.6618\n",
       "10                   -30         2478            1639         0.6614\n",
       "11                   -40         2201            1464         0.6652\n",
       "12                   -50         1906            1260         0.6611\n",
       "13                   -60         1746            1155         0.6615\n",
       "14                   -70         1572            1036         0.6590\n",
       "15                   -80         1424             971         0.6819\n",
       "16                   -90         1379             903         0.6548"
      ]
     },
     "execution_count": 121,
     "metadata": {},
     "output_type": "execute_result"
    }
   ],
   "source": [
    "df1_bw = test[((test['mins_before_dusk'] <= 95) & (test['mins_before_dusk'] >= -95)) &\\\n",
    "              ((test['race']=='black/african american') | (test['race']=='white'))] #&\\\n",
    "print(df1_bw.shape)\n",
    "#                   (itp_dusk['city']=='Los Angeles')]\n",
    "#         (df['type']=='Moving')][['date','wave','race','mins_stop_time','mins_sunset','mins_after_sunset']]\n",
    "\n",
    "df1_bw['before_dusk_category'] = [min(np.arange(-90,91,10), key=lambda x:abs(x-i)) for i in df1_bw['mins_before_dusk']]\n",
    "prop_table = df1_bw.groupby('before_dusk_category',as_index=False).agg('count')[['before_dusk_category','race']]\n",
    "\n",
    "\n",
    "#############################################\n",
    "prop_table['black_aa_stops'] = df1_bw[df1_bw['race']=='black/african american'].groupby('before_dusk_category',as_index=False)\\\n",
    "                                                                   .agg('count')[['before_dusk_category','race']]\\\n",
    "                                                                   .rename(columns={'race':'black_aa'})['black_aa']\n",
    "prop_table['prop_black_aa'] = round(prop_table['black_aa_stops']/prop_table['race'],4)\n",
    "\n",
    "\n",
    "\n",
    "#############################################\n",
    "\n",
    "\n",
    "prop_table = prop_table.sort_values(by='before_dusk_category',ascending=False)\\\n",
    "                       .reset_index(drop=True)\\\n",
    "                       .rename(columns={'race':'total_stops'})[['before_dusk_category', 'total_stops', \n",
    "                                                                'black_aa_stops','prop_black_aa']]\n",
    "\n",
    "prop_table_pre = prop_table[(prop_table['before_dusk_category']>=30)]\n",
    "prop_table_dusk = prop_table[(prop_table['before_dusk_category']<= 0)]\n",
    "prop_table"
   ]
  },
  {
   "cell_type": "code",
   "execution_count": 167,
   "id": "ca9948f9",
   "metadata": {
    "scrolled": false
   },
   "outputs": [
    {
     "data": {
      "image/png": "[encoded data removed]",
      "text/plain": [
       "<Figure size 640x480 with 1 Axes>"
      ]
     },
     "metadata": {},
     "output_type": "display_data"
    }
   ],
   "source": [
    "matplotlib.rcParams['legend.handlelength'] = 0\n",
    "matplotlib.rcParams['legend.numpoints'] = 1\n",
    "fig,ax=plt.subplots()\n",
    "\n",
    "\n",
    "ax.plot(prop_table_pre['before_dusk_category'],prop_table_pre['prop_black_aa'],linewidth=1,c='black',label='black_aa')\n",
    "# ax.scatter(prop_table_sunset['before_dusk_category'],prop_table_sunset['prop'],linewidth=2,c='black',label='reported stops',marker=\"o\")\n",
    "ax.plot(prop_table_dusk['before_dusk_category'],prop_table_dusk['prop_black_aa'],linewidth=2,c='black',alpha=.15)\n",
    "\n",
    "\n",
    "ax.set_ylabel(\"proportion of drivers stopped\")\n",
    "ax.set_xlabel('minutes before dusk')\n",
    "\n",
    "\n",
    "plt.xticks(np.arange(90,-91,-30))\n",
    "ax.invert_xaxis()\n",
    "\n",
    "plt.xlim(95,-95)\n",
    "plt.axvline(x = 30,c='black',alpha=.5,linestyle='dashed')\n",
    "plt.axvline(x = 0,c='black',alpha=.5,linestyle='dashed')\n",
    "plt.axvspan(30, 0, color='black', alpha=0.03)\n",
    "plt.axvspan(0, -95, color='black', alpha=0.2)\n",
    "\n",
    "\n",
    "plt.title('Proportion of Black Driver Stops Before/After Dusk (LA)',weight='semibold',pad=5)\n",
    "# plt.legend()\n",
    "plt.tight_layout(pad=0, w_pad=2, h_pad=2)\n",
    "\n",
    "plt.show()\n",
    "\n",
    "# save the plot as a file\n",
    "# fig.savefig('/Users/karatechop/Documents/GitHub/senior-thesis-pretextual-stops/Notebooks/Exports/Total Stops vs Proportion Black Civil Twilight (CA).jpg',\n",
    "#             format='jpeg',\n",
    "#             dpi=100,\n",
    "#             bbox_inches='tight')"
   ]
  },
  {
   "cell_type": "code",
   "execution_count": null,
   "id": "ce558c2f",
   "metadata": {},
   "outputs": [],
   "source": []
  }
 ],
 "metadata": {
  "kernelspec": {
   "display_name": "VOD",
   "language": "python",
   "name": "vod"
  },
  "language_info": {
   "codemirror_mode": {
    "name": "ipython",
    "version": 3
   },
   "file_extension": ".py",
   "mimetype": "text/x-python",
   "name": "python",
   "nbconvert_exporter": "python",
   "pygments_lexer": "ipython3",
   "version": "3.10.6"
  }
 },
 "nbformat": 4,
 "nbformat_minor": 5
}
