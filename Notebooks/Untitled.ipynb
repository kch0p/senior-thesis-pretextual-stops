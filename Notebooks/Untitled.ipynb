{
 "cells": [
  {
   "cell_type": "code",
   "execution_count": 1,
   "id": "e7f806a9",
   "metadata": {},
   "outputs": [],
   "source": [
    "import pandas as pd\n",
    "import numpy as np\n",
    "import os\n",
    "from glob import glob\n",
    "import matplotlib.pyplot as plt\n",
    "import time\n",
    "\n",
    "pd.set_option('display.max_columns', None) "
   ]
  },
  {
   "cell_type": "code",
   "execution_count": 2,
   "id": "3257278f",
   "metadata": {},
   "outputs": [
    {
     "name": "stdout",
     "output_type": "stream",
     "text": [
      "/Users/karatechop\n"
     ]
    }
   ],
   "source": [
    "cd"
   ]
  },
  {
   "cell_type": "code",
   "execution_count": 3,
   "id": "09e7fdb0",
   "metadata": {},
   "outputs": [
    {
     "name": "stdout",
     "output_type": "stream",
     "text": [
      "/Users/karatechop/Documents/GitHub/senior-thesis-pretextual-stops/Data/RIPA-DATA-CA-as-of-2022 (CSV)/Waves 3_4\n"
     ]
    }
   ],
   "source": [
    "cd /Users/karatechop/Documents/GitHub/senior-thesis-pretextual-stops/Data/RIPA-DATA-CA-as-of-2022 (CSV)/Waves 3_4"
   ]
  },
  {
   "cell_type": "code",
   "execution_count": 4,
   "id": "2ba06bd8",
   "metadata": {},
   "outputs": [
    {
     "name": "stdout",
     "output_type": "stream",
     "text": [
      "/Users/karatechop/Documents/GitHub/senior-thesis-pretextual-stops/Data/RIPA-DATA-CA-as-of-2022 (CSV)/Waves 3_4/Berkeley PD\n"
     ]
    }
   ],
   "source": [
    "cd Berkeley\\ PD"
   ]
  },
  {
   "cell_type": "code",
   "execution_count": 5,
   "id": "78575156",
   "metadata": {},
   "outputs": [
    {
     "name": "stdout",
     "output_type": "stream",
     "text": [
      "ALL-BPD-AB953.csv\r\n",
      "Berkeley_PD_-_Stop_Data__October_1__2020_-_Present_.csv\r\n",
      "Results for \"stops ripa\" | Page 1 of 1 | Open Data | City of Berkeley.webloc\r\n"
     ]
    }
   ],
   "source": [
    "ls"
   ]
  },
  {
   "cell_type": "code",
   "execution_count": 7,
   "id": "f1b6008e",
   "metadata": {},
   "outputs": [
    {
     "data": {
      "text/plain": [
       "Index(['date', 'time', 'Duration', 'race', 'sex', 'age', 'type',\n",
       "       'race perceived prior', 'reason', 'offense code', 'basis',\n",
       "       'actions taken', 'property seized', 'search basis', 'result'],\n",
       "      dtype='object')"
      ]
     },
     "execution_count": 7,
     "metadata": {},
     "output_type": "execute_result"
    }
   ],
   "source": [
    "BPD = pd.read_csv('ALL-BPD-AB953.csv')\n",
    "BPD.columns"
   ]
  },
  {
   "cell_type": "code",
   "execution_count": 8,
   "id": "3283a3c7",
   "metadata": {},
   "outputs": [
    {
     "name": "stdout",
     "output_type": "stream",
     "text": [
      "/Users/karatechop/Documents/GitHub/senior-thesis-pretextual-stops/Data/RIPA-DATA-CA-as-of-2022 (CSV)/Waves 3_4\n"
     ]
    }
   ],
   "source": [
    "cd -"
   ]
  },
  {
   "cell_type": "code",
   "execution_count": 9,
   "id": "423d06ab",
   "metadata": {},
   "outputs": [
    {
     "name": "stdout",
     "output_type": "stream",
     "text": [
      "/Users/karatechop/Documents/GitHub/senior-thesis-pretextual-stops/Data/RIPA-DATA-CA-as-of-2022 (CSV)/Waves 3_4/Marin County Sherrifs Office\n"
     ]
    }
   ],
   "source": [
    "cd Marin\\ County\\ Sherrifs\\ Office"
   ]
  },
  {
   "cell_type": "code",
   "execution_count": 14,
   "id": "9f603920",
   "metadata": {},
   "outputs": [
    {
     "name": "stdout",
     "output_type": "stream",
     "text": [
      "ALL-MARIN-AB953.csv                \u001b[34moriginal\u001b[m\u001b[m/\r\n",
      "PRA_RIPA_Marin_County_Sheriff.csv\r\n"
     ]
    }
   ],
   "source": [
    "ls"
   ]
  },
  {
   "cell_type": "code",
   "execution_count": 15,
   "id": "9c046b3a",
   "metadata": {},
   "outputs": [
    {
     "data": {
      "text/plain": [
       "Index(['date', 'time', 'Duration', 'race', 'sex', 'age', 'type',\n",
       "       'race perceived prior', 'reason', 'actions taken', 'property seized',\n",
       "       'search basis', 'result'],\n",
       "      dtype='object')"
      ]
     },
     "execution_count": 15,
     "metadata": {},
     "output_type": "execute_result"
    }
   ],
   "source": [
    "MARIN = pd.read_csv('ALL-MARIN-AB953.csv')\n",
    "MARIN.columns"
   ]
  },
  {
   "cell_type": "code",
   "execution_count": 16,
   "id": "d043e798",
   "metadata": {},
   "outputs": [
    {
     "name": "stdout",
     "output_type": "stream",
     "text": [
      "/Users/karatechop\n"
     ]
    }
   ],
   "source": [
    "cd"
   ]
  },
  {
   "cell_type": "code",
   "execution_count": 22,
   "id": "162ee798",
   "metadata": {},
   "outputs": [
    {
     "name": "stdout",
     "output_type": "stream",
     "text": [
      "/Users/karatechop/Documents/GitHub/senior-thesis-pretextual-stops/Data/RIPA-DATA-CA-as-of-2022 (CSV)/Wave 2/Oakland PD\n"
     ]
    }
   ],
   "source": [
    "cd /Users/karatechop/Documents/GitHub/senior-thesis-pretextual-stops/Data/RIPA-DATA-CA-as-of-2022 (CSV)/Wave 2/Oakland PD"
   ]
  },
  {
   "cell_type": "code",
   "execution_count": 23,
   "id": "3284516f",
   "metadata": {},
   "outputs": [
    {
     "name": "stdout",
     "output_type": "stream",
     "text": [
      "ALL-OAKLAND_PD-AB953.csv\r\n",
      "Cleaned-Stop-Data-2021-for-PRR-Requests(1).csv\r\n",
      "Q1-2022-Stop-Data-for-PRRs-and-Website.csv\r\n",
      "Q2-Stop-Data-Cleaned.csv\r\n",
      "Stop_Data_for_Release_Jan_2017_to_Feb_2021_1_2.csv\r\n"
     ]
    }
   ],
   "source": [
    "ls"
   ]
  },
  {
   "cell_type": "code",
   "execution_count": 24,
   "id": "265c1513",
   "metadata": {},
   "outputs": [
    {
     "name": "stderr",
     "output_type": "stream",
     "text": [
      "/var/folders/td/yc8lq2qx2ks3ck292tbf6wtm0000gn/T/ipykernel_25619/409991313.py:1: DtypeWarning: Columns (2,3,15) have mixed types. Specify dtype option on import or set low_memory=False.\n",
      "  OAK = pd.read_csv('ALL-OAKLAND_PD-AB953.csv')\n"
     ]
    },
    {
     "data": {
      "text/plain": [
       "Index(['date', 'time', 'Stop ID', 'Duration', 'race', 'sex', 'age', 'type',\n",
       "       'reason', 'actions taken', 'search basis', 'property seized',\n",
       "       'race perceived prior', 'result', 'Experience', 'seizure basis',\n",
       "       'evidence'],\n",
       "      dtype='object')"
      ]
     },
     "execution_count": 24,
     "metadata": {},
     "output_type": "execute_result"
    }
   ],
   "source": [
    "OAK = pd.read_csv('ALL-OAKLAND_PD-AB953.csv')\n",
    "OAK.columns"
   ]
  },
  {
   "cell_type": "code",
   "execution_count": 25,
   "id": "72849630",
   "metadata": {},
   "outputs": [
    {
     "data": {
      "text/plain": [
       "79739"
      ]
     },
     "execution_count": 25,
     "metadata": {},
     "output_type": "execute_result"
    }
   ],
   "source": [
    "OAK.shape[0]+BPD.shape[0]+MARIN.shape[0]"
   ]
  },
  {
   "cell_type": "code",
   "execution_count": 33,
   "id": "303d77e8",
   "metadata": {},
   "outputs": [
    {
     "data": {
      "text/html": [
       "<div>\n",
       "<style scoped>\n",
       "    .dataframe tbody tr th:only-of-type {\n",
       "        vertical-align: middle;\n",
       "    }\n",
       "\n",
       "    .dataframe tbody tr th {\n",
       "        vertical-align: top;\n",
       "    }\n",
       "\n",
       "    .dataframe thead th {\n",
       "        text-align: right;\n",
       "    }\n",
       "</style>\n",
       "<table border=\"1\" class=\"dataframe\">\n",
       "  <thead>\n",
       "    <tr style=\"text-align: right;\">\n",
       "      <th></th>\n",
       "      <th>prior</th>\n",
       "      <th>count</th>\n",
       "    </tr>\n",
       "  </thead>\n",
       "  <tbody>\n",
       "    <tr>\n",
       "      <th>0</th>\n",
       "      <td>False</td>\n",
       "      <td>48086</td>\n",
       "    </tr>\n",
       "    <tr>\n",
       "      <th>1</th>\n",
       "      <td>True</td>\n",
       "      <td>20439</td>\n",
       "    </tr>\n",
       "  </tbody>\n",
       "</table>\n",
       "</div>"
      ],
      "text/plain": [
       "   prior  count\n",
       "0  False  48086\n",
       "1   True  20439"
      ]
     },
     "execution_count": 33,
     "metadata": {},
     "output_type": "execute_result"
    }
   ],
   "source": [
    "count = OAK['race perceived prior'].value_counts().rename_axis('prior').reset_index(name='count') \n",
    "count.loc[count['prior']=='Yes','prior']=True\n",
    "count.loc[count['prior']=='No','prior']=False\n",
    "\n",
    "count"
   ]
  },
  {
   "cell_type": "code",
   "execution_count": 34,
   "id": "b9422629",
   "metadata": {},
   "outputs": [],
   "source": [
    "count2 = BPD['race perceived prior'].value_counts().rename_axis('prior').reset_index(name='count') "
   ]
  },
  {
   "cell_type": "code",
   "execution_count": 35,
   "id": "e121a0cf",
   "metadata": {},
   "outputs": [],
   "source": [
    "count3 = MARIN['race perceived prior'].value_counts().rename_axis('prior').reset_index(name='count') "
   ]
  },
  {
   "cell_type": "code",
   "execution_count": 42,
   "id": "59a55164",
   "metadata": {},
   "outputs": [
    {
     "data": {
      "text/plain": [
       "77837"
      ]
     },
     "execution_count": 42,
     "metadata": {},
     "output_type": "execute_result"
    }
   ],
   "source": [
    "count['count'].sum() + count2['count'].sum() + count3['count'].sum()"
   ]
  },
  {
   "cell_type": "code",
   "execution_count": null,
   "id": "6bda3b9a",
   "metadata": {},
   "outputs": [],
   "source": []
  }
 ],
 "metadata": {
  "kernelspec": {
   "display_name": "VOD",
   "language": "python",
   "name": "vod"
  },
  "language_info": {
   "codemirror_mode": {
    "name": "ipython",
    "version": 3
   },
   "file_extension": ".py",
   "mimetype": "text/x-python",
   "name": "python",
   "nbconvert_exporter": "python",
   "pygments_lexer": "ipython3",
   "version": "3.10.6"
  }
 },
 "nbformat": 4,
 "nbformat_minor": 5
}
