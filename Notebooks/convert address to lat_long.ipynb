{
 "cells": [
  {
   "cell_type": "code",
   "execution_count": 198,
   "id": "af2875ff",
   "metadata": {},
   "outputs": [
    {
     "name": "stdout",
     "output_type": "stream",
     "text": [
      "\n",
      " API queries_quota: 60 \n",
      "\n"
     ]
    }
   ],
   "source": [
    "import pandas as pd\n",
    "import numpy as np\n",
    "\n",
    "from time import time\n",
    "from string import digits\n",
    "import random\n",
    "import threading\n",
    "\n",
    "from geopy import Point\n",
    "from geopy import Nominatim\n",
    "from postal.parser import parse_address\n",
    "from postal.expand import expand_address\n",
    "import googlemaps\n",
    "from googlemaps_api_key import key \n",
    "\n",
    "key = key.replace('†','')\n",
    "gmaps = googlemaps.Client(key=key)\n",
    "# https://console.cloud.google.com/apis/credentials?project=la-api-key"
   ]
  },
  {
   "cell_type": "code",
   "execution_count": 134,
   "id": "923c2e98",
   "metadata": {},
   "outputs": [
    {
     "name": "stdout",
     "output_type": "stream",
     "text": [
      "/Users/karatechop\n"
     ]
    }
   ],
   "source": [
    "cd"
   ]
  },
  {
   "cell_type": "code",
   "execution_count": 135,
   "id": "6e5c3ed1",
   "metadata": {},
   "outputs": [
    {
     "name": "stdout",
     "output_type": "stream",
     "text": [
      "/Users/karatechop/Documents/GitHub/senior-thesis-pretextual-stops/Data/RIPA-DATA-CA-as-of-2022 (CSV)\n"
     ]
    }
   ],
   "source": [
    "cd /Users/karatechop/Documents/GitHub/senior-thesis-pretextual-stops/Data/RIPA-DATA-CA-as-of-2022\\ \\(CSV\\)"
   ]
  },
  {
   "cell_type": "code",
   "execution_count": 155,
   "id": "fd5344bc",
   "metadata": {},
   "outputs": [],
   "source": [
    "itp_dusk = pd.read_csv('itp_dusk.csv')"
   ]
  },
  {
   "cell_type": "code",
   "execution_count": 156,
   "id": "634a6f7f",
   "metadata": {},
   "outputs": [
    {
     "data": {
      "text/plain": [
       "60189"
      ]
     },
     "execution_count": 156,
     "metadata": {},
     "output_type": "execute_result"
    }
   ],
   "source": [
    "la = itp_dusk[itp_dusk['city'] == 'Los Angeles'].reset_index(drop=True)\n",
    "la['location'] = [i.lower().replace(' - los angeles','') for i in la['location']]\n",
    "len(la['location'].unique())"
   ]
  },
  {
   "cell_type": "code",
   "execution_count": 138,
   "id": "6002591b",
   "metadata": {},
   "outputs": [],
   "source": [
    "def first_char_NESW(street):\n",
    "    \n",
    "    try: \n",
    "        if street.split()[0] == 'n':\n",
    "            street = 'north ' + ''.join(street[2:])\n",
    "        elif street.split()[0] == 'e':\n",
    "            street = 'east '  + ''.join(street[2:])\n",
    "        elif street.split()[0] == 's':\n",
    "            street = 'south ' + ''.join(street[2:])\n",
    "        elif street.split()[0] == 'w':\n",
    "            street = 'west ' + ''.join(street[2:])\n",
    "    except:\n",
    "        pass\n",
    "    \n",
    "    return street\n"
   ]
  },
  {
   "cell_type": "code",
   "execution_count": 132,
   "id": "e1a44632",
   "metadata": {},
   "outputs": [
    {
     "data": {
      "text/plain": [
       "[' crenshaw Boulevard', 'west jefferson Boulevard ']"
      ]
     },
     "execution_count": 132,
     "metadata": {},
     "output_type": "execute_result"
    }
   ],
   "source": [
    "sorted('west jefferson Boulevard & crenshaw Boulevard'.split('&'))"
   ]
  },
  {
   "cell_type": "code",
   "execution_count": 157,
   "id": "cce780f1",
   "metadata": {},
   "outputs": [
    {
     "data": {
      "text/plain": [
       "60177"
      ]
     },
     "execution_count": 157,
     "metadata": {},
     "output_type": "execute_result"
    }
   ],
   "source": [
    "la['location'] = [i.lower().lstrip('').rstrip('') for i in la['location']]\n",
    "la['location'] = la['location'].str.replace(' - Los Angeles','') \n",
    "la['location'] = la['location'].str.replace(' - los angeles','') \n",
    "\n",
    "la['location'] = la['location'].str.replace(' n ',' north ') \n",
    "la['location'] = la['location'].str.replace(' e ',' east ') \n",
    "la['location'] = la['location'].str.replace(' s ',' south ') \n",
    "la['location'] = la['location'].str.replace(' w ',' west ') \n",
    "\n",
    "la['location'] = la['location'].str.replace(' st ',' street ') \n",
    "la['location'] = la['location'].str.replace(' ave',' avenue')\n",
    "la['location'] = la['location'].str.replace(' blvd',' boulevard')\n",
    "\n",
    "la['location'] = [first_char_NESW(i) for i in la['location']]\n",
    "la['location'] = [sorted(i.split('&'))[0] + ' & ' + sorted(i.split('&'))[1].lstrip().rstrip() if '&' in i \n",
    "                  else i.lstrip().rstrip() for i in la['location']]\n",
    "len(la['location'].unique())"
   ]
  },
  {
   "cell_type": "code",
   "execution_count": 280,
   "id": "0afce8bb",
   "metadata": {},
   "outputs": [
    {
     "data": {
      "text/plain": [
       "12885"
      ]
     },
     "execution_count": 280,
     "metadata": {},
     "output_type": "execute_result"
    }
   ],
   "source": [
    "freq = la['location'].value_counts()\\\n",
    "                     .rename_axis('location')\\\n",
    "                     .reset_index(name='count')\n",
    "\n",
    "gmv3_priority = freq[(freq['location'].str.contains('&'))].reset_index(drop=True)\n",
    "gmv3_array = higher_priority['location']\n",
    "len(gmv3_array)\n",
    "\n",
    "nom_priority = freq[~freq['location'].str.contains('&')].reset_index(drop=True)\n",
    "nom_array = lower_priority['location']\n",
    "len(nom_array)"
   ]
  },
  {
   "cell_type": "code",
   "execution_count": 281,
   "id": "ed223ba5",
   "metadata": {},
   "outputs": [],
   "source": [
    "la_expanded = la\n",
    "la_expanded['coords'] = None\n",
    "\n",
    "nom_tracker = 0\n",
    "gmv3_tracker = 0\n",
    "failure_tracker = 0"
   ]
  },
  {
   "cell_type": "code",
   "execution_count": 283,
   "id": "9cd24bbe",
   "metadata": {},
   "outputs": [],
   "source": [
    "def find_lat_lon_NOM():\n",
    "    nom_start = time()\n",
    "    counter = 0\n",
    "    \n",
    "    la_viewbox = ( (33.525861509262725,-117.32095033303995), (34.26915279876192,-118.52290082214722) )   \n",
    "    la_bounds = gmaps.geocode('los angeles')[0]['geometry']['bounds']\n",
    "    \n",
    "    \n",
    "    for address in nom_array: \n",
    "        \n",
    "        try:\n",
    "            geolocator = Nominatim(user_agent=\"kcharris@berkeley.edu\")\n",
    "            location = geolocator.geocode(address,viewbox=la_viewbox,bounded=True)\n",
    "\n",
    "            coords = location.raw['lat'] + ' , ' + location.raw['lon']\n",
    "            global nom_tracker\n",
    "            nom_tracker += 1\n",
    "\n",
    "        except:\n",
    "            try:\n",
    "                la_address = address + ' - los angeles'\n",
    "                coords = str(gmaps.geocode(la_address,bounds=la_bounds)[0]['geometry']['location']['lat']) + ' , ' +\\\n",
    "                         str(gmaps.geocode(la_address,bounds=la_bounds)[0]['geometry']['location']['lng'])\n",
    "                global gmv3_tracker\n",
    "                gmv3_tracker += 1\n",
    "\n",
    "            except:\n",
    "                print(f'google maps and nominatim failed for {address}')\n",
    "                coords = None\n",
    "                global failure_tracker\n",
    "                failure_tracker += 1\n",
    "                pass\n",
    "        \n",
    "        la_expanded.loc[la_expanded['location']==address,'coords']=coords\n",
    "        \n",
    "        counter+=1\n",
    "        if counter%1000==0:\n",
    "            remaining = la_expanded['coords'].isna().sum()\n",
    "            time_passed = round((time()-nom_start)/60,2)\n",
    "            print(f'Counter is at {counter}. There are {remaining} coord values left. {time_passed} minutes have passed.') "
   ]
  },
  {
   "cell_type": "code",
   "execution_count": 264,
   "id": "b7d01f2e",
   "metadata": {
    "collapsed": true
   },
   "outputs": [
    {
     "name": "stdout",
     "output_type": "stream",
     "text": [
      "Counter is at 10. There are 264099 coord values left. 0.17 minutes have passed.\n",
      "13 2 0\n"
     ]
    }
   ],
   "source": [
    "# # TEST\n",
    "# find_lat_lon_NOM()\n",
    "# print(nom_tracker,gmv3_tracker,failure_tracker)"
   ]
  },
  {
   "cell_type": "code",
   "execution_count": 284,
   "id": "de0f77e1",
   "metadata": {},
   "outputs": [],
   "source": [
    "def find_lat_lon_GMV3():\n",
    "    gmv3_total_start = time()\n",
    "    counter = 0\n",
    "    \n",
    "    la_bounds = gmaps.geocode('los angeles')[0]['geometry']['bounds']\n",
    "    \n",
    "    for address in gmv3_array: \n",
    "            \n",
    "        try:\n",
    "            la_address = address + ' - los angeles'\n",
    "            coords = str(gmaps.geocode(la_address,bounds=la_bounds)[0]['geometry']['location']['lat']) + ' , ' +\\\n",
    "                     str(gmaps.geocode(la_address,bounds=la_bounds)[0]['geometry']['location']['lng'])\n",
    "            \n",
    "            global gmv3_tracker\n",
    "            gmv3_tracker += 1\n",
    "\n",
    "        except:\n",
    "            print(f'ONLY google maps failed for {address}')\n",
    "            coords = None\n",
    "            \n",
    "            global failure_tracker\n",
    "            failure_tracker += 1\n",
    "            pass\n",
    "        \n",
    "        la_expanded.loc[la_expanded['location']==address,'coords']=coords\n",
    "        \n",
    "        counter+=1\n",
    "        if counter%5000==0:\n",
    "            remaining = la_expanded['coords'].isna().sum()\n",
    "            time_passed = round((time()-gmv3_total_start)/60,2)\n",
    "            print(f'Counter is at {counter}. There are {remaining} coord values left. {time_passed} minutes have passed.') "
   ]
  },
  {
   "cell_type": "code",
   "execution_count": 259,
   "id": "60d97220",
   "metadata": {
    "collapsed": true
   },
   "outputs": [
    {
     "name": "stdout",
     "output_type": "stream",
     "text": [
      "Counter is at 10. There are 266137 coord values left. 0.03 minutes have passed.\n",
      "0 15 0\n"
     ]
    }
   ],
   "source": [
    "# # TEST\n",
    "# find_lat_lon_GMV3()\n",
    "# print(nom_tracker,gmv3_tracker,failure_tracker)"
   ]
  },
  {
   "cell_type": "markdown",
   "id": "177929f6",
   "metadata": {},
   "source": [
    "We thread both here. \n",
    "\n",
    "**FOLLOW UP:** Running this cost about $300 in google maps api credits. I've commented it out so it can't run again."
   ]
  },
  {
   "cell_type": "code",
   "execution_count": 285,
   "id": "d703bcf1",
   "metadata": {},
   "outputs": [
    {
     "name": "stdout",
     "output_type": "stream",
     "text": [
      "Counter is at 5000. There are 124972 coord values left. 23.14 minutes have passed.\n",
      "Counter is at 1000. There are 115973 coord values left. 27.1 minutes have passed.\n",
      "Counter is at 10000. There are 85473 coord values left. 47.21 minutes have passed.\n",
      "Counter is at 2000. There are 74286 coord values left. 56.85 minutes have passed.\n",
      "Counter is at 15000. There are 61899 coord values left. 69.92 minutes have passed.\n",
      "Counter is at 3000. There are 49655 coord values left. 85.51 minutes have passed.\n",
      "Counter is at 20000. There are 45917 coord values left. 91.78 minutes have passed.\n",
      "Counter is at 25000. There are 34585 coord values left. 113.34 minutes have passed.\n",
      "Counter is at 4000. There are 32651 coord values left. 117.05 minutes have passed.\n",
      "Counter is at 30000. There are 26217 coord values left. 135.57 minutes have passed.\n",
      "Counter is at 5000. There are 22774 coord values left. 146.98 minutes have passed.\n",
      "ONLY google maps failed for  85th st & central\n",
      "Counter is at 35000. There are 19837 coord values left. 156.91 minutes have passed.\n",
      "Counter is at 6000. There are 14532 coord values left. 177.48 minutes have passed.\n",
      "Counter is at 40000. There are 14123 coord values left. 179.02 minutes have passed.\n",
      "Counter is at 45000. There are 8435 coord values left. 200.98 minutes have passed.\n",
      "Counter is at 7000. There are 6267 coord values left. 209.42 minutes have passed.\n",
      "Counter is at 8000. There are 4886 coord values left. 243.43 minutes have passed.\n",
      "Counter is at 9000. There are 3886 coord values left. 275.04 minutes have passed.\n",
      "google maps and nominatim failed for 1900 franklin\n",
      "Counter is at 10000. There are 2887 coord values left. 307.68 minutes have passed.\n",
      "Counter is at 11000. There are 1887 coord values left. 337.83 minutes have passed.\n",
      "Counter is at 12000. There are 887 coord values left. 369.53 minutes have passed.\n",
      "\n",
      "\n",
      "\n",
      "Both threads are done!\n",
      "\n",
      "(8120, 52055, 2)\n"
     ]
    }
   ],
   "source": [
    "# if __name__ ==\"__main__\":\n",
    "#     t1 = threading.Thread(target=find_lat_lon_GMV3)\n",
    "#     t2 = threading.Thread(target=find_lat_lon_NOM)\n",
    "    \n",
    "#     t1.start()\n",
    "#     t2.start()\n",
    " \n",
    "#     t1.join()\n",
    "#     t2.join()\n",
    " \n",
    "#     # both threads completely executed\n",
    "#     print(f\"\\n\\n\\nBoth threads are done!\\n\\n{nom_tracker,gmv3_tracker,failure_tracker}\")"
   ]
  },
  {
   "cell_type": "code",
   "execution_count": 297,
   "id": "709b1552",
   "metadata": {},
   "outputs": [],
   "source": [
    "la_expanded.loc[la_expanded['location']=='85th st & central','coords'] = '33.960799, -118.256405'\n",
    "la_expanded.loc[la_expanded['location']=='1900 franklin','coords'] = '34.101071, -118.275197'"
   ]
  },
  {
   "cell_type": "code",
   "execution_count": 298,
   "id": "d74de2e7",
   "metadata": {},
   "outputs": [],
   "source": [
    "la_expanded.to_csv('la_lat_lon_expanded.csv',index=False)"
   ]
  },
  {
   "cell_type": "code",
   "execution_count": 299,
   "id": "172b4e9c",
   "metadata": {},
   "outputs": [
    {
     "data": {
      "text/plain": [
       "34.0601079 , -118.2761598           893\n",
       "33.9601319 , -118.2827255           716\n",
       "34.0493961 , -118.2598891           627\n",
       "34.0280561 , -118.2193901           574\n",
       "34.22142669999999 , -118.4677605    544\n",
       "                                   ... \n",
       "33.9544406 , -118.2782172             1\n",
       "34.2084032 , -118.5273606             1\n",
       "33.8102334 , -118.3085036             1\n",
       "33.9891935 , -118.2140624             1\n",
       "34.0402935 , -118.4633341             1\n",
       "Name: coords, Length: 31264, dtype: int64"
      ]
     },
     "execution_count": 299,
     "metadata": {},
     "output_type": "execute_result"
    }
   ],
   "source": [
    "test_df = pd.read_csv('la_lat_lon_expanded.csv')\n",
    "test_df['coords'].value_counts()"
   ]
  },
  {
   "cell_type": "code",
   "execution_count": null,
   "id": "cb4bf801",
   "metadata": {},
   "outputs": [],
   "source": []
  }
 ],
 "metadata": {
  "kernelspec": {
   "display_name": "VOD",
   "language": "python",
   "name": "vod"
  },
  "language_info": {
   "codemirror_mode": {
    "name": "ipython",
    "version": 3
   },
   "file_extension": ".py",
   "mimetype": "text/x-python",
   "name": "python",
   "nbconvert_exporter": "python",
   "pygments_lexer": "ipython3",
   "version": "3.10.6"
  }
 },
 "nbformat": 4,
 "nbformat_minor": 5
}
