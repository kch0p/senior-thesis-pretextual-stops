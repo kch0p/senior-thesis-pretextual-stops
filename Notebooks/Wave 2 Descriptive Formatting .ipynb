{
 "cells": [
  {
   "cell_type": "code",
   "execution_count": 25,
   "id": "28f88b15",
   "metadata": {},
   "outputs": [],
   "source": [
    "import pandas as pd\n",
    "import numpy as np\n",
    "import os\n",
    "from glob import glob\n",
    "import numpy as np\n",
    "import matplotlib.pyplot as plt\n",
    "import time\n",
    "\n",
    "pd.set_option('display.max_columns', None) "
   ]
  },
  {
   "cell_type": "code",
   "execution_count": 2,
   "id": "bf93c5c5",
   "metadata": {},
   "outputs": [],
   "source": [
    "# RIPA_factors = 'ORI number\\nDate, time, and duration of the stop\\nLocation of stop\\nPerceived race or ethnicity of person stopped\\nPerceived gender of person stopped\\nPerson stopped perceived to be LGBT\\nPerceived age of person stopped\\nPerson stopped has limited or no English fluency\\nPerceived or known disability or person stopped\\nReason for stop\\nStop made in response to a call for service\\nActions taken by officer during stop\\nResults of stop\\nOfficer’s Identification (ID) Number\\nOfficer’s years of experience\\nType of assignment of officer'\n",
    "# RIPA_cols_to_keep = RIPA_factors.splitlines"
   ]
  },
  {
   "cell_type": "code",
   "execution_count": 3,
   "id": "5b46c60d",
   "metadata": {},
   "outputs": [],
   "source": [
    "# RIPA_cols_to_keep"
   ]
  },
  {
   "cell_type": "markdown",
   "id": "78222fc9",
   "metadata": {},
   "source": [
    "# WAVE 2"
   ]
  },
  {
   "cell_type": "markdown",
   "id": "315f0f7d",
   "metadata": {},
   "source": [
    "## Long Beach PD"
   ]
  },
  {
   "cell_type": "code",
   "execution_count": 4,
   "id": "37c4c59d",
   "metadata": {
    "scrolled": false
   },
   "outputs": [
    {
     "name": "stdout",
     "output_type": "stream",
     "text": [
      "/Users/karatechop\n"
     ]
    }
   ],
   "source": [
    "cd"
   ]
  },
  {
   "cell_type": "code",
   "execution_count": 5,
   "id": "95a18412",
   "metadata": {
    "scrolled": true
   },
   "outputs": [
    {
     "name": "stdout",
     "output_type": "stream",
     "text": [
      "/Users/karatechop/Documents/GitHub/senior-thesis-pretextual-stops/Data/RIPA-DATA-CA-as-of-2022 (CSV)/Wave 2/Long Beach Police Dept\n"
     ]
    }
   ],
   "source": [
    "cd '/Users/karatechop/Documents/GitHub/senior-thesis-pretextual-stops/Data/RIPA-DATA-CA-as-of-2022 (CSV)/Wave 2/Long Beach Police Dept'"
   ]
  },
  {
   "cell_type": "code",
   "execution_count": 11,
   "id": "69d5c9d7",
   "metadata": {},
   "outputs": [
    {
     "name": "stdout",
     "output_type": "stream",
     "text": [
      "ALL-LBPD-AB953.csv\r\n",
      "Police Stop Data (RIPA) — datalongbeach.webloc\r\n",
      "lbpd-ripa-data-annual.csv\r\n"
     ]
    }
   ],
   "source": [
    "ls"
   ]
  },
  {
   "cell_type": "code",
   "execution_count": 6,
   "id": "1e8ef467",
   "metadata": {},
   "outputs": [
    {
     "name": "stderr",
     "output_type": "stream",
     "text": [
      "/var/folders/td/yc8lq2qx2ks3ck292tbf6wtm0000gn/T/ipykernel_39784/1118086698.py:1: DtypeWarning: Columns (9) have mixed types. Specify dtype option on import or set low_memory=False.\n",
      "  lb19_20 = pd.read_csv('lbpd-ripa-data-annual.csv')\n"
     ]
    },
    {
     "data": {
      "text/plain": [
       "Index(['Stop ID', 'Person ID', 'Stop Date', 'Stop Time', 'Stop Duration',\n",
       "       'Stop In Response To CFS', 'Block Number', 'Street', 'Intersection',\n",
       "       'Highway Exit', 'Landmark', 'City', 'Is School', 'School Name',\n",
       "       'Is Student', 'Perceived Age', 'Perceived Gender',\n",
       "       'Gender Non-conforming', 'Perceived LGBT', 'Perceived Limited English',\n",
       "       'Actions Taken', 'Num Actions Taken', 'Did Consent for Person Search',\n",
       "       'Did Consent for Property Search', 'Perceived Races',\n",
       "       'Num Perceived Races', 'Perceived Race Simplified',\n",
       "       'All Basis for Search', 'All Basis for Property Seized',\n",
       "       'All Contrabands or Evidences', 'Number of Contrabands/Evidences',\n",
       "       'All Disabilities', 'Number of Disabilities',\n",
       "       'All Property Types Seized', 'Number of Property Types Seized',\n",
       "       'All Reasons for Stop', 'All Reasons for Stop Description',\n",
       "       'All Reasons for Stop Code', 'All Reasons for Stop Code Text',\n",
       "       'All Reason for Stop Detail', 'Number of Reasons for Stop',\n",
       "       'Reason for Stop Simplified', 'All Results of Stop',\n",
       "       'All Result of Stop Codes', 'All Result of Stop Code Text',\n",
       "       'Result of Stop Simplified', 'Was Person Detained', 'Was Action Taken',\n",
       "       'Number of Results of Stop', 'Record Year', 'Stop Hour', 'Time of Day',\n",
       "       'Was Person Handcuffed', 'Was Person or Property Searched',\n",
       "       'Was Person Removed From Vehicle or Not', 'Stop Result in Arrest',\n",
       "       'Stop Result in Citation', 'Stop Result in Warning'],\n",
       "      dtype='object')"
      ]
     },
     "execution_count": 6,
     "metadata": {},
     "output_type": "execute_result"
    }
   ],
   "source": [
    "lb19_20 = pd.read_csv('lbpd-ripa-data-annual.csv')\n",
    "lb19_20.columns"
   ]
  },
  {
   "cell_type": "code",
   "execution_count": 13,
   "id": "f79324e7",
   "metadata": {
    "scrolled": false
   },
   "outputs": [
    {
     "name": "stderr",
     "output_type": "stream",
     "text": [
      "/var/folders/td/yc8lq2qx2ks3ck292tbf6wtm0000gn/T/ipykernel_39784/2861706495.py:113: DtypeWarning: Columns (9) have mixed types. Specify dtype option on import or set low_memory=False.\n",
      "  LBPD = convert_simplify_LB(pd.read_csv(i))\n"
     ]
    },
    {
     "name": "stdout",
     "output_type": "stream",
     "text": [
      "no dropped pid dupes\n",
      "lbpd is done! LBPD shape is (36670, 15)\n",
      "LBPD saved!\n"
     ]
    }
   ],
   "source": [
    "def convert_simplify_LB(df):\n",
    "    i = df\n",
    "    i = i.rename(columns={'Stop ID':'Stop ID',\n",
    "                          'Stop Date':'date',\n",
    "                          'Stop Time':'time',\n",
    "                          'Time of Day':'Time',\n",
    "                          'Stop In Response To CFS':'service call',\n",
    "                          'Stop Duration':'Duration',\n",
    "                          'Stop ID':'Stop ID',\n",
    "                          'Person ID':'PID',\n",
    "                          'Perceived Race Simplified':'race',\n",
    "                          'Perceived Gender':'sex',\n",
    "                          'Perceived Age':'age',\n",
    "                          'All Reason for Stop Detail':'type',\n",
    "                          'All Reasons for Stop':'reason',\n",
    "#                           'Person Primary Reason Suspicion Type Suspicion Type Value':'basis',\n",
    "                          'Actions Taken':'actions taken',\n",
    "                          'All Basis for Search':'search basis',\n",
    "#                           'szrBase':'seizure basis',\n",
    "                          'All Property Types Seized':'property seized',\n",
    "#                           'evid':'evidence',\n",
    "                          'All Results of Stop':'result',\n",
    "                          'All Result of Stop Code Text':'offense code',\n",
    "                          'Is Student':'student',\n",
    "                          'Block Number':'location'})\n",
    "\n",
    "    i = i[(i['service call']!='Yes')\\\n",
    "          & ((i['type']=='Moving Violation') | (i['type']=='Equipment Violation') | (i['type']=='Non-moving Violation, including Registration Violation'))\\\n",
    "          &  (i['reason']=='Traffic Violation')\\\n",
    "          &  (i['student']!='Yes')]\n",
    "\n",
    "    i.loc[i['type'] == 'Moving Violation','type'] = '1 Moving'\n",
    "    i.loc[i['type'] == 'Equipment Violation','type'] = '2 Equipment'\n",
    "    i.loc[i['type'] == 'Non-moving Violation, including Registration Violation','type'] = '3 Non-Moving'\n",
    "    \n",
    "    \n",
    "    try:     \n",
    "        i.loc[i['race'] == '1','race'] = 'asian'\n",
    "        i.loc[i['race'] == '2','race'] = 'black/african american'\n",
    "        i.loc[i['race'] == '3','race'] = 'hispanic/latino(a)'\n",
    "        i.loc[i['race'] == '4','race'] = 'middle eastern or south asian'\n",
    "        i.loc[i['race'] == '5','race'] = 'native american'\n",
    "        i.loc[i['race'] == '6','race'] = 'pacific islander'\n",
    "        i.loc[i['race'] == '7','race'] = 'white'\n",
    "        i.loc[i['race'] == 1,'race'] = 'asian'\n",
    "        i.loc[i['race'] == 2,'race'] = 'black/african american'\n",
    "        i.loc[i['race'] == 3,'race'] = 'hispanic/latino(a)'\n",
    "        i.loc[i['race'] == 4,'race'] = 'middle eastern or south asian'\n",
    "        i.loc[i['race'] == 5,'race'] = 'native american'\n",
    "        i.loc[i['race'] == 6,'race'] = 'pacific islander'\n",
    "        i.loc[i['race'] == 7,'race'] = 'white'\n",
    "    except: \n",
    "        print('race switch failed')\n",
    "        pass\n",
    "    \n",
    "    try: #mixed list type 1\n",
    "        mixed_list = []\n",
    "        for check in i['race']:\n",
    "            if len(check.split(','))>1:\n",
    "                mixed_list.append('mixed')\n",
    "            else: \n",
    "                mixed_list.append(check)\n",
    "        i['race'] = mixed_list\n",
    "        i['race'] = i['race'].str.lower()\n",
    "    except:\n",
    "        try: #mixed list type 2\n",
    "            mixed_list = []\n",
    "            for check in i['race']:\n",
    "                if len(check.split('or'))>1:\n",
    "                    mixed_list.append(check.split('or')[0].replace(' ',''))\n",
    "                else: \n",
    "                    mixed_list.append(check)\n",
    "            i['race'] = mixed_list\n",
    "            i['race'] = i['race'].str.lower()\n",
    "        except:    \n",
    "            print('no mixed race changes')\n",
    "            pass\n",
    "\n",
    "    \n",
    "#     try:\n",
    "#         i['Date'] = pd.to_datetime(i['Date'])\n",
    "#         i['Time'] = i['Date'].dt.time\n",
    "#     except: \n",
    "#         try: \n",
    "#             i['Time'] = i['Date'].dt.time\n",
    "#         except:\n",
    "#             print('no time changes')\n",
    "#             pass\n",
    "\n",
    "    \n",
    "    try: \n",
    "        i = i.drop_duplicates(subset=['stop_id'], keep='first')\n",
    "    except: \n",
    "        print('no dropped pid dupes')\n",
    "        pass\n",
    "    \n",
    "    \n",
    "    output_df = i[['date', 'time','Stop ID','Duration','PID','race', 'sex','age','type',\n",
    "                   'reason', 'actions taken', 'search basis','property seized', \n",
    "                   'result','location']]\n",
    "#     'basis','seizure basis','evidence','basis','Experience'\n",
    "\n",
    "    return output_df\n",
    "\n",
    "\n",
    "import glob\n",
    "path = os.getcwd()\n",
    "files = glob.glob(path + \"/*.csv\")\n",
    "\n",
    "\n",
    "for i in files: \n",
    "    if 'AB953' not in i:\n",
    "        LBPD = convert_simplify_LB(pd.read_csv(i))\n",
    "        print(f'lbpd is done! LBPD shape is {LBPD.shape}')\n",
    "LBPD.to_csv('ALL-LBPD-AB953.csv',index=False)\n",
    "print('LBPD saved!')"
   ]
  },
  {
   "cell_type": "markdown",
   "id": "30be665d",
   "metadata": {},
   "source": [
    "## Oakland PD"
   ]
  },
  {
   "cell_type": "code",
   "execution_count": 113,
   "id": "8362d7d8",
   "metadata": {
    "scrolled": true
   },
   "outputs": [
    {
     "name": "stdout",
     "output_type": "stream",
     "text": [
      "/Users/karatechop\n"
     ]
    }
   ],
   "source": [
    "cd"
   ]
  },
  {
   "cell_type": "code",
   "execution_count": 114,
   "id": "e5864999",
   "metadata": {
    "scrolled": true
   },
   "outputs": [
    {
     "name": "stdout",
     "output_type": "stream",
     "text": [
      "/Users/karatechop/Documents/GitHub/senior-thesis-pretextual-stops/Data/RIPA-DATA-CA-as-of-2022 (CSV)/Wave 2/Oakland PD\n"
     ]
    }
   ],
   "source": [
    "cd '/Users/karatechop/Documents/GitHub/senior-thesis-pretextual-stops/Data/RIPA-DATA-CA-as-of-2022 (CSV)/Wave 2/Oakland PD'"
   ]
  },
  {
   "cell_type": "code",
   "execution_count": 115,
   "id": "118d0110",
   "metadata": {},
   "outputs": [
    {
     "name": "stdout",
     "output_type": "stream",
     "text": [
      "ALL-OAKLAND_PD-AB953.csv\r\n",
      "Cleaned-Stop-Data-2021-for-PRR-Requests(1).csv\r\n",
      "Q1-2022-Stop-Data-for-PRRs-and-Website.csv\r\n",
      "Q2-Stop-Data-Cleaned.csv\r\n",
      "Stop_Data_for_Release_Jan_2017_to_Feb_2021_1_2.csv\r\n"
     ]
    }
   ],
   "source": [
    "ls"
   ]
  },
  {
   "cell_type": "code",
   "execution_count": 116,
   "id": "8fbe1208",
   "metadata": {
    "scrolled": true
   },
   "outputs": [],
   "source": [
    "import warnings\n",
    "warnings.filterwarnings(\"ignore\") \n",
    "\n",
    "oak17_21 = pd.read_csv('Stop_Data_for_Release_Jan_2017_to_Feb_2021_1_2.csv').sort_values(by=['contactdate'])\n",
    "\n",
    "oak21 = pd.concat([pd.read_csv('Q2-Stop-Data-Cleaned.csv'),\n",
    "                   pd.read_csv('Q2-Stop-Data-Cleaned.csv')])"
   ]
  },
  {
   "cell_type": "code",
   "execution_count": 117,
   "id": "ce2435ad",
   "metadata": {},
   "outputs": [
    {
     "data": {
      "text/plain": [
       "Black/African American           3026\n",
       "Hispanic/Latino(a)               1794\n",
       "White                             766\n",
       "Asian                             212\n",
       "Middle Eastern or South Asian     102\n",
       "MultiRacial                        70\n",
       "Pacific Islander                   54\n",
       "Native American                     2\n",
       "Name: perceived_race_AB953, dtype: int64"
      ]
     },
     "execution_count": 117,
     "metadata": {},
     "output_type": "execute_result"
    }
   ],
   "source": [
    "oak21['perceived_race_AB953'].value_counts()"
   ]
  },
  {
   "cell_type": "code",
   "execution_count": 118,
   "id": "3ef0358b",
   "metadata": {},
   "outputs": [],
   "source": [
    "oak21['Datetime'] = pd.to_datetime(oak21['contactdate'].astype(str) + ' ' + oak21['contacttime'].astype(str))\n",
    "oak21['contactdate'] = oak21['Datetime'].dt.date\n",
    "# oak21['contacttime_FIX'] = oak21['Datetime'].dt.time\n",
    "\n",
    "oak17_21['Datetime'] = pd.to_datetime(oak17_21['contactdate'].astype(str) + ' ' + oak17_21['contacttime_FIX'].astype(str))\n",
    "oak17_21['contactdate'] = oak17_21['Datetime'].dt.date\n",
    "# oak17_21['contacttime_FIX'] = oak17_21['Datetime'].dt.time"
   ]
  },
  {
   "cell_type": "code",
   "execution_count": 119,
   "id": "6746a816",
   "metadata": {
    "scrolled": false
   },
   "outputs": [
    {
     "name": "stdout",
     "output_type": "stream",
     "text": [
      "no dropped pid dupes\n"
     ]
    },
    {
     "data": {
      "text/plain": [
       "(1302, 18)"
      ]
     },
     "execution_count": 119,
     "metadata": {},
     "output_type": "execute_result"
    }
   ],
   "source": [
    "def convert_simplify_OAK21(df):\n",
    "    i = df\n",
    "    i = i.rename(columns={'casenumber':'Stop ID',\n",
    "                          'contactdate':'date',\n",
    "                          'contacttime':'time',\n",
    "                          'assignmenttype_AB953':'assignment',\n",
    "                          'experienceyears_AB953':'Experience',\n",
    "                          'intelligenceled':'service call',\n",
    "                          'Student':'student',\n",
    "                          'intelligenceledfactor':'service call',\n",
    "                          'Stop Duration':'Duration',\n",
    "                          'subject_durationofencounter':'Duration',\n",
    "                          'Stop ID':'Stop ID',\n",
    "                          'Person ID':'PID',\n",
    "                          'perceived_race_AB953':'race',\n",
    "                          'RacePerceivedPrior':'race perceived prior',\n",
    "                          'perceived_gender_AB953':'sex',\n",
    "                          'perceived_age_AB953':'age',\n",
    "                          'TypeTraffic_AB953':'type',\n",
    "                          'TypeTraffic_detail_AB953':'type',\n",
    "                          'ReasonForStop':'reason',\n",
    "#                           'subject_reasonforencounter_AB953':'reason',\n",
    "#                           'suspicion_type_AB953':'basis',\n",
    "                          'stop_relatedactions_AB953':'actions taken',\n",
    "                          'SearchBasis_AB953':'search basis',\n",
    "                          'BasisForSeizure_AB953':'seizure basis',\n",
    "                          'PropertySeized_detail_AB953':'property seized',\n",
    "                          'EvidDisc_detail_AB953':'evidence',\n",
    "                          'resultofstop_OPD':'result',\n",
    "                          'blocknumber':'location'})\n",
    "\n",
    "    i[['property seized', 'result', 'Experience', 'evidence']]   = '' \n",
    "\n",
    "    i = i[i['reason']=='Traffic Violation']\n",
    "    \n",
    "    try:\n",
    "        i = i[i['student']!=1]\n",
    "    except:\n",
    "        print('no student')\n",
    "        pass\n",
    "\n",
    "    i.loc[i['type'] == 'Moving Violation','type'] = '1 Moving'\n",
    "    i.loc[i['type'] == 'Equipment Violation','type'] = '2 Equipment'\n",
    "    i.loc[i['type'] == 'Non-moving Violation, including Registration Violation','type'] = '3 Non-Moving'\n",
    "    \n",
    "    \n",
    "    \n",
    "\n",
    "    \n",
    "    try:     \n",
    "        i.loc[i['race'] == '1','race'] = 'asian'\n",
    "        i.loc[i['race'] == '2','race'] = 'black/african american'\n",
    "        i.loc[i['race'] == '3','race'] = 'hispanic/latino(a)'\n",
    "        i.loc[i['race'] == '4','race'] = 'middle eastern or south asian'\n",
    "        i.loc[i['race'] == '5','race'] = 'native american'\n",
    "        i.loc[i['race'] == '6','race'] = 'pacific islander'\n",
    "        i.loc[i['race'] == '7','race'] = 'white'\n",
    "        i.loc[i['race'] == 1,'race'] = 'asian'\n",
    "        i.loc[i['race'] == 2,'race'] = 'black/african american'\n",
    "        i.loc[i['race'] == 3,'race'] = 'hispanic/latino(a)'\n",
    "        i.loc[i['race'] == 4,'race'] = 'middle eastern or south asian'\n",
    "        i.loc[i['race'] == 5,'race'] = 'native american'\n",
    "        i.loc[i['race'] == 6,'race'] = 'pacific islander'\n",
    "        i.loc[i['race'] == 7,'race'] = 'white'\n",
    "    except: \n",
    "        print('race switch failed')\n",
    "        pass\n",
    " \n",
    "    \n",
    "\n",
    "    try: \n",
    "        i = i.drop_duplicates(subset=['stop_id'], keep='first')\n",
    "    except: \n",
    "        print('no dropped pid dupes')\n",
    "        pass\n",
    "    \n",
    "    \n",
    "    output_df = i[['date', 'time','Stop ID','Duration','race', 'sex','age','type',\n",
    "                   'reason', 'actions taken', 'search basis','property seized', 'race perceived prior',\n",
    "                   'result','Experience','seizure basis','evidence','location']]\n",
    "#     'basis','seizure basis','evidence'\n",
    "\n",
    "    return output_df\n",
    "\n",
    "OAK_21 = convert_simplify_OAK21(oak21)\n",
    "OAK_21.shape"
   ]
  },
  {
   "cell_type": "code",
   "execution_count": 120,
   "id": "e411d78d",
   "metadata": {},
   "outputs": [],
   "source": [
    "OAK_21['race'] = [race_str.lower() for race_str in OAK_21['race']]"
   ]
  },
  {
   "cell_type": "code",
   "execution_count": 122,
   "id": "1fe2db77",
   "metadata": {
    "scrolled": false
   },
   "outputs": [
    {
     "name": "stdout",
     "output_type": "stream",
     "text": [
      "no student\n",
      "at least one race switch\n",
      "no dropped pid dupes\n",
      "black/african american           5956\n",
      "hispanic/latino(a)               3240\n",
      "white                            1451\n",
      "asian                             725\n",
      "middle eastern or south asian     424\n",
      "mixed                             143\n",
      "pacific islander                   80\n",
      "native american                     2\n",
      "Name: race, dtype: int64\n",
      "(13323, 18)\n",
      "save successful\n"
     ]
    }
   ],
   "source": [
    "def convert_simplify_OAK17(df):\n",
    "    i = df\n",
    "    i = i.rename(columns={'Unique ID':'stop iD',\n",
    "                          'contactdate':'date',\n",
    "                          'contacttime_FIX':'time',\n",
    "                          'assignmenttype_AB953':'assignment',\n",
    "                          'experienceyears_AB953':'experience',\n",
    "                          'intelligenceledfactor':'service call',\n",
    "                          'Student':'student',\n",
    "                          'intelligenceledfactor':'service call',\n",
    "                          'subject_durationofencounter_FIX':'duration',\n",
    "                          'subject_durationofencounter_FIX':'duration',\n",
    "                          'Stop ID':'Stop ID',\n",
    "                          'Person ID':'PID',\n",
    "                          'perceived_race_AB953':'race',\n",
    "                          'RacePerceivedPrior':'race perceived prior',\n",
    "                          'perceived_sex_AB953':'sex',\n",
    "                          'perceived_age_AB953':'age',\n",
    "                          'TypeTraffic_detail_AB953':'type',\n",
    "                          'TypeTraffic_detail_AB953':'type',\n",
    "                          'ReasonForStop_OPD':'reason',\n",
    "#                           'subject_reasonforencounter_AB953':'reason',\n",
    "#                           'suspicion_type_AB953':'basis',\n",
    "                          'stop_relatedactions_AB953':'actions taken',\n",
    "                          'SearchBasis_detail_AB953':'search basis',\n",
    "                          'BasisForPropertySeizure_AB953':'seizure basis',\n",
    "                          'PropertySeized_detail_AB953':'property seized',\n",
    "                          'EvidDisc_detail_AB953':'evidence',\n",
    "                          'resultofstop_OPD':'result',\n",
    "                          'blocknumber_EDIT':'location'})\n",
    "\n",
    "    i = i[(i['reason']=='Traffic Violation')\\\n",
    "            & (i['assignment']=='Patrol, traffic enforcement, field operations')]\n",
    "    \n",
    "    try:\n",
    "        i = i[i['student']!=1]\n",
    "    except:\n",
    "        print('no student')\n",
    "        pass\n",
    "\n",
    "    i.loc[i['type'] == 'Moving Violation','type'] = '1 Moving'\n",
    "    i.loc[i['type'] == 'Equipment Violation','type'] = '2 Equipment'\n",
    "    i.loc[i['type'] == 'Non-moving Violation, including Registration Violation','type'] = '3 Non-Moving'\n",
    "    \n",
    "    race_list = []\n",
    "    for race in i['race']:\n",
    "        try:\n",
    "            if len(race)>2:\n",
    "                race_list.append('mixed')\n",
    "            else:\n",
    "                race_list.append(race)\n",
    "        except:\n",
    "            try:\n",
    "                race_str = race.str.replace(',','')\n",
    "                race_list.append(race_str)\n",
    "            except:\n",
    "                    race_list.append(race)\n",
    "    \n",
    "\n",
    "    \n",
    "    i['race'] = race_list\n",
    "    i['race'] = i['race'].replace(',','', regex=True)\n",
    "    \n",
    "\n",
    "    \n",
    "    i['race'] = [race_str.lower() for race_str in i['race']]\n",
    "    \n",
    "    try:     \n",
    "        i.loc[i['race'] == '1','race'] = 'asian'\n",
    "        i.loc[i['race'] == '2','race'] = 'black/african american'\n",
    "        i.loc[i['race'] == '3','race'] = 'hispanic/latino(a)'\n",
    "        i.loc[i['race'] == '4','race'] = 'middle eastern or south asian'\n",
    "        i.loc[i['race'] == '5','race'] = 'native american'\n",
    "        i.loc[i['race'] == '6','race'] = 'pacific islander'\n",
    "        i.loc[i['race'] == '7','race'] = 'white'\n",
    "        i.loc[i['race'] == 1,'race'] = 'asian'\n",
    "        i.loc[i['race'] == 2,'race'] = 'black/african american'\n",
    "        i.loc[i['race'] == 3,'race'] = 'hispanic/latino(a)'\n",
    "        i.loc[i['race'] == 4,'race'] = 'middle eastern or south asian'\n",
    "        i.loc[i['race'] == 5,'race'] = 'native american'\n",
    "        i.loc[i['race'] == 6,'race'] = 'pacific islander'\n",
    "        i.loc[i['race'] == 7,'race'] = 'white'\n",
    "        i.loc[i['race'] == 'asian','race'] = 'asian'\n",
    "        i.loc[i['race'] == 'hispanic','race'] = 'hispanic/latino(a)'\n",
    "        i.loc[i['race'] == 'afr american','race'] = 'middle eastern or south asian'\n",
    "        print('at least one race switch')\n",
    "    except: \n",
    "        print('race switch failed')\n",
    "        pass\n",
    " \n",
    "    \n",
    "    try: \n",
    "        i = i.drop_duplicates(subset=['stop_id'], keep='first')\n",
    "    except: \n",
    "        print('no dropped pid dupes')\n",
    "        pass\n",
    "    \n",
    "    i['race'] = i['race']\n",
    "    print(i['race'].value_counts())\n",
    "\n",
    "    output_df = i[['date','time', 'race', 'sex','age','type',\n",
    "                   'reason', 'actions taken', 'search basis','property seized', 'race perceived prior',\n",
    "                   'result','seizure basis','evidence','location']]\n",
    "#     'basis','seizure basis','evidence'\n",
    "\n",
    "    return output_df\n",
    "\n",
    "\n",
    "OAKLAND = pd.concat([OAK_21,convert_simplify_OAK17(oak17_21)],axis=0)\n",
    "print(OAKLAND.shape)\n",
    "OAKLAND.to_csv('ALL-OAKLAND_PD-AB953.csv',index=False)\n",
    "print('save successful')"
   ]
  },
  {
   "cell_type": "markdown",
   "id": "99255a3c",
   "metadata": {},
   "source": [
    "## SJPD"
   ]
  },
  {
   "cell_type": "code",
   "execution_count": 127,
   "id": "fb6a54ec",
   "metadata": {
    "scrolled": true
   },
   "outputs": [
    {
     "name": "stdout",
     "output_type": "stream",
     "text": [
      "/Users/karatechop\n"
     ]
    }
   ],
   "source": [
    "cd"
   ]
  },
  {
   "cell_type": "code",
   "execution_count": 128,
   "id": "d1ab3a8d",
   "metadata": {
    "scrolled": false
   },
   "outputs": [
    {
     "name": "stdout",
     "output_type": "stream",
     "text": [
      "/Users/karatechop/Documents/GitHub/senior-thesis-pretextual-stops/Data/RIPA-DATA-CA-as-of-2022 (CSV)/Wave 2/SJPD CAU (Crime Analysis Unit)\n"
     ]
    }
   ],
   "source": [
    "cd '/Users/karatechop/Documents/GitHub/senior-thesis-pretextual-stops/Data/RIPA-DATA-CA-as-of-2022 (CSV)/Wave 2/SJPD CAU (Crime Analysis Unit)'"
   ]
  },
  {
   "cell_type": "code",
   "execution_count": 129,
   "id": "34f7bc78",
   "metadata": {},
   "outputs": [
    {
     "name": "stdout",
     "output_type": "stream",
     "text": [
      "ALL-SJPD-AB953.csv\r\n",
      "Attachment_1-_2019_RIPA(1).csv\r\n",
      "Attachment_3-_AB_953_Technical_Data_Dictionary-EXTERNAL.xlsx\r\n",
      "Attachment_4-_2020_RIPA-_Updated.csv\r\n",
      "Attachment_5-_2021_RIPA(1).csv\r\n",
      "\u001b[34moriginal\u001b[m\u001b[m/\r\n"
     ]
    }
   ],
   "source": [
    "ls"
   ]
  },
  {
   "cell_type": "code",
   "execution_count": 138,
   "id": "8b36d6ed",
   "metadata": {},
   "outputs": [
    {
     "name": "stdout",
     "output_type": "stream",
     "text": [
      "['BLOCKED LOCATION' 'Is Location a K-12 Public School'\n",
      " 'LOCATION_BLOCK ADDRESS' 'LOCATION']\n"
     ]
    }
   ],
   "source": [
    "import os\n",
    "from glob import glob\n",
    "\n",
    "PATH = os.getcwd()\n",
    "EXT = \"*.csv\"\n",
    "\n",
    "cols =[]\n",
    "for path, subdir, files in os.walk(PATH):\n",
    "    for file in glob(os.path.join(path, EXT)):\n",
    "        df = pd.read_csv(file, index_col=None)\n",
    "        \n",
    "        for col in df.columns:\n",
    "            cols.append(col)\n",
    "                \n",
    "print(pd.unique([match for match in cols if 'location' in match.lower()]))"
   ]
  },
  {
   "cell_type": "code",
   "execution_count": 157,
   "id": "9848718a",
   "metadata": {},
   "outputs": [
    {
     "name": "stdout",
     "output_type": "stream",
     "text": [
      "no dropped pid dupes\n",
      "starting SJPD is (14945, 10)\n",
      "no dropped pid dupes\n",
      "sj was (23233, 10)\n",
      "sj is merged! SJ shape is now (38178, 10)\n",
      "no dropped pid dupes\n",
      "sj was (12265, 10)\n",
      "sj is merged! SJ shape is now (50443, 10)\n",
      "\n",
      "final saved!\n"
     ]
    }
   ],
   "source": [
    "import glob\n",
    "def convert_simplify_SJ(df):\n",
    "    i = df\n",
    "    i = i.rename(columns={'StopDateTime':'time',\n",
    "                          'StopDate':'date',\n",
    "                          'Date of Stop':'date',\n",
    "                          'StopDateTime':'time',\n",
    "                          'stopTime':'time',\n",
    "                          'Time of Stop':'time',\n",
    "                          \n",
    "                          'officerAssignment_type':'assignment',\n",
    "                          'Officer Type of Assignment':'assignment',\n",
    "                          \n",
    "                          'Is Stop Made in Response to Call for Service':'service call',\n",
    "                          'stopInResponseToCFS':'service call',\n",
    "                          \n",
    "                          'stopDuration':'duration',\n",
    "                          'Duration of Stop':'duration',\n",
    "                          \n",
    "                          'PID':'PID',\n",
    "                          \n",
    "                          'Perceived Race or Ethnicity':'race',\n",
    "                          'Person Perceived Gender Value':'sex',\n",
    "                          'Perceived Gender 1-4':'sex',\n",
    "                          'perceivedAge':'age',\n",
    "                          'Perceived Age':'age',\n",
    "                          \n",
    "                          'Traffic Violation Type':'type',\n",
    "                          \n",
    "                          'Reason for Stop':'reason',\n",
    "                          'Suspicion Sub-Type':'basis',\n",
    "                          'Actions Taken':'actions taken',\n",
    "                          \n",
    "                          'Basis for Search':'search basis',\n",
    "                          'Basis for Property Seizure':'seizure basis',\n",
    "                          'Type of Property Seized':'property seized',\n",
    "                          'Contraband or Evidence':'evidence',\n",
    "                          \n",
    "                          'Results of Stop':'result',\n",
    "                          'Traffic Violation - CJIS Offense Code':'offense code',\n",
    "                          \n",
    "                          'isStudent':'student',\n",
    "                          'Is Serv Call':'service call',\n",
    "                          'LOCATION':'location',\n",
    "                          'BLOCKED LOCATION':'location',\n",
    "                          'LOCATION_BLOCK ADDRESS':'location'})\n",
    "\n",
    "    i = i[(i['service call']!='Y')\\\n",
    "          & (i['assignment']==1)\\\n",
    "          & ((i['type']==1) | (i['type']==2) | (i['type']==3))\\\n",
    "          &  (i['reason']==1)]\n",
    "\n",
    "    i.loc[i['type'] == 1,'type'] = '1 Moving'\n",
    "    i.loc[i['type'] == 2,'type'] = '2 Equipment'\n",
    "    i.loc[i['type'] == 3,'type'] = '3 Non-Moving'\n",
    "    \n",
    "    \n",
    "    race_list = []\n",
    "    for race in i['race']:\n",
    "        try:\n",
    "            if len(race)>2:\n",
    "                race_list.append('mixed')\n",
    "            else:\n",
    "                race_list.append(race)\n",
    "        except:\n",
    "            try:\n",
    "                race_str = race.str.replace(',','')\n",
    "                race_list.append(race_str)\n",
    "            except:\n",
    "                    race_list.append(race)\n",
    "    \n",
    "\n",
    "    \n",
    "    i['race'] = race_list\n",
    "    i['race'] = i['race'].replace(',','', regex=True)\n",
    "    \n",
    "\n",
    "    \n",
    "    try:     \n",
    "        i.loc[i['race'] == '1','race'] = 'asian'\n",
    "        i.loc[i['race'] == '2','race'] = 'black/african american'\n",
    "        i.loc[i['race'] == '3','race'] = 'hispanic/latino(a)'\n",
    "        i.loc[i['race'] == '4','race'] = 'middle eastern or south asian'\n",
    "        i.loc[i['race'] == '5','race'] = 'native american'\n",
    "        i.loc[i['race'] == '6','race'] = 'pacific islander'\n",
    "        i.loc[i['race'] == '7','race'] = 'white'\n",
    "        i.loc[i['race'] == 1,'race'] = 'asian'\n",
    "        i.loc[i['race'] == 2,'race'] = 'black/african american'\n",
    "        i.loc[i['race'] == 3,'race'] = 'hispanic/latino(a)'\n",
    "        i.loc[i['race'] == 4,'race'] = 'middle eastern or south asian'\n",
    "        i.loc[i['race'] == 5,'race'] = 'native american'\n",
    "        i.loc[i['race'] == 6,'race'] = 'pacific islander'\n",
    "        i.loc[i['race'] == 7,'race'] = 'white'\n",
    "    except: \n",
    "        print('race switch failed')\n",
    "        pass\n",
    " \n",
    "    i['location'] = i['location'].astype(str)\n",
    "    i['location'] = [location.lower() for location in i['location']]\n",
    "    \n",
    "#     try:\n",
    "#         i['Date'] = pd.to_datetime(i['Date'])\n",
    "#         i['Time'] = i['Date'].dt.time\n",
    "#     except: \n",
    "#         try: \n",
    "#             i['Time'] = i['Date'].dt.time\n",
    "#         except:\n",
    "#             print('no time changes')\n",
    "#             pass\n",
    "\n",
    "    \n",
    "    try: \n",
    "        i = i.drop_duplicates(subset=['stop_id'], keep='first')\n",
    "    except: \n",
    "        print('no dropped pid dupes')\n",
    "        pass\n",
    "\n",
    "    output_df = i[['date','time','duration','race', 'sex','age','type','search basis','result','location']]\n",
    "\n",
    "    return output_df\n",
    "\n",
    "\n",
    "###################################################\n",
    "\n",
    "\n",
    "path = os.getcwd()\n",
    "files = glob.glob(path + \"/*.csv\")\n",
    "\n",
    "\n",
    "SJPD = convert_simplify_SJ(pd.read_csv(files[0]))\n",
    "print(f'starting SJPD is {SJPD.shape}')\n",
    "# SJPD.shape\n",
    "\n",
    "for i in files[1:]: \n",
    "    if 'AB953' not in i:\n",
    "        temp_df = convert_simplify_SJ(pd.read_csv(i))\n",
    "        SJPD = pd.merge(SJPD,temp_df,how='outer')\n",
    "\n",
    "        print(f'sj was {temp_df.shape}')\n",
    "        print(f'sj is merged! SJ shape is now {SJPD.shape}')\n",
    "\n",
    "SJPD.to_csv('ALL-SJPD-AB953.csv',index=False)\n",
    "print('\\nfinal saved!')"
   ]
  },
  {
   "cell_type": "code",
   "execution_count": 161,
   "id": "fd730753",
   "metadata": {},
   "outputs": [
    {
     "data": {
      "text/plain": [
       "[10     18012\n",
       " 5      10246\n",
       " 15      4827\n",
       " 20      4082\n",
       " 30      2252\n",
       "        ...  \n",
       " 746        1\n",
       " 88         1\n",
       " 96         1\n",
       " 144        1\n",
       " 270        1\n",
       " Name: duration, Length: 179, dtype: int64,\n",
       " hispanic/latino(a)               17893\n",
       " white                             8441\n",
       " asian                             6765\n",
       " black/african american            2549\n",
       " middle eastern or south asian     2258\n",
       " mixed                              563\n",
       " pacific islander                   264\n",
       " native american                     23\n",
       " Name: race, dtype: int64,\n",
       " 1.0    34472\n",
       " 2.0    15810\n",
       " 4.0       20\n",
       " 3.0       18\n",
       " Name: sex, dtype: int64,\n",
       " 30.0    8098\n",
       " 40.0    6855\n",
       " 25.0    5997\n",
       " 35.0    4366\n",
       " 50.0    3890\n",
       "         ... \n",
       " 6.0        1\n",
       " 98.0       1\n",
       " 81.0       1\n",
       " 88.0       1\n",
       " 84.0       1\n",
       " Name: age, Length: 86, dtype: int64,\n",
       " 1 Moving        31669\n",
       " 2 Equipment     13423\n",
       " 3 Non-Moving     5351\n",
       " Name: type, dtype: int64,\n",
       " 1                  1755\n",
       " 4                   871\n",
       " 1\"\\t2               573\n",
       " 2                   488\n",
       " 1,2                 432\n",
       "                    ... \n",
       " 1\"\\t2\\t6\\t9\\t11       1\n",
       " 2\"\\t5\\t6              1\n",
       " 1\"\\t5\\t10             1\n",
       " 2\"\\t5\\t6\\t12          1\n",
       " 1,2,7,9               1\n",
       " Name: search basis, Length: 379, dtype: int64,\n",
       " 3           27144\n",
       " 2           12554\n",
       " 1            4054\n",
       " 4            3075\n",
       " 6             889\n",
       "             ...  \n",
       " 2\"\\t7\\t9        1\n",
       " 3\\t7\\t9         1\n",
       " 5\"\\t\"7          1\n",
       " 2\"\\t\"5          1\n",
       " 3,5,6,7         1\n",
       " Name: result, Length: 123, dtype: int64,\n",
       " tully/king                       224\n",
       " n winchester blvd/sunny vista    217\n",
       " tully/coconut                    203\n",
       " mckee/capitol                    177\n",
       " story/mclaughlin                 176\n",
       "                                 ... \n",
       " 25th st/e santa clara st           1\n",
       " adrian way/amador dr               1\n",
       " parmer av/e san antonio st         1\n",
       " st james / 31th st                 1\n",
       " camden av/trinidad dr              1\n",
       " Name: location, Length: 22036, dtype: int64]"
      ]
     },
     "execution_count": 161,
     "metadata": {},
     "output_type": "execute_result"
    }
   ],
   "source": [
    "df = SJPD\n",
    "[df[col].value_counts() for col in df.columns[2:]] "
   ]
  },
  {
   "cell_type": "markdown",
   "id": "6ef3b222",
   "metadata": {},
   "source": [
    "### looking for perceived"
   ]
  },
  {
   "cell_type": "code",
   "execution_count": 162,
   "id": "a3a82a54",
   "metadata": {},
   "outputs": [],
   "source": [
    "import warnings\n",
    "warnings.filterwarnings(\"ignore\")"
   ]
  },
  {
   "cell_type": "code",
   "execution_count": 163,
   "id": "c3313b56",
   "metadata": {},
   "outputs": [
    {
     "name": "stdout",
     "output_type": "stream",
     "text": [
      "/Users/karatechop\n"
     ]
    }
   ],
   "source": [
    "cd"
   ]
  },
  {
   "cell_type": "code",
   "execution_count": 164,
   "id": "4163e17b",
   "metadata": {},
   "outputs": [
    {
     "name": "stdout",
     "output_type": "stream",
     "text": [
      "/Users/karatechop/Documents/GitHub/senior-thesis-pretextual-stops/Data/RIPA-DATA-CA-as-of-2022 (CSV)\n"
     ]
    }
   ],
   "source": [
    "cd /Users/karatechop/Documents/GitHub/senior-thesis-pretextual-stops/Data/RIPA-DATA-CA-as-of-2022 (CSV)/"
   ]
  },
  {
   "cell_type": "code",
   "execution_count": 165,
   "id": "4796b3e4",
   "metadata": {},
   "outputs": [
    {
     "name": "stdout",
     "output_type": "stream",
     "text": [
      "All Requests • MuckRock.webloc    data.json\r\n",
      "\u001b[34mIn Progress\u001b[m\u001b[m/                      sunset_times_temp.json\r\n",
      "README.md                         working_main.csv\r\n",
      "\u001b[34mWave 1\u001b[m\u001b[m/                           working_main_expanded.csv\r\n",
      "\u001b[34mWave 2\u001b[m\u001b[m/                           working_times_VOD.csv\r\n",
      "\u001b[34mWaves 3_4\u001b[m\u001b[m/\r\n"
     ]
    }
   ],
   "source": [
    "ls"
   ]
  },
  {
   "cell_type": "code",
   "execution_count": 168,
   "id": "d75fb07b",
   "metadata": {
    "scrolled": false
   },
   "outputs": [],
   "source": [
    "import os\n",
    "from glob import glob\n",
    "\n",
    "PATH = os.getcwd()\n",
    "EXT = \"*.csv\"\n",
    "\n",
    "\n",
    "for path, subdir, files in os.walk(PATH):\n",
    "    for file in glob(os.path.join(path, EXT)):\n",
    "        df = pd.read_csv(file, index_col=None)\n",
    "        \n",
    "        for col in df.columns:\n",
    "            col = col.lower()\n",
    "            if 'prior' in col:\n",
    "                print(f'{col}\\n{file}\\n\\n')\n",
    "                \n",
    "        for col in df.columns:\n",
    "            col = col.lower()\n",
    "            if 'before' in col:\n",
    "                print(f'{col}\\n{file}\\n\\n')\n",
    "        \n",
    "#         print('\\n\\n\\n\\n\\n\\n')\n",
    "                \n",
    "#         for col in df.columns:\n",
    "#             col = col.lower()\n",
    "#             if 'race' in col:\n",
    "#                 print(f'{col}\\n{file}\\n\\n')\n",
    "        "
   ]
  },
  {
   "cell_type": "code",
   "execution_count": null,
   "id": "a88fcf7f",
   "metadata": {},
   "outputs": [],
   "source": []
  }
 ],
 "metadata": {
  "kernelspec": {
   "display_name": "Python 3 (ipykernel)",
   "language": "python",
   "name": "python3"
  },
  "language_info": {
   "codemirror_mode": {
    "name": "ipython",
    "version": 3
   },
   "file_extension": ".py",
   "mimetype": "text/x-python",
   "name": "python",
   "nbconvert_exporter": "python",
   "pygments_lexer": "ipython3",
   "version": "3.10.6"
  }
 },
 "nbformat": 4,
 "nbformat_minor": 5
}
