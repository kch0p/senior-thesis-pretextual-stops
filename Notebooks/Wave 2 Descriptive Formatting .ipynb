{
 "cells": [
  {
   "cell_type": "code",
   "execution_count": 4,
   "id": "28f88b15",
   "metadata": {},
   "outputs": [],
   "source": [
    "import pandas as pd\n",
    "import numpy as np\n",
    "import os\n",
    "from glob import glob\n",
    "import numpy as np\n",
    "import matplotlib.pyplot as plt\n",
    "import time\n",
    "\n",
    "pd.set_option('display.max_columns', None) "
   ]
  },
  {
   "cell_type": "code",
   "execution_count": 5,
   "id": "bf93c5c5",
   "metadata": {},
   "outputs": [],
   "source": [
    "# RIPA_factors = 'ORI number\\nDate, time, and duration of the stop\\nLocation of stop\\nPerceived race or ethnicity of person stopped\\nPerceived gender of person stopped\\nPerson stopped perceived to be LGBT\\nPerceived age of person stopped\\nPerson stopped has limited or no English fluency\\nPerceived or known disability or person stopped\\nReason for stop\\nStop made in response to a call for service\\nActions taken by officer during stop\\nResults of stop\\nOfficer’s Identification (ID) Number\\nOfficer’s years of experience\\nType of assignment of officer'\n",
    "# RIPA_cols_to_keep = RIPA_factors.splitlines"
   ]
  },
  {
   "cell_type": "code",
   "execution_count": 6,
   "id": "5b46c60d",
   "metadata": {},
   "outputs": [],
   "source": [
    "# RIPA_cols_to_keep"
   ]
  },
  {
   "cell_type": "markdown",
   "id": "78222fc9",
   "metadata": {},
   "source": [
    "# WAVE 2"
   ]
  },
  {
   "cell_type": "markdown",
   "id": "315f0f7d",
   "metadata": {},
   "source": [
    "## Long Beach PD"
   ]
  },
  {
   "cell_type": "code",
   "execution_count": 7,
   "id": "37c4c59d",
   "metadata": {
    "scrolled": false
   },
   "outputs": [
    {
     "name": "stdout",
     "output_type": "stream",
     "text": [
      "/Users/karatechop\n"
     ]
    }
   ],
   "source": [
    "cd"
   ]
  },
  {
   "cell_type": "code",
   "execution_count": 8,
   "id": "95a18412",
   "metadata": {
    "scrolled": true
   },
   "outputs": [
    {
     "name": "stdout",
     "output_type": "stream",
     "text": [
      "/Users/karatechop/Documents/GitHub/senior-thesis-pretextual-stops/Data/RIPA-DATA-CA-as-of-2022 (CSV)/Wave 2/Long Beach Police Dept\n"
     ]
    }
   ],
   "source": [
    "cd '/Users/karatechop/Documents/GitHub/senior-thesis-pretextual-stops/Data/RIPA-DATA-CA-as-of-2022 (CSV)/Wave 2/Long Beach Police Dept'"
   ]
  },
  {
   "cell_type": "code",
   "execution_count": 9,
   "id": "1e8ef467",
   "metadata": {},
   "outputs": [
    {
     "name": "stderr",
     "output_type": "stream",
     "text": [
      "/var/folders/td/yc8lq2qx2ks3ck292tbf6wtm0000gn/T/ipykernel_2916/89806601.py:1: DtypeWarning: Columns (9) have mixed types. Specify dtype option on import or set low_memory=False.\n",
      "  lb19_20 = pd.read_csv('lbpd-ripa-data-annual.csv')\n"
     ]
    }
   ],
   "source": [
    "lb19_20 = pd.read_csv('lbpd-ripa-data-annual.csv')\n",
    "# lb19_20.columns"
   ]
  },
  {
   "cell_type": "code",
   "execution_count": 10,
   "id": "f79324e7",
   "metadata": {
    "scrolled": true
   },
   "outputs": [
    {
     "name": "stderr",
     "output_type": "stream",
     "text": [
      "/var/folders/td/yc8lq2qx2ks3ck292tbf6wtm0000gn/T/ipykernel_2916/1345548411.py:64: DtypeWarning: Columns (9) have mixed types. Specify dtype option on import or set low_memory=False.\n",
      "  LBPD = convert_simplify_LB(pd.read_csv(i))\n"
     ]
    },
    {
     "name": "stdout",
     "output_type": "stream",
     "text": [
      "no dropped dupes\n",
      "lbpd is done! LBPD shape is (36670, 14)\n"
     ]
    }
   ],
   "source": [
    "def convert_simplify_LB(df):\n",
    "    i = df\n",
    "    i = i.rename(columns={'Stop ID':'Stop ID',\n",
    "                          'Stop Date':'Date',\n",
    "                          'Time of Day':'Time',\n",
    "                          'Stop In Response To CFS':'service call',\n",
    "                          'Stop Duration':'Duration',\n",
    "                          'Stop ID':'Stop ID',\n",
    "                          'Person ID':'PID',\n",
    "                          'Perceived Race Simplified':'race',\n",
    "                          'Perceived Gender':'sex',\n",
    "                          'Perceived Age':'age',\n",
    "                          'All Reason for Stop Detail':'type',\n",
    "                          'All Reasons for Stop':'reason',\n",
    "#                           'Person Primary Reason Suspicion Type Suspicion Type Value':'basis',\n",
    "                          'Actions Taken':'actions taken',\n",
    "                          'All Basis for Search':'search basis',\n",
    "#                           'szrBase':'seizure basis',\n",
    "                          'All Property Types Seized':'property seized',\n",
    "#                           'evid':'evidence',\n",
    "                          'All Results of Stop':'result',\n",
    "                          'All Result of Stop Code Text':'offense code',\n",
    "                          'Is Student':'student'})\n",
    "\n",
    "    i = i[(i['service call']!='Yes')\\\n",
    "          & ((i['type']=='Moving Violation') | (i['type']=='Equipment Violation') | (i['type']=='Non-moving Violation, including Registration Violation'))\\\n",
    "          &  (i['reason']=='Traffic Violation')\\\n",
    "          &  (i['student']!='Yes')]\n",
    "\n",
    "    i.loc[i['type'] == 'Moving Violation','type'] = '1 Moving'\n",
    "    i.loc[i['type'] == 'Equipment Violation','type'] = '2 Equipment'\n",
    "    i.loc[i['type'] == 'Non-moving Violation, including Registration Violation','type'] = '3 Non-Moving'\n",
    "    \n",
    "    \n",
    "    try:\n",
    "        i['Date'] = pd.to_datetime(i['Date'])\n",
    "    except: \n",
    "        i['Time'] = i['Date'].dt.time\n",
    "        pass\n",
    "\n",
    "    \n",
    "    try: \n",
    "        i = i.drop_duplicates(subset=['stop_id'], keep='first')\n",
    "    except: \n",
    "        print('no dropped dupes')\n",
    "        pass\n",
    "    \n",
    "    \n",
    "    output_df = i[['Date', 'Time','Stop ID','Duration','PID','race', 'sex','age','type',\n",
    "                   'reason', 'actions taken', 'search basis','property seized', \n",
    "                   'result']]\n",
    "#     'basis','seizure basis','evidence','basis','Experience'\n",
    "\n",
    "    return output_df\n",
    "\n",
    "\n",
    "import glob\n",
    "path = os.getcwd()\n",
    "files = glob.glob(path + \"/*.csv\")\n",
    "\n",
    "\n",
    "for i in files: \n",
    "    if 'AB953' not in i:\n",
    "        LBPD = convert_simplify_LB(pd.read_csv(i))\n",
    "        print(f'lbpd is done! LBPD shape is {LBPD.shape}')\n",
    "LBPD.to_csv('ALL-LBPD-AB953.csv',index=False)"
   ]
  },
  {
   "cell_type": "markdown",
   "id": "30be665d",
   "metadata": {},
   "source": [
    "## Oakland PD"
   ]
  },
  {
   "cell_type": "code",
   "execution_count": 6,
   "id": "8362d7d8",
   "metadata": {
    "scrolled": true
   },
   "outputs": [
    {
     "name": "stdout",
     "output_type": "stream",
     "text": [
      "/Users/karatechop\n"
     ]
    }
   ],
   "source": [
    "cd"
   ]
  },
  {
   "cell_type": "code",
   "execution_count": 7,
   "id": "e5864999",
   "metadata": {
    "scrolled": true
   },
   "outputs": [
    {
     "name": "stdout",
     "output_type": "stream",
     "text": [
      "/Users/karatechop/Documents/GitHub/senior-thesis-pretextual-stops/Data/RIPA-DATA-CA-as-of-2022 (CSV)/Wave 2/Oakland PD\n"
     ]
    }
   ],
   "source": [
    "cd '/Users/karatechop/Documents/GitHub/senior-thesis-pretextual-stops/Data/RIPA-DATA-CA-as-of-2022 (CSV)/Wave 2/Oakland PD'"
   ]
  },
  {
   "cell_type": "code",
   "execution_count": 13,
   "id": "118d0110",
   "metadata": {},
   "outputs": [
    {
     "name": "stdout",
     "output_type": "stream",
     "text": [
      "Cleaned-Stop-Data-2021-for-PRR-Requests(1).csv\r\n",
      "Q1-2022-Stop-Data-for-PRRs-and-Website.csv\r\n",
      "Q2-Stop-Data-Cleaned.csv\r\n",
      "Stop_Data_for_Release_Jan_2017_to_Feb_2021_1_2.csv\r\n"
     ]
    }
   ],
   "source": [
    "ls"
   ]
  },
  {
   "cell_type": "code",
   "execution_count": 68,
   "id": "8fbe1208",
   "metadata": {
    "scrolled": true
   },
   "outputs": [
    {
     "name": "stderr",
     "output_type": "stream",
     "text": [
      "/var/folders/td/yc8lq2qx2ks3ck292tbf6wtm0000gn/T/ipykernel_1105/3779031796.py:1: DtypeWarning: Columns (20,22,23,37,38,39,40,41,42,43,44,45,46,47,48,51,52,53,54,57,58,62,69,70,71,72) have mixed types. Specify dtype option on import or set low_memory=False.\n",
      "  oak21 = pd.read_csv('Stop_Data_for_Release_Jan_2017_to_Feb_2021_1_2.csv').sort_values(by=['contactdate'])\n",
      "/var/folders/td/yc8lq2qx2ks3ck292tbf6wtm0000gn/T/ipykernel_1105/3779031796.py:2: DtypeWarning: Columns (20,22,23,37,38,39,40,41,42,43,44,45,46,47,48,51,52,53,54,57,58,62,69,70,71,72) have mixed types. Specify dtype option on import or set low_memory=False.\n",
      "  oak17_21 = pd.read_csv('Stop_Data_for_Release_Jan_2017_to_Feb_2021_1_2.csv')\n"
     ]
    }
   ],
   "source": [
    "oak21 = pd.read_csv('Stop_Data_for_Release_Jan_2017_to_Feb_2021_1_2.csv').sort_values(by=['contactdate'])\n",
    "oak17_21 = pd.read_csv('Stop_Data_for_Release_Jan_2017_to_Feb_2021_1_2.csv')"
   ]
  },
  {
   "cell_type": "code",
   "execution_count": 69,
   "id": "3ef0358b",
   "metadata": {},
   "outputs": [],
   "source": [
    "oak21['Datetime'] = pd.to_datetime(oak21['contactdate'] + ' ' + oak21['contacttime_FIX'])\n",
    "oak21['contactdate'] = oak21['Datetime'].dt.date\n",
    "oak21['contacttime_FIX'] = oak21['Datetime'].dt.time\n",
    "\n",
    "oak17_21['Datetime'] = pd.to_datetime(oak17_21['contactdate'] + ' ' + oak17_21['contacttime_FIX'])\n",
    "oak17_21['contactdate'] = oak17_21['Datetime'].dt.date\n",
    "oak17_21['contacttime_FIX'] = oak17_21['Datetime'].dt.time"
   ]
  },
  {
   "cell_type": "code",
   "execution_count": 44,
   "id": "269513fc",
   "metadata": {},
   "outputs": [],
   "source": [
    "# oak21['EvidDisc_detail_AB953'].value_counts()"
   ]
  },
  {
   "cell_type": "code",
   "execution_count": 64,
   "id": "465aed62",
   "metadata": {},
   "outputs": [],
   "source": [
    "# oak21.columns"
   ]
  },
  {
   "cell_type": "code",
   "execution_count": 50,
   "id": "6746a816",
   "metadata": {
    "scrolled": false
   },
   "outputs": [
    {
     "name": "stdout",
     "output_type": "stream",
     "text": [
      "no student\n",
      "no dropped dupes\n"
     ]
    },
    {
     "data": {
      "text/plain": [
       "(56506, 17)"
      ]
     },
     "execution_count": 50,
     "metadata": {},
     "output_type": "execute_result"
    }
   ],
   "source": [
    "def convert_simplify_OAK21(df):\n",
    "    i = df\n",
    "    i = i.rename(columns={'Unique ID':'Stop ID',\n",
    "                          'contactdate':'Date',\n",
    "                          'contacttime_FIX':'Time',\n",
    "                          'assignmenttype_AB953':'assignment',\n",
    "                          'experienceyears_AB953':'Experience',\n",
    "                          'intelligenceled':'service call',\n",
    "                          'Student':'student',\n",
    "                          'intelligenceledfactor':'service call',\n",
    "                          'Stop Duration':'Duration',\n",
    "                          'subject_durationofencounter_FIX':'Duration',\n",
    "                          'Stop ID':'Stop ID',\n",
    "                          'Person ID':'PID',\n",
    "                          'perceived_race_AB953':'race',\n",
    "                          'RacePerceivedPrior':'race perceived prior',\n",
    "                          'perceived_sex_AB953':'sex',\n",
    "                          'perceived_age_AB953':'age',\n",
    "                          'TypeTraffic_AB953':'type',\n",
    "                          'TypeTraffic_detail_AB953':'type',\n",
    "                          'ReasonForStop_OPD':'reason',\n",
    "#                           'subject_reasonforencounter_AB953':'reason',\n",
    "#                           'suspicion_type_AB953':'basis',\n",
    "                          'stop_relatedactions_AB953':'actions taken',\n",
    "                          'SearchBasis_detail_AB953':'search basis',\n",
    "                          'BasisForPropertySeizure_AB953':'seizure basis',\n",
    "                          'PropertySeized_detail_AB953':'property seized',\n",
    "                          'EvidDisc_detail_AB953':'evidence',\n",
    "                          'resultofstop_OPD':'result'})\n",
    "\n",
    "    i = i[i['reason']=='Traffic Violation']\n",
    "    \n",
    "    try:\n",
    "        i = i[i['student']!=1]\n",
    "    except:\n",
    "        print('no student')\n",
    "        pass\n",
    "\n",
    "    i.loc[i['type'] == 'Moving Violation','type'] = '1 Moving'\n",
    "    i.loc[i['type'] == 'Equipment Violation','type'] = '2 Equipment'\n",
    "    i.loc[i['type'] == 'Non-moving Violation, including Registration Violation','type'] = '3 Non-Moving'\n",
    "    \n",
    "    \n",
    "    try:\n",
    "        i['Date'] = pd.to_datetime(i['Date'])\n",
    "    except: \n",
    "        print('no datetime conversion')\n",
    "        i['Time'] = i['Date'].dt.time\n",
    "        pass\n",
    "\n",
    "    \n",
    "    try: \n",
    "        i = i.drop_duplicates(subset=['stop_id'], keep='first')\n",
    "    except: \n",
    "        print('no dropped dupes')\n",
    "        pass\n",
    "    \n",
    "    \n",
    "    output_df = i[['Date', 'Time','Stop ID','Duration','race', 'sex','age','type',\n",
    "                   'reason', 'actions taken', 'search basis','property seized', 'race perceived prior',\n",
    "                   'result','Experience','seizure basis','evidence']]\n",
    "#     'basis','seizure basis','evidence'\n",
    "\n",
    "    return output_df\n",
    "\n",
    "OAK_21 = convert_simplify_OAK21(oak21)\n",
    "OAK_21.shape"
   ]
  },
  {
   "cell_type": "code",
   "execution_count": 71,
   "id": "c251a45f",
   "metadata": {},
   "outputs": [],
   "source": [
    "# oak17_21['ReasonForStop_OPD'].value_counts()"
   ]
  },
  {
   "cell_type": "code",
   "execution_count": 70,
   "id": "5d5334f8",
   "metadata": {},
   "outputs": [],
   "source": [
    "# oak17_21.columns"
   ]
  },
  {
   "cell_type": "code",
   "execution_count": 79,
   "id": "1fe2db77",
   "metadata": {},
   "outputs": [
    {
     "name": "stdout",
     "output_type": "stream",
     "text": [
      "no student\n",
      "no dropped dupes\n",
      "(12021, 17)\n",
      "save successful\n"
     ]
    }
   ],
   "source": [
    "def convert_simplify_OAK17(df):\n",
    "    i = df\n",
    "    i = i.rename(columns={'Unique ID':'Stop ID',\n",
    "                          'contactdate':'Date',\n",
    "                          'contacttime_FIX':'Time',\n",
    "                          'assignmenttype_AB953':'assignment',\n",
    "                          'experienceyears_AB953':'Experience',\n",
    "                          'intelligenceledfactor':'service call',\n",
    "                          'Student':'student',\n",
    "                          'intelligenceledfactor':'service call',\n",
    "                          'subject_durationofencounter_FIX':'Duration',\n",
    "                          'subject_durationofencounter_FIX':'Duration',\n",
    "                          'Stop ID':'Stop ID',\n",
    "                          'Person ID':'PID',\n",
    "                          'perceived_race_AB953':'race',\n",
    "                          'RacePerceivedPrior':'race perceived prior',\n",
    "                          'perceived_sex_AB953':'sex',\n",
    "                          'perceived_age_AB953':'age',\n",
    "                          'TypeTraffic_detail_AB953':'type',\n",
    "                          'TypeTraffic_detail_AB953':'type',\n",
    "                          'ReasonForStop_OPD':'reason',\n",
    "#                           'subject_reasonforencounter_AB953':'reason',\n",
    "#                           'suspicion_type_AB953':'basis',\n",
    "                          'stop_relatedactions_AB953':'actions taken',\n",
    "                          'SearchBasis_detail_AB953':'search basis',\n",
    "                          'BasisForPropertySeizure_AB953':'seizure basis',\n",
    "                          'PropertySeized_detail_AB953':'property seized',\n",
    "                          'EvidDisc_detail_AB953':'evidence',\n",
    "                          'resultofstop_OPD':'result'})\n",
    "\n",
    "    i = i[(i['reason']=='Traffic Violation')\\\n",
    "            & (i['assignment']=='Patrol, traffic enforcement, field operations')]\n",
    "    \n",
    "    try:\n",
    "        i = i[i['student']!=1]\n",
    "    except:\n",
    "        print('no student')\n",
    "        pass\n",
    "\n",
    "    i.loc[i['type'] == 'Moving Violation','type'] = '1 Moving'\n",
    "    i.loc[i['type'] == 'Equipment Violation','type'] = '2 Equipment'\n",
    "    i.loc[i['type'] == 'Non-moving Violation, including Registration Violation','type'] = '3 Non-Moving'\n",
    "    \n",
    "    \n",
    "    try:\n",
    "        i['Date'] = pd.to_datetime(i['Date'])\n",
    "    except: \n",
    "        print('no datetime conversion')\n",
    "        i['Time'] = i['Date'].dt.time\n",
    "        pass\n",
    "\n",
    "    \n",
    "    try: \n",
    "        i = i.drop_duplicates(subset=['stop_id'], keep='first')\n",
    "    except: \n",
    "        print('no dropped dupes')\n",
    "        pass\n",
    "    \n",
    "    \n",
    "    output_df = i[['Date', 'Time','Stop ID','Duration','race', 'sex','age','type',\n",
    "                   'reason', 'actions taken', 'search basis','property seized', 'race perceived prior',\n",
    "                   'result','Experience','seizure basis','evidence']]\n",
    "#     'basis','seizure basis','evidence'\n",
    "\n",
    "    return output_df\n",
    "\n",
    "\n",
    "OAKLAND = pd.merge(OAK_21,convert_simplify_OAK17(oak17_21))\n",
    "print(OAKLAND.shape)\n",
    "OAKLAND.to_csv('ALL-OAKLAND_PD-AB953.csv',index=False)\n",
    "print('save successful')"
   ]
  },
  {
   "cell_type": "markdown",
   "id": "99255a3c",
   "metadata": {},
   "source": [
    "## SJPD"
   ]
  },
  {
   "cell_type": "code",
   "execution_count": 111,
   "id": "fb6a54ec",
   "metadata": {
    "scrolled": true
   },
   "outputs": [
    {
     "name": "stdout",
     "output_type": "stream",
     "text": [
      "/Users/karatechop\n"
     ]
    }
   ],
   "source": [
    "cd"
   ]
  },
  {
   "cell_type": "code",
   "execution_count": 112,
   "id": "d1ab3a8d",
   "metadata": {
    "scrolled": false
   },
   "outputs": [
    {
     "name": "stdout",
     "output_type": "stream",
     "text": [
      "/Users/karatechop/Documents/GitHub/senior-thesis-pretextual-stops/Data/RIPA-DATA-CA-as-of-2022 (CSV)/Wave 2/SJPD CAU (Crime Analysis Unit)\n"
     ]
    }
   ],
   "source": [
    "cd '/Users/karatechop/Documents/GitHub/senior-thesis-pretextual-stops/Data/RIPA-DATA-CA-as-of-2022 (CSV)/Wave 2/SJPD CAU (Crime Analysis Unit)'"
   ]
  },
  {
   "cell_type": "code",
   "execution_count": 113,
   "id": "34f7bc78",
   "metadata": {},
   "outputs": [
    {
     "name": "stdout",
     "output_type": "stream",
     "text": [
      "Attachment_1-_2019_RIPA(1).csv        Attachment_5-_2021_RIPA(1).csv\r\n",
      "Attachment_4-_2020_RIPA-_Updated.csv  \u001b[34moriginal\u001b[m\u001b[m/\r\n"
     ]
    }
   ],
   "source": [
    "ls"
   ]
  },
  {
   "cell_type": "code",
   "execution_count": 11,
   "id": "8b36d6ed",
   "metadata": {},
   "outputs": [
    {
     "name": "stdout",
     "output_type": "stream",
     "text": [
      "['Is Student']\n"
     ]
    },
    {
     "name": "stderr",
     "output_type": "stream",
     "text": [
      "/var/folders/td/yc8lq2qx2ks3ck292tbf6wtm0000gn/T/ipykernel_2916/651896532.py:10: DtypeWarning: Columns (9) have mixed types. Specify dtype option on import or set low_memory=False.\n",
      "  df = pd.read_csv(file, index_col=None)\n"
     ]
    }
   ],
   "source": [
    "import os\n",
    "from glob import glob\n",
    "\n",
    "PATH = os.getcwd()\n",
    "EXT = \"*.csv\"\n",
    "\n",
    "cols =[]\n",
    "for path, subdir, files in os.walk(PATH):\n",
    "    for file in glob(os.path.join(path, EXT)):\n",
    "        df = pd.read_csv(file, index_col=None)\n",
    "        \n",
    "        for col in df.columns:\n",
    "            cols.append(col)\n",
    "                \n",
    "print(pd.unique([match for match in cols if 'student' in match.lower()]))"
   ]
  },
  {
   "cell_type": "code",
   "execution_count": 185,
   "id": "64055a69",
   "metadata": {
    "scrolled": true
   },
   "outputs": [
    {
     "data": {
      "text/plain": [
       "1.0    24158\n",
       "2.0    11594\n",
       "6.0     1563\n",
       "5.0      763\n",
       "4.0      521\n",
       "3.0      222\n",
       "8.0        8\n",
       "Name: Reason for Stop, dtype: int64"
      ]
     },
     "execution_count": 185,
     "metadata": {},
     "output_type": "execute_result"
    }
   ],
   "source": [
    "sj19 = pd.read_csv('Attachment_1-_2019_RIPA(1).csv')\n",
    "sj19['Reason for Stop'].value_counts()"
   ]
  },
  {
   "cell_type": "code",
   "execution_count": 193,
   "id": "9848718a",
   "metadata": {
    "scrolled": true
   },
   "outputs": [
    {
     "name": "stdout",
     "output_type": "stream",
     "text": [
      "no student drop\n",
      "no dropped dupes\n",
      "starting SJPD is (14945, 14)\n",
      "no student drop\n",
      "no dropped dupes\n",
      "sj was (23233, 14)\n",
      "sj is merged! SJ shape is now (38178, 14)\n",
      "no student drop\n",
      "no dropped dupes\n",
      "sj was (12265, 14)\n",
      "sj is merged! SJ shape is now (50443, 14)\n",
      "\n",
      "final saved!\n"
     ]
    }
   ],
   "source": [
    "import glob\n",
    "def convert_simplify_SJ(df):\n",
    "    i = df\n",
    "    i = i.rename(columns={'StopDateTime':'Date',\n",
    "                          'StopDate':'Date',\n",
    "                          'Date of Stop':'Date',\n",
    "                          'StopDateTime':'Time',\n",
    "                          'stopTime':'Time',\n",
    "                          'Time of Stop':'Time',\n",
    "                          \n",
    "                          'officerAssignment_type':'assignment',\n",
    "                          'Officer Type of Assignment':'assignment',\n",
    "                          \n",
    "                          'Is Stop Made in Response to Call for Service':'service call',\n",
    "                          'stopInResponseToCFS':'service call',\n",
    "                          \n",
    "                          'stopDuration':'Duration',\n",
    "                          'Duration of Stop':'Duration',\n",
    "                          \n",
    "                          'PID':'PID',\n",
    "                          \n",
    "                          'Perceived Race or Ethnicity':'race',\n",
    "                          'Person Perceived Gender Value':'sex',\n",
    "                          'Perceived Gender 1-4':'sex',\n",
    "                          'perceivedAge':'age',\n",
    "                          'Perceived Age':'age',\n",
    "                          \n",
    "                          'Traffic Violation Type':'type',\n",
    "                          \n",
    "                          'Reason for Stop':'reason',\n",
    "                          'Suspicion Sub-Type':'basis',\n",
    "                          'Actions Taken':'actions taken',\n",
    "                          \n",
    "                          'Basis for Search':'search basis',\n",
    "                          'Basis for Property Seizure':'seizure basis',\n",
    "                          'Type of Property Seized':'property seized',\n",
    "                          'Contraband or Evidence':'evidence',\n",
    "                          \n",
    "                          'Results of Stop':'result',\n",
    "                          'Traffic Violation - CJIS Offense Code':'offense code',\n",
    "                          \n",
    "                          'isStudent':'student',\n",
    "                          'Is Serv Call':'service call'})\n",
    "\n",
    "    i = i[(i['service call']!='Y')\\\n",
    "          & (i['assignment']==1)\\\n",
    "          & ((i['type']==1) | (i['type']==2) | (i['type']==3))\\\n",
    "          &  (i['reason']==1)]\n",
    "\n",
    "    i.loc[i['type'] == 1,'type'] = '1 Moving'\n",
    "    i.loc[i['type'] == 2,'type'] = '2 Equipment'\n",
    "    i.loc[i['type'] == 3,'type'] = '3 Non-Moving'\n",
    "    \n",
    "    try:\n",
    "        i = i[i['student']!='True']\n",
    "    except:\n",
    "        print('no student drop')\n",
    "        pass\n",
    "    \n",
    "    \n",
    "    try:\n",
    "        i['Date'] = pd.to_datetime(i['Date'])\n",
    "    except: \n",
    "        print('no datetime conversion')\n",
    "        i['Time'] = i['Date'].dt.time\n",
    "        pass\n",
    "\n",
    "    \n",
    "    try: \n",
    "        i = i.drop_duplicates(subset=['stop_id'], keep='first')\n",
    "    except: \n",
    "        print('no dropped dupes')\n",
    "        pass\n",
    "\n",
    "    output_df = i[['Date','Time','Duration','race', 'sex','age','type',\n",
    "                   'reason','offense code','basis', 'actions taken', 'property seized', 'search basis',\n",
    "                   'result']]\n",
    "\n",
    "    return output_df\n",
    "\n",
    "\n",
    "###################################################\n",
    "\n",
    "\n",
    "path = os.getcwd()\n",
    "files = glob.glob(path + \"/*.csv\")\n",
    "\n",
    "\n",
    "SJPD = convert_simplify_SJ(pd.read_csv(files[0]))\n",
    "print(f'starting SJPD is {SJPD.shape}')\n",
    "# SJPD.shape\n",
    "\n",
    "for i in files[1:]: \n",
    "    if 'AB953' not in i:\n",
    "        temp_df = convert_simplify_SJ(pd.read_csv(i))\n",
    "        SJPD = pd.merge(SJPD,temp_df,how='outer')\n",
    "\n",
    "        print(f'sj was {temp_df.shape}')\n",
    "        print(f'sj is merged! SJ shape is now {SJPD.shape}')\n",
    "\n",
    "SJPD.to_csv('ALL-SJPD-AB953.csv',index=False)\n",
    "print('\\nfinal saved!')"
   ]
  },
  {
   "cell_type": "markdown",
   "id": "6ef3b222",
   "metadata": {},
   "source": [
    "### looking for perceived"
   ]
  },
  {
   "cell_type": "code",
   "execution_count": 33,
   "id": "a3a82a54",
   "metadata": {},
   "outputs": [],
   "source": [
    "import warnings\n",
    "warnings.filterwarnings(\"ignore\")"
   ]
  },
  {
   "cell_type": "code",
   "execution_count": 34,
   "id": "c3313b56",
   "metadata": {},
   "outputs": [
    {
     "name": "stdout",
     "output_type": "stream",
     "text": [
      "/Users/karatechop\n"
     ]
    }
   ],
   "source": [
    "cd"
   ]
  },
  {
   "cell_type": "code",
   "execution_count": 35,
   "id": "4163e17b",
   "metadata": {},
   "outputs": [
    {
     "name": "stdout",
     "output_type": "stream",
     "text": [
      "/Users/karatechop/Documents/GitHub/senior-thesis-pretextual-stops/Data/RIPA-DATA-CA-as-of-2022 (CSV)\n"
     ]
    }
   ],
   "source": [
    "cd /Users/karatechop/Documents/GitHub/senior-thesis-pretextual-stops/Data/RIPA-DATA-CA-as-of-2022 (CSV)/"
   ]
  },
  {
   "cell_type": "code",
   "execution_count": 36,
   "id": "4796b3e4",
   "metadata": {},
   "outputs": [
    {
     "name": "stdout",
     "output_type": "stream",
     "text": [
      "All Requests • MuckRock.webloc    \u001b[34mWave 1\u001b[m\u001b[m/\r\n",
      "\u001b[34mIn Progress\u001b[m\u001b[m/                      \u001b[34mWave 2\u001b[m\u001b[m/\r\n",
      "README.md                         \u001b[34mWaves 3_4\u001b[m\u001b[m/\r\n"
     ]
    }
   ],
   "source": [
    "ls"
   ]
  },
  {
   "cell_type": "code",
   "execution_count": 37,
   "id": "d75fb07b",
   "metadata": {
    "scrolled": false
   },
   "outputs": [
    {
     "name": "stdout",
     "output_type": "stream",
     "text": [
      "raceperceivedprior\n",
      "/Users/karatechop/Documents/GitHub/senior-thesis-pretextual-stops/Data/RIPA-DATA-CA-as-of-2022 (CSV)/Wave 2/Oakland PD/Cleaned_Stop_Data_2021_for_PRR_Requests_NONDISPATCH_TRAFFIC_STOPS.csv\n",
      "\n",
      "\n",
      "raceperceivedprior\n",
      "/Users/karatechop/Documents/GitHub/senior-thesis-pretextual-stops/Data/RIPA-DATA-CA-as-of-2022 (CSV)/Wave 2/Oakland PD/Stop_Data_for_Release_Jan_2017_to_Feb_2021_1_2.csv\n",
      "\n",
      "\n",
      "raceperceivedprior\n",
      "/Users/karatechop/Documents/GitHub/senior-thesis-pretextual-stops/Data/RIPA-DATA-CA-as-of-2022 (CSV)/Wave 2/Oakland PD/Cleaned_Stop_Data_2021_for_PRR_Requests.csv\n",
      "\n",
      "\n",
      "race perceived prior to stop\n",
      "/Users/karatechop/Documents/GitHub/senior-thesis-pretextual-stops/Data/RIPA-DATA-CA-as-of-2022 (CSV)/Waves 3_4/Berkeley PD/Berkeley_PD_-_Stop_Data__October_1__2020_-_Present_.csv\n",
      "\n",
      "\n",
      "race noted before detention\n",
      "/Users/karatechop/Documents/GitHub/senior-thesis-pretextual-stops/Data/RIPA-DATA-CA-as-of-2022 (CSV)/Waves 3_4/Marin County Sherrifs Office/PRA_RIPA_Marin_County_Sheriff.csv\n",
      "\n",
      "\n"
     ]
    }
   ],
   "source": [
    "import os\n",
    "from glob import glob\n",
    "\n",
    "PATH = os.getcwd()\n",
    "EXT = \"*.csv\"\n",
    "\n",
    "\n",
    "for path, subdir, files in os.walk(PATH):\n",
    "    for file in glob(os.path.join(path, EXT)):\n",
    "        df = pd.read_csv(file, index_col=None)\n",
    "        \n",
    "        for col in df.columns:\n",
    "            col = col.lower()\n",
    "            if 'prior' in col:\n",
    "                print(f'{col}\\n{file}\\n\\n')x\n",
    "                \n",
    "        for col in df.columns:\n",
    "            col = col.lower()\n",
    "            if 'before' in col:\n",
    "                print(f'{col}\\n{file}\\n\\n')\n",
    "        \n",
    "#         print('\\n\\n\\n\\n\\n\\n')\n",
    "                \n",
    "#         for col in df.columns:\n",
    "#             col = col.lower()\n",
    "#             if 'race' in col:\n",
    "#                 print(f'{col}\\n{file}\\n\\n')\n",
    "        "
   ]
  }
 ],
 "metadata": {
  "kernelspec": {
   "display_name": "Python 3 (ipykernel)",
   "language": "python",
   "name": "python3"
  },
  "language_info": {
   "codemirror_mode": {
    "name": "ipython",
    "version": 3
   },
   "file_extension": ".py",
   "mimetype": "text/x-python",
   "name": "python",
   "nbconvert_exporter": "python",
   "pygments_lexer": "ipython3",
   "version": "3.9.12"
  }
 },
 "nbformat": 4,
 "nbformat_minor": 5
}
