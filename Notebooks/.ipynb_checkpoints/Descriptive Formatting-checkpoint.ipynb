{
 "cells": [
  {
   "cell_type": "code",
   "execution_count": 1,
   "id": "28f88b15",
   "metadata": {},
   "outputs": [],
   "source": [
    "import pandas as pd\n",
    "import numpy as np\n",
    "import os\n",
    "from glob import glob\n",
    "import numpy as np\n",
    "import matplotlib.pyplot as plt\n",
    "import time\n",
    "\n",
    "pd.set_option('display.max_columns', None) "
   ]
  },
  {
   "cell_type": "code",
   "execution_count": 2,
   "id": "bf93c5c5",
   "metadata": {},
   "outputs": [],
   "source": [
    "RIPA_factors = 'ORI number\\nDate, time, and duration of the stop\\nLocation of stop\\nPerceived race or ethnicity of person stopped\\nPerceived gender of person stopped\\nPerson stopped perceived to be LGBT\\nPerceived age of person stopped\\nPerson stopped has limited or no English fluency\\nPerceived or known disability or person stopped\\nReason for stop\\nStop made in response to a call for service\\nActions taken by officer during stop\\nResults of stop\\nOfficer’s Identification (ID) Number\\nOfficer’s years of experience\\nType of assignment of officer'\n",
    "RIPA_cols_to_keep = RIPA_factors.splitlines()"
   ]
  },
  {
   "cell_type": "code",
   "execution_count": 3,
   "id": "5b46c60d",
   "metadata": {},
   "outputs": [
    {
     "data": {
      "text/plain": [
       "['ORI number',\n",
       " 'Date, time, and duration of the stop',\n",
       " 'Location of stop',\n",
       " 'Perceived race or ethnicity of person stopped',\n",
       " 'Perceived gender of person stopped',\n",
       " 'Person stopped perceived to be LGBT',\n",
       " 'Perceived age of person stopped',\n",
       " 'Person stopped has limited or no English fluency',\n",
       " 'Perceived or known disability or person stopped',\n",
       " 'Reason for stop',\n",
       " 'Stop made in response to a call for service',\n",
       " 'Actions taken by officer during stop',\n",
       " 'Results of stop',\n",
       " 'Officer’s Identification (ID) Number',\n",
       " 'Officer’s years of experience',\n",
       " 'Type of assignment of officer']"
      ]
     },
     "execution_count": 3,
     "metadata": {},
     "output_type": "execute_result"
    }
   ],
   "source": [
    "RIPA_cols_to_keep"
   ]
  },
  {
   "cell_type": "markdown",
   "id": "78222fc9",
   "metadata": {},
   "source": [
    "# WAVE 1"
   ]
  },
  {
   "cell_type": "markdown",
   "id": "315f0f7d",
   "metadata": {},
   "source": [
    "## LAPD"
   ]
  },
  {
   "cell_type": "code",
   "execution_count": 4,
   "id": "7ff14958",
   "metadata": {},
   "outputs": [
    {
     "name": "stdout",
     "output_type": "stream",
     "text": [
      "/Users/karatechop\n"
     ]
    }
   ],
   "source": [
    "cd"
   ]
  },
  {
   "cell_type": "code",
   "execution_count": 5,
   "id": "894bc186",
   "metadata": {},
   "outputs": [
    {
     "name": "stdout",
     "output_type": "stream",
     "text": [
      "/Users/karatechop/Documents/GitHub/senior-thesis-pretextual-stops/Data/RIPA-DATA-CA-as-of-2022 (CSV)/Wave 1/LAPD\n"
     ]
    }
   ],
   "source": [
    "cd /Users/karatechop/Documents/GitHub/senior-thesis-pretextual-stops/Data/RIPA-DATA-CA-as-of-2022\\ \\(CSV\\)/Wave 1/LAPD"
   ]
  },
  {
   "cell_type": "code",
   "execution_count": 6,
   "id": "4e93d3e9",
   "metadata": {
    "scrolled": true
   },
   "outputs": [
    {
     "name": "stdout",
     "output_type": "stream",
     "text": [
      "ALL-LAPD-AB953.csv   LAPD-AB953-2019.csv  LAPD-AB953-2021.csv\r\n",
      "LAPD-AB953-2018.csv  LAPD-AB953-2020.csv  dictionary.xlsx\r\n"
     ]
    }
   ],
   "source": [
    "ls"
   ]
  },
  {
   "cell_type": "code",
   "execution_count": 7,
   "id": "4b041cd3",
   "metadata": {
    "scrolled": true
   },
   "outputs": [
    {
     "name": "stderr",
     "output_type": "stream",
     "text": [
      "/var/folders/td/yc8lq2qx2ks3ck292tbf6wtm0000gn/T/ipykernel_73655/2380184422.py:1: DtypeWarning: Columns (16,17,26) have mixed types. Specify dtype option on import or set low_memory=False.\n",
      "  la18 = pd.read_csv('LAPD-AB953-2018.csv')\n",
      "/var/folders/td/yc8lq2qx2ks3ck292tbf6wtm0000gn/T/ipykernel_73655/2380184422.py:2: DtypeWarning: Columns (16,17,26) have mixed types. Specify dtype option on import or set low_memory=False.\n",
      "  la19 = pd.read_csv('LAPD-AB953-2019.csv')\n",
      "/var/folders/td/yc8lq2qx2ks3ck292tbf6wtm0000gn/T/ipykernel_73655/2380184422.py:3: DtypeWarning: Columns (16,17,26) have mixed types. Specify dtype option on import or set low_memory=False.\n",
      "  la20 = pd.read_csv('LAPD-AB953-2020.csv')\n",
      "/var/folders/td/yc8lq2qx2ks3ck292tbf6wtm0000gn/T/ipykernel_73655/2380184422.py:4: DtypeWarning: Columns (16,17,26) have mixed types. Specify dtype option on import or set low_memory=False.\n",
      "  la21 = pd.read_csv('LAPD-AB953-2021.csv')\n"
     ]
    }
   ],
   "source": [
    "la18 = pd.read_csv('LAPD-AB953-2018.csv')\n",
    "la19 = pd.read_csv('LAPD-AB953-2019.csv')\n",
    "la20 = pd.read_csv('LAPD-AB953-2020.csv')\n",
    "la21 = pd.read_csv('LAPD-AB953-2021.csv')\n",
    "\n",
    "la_dfs = [la18,la19,la20,la21]"
   ]
  },
  {
   "cell_type": "code",
   "execution_count": 8,
   "id": "8b36d6ed",
   "metadata": {},
   "outputs": [],
   "source": [
    "# la18['tpMvViol'].value_counts()"
   ]
  },
  {
   "cell_type": "code",
   "execution_count": 9,
   "id": "9848718a",
   "metadata": {
    "scrolled": false
   },
   "outputs": [
    {
     "name": "stdout",
     "output_type": "stream",
     "text": [
      "la2019 was (712806, 46)\n",
      "la2019 is merged! LAPD shape is now (882363, 17)\n",
      "la2020 was (521487, 46)\n",
      "la2020 is merged! LAPD shape is now (1282605, 17)\n",
      "la2021 was (428259, 46)\n",
      "la2021 is merged! LAPD shape is now (1602977, 17)\n"
     ]
    }
   ],
   "source": [
    "def convert_simplify(df):\n",
    "    i = df\n",
    "    i = i.rename(columns={'StopDate':'Date',\n",
    "                          'StopTime':'Time',\n",
    "                          'Duration':'Duration',\n",
    "                          'Experience':'Experience',\n",
    "                          'pid':'PID',\n",
    "                          'race':'race',\n",
    "                          'sex':'sex',\n",
    "                          'age':'age',\n",
    "                          'tpMvViol':'type',\n",
    "                          'reason':'reason',\n",
    "                          'suspBase':'basis',\n",
    "                          'act':'actions taken',\n",
    "                          'srchBase':'search basis',\n",
    "                          'szrBase':'seizure basis',\n",
    "                          'propSzd':'property seized',\n",
    "                          'evid':'evidence',\n",
    "                          'res':'result'})\n",
    "\n",
    "    i = i[(i['SvcCall']!='Y')\\\n",
    "#           & ((i['type']==1) | (i['type']==2))\\\n",
    "          &  (i['AsgntType']==1)\\\n",
    "          &  (i['K12']!='Y')\\\n",
    "          &  (i['student']!='Y')]\n",
    "\n",
    "    i.loc[i['type'] == 1,'type'] = '1 Moving'\n",
    "    i.loc[i['type'] == 2,'type'] = '2 Equipment'\n",
    "    i.loc[i['type'] == 3,'type'] = '3 Non-Moving'\n",
    "\n",
    "\n",
    "    output_df = i[['Date', 'Time','Duration','Experience','PID','race', 'sex','age','type',\n",
    "                   'reason','basis', 'actions taken', 'search basis', 'seizure basis','property seized', \n",
    "                   'evidence', 'result']]\n",
    "    \n",
    "    \n",
    "    return output_df\n",
    "\n",
    "\n",
    "\n",
    "year = 2019\n",
    "\n",
    "for i in la_dfs[1:]:  \n",
    "    if 'AB953' not in i:\n",
    "        df = convert_simplify(i)\n",
    "\n",
    "        if year == 2019:\n",
    "            LAPD = pd.merge(convert_simplify(la18),df,how='outer')\n",
    "        else:\n",
    "            LAPD = pd.merge(LAPD,df,how='outer')\n",
    "\n",
    "        print(f'la{year} was {i.shape}')\n",
    "        print(f'la{year} is merged! LAPD shape is now {LAPD.shape}')\n",
    "        year+=1\n",
    "LAPD.to_csv('ALL-LAPD-AB953.csv',index=False)"
   ]
  },
  {
   "cell_type": "code",
   "execution_count": 10,
   "id": "dbc5b6f7",
   "metadata": {},
   "outputs": [
    {
     "data": {
      "text/html": [
       "<div>\n",
       "<style scoped>\n",
       "    .dataframe tbody tr th:only-of-type {\n",
       "        vertical-align: middle;\n",
       "    }\n",
       "\n",
       "    .dataframe tbody tr th {\n",
       "        vertical-align: top;\n",
       "    }\n",
       "\n",
       "    .dataframe thead th {\n",
       "        text-align: right;\n",
       "    }\n",
       "</style>\n",
       "<table border=\"1\" class=\"dataframe\">\n",
       "  <thead>\n",
       "    <tr style=\"text-align: right;\">\n",
       "      <th></th>\n",
       "      <th>Date</th>\n",
       "      <th>Time</th>\n",
       "      <th>Duration</th>\n",
       "      <th>Experience</th>\n",
       "      <th>PID</th>\n",
       "      <th>race</th>\n",
       "      <th>sex</th>\n",
       "      <th>age</th>\n",
       "      <th>type</th>\n",
       "      <th>reason</th>\n",
       "      <th>basis</th>\n",
       "      <th>actions taken</th>\n",
       "      <th>search basis</th>\n",
       "      <th>seizure basis</th>\n",
       "      <th>property seized</th>\n",
       "      <th>evidence</th>\n",
       "      <th>result</th>\n",
       "    </tr>\n",
       "  </thead>\n",
       "  <tbody>\n",
       "    <tr>\n",
       "      <th>0</th>\n",
       "      <td>07/01/2018</td>\n",
       "      <td>00:02</td>\n",
       "      <td>10</td>\n",
       "      <td>0</td>\n",
       "      <td>25367</td>\n",
       "      <td>2</td>\n",
       "      <td>1.0</td>\n",
       "      <td>32</td>\n",
       "      <td>2 Equipment</td>\n",
       "      <td>1</td>\n",
       "      <td>NaN</td>\n",
       "      <td>\"18,na\",\"20,na\",\"1,na\"</td>\n",
       "      <td>1</td>\n",
       "      <td>NaN</td>\n",
       "      <td>NaN</td>\n",
       "      <td>1</td>\n",
       "      <td>7</td>\n",
       "    </tr>\n",
       "    <tr>\n",
       "      <th>1</th>\n",
       "      <td>07/01/2018</td>\n",
       "      <td>21:50</td>\n",
       "      <td>180</td>\n",
       "      <td>0</td>\n",
       "      <td>25405</td>\n",
       "      <td>4</td>\n",
       "      <td>1.0</td>\n",
       "      <td>24</td>\n",
       "      <td>3 Non-Moving</td>\n",
       "      <td>1</td>\n",
       "      <td>NaN</td>\n",
       "      <td>\"5,na\"</td>\n",
       "      <td>NaN</td>\n",
       "      <td>NaN</td>\n",
       "      <td>NaN</td>\n",
       "      <td>1</td>\n",
       "      <td>5</td>\n",
       "    </tr>\n",
       "    <tr>\n",
       "      <th>2</th>\n",
       "      <td>07/01/2018</td>\n",
       "      <td>21:50</td>\n",
       "      <td>180</td>\n",
       "      <td>0</td>\n",
       "      <td>25406</td>\n",
       "      <td>4</td>\n",
       "      <td>1.0</td>\n",
       "      <td>30</td>\n",
       "      <td>3 Non-Moving</td>\n",
       "      <td>1</td>\n",
       "      <td>NaN</td>\n",
       "      <td>\"5,na\"</td>\n",
       "      <td>NaN</td>\n",
       "      <td>NaN</td>\n",
       "      <td>NaN</td>\n",
       "      <td>1</td>\n",
       "      <td>5</td>\n",
       "    </tr>\n",
       "    <tr>\n",
       "      <th>3</th>\n",
       "      <td>07/01/2018</td>\n",
       "      <td>00:16</td>\n",
       "      <td>15</td>\n",
       "      <td>0</td>\n",
       "      <td>25412</td>\n",
       "      <td>7</td>\n",
       "      <td>2.0</td>\n",
       "      <td>45</td>\n",
       "      <td>NaN</td>\n",
       "      <td>2</td>\n",
       "      <td>1</td>\n",
       "      <td>\"24,na\"</td>\n",
       "      <td>NaN</td>\n",
       "      <td>NaN</td>\n",
       "      <td>NaN</td>\n",
       "      <td>1</td>\n",
       "      <td>7</td>\n",
       "    </tr>\n",
       "    <tr>\n",
       "      <th>4</th>\n",
       "      <td>07/01/2018</td>\n",
       "      <td>00:16</td>\n",
       "      <td>15</td>\n",
       "      <td>0</td>\n",
       "      <td>25413</td>\n",
       "      <td>3</td>\n",
       "      <td>1.0</td>\n",
       "      <td>30</td>\n",
       "      <td>NaN</td>\n",
       "      <td>2</td>\n",
       "      <td>1</td>\n",
       "      <td>\"18,na\"</td>\n",
       "      <td>1</td>\n",
       "      <td>NaN</td>\n",
       "      <td>NaN</td>\n",
       "      <td>1</td>\n",
       "      <td>7</td>\n",
       "    </tr>\n",
       "    <tr>\n",
       "      <th>...</th>\n",
       "      <td>...</td>\n",
       "      <td>...</td>\n",
       "      <td>...</td>\n",
       "      <td>...</td>\n",
       "      <td>...</td>\n",
       "      <td>...</td>\n",
       "      <td>...</td>\n",
       "      <td>...</td>\n",
       "      <td>...</td>\n",
       "      <td>...</td>\n",
       "      <td>...</td>\n",
       "      <td>...</td>\n",
       "      <td>...</td>\n",
       "      <td>...</td>\n",
       "      <td>...</td>\n",
       "      <td>...</td>\n",
       "      <td>...</td>\n",
       "    </tr>\n",
       "    <tr>\n",
       "      <th>1602972</th>\n",
       "      <td>11/02/2021</td>\n",
       "      <td>00:19</td>\n",
       "      <td>74</td>\n",
       "      <td>0</td>\n",
       "      <td>2078393</td>\n",
       "      <td>3</td>\n",
       "      <td>2.0</td>\n",
       "      <td>25</td>\n",
       "      <td>3 Non-Moving</td>\n",
       "      <td>1</td>\n",
       "      <td>NaN</td>\n",
       "      <td>\"1,na\"</td>\n",
       "      <td>NaN</td>\n",
       "      <td>NaN</td>\n",
       "      <td>NaN</td>\n",
       "      <td>1</td>\n",
       "      <td>1</td>\n",
       "    </tr>\n",
       "    <tr>\n",
       "      <th>1602973</th>\n",
       "      <td>11/02/2021</td>\n",
       "      <td>00:14</td>\n",
       "      <td>81</td>\n",
       "      <td>0</td>\n",
       "      <td>2078394</td>\n",
       "      <td>3</td>\n",
       "      <td>1.0</td>\n",
       "      <td>30</td>\n",
       "      <td>3 Non-Moving</td>\n",
       "      <td>1</td>\n",
       "      <td>NaN</td>\n",
       "      <td>\"17,Y\",\"18,na\",\"1,na\",\"4,na\"</td>\n",
       "      <td>1</td>\n",
       "      <td>NaN</td>\n",
       "      <td>NaN</td>\n",
       "      <td>1</td>\n",
       "      <td>2</td>\n",
       "    </tr>\n",
       "    <tr>\n",
       "      <th>1602974</th>\n",
       "      <td>11/01/2021</td>\n",
       "      <td>01:00</td>\n",
       "      <td>13</td>\n",
       "      <td>0</td>\n",
       "      <td>2078424</td>\n",
       "      <td>3</td>\n",
       "      <td>1.0</td>\n",
       "      <td>25</td>\n",
       "      <td>1 Moving</td>\n",
       "      <td>1</td>\n",
       "      <td>NaN</td>\n",
       "      <td>\"1,na\",\"4,na\"</td>\n",
       "      <td>NaN</td>\n",
       "      <td>NaN</td>\n",
       "      <td>NaN</td>\n",
       "      <td>1</td>\n",
       "      <td>2</td>\n",
       "    </tr>\n",
       "    <tr>\n",
       "      <th>1602975</th>\n",
       "      <td>11/01/2021</td>\n",
       "      <td>01:00</td>\n",
       "      <td>13</td>\n",
       "      <td>0</td>\n",
       "      <td>2078428</td>\n",
       "      <td>3</td>\n",
       "      <td>1.0</td>\n",
       "      <td>25</td>\n",
       "      <td>3 Non-Moving</td>\n",
       "      <td>1</td>\n",
       "      <td>NaN</td>\n",
       "      <td>\"17,Y\",\"18,na\",\"1,na\",\"4,na\",\"5,na\"</td>\n",
       "      <td>1,4</td>\n",
       "      <td>NaN</td>\n",
       "      <td>NaN</td>\n",
       "      <td>1</td>\n",
       "      <td>1</td>\n",
       "    </tr>\n",
       "    <tr>\n",
       "      <th>1602976</th>\n",
       "      <td>11/01/2021</td>\n",
       "      <td>01:00</td>\n",
       "      <td>13</td>\n",
       "      <td>0</td>\n",
       "      <td>2078432</td>\n",
       "      <td>3</td>\n",
       "      <td>1.0</td>\n",
       "      <td>18</td>\n",
       "      <td>3 Non-Moving</td>\n",
       "      <td>1</td>\n",
       "      <td>NaN</td>\n",
       "      <td>\"17,Y\",\"18,na\",\"1,na\",\"4,na\",\"5,na\"</td>\n",
       "      <td>1</td>\n",
       "      <td>NaN</td>\n",
       "      <td>NaN</td>\n",
       "      <td>1</td>\n",
       "      <td>1</td>\n",
       "    </tr>\n",
       "  </tbody>\n",
       "</table>\n",
       "<p>1602977 rows × 17 columns</p>\n",
       "</div>"
      ],
      "text/plain": [
       "               Date   Time  Duration  Experience      PID race  sex  age  \\\n",
       "0        07/01/2018  00:02        10           0    25367    2  1.0   32   \n",
       "1        07/01/2018  21:50       180           0    25405    4  1.0   24   \n",
       "2        07/01/2018  21:50       180           0    25406    4  1.0   30   \n",
       "3        07/01/2018  00:16        15           0    25412    7  2.0   45   \n",
       "4        07/01/2018  00:16        15           0    25413    3  1.0   30   \n",
       "...             ...    ...       ...         ...      ...  ...  ...  ...   \n",
       "1602972  11/02/2021  00:19        74           0  2078393    3  2.0   25   \n",
       "1602973  11/02/2021  00:14        81           0  2078394    3  1.0   30   \n",
       "1602974  11/01/2021  01:00        13           0  2078424    3  1.0   25   \n",
       "1602975  11/01/2021  01:00        13           0  2078428    3  1.0   25   \n",
       "1602976  11/01/2021  01:00        13           0  2078432    3  1.0   18   \n",
       "\n",
       "                 type  reason basis                        actions taken  \\\n",
       "0         2 Equipment       1   NaN               \"18,na\",\"20,na\",\"1,na\"   \n",
       "1        3 Non-Moving       1   NaN                               \"5,na\"   \n",
       "2        3 Non-Moving       1   NaN                               \"5,na\"   \n",
       "3                 NaN       2     1                              \"24,na\"   \n",
       "4                 NaN       2     1                              \"18,na\"   \n",
       "...               ...     ...   ...                                  ...   \n",
       "1602972  3 Non-Moving       1   NaN                               \"1,na\"   \n",
       "1602973  3 Non-Moving       1   NaN         \"17,Y\",\"18,na\",\"1,na\",\"4,na\"   \n",
       "1602974      1 Moving       1   NaN                        \"1,na\",\"4,na\"   \n",
       "1602975  3 Non-Moving       1   NaN  \"17,Y\",\"18,na\",\"1,na\",\"4,na\",\"5,na\"   \n",
       "1602976  3 Non-Moving       1   NaN  \"17,Y\",\"18,na\",\"1,na\",\"4,na\",\"5,na\"   \n",
       "\n",
       "        search basis seizure basis property seized evidence result  \n",
       "0                  1           NaN             NaN        1      7  \n",
       "1                NaN           NaN             NaN        1      5  \n",
       "2                NaN           NaN             NaN        1      5  \n",
       "3                NaN           NaN             NaN        1      7  \n",
       "4                  1           NaN             NaN        1      7  \n",
       "...              ...           ...             ...      ...    ...  \n",
       "1602972          NaN           NaN             NaN        1      1  \n",
       "1602973            1           NaN             NaN        1      2  \n",
       "1602974          NaN           NaN             NaN        1      2  \n",
       "1602975          1,4           NaN             NaN        1      1  \n",
       "1602976            1           NaN             NaN        1      1  \n",
       "\n",
       "[1602977 rows x 17 columns]"
      ]
     },
     "execution_count": 10,
     "metadata": {},
     "output_type": "execute_result"
    }
   ],
   "source": [
    "LAPD"
   ]
  },
  {
   "cell_type": "markdown",
   "id": "5ac7fe52",
   "metadata": {},
   "source": [
    "## Riverside"
   ]
  },
  {
   "cell_type": "code",
   "execution_count": 11,
   "id": "1b45783c",
   "metadata": {
    "scrolled": true
   },
   "outputs": [
    {
     "name": "stdout",
     "output_type": "stream",
     "text": [
      "/Users/karatechop\n"
     ]
    }
   ],
   "source": [
    "cd"
   ]
  },
  {
   "cell_type": "code",
   "execution_count": 12,
   "id": "621dc7e0",
   "metadata": {
    "scrolled": true
   },
   "outputs": [
    {
     "name": "stdout",
     "output_type": "stream",
     "text": [
      "/Users/karatechop/Documents/GitHub/senior-thesis-pretextual-stops/Data/RIPA-DATA-CA-as-of-2022 (CSV)/Wave 1/Riverside County Sheriffs Dpt\n"
     ]
    }
   ],
   "source": [
    "cd '/Users/karatechop/Documents/GitHub/senior-thesis-pretextual-stops/Data/RIPA-DATA-CA-as-of-2022 (CSV)/Wave 1/Riverside County Sheriffs Dpt'"
   ]
  },
  {
   "cell_type": "code",
   "execution_count": 13,
   "id": "bbcb8e49",
   "metadata": {
    "scrolled": true
   },
   "outputs": [],
   "source": [
    "# r1[r1['Person Primary Reason Traffic Violation Type'] == 0][['Person PID','Person Action Taken Action Value',\n",
    "#                                                              'Person Primary Reason Reason Value',\n",
    "#                                                              'Person Primary Reason Traffic Violation Type Value']]\n"
   ]
  },
  {
   "cell_type": "code",
   "execution_count": 14,
   "id": "9ae29749",
   "metadata": {},
   "outputs": [],
   "source": [
    "# path = os.getcwd()\n",
    "# files = glob.glob(path + \"/*.csv\")\n",
    "# r4 = pd.read_csv(files[4])\n",
    "# # r4.columns"
   ]
  },
  {
   "cell_type": "code",
   "execution_count": 15,
   "id": "860efdf8",
   "metadata": {},
   "outputs": [
    {
     "name": "stdout",
     "output_type": "stream",
     "text": [
      "2018StopDataReport.csv   2020_StopDataReport.csv  ALL-RIVERSIDE-AB953.csv\r\n",
      "2019_StopDataReport.csv  2021_StopDataReport.csv  \u001b[34moriginal\u001b[m\u001b[m/\r\n"
     ]
    }
   ],
   "source": [
    "ls"
   ]
  },
  {
   "cell_type": "code",
   "execution_count": 16,
   "id": "c3dab61c",
   "metadata": {},
   "outputs": [],
   "source": [
    "# r1['Person Primary Reason Traffic Violation Type'].value_counts()"
   ]
  },
  {
   "cell_type": "code",
   "execution_count": 17,
   "id": "c5597e3e",
   "metadata": {
    "scrolled": false
   },
   "outputs": [
    {
     "name": "stderr",
     "output_type": "stream",
     "text": [
      "/var/folders/td/yc8lq2qx2ks3ck292tbf6wtm0000gn/T/ipykernel_73655/1845260957.py:48: DtypeWarning: Columns (12,39,44) have mixed types. Specify dtype option on import or set low_memory=False.\n",
      "  start_df = convert_simplify_RI(pd.read_csv(files[0]))\n",
      "/var/folders/td/yc8lq2qx2ks3ck292tbf6wtm0000gn/T/ipykernel_73655/1845260957.py:54: DtypeWarning: Columns (12,44) have mixed types. Specify dtype option on import or set low_memory=False.\n",
      "  df = convert_simplify_RI(pd.read_csv(i))\n",
      "/Users/karatechop/opt/anaconda3/lib/python3.9/site-packages/pandas/core/reshape/merge.py:916: FutureWarning: In a future version, the Index constructor will not infer numeric dtypes when passed object-dtype sequences (matching Series behavior)\n",
      "  key_col = Index(lvals).where(~mask_left, rvals)\n"
     ]
    },
    {
     "name": "stdout",
     "output_type": "stream",
     "text": [
      "riverside2021 was (73890, 15)\n",
      "riverside2021 is merged! RIVERSIDE shape is now (174938, 15)\n"
     ]
    },
    {
     "name": "stderr",
     "output_type": "stream",
     "text": [
      "/var/folders/td/yc8lq2qx2ks3ck292tbf6wtm0000gn/T/ipykernel_73655/1845260957.py:54: DtypeWarning: Columns (44) have mixed types. Specify dtype option on import or set low_memory=False.\n",
      "  df = convert_simplify_RI(pd.read_csv(i))\n",
      "/Users/karatechop/opt/anaconda3/lib/python3.9/site-packages/pandas/core/reshape/merge.py:916: FutureWarning: In a future version, the Index constructor will not infer numeric dtypes when passed object-dtype sequences (matching Series behavior)\n",
      "  key_col = Index(lvals).where(~mask_left, rvals)\n"
     ]
    },
    {
     "name": "stdout",
     "output_type": "stream",
     "text": [
      "riverside2020 was (61647, 15)\n",
      "riverside2020 is merged! RIVERSIDE shape is now (236585, 15)\n"
     ]
    },
    {
     "name": "stderr",
     "output_type": "stream",
     "text": [
      "/var/folders/td/yc8lq2qx2ks3ck292tbf6wtm0000gn/T/ipykernel_73655/1845260957.py:54: DtypeWarning: Columns (7,10,12,14,18,26,30,44) have mixed types. Specify dtype option on import or set low_memory=False.\n",
      "  df = convert_simplify_RI(pd.read_csv(i))\n",
      "/Users/karatechop/opt/anaconda3/lib/python3.9/site-packages/pandas/core/reshape/merge.py:916: FutureWarning: In a future version, the Index constructor will not infer numeric dtypes when passed object-dtype sequences (matching Series behavior)\n",
      "  key_col = Index(lvals).where(~mask_left, rvals)\n"
     ]
    },
    {
     "name": "stdout",
     "output_type": "stream",
     "text": [
      "riverside2019 was (77912, 15)\n",
      "riverside2019 is merged! RIVERSIDE shape is now (314497, 15)\n"
     ]
    }
   ],
   "source": [
    "import glob\n",
    "def convert_simplify_RI(df):\n",
    "    i = df\n",
    "    i = i.rename(columns={'Date':'Date',\n",
    "                          'Is Serv Call':'service call',\n",
    "                          'Stop Data Stop Duration':'Duration',\n",
    "                          'Person PID':'PID',\n",
    "                          'Person Perceived Ethnicity Race Or Ethnicity Value':'race',\n",
    "                          'Person Perceived Gender Value':'sex',\n",
    "                          'Person Perceived Age':'age',\n",
    "                          'Person Primary Reason Traffic Violation Type':'type',\n",
    "                          'Person Primary Reason Reason Value':'reason',\n",
    "                          'Person Primary Reason Suspicion Type Suspicion Type Value':'basis',\n",
    "                          'Person Action Taken Action Value':'actions taken',\n",
    "                          'Person Basis Search Narrative':'search basis',\n",
    "#                           'szrBase':'seizure basis',\n",
    "                          'Person Property Type Seized Type Seized Value':'property seized',\n",
    "#                           'evid':'evidence',\n",
    "                          'Person Result Of Stop Offense Stop Code Value':'result',\n",
    "                          'Person Result Of Stop Offense Stop Offense Value':'offense code',\n",
    "                          'Person Is Student':'student',\n",
    "                          'Is Serv Call':'service call'})\n",
    "\n",
    "    i = i[(i['service call']!='Y')\\\n",
    "          & ((i['type']==1) | (i['type']==2) | (i['type']==3))\\\n",
    "          &  (i['reason']=='Traffic violation')\\\n",
    "          &  (i['student']!='True')]\n",
    "\n",
    "    i.loc[i['type'] == 1,'type'] = '1 Moving'\n",
    "    i.loc[i['type'] == 2,'type'] = '2 Equipment'\n",
    "    i.loc[i['type'] == 3,'type'] = '3 Non-Moving'\n",
    "    \n",
    "    i['Date'] = pd.to_datetime(i['Date'])\n",
    "    i['Time'] = i['Date'].dt.time\n",
    "\n",
    "    output_df = i[['Date','Time','Duration','PID','race', 'sex','age','type',\n",
    "                   'reason','offense code','basis', 'actions taken', 'property seized', 'search basis',\n",
    "                   'result']]\n",
    "\n",
    "    return output_df\n",
    "\n",
    "\n",
    "\n",
    "path = os.getcwd()\n",
    "files = glob.glob(path + \"/*.csv\")\n",
    "\n",
    "\n",
    "start_df = convert_simplify_RI(pd.read_csv(files[0]))\n",
    "\n",
    "year = 2021\n",
    "\n",
    "for i in files[1:]: \n",
    "    if 'AB953' not in i:\n",
    "        df = convert_simplify_RI(pd.read_csv(i))\n",
    "\n",
    "        if year == 2021:\n",
    "            RIVERSIDE = pd.merge(start_df,df,how='outer')\n",
    "        else:\n",
    "            RIVERSIDE = pd.merge(RIVERSIDE,df,how='outer')\n",
    "\n",
    "        print(f'riverside{year} was {df.shape}')\n",
    "        print(f'riverside{year} is merged! RIVERSIDE shape is now {RIVERSIDE.shape}')\n",
    "        year-=1\n",
    "RIVERSIDE.to_csv('ALL-RIVERSIDE-AB953.csv',index=False)"
   ]
  },
  {
   "cell_type": "markdown",
   "id": "b74fd5b9",
   "metadata": {},
   "source": [
    "## SDPD"
   ]
  },
  {
   "cell_type": "code",
   "execution_count": 18,
   "id": "b27eec13",
   "metadata": {},
   "outputs": [],
   "source": [
    "import pandas as pd\n",
    "import numpy as np\n",
    "import os\n",
    "from glob import glob\n",
    "import numpy as np\n",
    "import matplotlib.pyplot as plt\n",
    "import time\n",
    "\n",
    "pd.set_option('display.max_columns', None) "
   ]
  },
  {
   "cell_type": "code",
   "execution_count": 19,
   "id": "cb2a636b",
   "metadata": {},
   "outputs": [
    {
     "name": "stdout",
     "output_type": "stream",
     "text": [
      "/Users/karatechop\n"
     ]
    }
   ],
   "source": [
    "cd"
   ]
  },
  {
   "cell_type": "code",
   "execution_count": 20,
   "id": "24ceeff7",
   "metadata": {},
   "outputs": [
    {
     "name": "stdout",
     "output_type": "stream",
     "text": [
      "/Users/karatechop/Documents/GitHub/senior-thesis-pretextual-stops/Data/RIPA-DATA-CA-as-of-2022 (CSV)/Wave 1/SDPD\n"
     ]
    }
   ],
   "source": [
    "cd /Users/karatechop/Documents/GitHub/senior-thesis-pretextual-stops/Data/RIPA-DATA-CA-as-of-2022 (CSV)/Wave 1/SDPD"
   ]
  },
  {
   "cell_type": "code",
   "execution_count": 21,
   "id": "9597d802",
   "metadata": {},
   "outputs": [
    {
     "name": "stdout",
     "output_type": "stream",
     "text": [
      "ALL-SDPD-AB953-UNDUPED.csv\r\n",
      "ALL-SDPD-AB953.csv\r\n",
      "\u001b[34mcodebooks\u001b[m\u001b[m/\r\n",
      "ripa_actions_taken_datasd-UNDUPED.csv\r\n",
      "ripa_actions_taken_datasd.csv\r\n",
      "ripa_gender_datasd-UNDUPED.csv\r\n",
      "ripa_gender_datasd.csv\r\n",
      "ripa_prop_seize_type_datasd-UNDUPED.csv\r\n",
      "ripa_prop_seize_type_datasd.csv\r\n",
      "ripa_race_datasd-UNDUPED.csv\r\n",
      "ripa_race_datasd.csv\r\n",
      "ripa_search_basis_datasd-UNDUPED.csv\r\n",
      "ripa_search_basis_datasd.csv\r\n",
      "ripa_stop_reason_datasd-UNDUPED.csv\r\n",
      "ripa_stop_reason_datasd.csv\r\n",
      "ripa_stop_result_datasd-UNDUPED.csv\r\n",
      "ripa_stop_result_datasd.csv\r\n",
      "ripa_stops_datasd-UNDUPED.csv\r\n",
      "ripa_stops_datasd.csv\r\n"
     ]
    }
   ],
   "source": [
    "ls"
   ]
  },
  {
   "cell_type": "code",
   "execution_count": 22,
   "id": "4361c487",
   "metadata": {},
   "outputs": [
    {
     "name": "stdout",
     "output_type": "stream",
     "text": [
      "no stop_id drop\n"
     ]
    },
    {
     "name": "stderr",
     "output_type": "stream",
     "text": [
      "/var/folders/td/yc8lq2qx2ks3ck292tbf6wtm0000gn/T/ipykernel_73655/2375722843.py:10: DtypeWarning: Columns (12) have mixed types. Specify dtype option on import or set low_memory=False.\n",
      "  df = pd.read_csv(file)\n",
      "/var/folders/td/yc8lq2qx2ks3ck292tbf6wtm0000gn/T/ipykernel_73655/2375722843.py:10: DtypeWarning: Columns (3) have mixed types. Specify dtype option on import or set low_memory=False.\n",
      "  df = pd.read_csv(file)\n",
      "/var/folders/td/yc8lq2qx2ks3ck292tbf6wtm0000gn/T/ipykernel_73655/2375722843.py:29: DtypeWarning: Columns (12) have mixed types. Specify dtype option on import or set low_memory=False.\n",
      "  temp_df = pd.read_csv(file)\n",
      "/var/folders/td/yc8lq2qx2ks3ck292tbf6wtm0000gn/T/ipykernel_73655/2375722843.py:29: DtypeWarning: Columns (3) have mixed types. Specify dtype option on import or set low_memory=False.\n",
      "  temp_df = pd.read_csv(file)\n"
     ]
    },
    {
     "name": "stdout",
     "output_type": "stream",
     "text": [
      "(534006, 45)\n"
     ]
    },
    {
     "data": {
      "text/plain": [
       "Index(['action', 'address_block', 'address_city', 'address_street', 'agency',\n",
       "       'assignment', 'basis_for_search', 'basis_for_search_explanation',\n",
       "       'beat', 'beat_name', 'code', 'consented', 'date_stop', 'exp_years',\n",
       "       'gend', 'gend_nc', 'gender', 'gender_nonconforming', 'highway_exit',\n",
       "       'intersection', 'isschool', 'isstudent', 'land_mark',\n",
       "       'officer_assignment_key', 'ori', 'perceived_age', 'perceived_gender',\n",
       "       'perceived_lgbt', 'perceived_limited_english', 'pid', 'race',\n",
       "       'reason_for_stop', 'reason_for_stop_code_text',\n",
       "       'reason_for_stop_detail', 'reason_for_stop_explanation',\n",
       "       'reason_for_stopcode', 'result', 'resultkey', 'resulttext',\n",
       "       'school_name', 'stop_id', 'stop_in_response_to_cfs', 'stopduration',\n",
       "       'time_stop', 'type_of_property_seized'],\n",
       "      dtype='object')"
      ]
     },
     "execution_count": 22,
     "metadata": {},
     "output_type": "execute_result"
    }
   ],
   "source": [
    "import glob\n",
    "path = os.getcwd()\n",
    "files = glob.glob(path + \"/*.csv\")\n",
    "\n",
    "unduped = []\n",
    "\n",
    "for file in files:\n",
    "    if 'unduped' not in file.lower():\n",
    "        if 'AB953' not in file.lower():\n",
    "            df = pd.read_csv(file)\n",
    "            try:\n",
    "                df = df.drop_duplicates(subset=['stop_id'], keep='first')\n",
    "            except:\n",
    "                print('no stop_id drop')\n",
    "                pass\n",
    "            file = str(file[:-4] + '-UNDUPED' + file[-4:])\n",
    "            df.to_csv(f'{file}',index=False)\n",
    "            unduped.append(file)\n",
    "\n",
    "import glob\n",
    "path = os.getcwd()\n",
    "files = glob.glob(path + \"/*.csv\")\n",
    "sdpd = pd.read_csv(unduped[0]) \n",
    "\n",
    "\n",
    "for file in unduped[1:]: \n",
    "    if 'ripa_stops_datasd-UNDUPED' not in file.lower():\n",
    "        if 'AB953' not in file:\n",
    "            temp_df = pd.read_csv(file)\n",
    "            \n",
    "            try:\n",
    "                temp_df.drop(columns=['pid'],inplace=True)\n",
    "            except:\n",
    "                print('no drop')\n",
    "                pass\n",
    "                \n",
    "            try:\n",
    "                sdpd = pd.merge(sdpd,temp_df,on='stop_id')\n",
    "            except:\n",
    "                print('oof')\n",
    "\n",
    "print(sdpd.shape)\n",
    "sdpd.columns.sort_values()"
   ]
  },
  {
   "cell_type": "code",
   "execution_count": 23,
   "id": "9e435f06",
   "metadata": {},
   "outputs": [],
   "source": [
    "# sdpd['reason_for_stop_detail'].value_counts()"
   ]
  },
  {
   "cell_type": "code",
   "execution_count": 24,
   "id": "84b493f2",
   "metadata": {},
   "outputs": [
    {
     "name": "stdout",
     "output_type": "stream",
     "text": [
      "works!\n"
     ]
    }
   ],
   "source": [
    "def convert_simplify_SD(df):\n",
    "    i = df\n",
    "    i = i.rename(columns={'date_stop':'Date',\n",
    "                          'time_stop':'Time',\n",
    "                          'stop_in_response_to_cfs':'Service Call',\n",
    "                          'stopduration':'Duration',\n",
    "                          'exp_years':'Experience',\n",
    "                          'pid':'PID',\n",
    "#                           'stop_id':'stop id',\n",
    "                          'race':'race',\n",
    "                          'gender':'sex',\n",
    "                          'perceived_age':'age',\n",
    "                          'reason_for_stop_detail':'type',\n",
    "                          'reason_for_stop':'reason',\n",
    "#                           'suspBase':'basis',\n",
    "                          'action':'actions taken',\n",
    "                          'basis_for_search':'search basis',\n",
    "                          'szrBase':'seizure basis',\n",
    "                          'type_of_property_seized':'property seized',\n",
    "#                           'evid':'evidence',\n",
    "                          'result':'result'})\n",
    "\n",
    "    i = i[(i['Service Call']!='Y')\\\n",
    "          &  (i['reason']=='Traffic Violation')\\\n",
    "          &  ((i['type'] == 'Moving Violation') |\\\n",
    "              (i['type'] == 'Equipment Violation') |\\\n",
    "              (i['type'] == 'Non-moving Violation, including Registration Violation') |\\\n",
    "              (i['type'] == 'Other Reasonable Suspicion of a crime'))\n",
    "          &  (i['assignment']=='Patrol, traffic enforcement, field operations')\\\n",
    "          &  (i['isstudent']!=1)]\n",
    "\n",
    "    i.loc[i['type'] == 'Moving Violation','type'] = '1 Moving'\n",
    "    i.loc[i['type'] == 'Equipment Violation','type'] = '2 Equipment'\n",
    "    i.loc[i['type'] == 'Non-moving Violation, including Registration Violation','type'] = '3 Non-Moving'\n",
    "\n",
    "\n",
    "    output_df = i[['Date', 'Time','Duration','Experience','PID','race', 'sex','age','type',\n",
    "                   'reason', 'actions taken', 'search basis','property seized', \n",
    "                   'result']]\n",
    "    \n",
    "    \n",
    "    return output_df\n",
    "\n",
    "\n",
    "import glob\n",
    "path = os.getcwd()\n",
    "files = glob.glob(path + \"/*.csv\")\n",
    "\n",
    "SDPD = convert_simplify_SD(sdpd)\n",
    "\n",
    "SDPD.to_csv('ALL-SDPD-AB953.csv',index=False)\n",
    "print('works!')"
   ]
  },
  {
   "cell_type": "markdown",
   "id": "17ae5dda",
   "metadata": {},
   "source": [
    "## SFPD"
   ]
  },
  {
   "cell_type": "code",
   "execution_count": 25,
   "id": "6bbfe2b6",
   "metadata": {},
   "outputs": [],
   "source": [
    "import pandas as pd\n",
    "import numpy as np\n",
    "import os\n",
    "import glob\n",
    "import time"
   ]
  },
  {
   "cell_type": "code",
   "execution_count": 26,
   "id": "668cad8d",
   "metadata": {},
   "outputs": [
    {
     "name": "stdout",
     "output_type": "stream",
     "text": [
      "/Users/karatechop\n"
     ]
    }
   ],
   "source": [
    "cd"
   ]
  },
  {
   "cell_type": "code",
   "execution_count": 27,
   "id": "a51399ec",
   "metadata": {},
   "outputs": [
    {
     "name": "stdout",
     "output_type": "stream",
     "text": [
      "/Users/karatechop/Documents/GitHub/senior-thesis-pretextual-stops/Data/RIPA-DATA-CA-as-of-2022 (CSV)/Wave 1/SFPD SDCS (Stop Data Collection System data) \n"
     ]
    }
   ],
   "source": [
    "cd Documents/GitHub/senior-thesis-pretextual-stops/Data/RIPA-DATA-CA-as-of-2022\\ \\(CSV\\)/Wave 1/SFPD\\ SDCS\\ \\(Stop\\ Data\\ Collection\\ System\\ data\\)\\ "
   ]
  },
  {
   "cell_type": "code",
   "execution_count": 28,
   "id": "f6c70d87",
   "metadata": {},
   "outputs": [
    {
     "name": "stdout",
     "output_type": "stream",
     "text": [
      "ALL-SFPD-AB953.csv  SFPD_SDCS_2019.csv  SFPD_SDCS_2021.csv\r\n",
      "SFPD_SDCS_2018.csv  SFPD_SDCS_2020.csv  \u001b[34moriginal\u001b[m\u001b[m/\r\n"
     ]
    }
   ],
   "source": [
    "ls"
   ]
  },
  {
   "cell_type": "code",
   "execution_count": 29,
   "id": "6b8462d8",
   "metadata": {
    "scrolled": true
   },
   "outputs": [
    {
     "name": "stderr",
     "output_type": "stream",
     "text": [
      "/var/folders/td/yc8lq2qx2ks3ck292tbf6wtm0000gn/T/ipykernel_73655/1833817849.py:1: DtypeWarning: Columns (18,31,44) have mixed types. Specify dtype option on import or set low_memory=False.\n",
      "  sf18 = pd.read_csv('SFPD_SDCS_2018.csv')\n"
     ]
    },
    {
     "data": {
      "text/plain": [
       "(53501, 47)"
      ]
     },
     "execution_count": 29,
     "metadata": {},
     "output_type": "execute_result"
    }
   ],
   "source": [
    "sf18 = pd.read_csv('SFPD_SDCS_2018.csv')\n",
    "sf18.shape"
   ]
  },
  {
   "cell_type": "code",
   "execution_count": 30,
   "id": "d8d3094a",
   "metadata": {},
   "outputs": [],
   "source": [
    "# sf18['Traffic Violation Type'].value_counts()"
   ]
  },
  {
   "cell_type": "code",
   "execution_count": 31,
   "id": "49e96ea2",
   "metadata": {},
   "outputs": [],
   "source": [
    "# sf18.columns"
   ]
  },
  {
   "cell_type": "code",
   "execution_count": 32,
   "id": "1dfaf10a",
   "metadata": {
    "scrolled": false
   },
   "outputs": [
    {
     "name": "stderr",
     "output_type": "stream",
     "text": [
      "/var/folders/td/yc8lq2qx2ks3ck292tbf6wtm0000gn/T/ipykernel_73655/342681512.py:45: DtypeWarning: Columns (18,31,44) have mixed types. Specify dtype option on import or set low_memory=False.\n",
      "  df = convert_simplify_SF(pd.read_csv(i))\n"
     ]
    },
    {
     "name": "stdout",
     "output_type": "stream",
     "text": [
      "sf2018 was (31125, 16)\n",
      "sf2018 is merged! SFPD shape is now (31129, 16)\n"
     ]
    },
    {
     "name": "stderr",
     "output_type": "stream",
     "text": [
      "/var/folders/td/yc8lq2qx2ks3ck292tbf6wtm0000gn/T/ipykernel_73655/342681512.py:45: DtypeWarning: Columns (18,31) have mixed types. Specify dtype option on import or set low_memory=False.\n",
      "  df = convert_simplify_SF(pd.read_csv(i))\n"
     ]
    },
    {
     "name": "stdout",
     "output_type": "stream",
     "text": [
      "sf2019 was (63096, 16)\n",
      "sf2019 is merged! SFPD shape is now (94225, 16)\n",
      "sf2020 was (16055, 16)\n",
      "sf2020 is merged! SFPD shape is now (110280, 16)\n"
     ]
    },
    {
     "name": "stderr",
     "output_type": "stream",
     "text": [
      "/var/folders/td/yc8lq2qx2ks3ck292tbf6wtm0000gn/T/ipykernel_73655/342681512.py:45: DtypeWarning: Columns (13,17,18,26,42,44,51,53,55,57,64,66,79,81,83,85,92,94,107,109,111,113,120,122,135,137,139,141,148,150,163,165,167,169,176,178,191,193,195,197,204,206,219,221,223,225,232,234,247,249,251,253,260,262,275,277,279,281,288,290,294,303,305,307,309,316,318,331,333,335,337,344,346,359,361,363,365,372,374,378,387,389,391,393,400,402,406,415,417,419,421,428,430,434,443,445,447,449,456,458,471,473,475,477,484,486,490,499,501,503,505,512,527,529,531,533,540,555,557,559,561,568,570,574,583,585,587,589,596,598,602,611,613,615,617,624,626,630) have mixed types. Specify dtype option on import or set low_memory=False.\n",
      "  df = convert_simplify_SF(pd.read_csv(i))\n"
     ]
    },
    {
     "name": "stdout",
     "output_type": "stream",
     "text": [
      "sf2021 was (20697, 16)\n",
      "sf2021 is merged! SFPD shape is now (130977, 16)\n"
     ]
    }
   ],
   "source": [
    "def convert_simplify_SF(df):\n",
    "    i = df\n",
    "    i = i.rename(columns={'Date of Stop':'Date',\n",
    "                          'Time of Stop':'Time',\n",
    "                          'Duration of Stop':'Duration',\n",
    "                          'Officer Years of Experience':'Experience',\n",
    "                          'Person Number':'PID',\n",
    "                          'Perceived Race or Ethnicity':'race',\n",
    "                          'Perceived Gender 1-4':'sex',\n",
    "                          'Perceived Age':'age',\n",
    "                          'Traffic Violation Type':'type',\n",
    "                          'Reason for Stop':'reason',\n",
    "                          'Suspicion Sub-Type':'basis',\n",
    "                          'Actions Taken':'actions taken',\n",
    "                          'Basis for Search':'search basis',\n",
    "                          'Basis for Property Seizure':'seizure basis',\n",
    "#                           'Basis for Property Seizure':'',\n",
    "                          'Contraband or Evidence':'property seized',\n",
    "                          'Results of Stop':'result'})\n",
    "\n",
    "    i = i[(i['Is Stop Made in Response to Call for Service']!='Y')\\\n",
    "#           & ((i['type']==1) | (i['type']==2))\\\n",
    "          &  (i['reason']==1)\\\n",
    "          &  (i['Is Location a K-12 Public School']!='Y')]\n",
    "\n",
    "    i.loc[i['type'] == 1,'type'] = '1 Moving'\n",
    "    i.loc[i['type'] == 2,'type'] = '2 Equipment'\n",
    "    i.loc[i['type'] == 3,'type'] = '3 Non-Moving'\n",
    "\n",
    "\n",
    "    output_df = i[['Date', 'Time','Duration','Experience','PID','race', 'sex','age','type',\n",
    "                   'reason','basis', 'actions taken', 'search basis', 'seizure basis','property seized', \n",
    "                   'result']]\n",
    "    \n",
    "    \n",
    "    return output_df\n",
    "\n",
    "\n",
    "path = os.getcwd()\n",
    "files = glob.glob(path + \"/*.csv\")\n",
    "year = 2018\n",
    "\n",
    "for i in files:  \n",
    "    if 'AB953' not in i:\n",
    "        df = convert_simplify_SF(pd.read_csv(i))\n",
    "\n",
    "        if year == 2018:\n",
    "            SFPD = pd.merge(convert_simplify_SF(sf18),df,how='outer')\n",
    "        else:\n",
    "            SFPD = pd.merge(SFPD,df,how='outer')\n",
    "\n",
    "        print(f'sf{year} was {df.shape}')\n",
    "        print(f'sf{year} is merged! SFPD shape is now {SFPD.shape}')\n",
    "        year+=1\n",
    "SFPD.to_csv('ALL-SFPD-AB953.csv',index=False)"
   ]
  },
  {
   "cell_type": "markdown",
   "id": "6ef3b222",
   "metadata": {},
   "source": [
    "### looking for perceived"
   ]
  },
  {
   "cell_type": "code",
   "execution_count": 33,
   "id": "a3a82a54",
   "metadata": {},
   "outputs": [],
   "source": [
    "import warnings\n",
    "warnings.filterwarnings(\"ignore\")"
   ]
  },
  {
   "cell_type": "code",
   "execution_count": 34,
   "id": "c3313b56",
   "metadata": {},
   "outputs": [
    {
     "name": "stdout",
     "output_type": "stream",
     "text": [
      "/Users/karatechop\n"
     ]
    }
   ],
   "source": [
    "cd"
   ]
  },
  {
   "cell_type": "code",
   "execution_count": 35,
   "id": "4163e17b",
   "metadata": {},
   "outputs": [
    {
     "name": "stdout",
     "output_type": "stream",
     "text": [
      "/Users/karatechop/Documents/GitHub/senior-thesis-pretextual-stops/Data/RIPA-DATA-CA-as-of-2022 (CSV)\n"
     ]
    }
   ],
   "source": [
    "cd /Users/karatechop/Documents/GitHub/senior-thesis-pretextual-stops/Data/RIPA-DATA-CA-as-of-2022 (CSV)/"
   ]
  },
  {
   "cell_type": "code",
   "execution_count": 36,
   "id": "4796b3e4",
   "metadata": {},
   "outputs": [
    {
     "name": "stdout",
     "output_type": "stream",
     "text": [
      "All Requests • MuckRock.webloc    \u001b[34mWave 1\u001b[m\u001b[m/\r\n",
      "\u001b[34mIn Progress\u001b[m\u001b[m/                      \u001b[34mWave 2\u001b[m\u001b[m/\r\n",
      "README.md                         \u001b[34mWaves 3_4\u001b[m\u001b[m/\r\n"
     ]
    }
   ],
   "source": [
    "ls"
   ]
  },
  {
   "cell_type": "code",
   "execution_count": 37,
   "id": "d75fb07b",
   "metadata": {
    "scrolled": false
   },
   "outputs": [
    {
     "name": "stdout",
     "output_type": "stream",
     "text": [
      "raceperceivedprior\n",
      "/Users/karatechop/Documents/GitHub/senior-thesis-pretextual-stops/Data/RIPA-DATA-CA-as-of-2022 (CSV)/Wave 2/Oakland PD/Cleaned_Stop_Data_2021_for_PRR_Requests_NONDISPATCH_TRAFFIC_STOPS.csv\n",
      "\n",
      "\n",
      "raceperceivedprior\n",
      "/Users/karatechop/Documents/GitHub/senior-thesis-pretextual-stops/Data/RIPA-DATA-CA-as-of-2022 (CSV)/Wave 2/Oakland PD/Stop_Data_for_Release_Jan_2017_to_Feb_2021_1_2.csv\n",
      "\n",
      "\n",
      "raceperceivedprior\n",
      "/Users/karatechop/Documents/GitHub/senior-thesis-pretextual-stops/Data/RIPA-DATA-CA-as-of-2022 (CSV)/Wave 2/Oakland PD/Cleaned_Stop_Data_2021_for_PRR_Requests.csv\n",
      "\n",
      "\n",
      "race perceived prior to stop\n",
      "/Users/karatechop/Documents/GitHub/senior-thesis-pretextual-stops/Data/RIPA-DATA-CA-as-of-2022 (CSV)/Waves 3_4/Berkeley PD/Berkeley_PD_-_Stop_Data__October_1__2020_-_Present_.csv\n",
      "\n",
      "\n",
      "race noted before detention\n",
      "/Users/karatechop/Documents/GitHub/senior-thesis-pretextual-stops/Data/RIPA-DATA-CA-as-of-2022 (CSV)/Waves 3_4/Marin County Sherrifs Office/PRA_RIPA_Marin_County_Sheriff.csv\n",
      "\n",
      "\n"
     ]
    }
   ],
   "source": [
    "import os\n",
    "from glob import glob\n",
    "\n",
    "PATH = os.getcwd()\n",
    "EXT = \"*.csv\"\n",
    "\n",
    "\n",
    "for path, subdir, files in os.walk(PATH):\n",
    "    for file in glob(os.path.join(path, EXT)):\n",
    "        df = pd.read_csv(file, index_col=None)\n",
    "        \n",
    "        for col in df.columns:\n",
    "            col = col.lower()\n",
    "            if 'prior' in col:\n",
    "                print(f'{col}\\n{file}\\n\\n')\n",
    "                \n",
    "        for col in df.columns:\n",
    "            col = col.lower()\n",
    "            if 'before' in col:\n",
    "                print(f'{col}\\n{file}\\n\\n')\n",
    "        \n",
    "#         print('\\n\\n\\n\\n\\n\\n')\n",
    "                \n",
    "#         for col in df.columns:\n",
    "#             col = col.lower()\n",
    "#             if 'race' in col:\n",
    "#                 print(f'{col}\\n{file}\\n\\n')\n",
    "        "
   ]
  }
 ],
 "metadata": {
  "kernelspec": {
   "display_name": "Python 3 (ipykernel)",
   "language": "python",
   "name": "python3"
  },
  "language_info": {
   "codemirror_mode": {
    "name": "ipython",
    "version": 3
   },
   "file_extension": ".py",
   "mimetype": "text/x-python",
   "name": "python",
   "nbconvert_exporter": "python",
   "pygments_lexer": "ipython3",
   "version": "3.9.12"
  }
 },
 "nbformat": 4,
 "nbformat_minor": 5
}
