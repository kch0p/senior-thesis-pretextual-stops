{
 "cells": [
  {
   "cell_type": "code",
   "execution_count": 1,
   "id": "28f88b15",
   "metadata": {},
   "outputs": [],
   "source": [
    "import pandas as pd\n",
    "import numpy as np\n",
    "import os\n",
    "from glob import glob\n",
    "import matplotlib.pyplot as plt\n",
    "import time\n",
    "\n",
    "pd.set_option('display.max_columns', None) "
   ]
  },
  {
   "cell_type": "code",
   "execution_count": 2,
   "id": "bf93c5c5",
   "metadata": {},
   "outputs": [],
   "source": [
    "# RIPA_factors = 'ORI number\\nDate, time, and duration of the stop\\nLocation of stop\\nPerceived race or ethnicity of person stopped\\nPerceived gender of person stopped\\nPerson stopped perceived to be LGBT\\nPerceived age of person stopped\\nPerson stopped has limited or no English fluency\\nPerceived or known disability or person stopped\\nReason for stop\\nStop made in response to a call for service\\nActions taken by officer during stop\\nResults of stop\\nOfficer’s Identification (ID) Number\\nOfficer’s years of experience\\nType of assignment of officer'\n",
    "# RIPA_cols_to_keep = RIPA_factors.splitlines"
   ]
  },
  {
   "cell_type": "code",
   "execution_count": 3,
   "id": "5b46c60d",
   "metadata": {},
   "outputs": [],
   "source": [
    "# RIPA_cols_to_keep"
   ]
  },
  {
   "cell_type": "markdown",
   "id": "6ef3b222",
   "metadata": {},
   "source": [
    "### looking for perceived"
   ]
  },
  {
   "cell_type": "code",
   "execution_count": 4,
   "id": "a3a82a54",
   "metadata": {},
   "outputs": [],
   "source": [
    "import warnings\n",
    "warnings.filterwarnings(\"ignore\")"
   ]
  },
  {
   "cell_type": "code",
   "execution_count": 5,
   "id": "c3313b56",
   "metadata": {},
   "outputs": [
    {
     "name": "stdout",
     "output_type": "stream",
     "text": [
      "/Users/karatechop\n"
     ]
    }
   ],
   "source": [
    "cd"
   ]
  },
  {
   "cell_type": "code",
   "execution_count": 6,
   "id": "4163e17b",
   "metadata": {},
   "outputs": [
    {
     "name": "stdout",
     "output_type": "stream",
     "text": [
      "/Users/karatechop/Documents/GitHub/senior-thesis-pretextual-stops/Data/RIPA-DATA-CA-as-of-2022 (CSV)/Waves 3_4\n"
     ]
    }
   ],
   "source": [
    "cd /Users/karatechop/Documents/GitHub/senior-thesis-pretextual-stops/Data/RIPA-DATA-CA-as-of-2022 (CSV)/Waves 3_4"
   ]
  },
  {
   "cell_type": "code",
   "execution_count": 7,
   "id": "4796b3e4",
   "metadata": {
    "scrolled": true
   },
   "outputs": [
    {
     "name": "stdout",
     "output_type": "stream",
     "text": [
      "\u001b[34mBerkeley PD\u001b[m\u001b[m/                  \u001b[34mMarin County Sherrifs Office\u001b[m\u001b[m/\r\n",
      "\u001b[34mDavis PD\u001b[m\u001b[m/\r\n"
     ]
    }
   ],
   "source": [
    "ls"
   ]
  },
  {
   "cell_type": "code",
   "execution_count": 208,
   "id": "d75fb07b",
   "metadata": {
    "scrolled": false
   },
   "outputs": [
    {
     "name": "stdout",
     "output_type": "stream",
     "text": [
      "race perceived prior to stop\n",
      "/Users/karatechop/Documents/GitHub/senior-thesis-pretextual-stops/Data/RIPA-DATA-CA-as-of-2022 (CSV)/Waves 3_4/Berkeley PD/Berkeley_PD_-_Stop_Data__October_1__2020_-_Present_.csv\n",
      "\n",
      "\n",
      "race perceived prior\n",
      "/Users/karatechop/Documents/GitHub/senior-thesis-pretextual-stops/Data/RIPA-DATA-CA-as-of-2022 (CSV)/Waves 3_4/Berkeley PD/ALL-BPD-AB953.csv\n",
      "\n",
      "\n",
      "race noted before detention\n",
      "/Users/karatechop/Documents/GitHub/senior-thesis-pretextual-stops/Data/RIPA-DATA-CA-as-of-2022 (CSV)/Waves 3_4/Marin County Sherrifs Office/PRA_RIPA_Marin_County_Sheriff.csv\n",
      "\n",
      "\n"
     ]
    }
   ],
   "source": [
    "import os\n",
    "from glob import glob\n",
    "\n",
    "PATH = os.getcwd()\n",
    "EXT = \"*.csv\"\n",
    "\n",
    "\n",
    "for path, subdir, files in os.walk(PATH):\n",
    "    for file in glob(os.path.join(path, EXT)):\n",
    "        df = pd.read_csv(file, index_col=None)\n",
    "        \n",
    "        for col in df.columns:\n",
    "            col = col.lower()\n",
    "            if 'prior' in col:\n",
    "                print(f'{col}\\n{file}\\n\\n')\n",
    "                \n",
    "        for col in df.columns:\n",
    "            col = col.lower()\n",
    "            if 'before' in col:\n",
    "                print(f'{col}\\n{file}\\n\\n')\n",
    "        \n",
    "#         print('\\n\\n\\n\\n\\n\\n')\n",
    "                \n",
    "#         for col in df.columns:\n",
    "#             col = col.lower()\n",
    "#             if 'race' in col:\n",
    "#                 print(f'{col}\\n{file}\\n\\n')\n",
    "        "
   ]
  },
  {
   "cell_type": "markdown",
   "id": "78222fc9",
   "metadata": {},
   "source": [
    "# WAVE(s) 3-4"
   ]
  },
  {
   "cell_type": "markdown",
   "id": "315f0f7d",
   "metadata": {},
   "source": [
    "## Berkeley PD"
   ]
  },
  {
   "cell_type": "code",
   "execution_count": 8,
   "id": "fb927eb2",
   "metadata": {
    "scrolled": true
   },
   "outputs": [
    {
     "name": "stdout",
     "output_type": "stream",
     "text": [
      "/Users/karatechop\n"
     ]
    }
   ],
   "source": [
    "cd"
   ]
  },
  {
   "cell_type": "code",
   "execution_count": 9,
   "id": "c9ed1978",
   "metadata": {
    "scrolled": true
   },
   "outputs": [
    {
     "name": "stdout",
     "output_type": "stream",
     "text": [
      "/Users/karatechop/Documents/GitHub/senior-thesis-pretextual-stops/Data/RIPA-DATA-CA-as-of-2022 (CSV)/Waves 3_4/Berkeley PD\n"
     ]
    }
   ],
   "source": [
    "cd '/Users/karatechop/Documents/GitHub/senior-thesis-pretextual-stops/Data/RIPA-DATA-CA-as-of-2022 (CSV)/Waves 3_4/Berkeley PD'"
   ]
  },
  {
   "cell_type": "code",
   "execution_count": 10,
   "id": "112bd037",
   "metadata": {},
   "outputs": [
    {
     "name": "stdout",
     "output_type": "stream",
     "text": [
      "ALL-BPD-AB953.csv\r\n",
      "Berkeley_PD_-_Stop_Data__October_1__2020_-_Present_.csv\r\n",
      "Results for \"stops ripa\" | Page 1 of 1 | Open Data | City of Berkeley.webloc\r\n"
     ]
    }
   ],
   "source": [
    "ls"
   ]
  },
  {
   "cell_type": "code",
   "execution_count": 14,
   "id": "19d45274",
   "metadata": {},
   "outputs": [
    {
     "name": "stdout",
     "output_type": "stream",
     "text": [
      "['Location' 'Is Location a K12 Public School']\n"
     ]
    }
   ],
   "source": [
    "import os\n",
    "from glob import glob\n",
    "\n",
    "PATH = os.getcwd()\n",
    "EXT = \"*.csv\"\n",
    "\n",
    "cols = []\n",
    "for path, subdir, files in os.walk(PATH):\n",
    "    for file in glob(os.path.join(path, EXT)):\n",
    "        df = pd.read_csv(file, index_col=None)\n",
    "        \n",
    "        for col in df.columns:\n",
    "            cols.append(col)\n",
    "                \n",
    "print(pd.unique([match for match in cols if 'loc'.lower() in match.lower()]))"
   ]
  },
  {
   "cell_type": "code",
   "execution_count": 241,
   "id": "778bb59e",
   "metadata": {
    "scrolled": false
   },
   "outputs": [],
   "source": [
    "berk = pd.read_csv('Berkeley_PD_-_Stop_Data__October_1__2020_-_Present_.csv')\n",
    "# berk['Is Stop Made in Response to Call for Service'].value_counts()\n",
    "# berk['Perceived Race or Ethnicity'].value_counts()"
   ]
  },
  {
   "cell_type": "code",
   "execution_count": 20,
   "id": "15a2edd5",
   "metadata": {
    "scrolled": true
   },
   "outputs": [
    {
     "name": "stdout",
     "output_type": "stream",
     "text": [
      "no dropped pid dupes\n",
      "final BPD is (6466, 16)\n",
      "\n",
      "final saved!\n"
     ]
    }
   ],
   "source": [
    "import glob\n",
    "def convert_simplify_BK(df):\n",
    "    i = df\n",
    "    i = i.rename(columns={'Date of Stop':'date',\n",
    "#                           'StopDate':'Date',\n",
    "#                           'Date of Stop':'Date',\n",
    "                          'Time of Stop':'time',\n",
    "#                           'stopTime':'Time',\n",
    "#                           'Time of Stop':'Time',\n",
    "                          \n",
    "                          'Officer Type of Assignment':'assignment',\n",
    "#                           'Officer Type of Assignment':'assignment',\n",
    "                          \n",
    "                          'Is Stop Made in Response to Call for Service':'service call',\n",
    "#                           'stopInResponseToCFS':'service call',\n",
    "                          \n",
    "#                           'stopDuration':'Duration',\n",
    "                          'Duration of Stop':'Duration',\n",
    "                          \n",
    "                          'Person Number':'PID',\n",
    "                          \n",
    "                          'Perceived Race or Ethnicity':'race',\n",
    "                          'Race Perceived Prior To Stop':'race perceived prior',\n",
    "                          'Perceived Gender':'sex',\n",
    "#                           'Perceived Gender 1-4':'sex',\n",
    "                          'Perceived Age':'age',\n",
    "#                           'Perceived Age':'age',\n",
    "                          \n",
    "                          'Traffic Violation Type':'type',\n",
    "                          \n",
    "                          'Reason for Stop':'reason',\n",
    "                          'Suspicion SubType':'basis',\n",
    "                          'Actions Taken':'actions taken',\n",
    "                          \n",
    "                          'Basis for Search':'search basis',\n",
    "                          'Basis for Property Seizure':'seizure basis',\n",
    "                          'Type of Property Seized':'property seized',\n",
    "                          'Contraband or Evidence':'evidence',\n",
    "                          \n",
    "                          'Result of Stop':'result',\n",
    "                          'Traffic Violation Offense Codes':'offense code',\n",
    "                          \n",
    "                          'If K12 School Is Stop of a Student':'student',\n",
    "                          'Location':'location'})\n",
    "\n",
    "    i = i[(i['service call']!='True')\\\n",
    "          & (i['assignment']=='Patrol, traffic enforcement, field operations')\\\n",
    "#           & ((i['type']==1) | (i['type']==2) | (i['type']==3))\\\n",
    "          &  (i['reason']=='Traffic Violation')]\n",
    "\n",
    "    i.loc[i['type'] == 1,'type'] = '1 Moving'\n",
    "    i.loc[i['type'] == 2,'type'] = '2 Equipment'\n",
    "    i.loc[i['type'] == 3,'type'] = '3 Non-Moving'\n",
    "    \n",
    "    try:\n",
    "        i = i[i['student']!='True']\n",
    "    except:\n",
    "        print('no student drop')\n",
    "        pass\n",
    "    \n",
    "    \n",
    "\n",
    "    \n",
    "    try:     \n",
    "        i.loc[i['race'] == '1','race'] = 'asian'\n",
    "        i.loc[i['race'] == '2','race'] = 'black/african american'\n",
    "        i.loc[i['race'] == '3','race'] = 'hispanic/latino(a)'\n",
    "        i.loc[i['race'] == '4','race'] = 'middle eastern or south asian'\n",
    "        i.loc[i['race'] == '5','race'] = 'native american'\n",
    "        i.loc[i['race'] == '6','race'] = 'pacific islander'\n",
    "        i.loc[i['race'] == '7','race'] = 'white'\n",
    "        i.loc[i['race'] == 1,'race'] = 'asian'\n",
    "        i.loc[i['race'] == 2,'race'] = 'black/african american'\n",
    "        i.loc[i['race'] == 3,'race'] = 'hispanic/latino(a)'\n",
    "        i.loc[i['race'] == 4,'race'] = 'middle eastern or south asian'\n",
    "        i.loc[i['race'] == 5,'race'] = 'native american'\n",
    "        i.loc[i['race'] == 6,'race'] = 'pacific islander'\n",
    "        i.loc[i['race'] == 7,'race'] = 'white'\n",
    "    except: \n",
    "        print('race switch failed')\n",
    "        pass\n",
    " \n",
    "    already_good = ['asian','black/african american','hispanic/latino(a)','middle eastern or south asian',\n",
    "                    'native american','pacific islander','white','location']\n",
    "    \n",
    "    race_list = []\n",
    "    for race in i['race']:\n",
    "        try:\n",
    "            if len(race.split('|'))>1:\n",
    "                race_list.append('mixed')\n",
    "            else:\n",
    "                race_list.append(race)\n",
    "        except:\n",
    "            try:\n",
    "                race_str = race.str.replace(',','')\n",
    "                race_list.append(race_str)\n",
    "            except:\n",
    "                    race_list.append(race)\n",
    "\n",
    "\n",
    "    \n",
    "    i['race'] = [race.lower() for race in race_list]\n",
    "    i['race'] = i['race'].replace(',','', regex=True)\n",
    "    \n",
    "    \n",
    "#     try:\n",
    "#         i['Date'] = pd.to_datetime(i['Date'])\n",
    "#         i['Time'] = i['Date'].dt.time\n",
    "#     except: \n",
    "#         try: \n",
    "#             i['Time'] = i['Date'].dt.time\n",
    "#         except:\n",
    "#             print('no time changes')\n",
    "#             pass\n",
    "\n",
    "    \n",
    "    try: \n",
    "        i = i.drop_duplicates(subset=['stop_id'], keep='first')\n",
    "    except: \n",
    "        print('no dropped pid dupes')\n",
    "        pass\n",
    "    \n",
    "    \n",
    "    output_df = i[['date','time','Duration','race', 'sex','age','type', 'race perceived prior',\n",
    "                   'reason','offense code','basis', 'actions taken', 'property seized', 'search basis',\n",
    "                   'result','location']]\n",
    "\n",
    "    return output_df\n",
    "\n",
    "path = os.getcwd()\n",
    "files = glob.glob(path + \"/*.csv\")\n",
    "\n",
    "for i in files: \n",
    "    if 'AB953' not in i:\n",
    "        BPD = convert_simplify_BK(pd.read_csv(i))\n",
    "        \n",
    "print(f'final BPD is {BPD.shape}')\n",
    "\n",
    "BPD.to_csv('ALL-BPD-AB953.csv',index=False)\n",
    "print('\\nfinal saved!')"
   ]
  },
  {
   "cell_type": "code",
   "execution_count": 21,
   "id": "bff843a4",
   "metadata": {},
   "outputs": [
    {
     "data": {
      "text/plain": [
       "[10     1536\n",
       " 5      1137\n",
       " 8       581\n",
       " 15      513\n",
       " 7       444\n",
       "        ... \n",
       " 53        1\n",
       " 34        1\n",
       " 100       1\n",
       " 160       1\n",
       " 49        1\n",
       " Name: Duration, Length: 68, dtype: int64,\n",
       " white                         2074\n",
       " black/african american        1952\n",
       " hispanic/latino               1126\n",
       " asian                          639\n",
       " middle eastern/south asian     524\n",
       " mixed                          116\n",
       " pacific islander                35\n",
       " Name: race, dtype: int64,\n",
       " Male                      4556\n",
       " Female                    1901\n",
       " Transgender Woman/Girl       6\n",
       " Transgender Man/Boy          3\n",
       " Name: sex, dtype: int64,\n",
       " 30    1050\n",
       " 40     749\n",
       " 25     746\n",
       " 50     609\n",
       " 35     556\n",
       "       ... \n",
       " 84       1\n",
       " 6        1\n",
       " 78       1\n",
       " 82       1\n",
       " 2        1\n",
       " Name: age, Length: 72, dtype: int64,\n",
       " Moving Violation                                 4913\n",
       " Equipment Violation                              1183\n",
       " Non-moving violation / including registration     370\n",
       " Name: type, dtype: int64,\n",
       " False    5341\n",
       " True     1125\n",
       " Name: race perceived prior, dtype: int64,\n",
       " Traffic Violation    6466\n",
       " Name: reason, dtype: int64,\n",
       " VC 22450(A) FAIL STOP VEH:XWALK/ETC (I)      765\n",
       " VC 21453(A) FAIL STOP LINE/ETC AT RED (I)    611\n",
       " VC 22350 UNSAFE SPEED:PREVAIL COND (I)       564\n",
       " VC 23123(A) USE CELLPH W/DRIV W/O HFD (I)    525\n",
       " VC 5200(A) DISPLAY LIC PLATES WRONG (I)      450\n",
       "                                             ... \n",
       " VC 14601(A) DRIV:SUSP/ETC LIC:RECKLES (M)      1\n",
       " VC 27001 MISUSE VEHICLE HORN (I)               1\n",
       " VC 22348(C) SPEC VEH:WRONG PASS LANE (I)       1\n",
       " VC 24604 NO LAMP/FLAG/ETC EXT LOAD (I)         1\n",
       " VC 23109(A) ILLEGAL SPEED CONTEST (M)          1\n",
       " Name: offense code, Length: 193, dtype: int64,\n",
       " Series([], Name: basis, dtype: int64),\n",
       " 24                   5361\n",
       " 6                     256\n",
       " 1                      48\n",
       " 1|5|18|20              38\n",
       " 1|18|20                29\n",
       "                      ... \n",
       " 1|4|19                  1\n",
       " 1|5|6|18|20|22|21       1\n",
       " 2|20|19                 1\n",
       " 2|6|5|20|21|18          1\n",
       " 5|3|18|19               1\n",
       " Name: actions taken, Length: 328, dtype: int64,\n",
       " Drugs/narcotics                                                                                     8\n",
       " Drugs/narcotics|Drug paraphernalia                                                                  6\n",
       " Other contraband or evidence                                                                        4\n",
       " Drug paraphernalia                                                                                  3\n",
       " Firearms|Ammunition                                                                                 3\n",
       " Drugs/narcotics|Drug paraphernalia|Suspected stolen property                                        2\n",
       " Alcohol                                                                                             2\n",
       " Suspected stolen property| Other contraband or evidence                                             2\n",
       " Drugs/narcotics|Weapon(s) other than firearm|Suspected stolen property                              1\n",
       " Drugs/narcotics| Other contraband or evidence                                                       1\n",
       " Ammunition                                                                                          1\n",
       " Firearms|Ammunition|Drugs/narcotics|Money|Drug paraphernalia|Cell phone(s) or electronic devices    1\n",
       " Drugs/narcotics|Alcohol                                                                             1\n",
       " Drugs/narcotics| Other contraband or evidence|Drug paraphernalia                                    1\n",
       " Vehicle| Other contraband or evidence                                                               1\n",
       " Firearms|Ammunition| Vehicle|Suspected stolen property                                              1\n",
       " Drugs/narcotics|Drug paraphernalia| Other contraband or evidence                                    1\n",
       " Other contraband or evidence|Cell phone(s) or electronic devices                                    1\n",
       " Drugs/narcotics|Suspected stolen property| Other contraband or evidence                             1\n",
       " Firearms|Ammunition|Suspected stolen property                                                       1\n",
       " Ammunition|Drugs/narcotics                                                                          1\n",
       " Firearms|Drugs/narcotics|Ammunition|Cell phone(s) or electronic devices|Money                       1\n",
       " Firearms|Ammunition|Cell phone(s) or electronic devices|Drugs/narcotics                             1\n",
       " Firearms|Ammunition|Cell phone(s) or electronic devices                                             1\n",
       " Drugs/narcotics|Money|Drug paraphernalia|Cell phone(s) or electronic devices                        1\n",
       " Firearms|Ammunition|Drugs/narcotics                                                                 1\n",
       " Weapon(s) other than firearm                                                                        1\n",
       " Firearms|Drugs/narcotics                                                                            1\n",
       " Cell phone(s) or electronic devices                                                                 1\n",
       " Drugs/narcotics|Money|Cell phone(s) or electronic devices                                           1\n",
       " Firearms|Cell phone(s) or electronic devices| Other contraband or evidence                          1\n",
       " Suspected stolen property| Other contraband or evidence|Cell phone(s) or electronic devices         1\n",
       " Name: property seized, dtype: int64,\n",
       " Condition of parole/probation/PRCS/mandatory supervision                                     118\n",
       " Incident to arrest                                                                            56\n",
       " Visible contraband                                                                            47\n",
       " Consent given                                                                                 43\n",
       " Officer safety/safety of others                                                               30\n",
       "                                                                                             ... \n",
       " Consent given|Condition of parole/probation/PRCS/mandatory supervision|Visible contraband      1\n",
       " Officer safety/safety of others|Suspected weapons|Visible contraband                           1\n",
       " Consent given|Visible contraband|Odor of contraband|Evidence of crime| Incident to arrest      1\n",
       " Consent given|Suspected weapons|Condition of parole/probation/PRCS/mandatory supervision       1\n",
       " Odor of contraband|Visible contraband| Incident to arrest                                      1\n",
       " Name: search basis, Length: 108, dtype: int64,\n",
       " Citation for infraction                                                                                                                 2740\n",
       " Warning (verbal or written)                                                                                                             2639\n",
       " No action                                                                                                                                703\n",
       " Custodial arrest without warrant                                                                                                         145\n",
       " In-field cite and release                                                                                                                 69\n",
       " Custodial arrest pursuant to outstanding warrant                                                                                          52\n",
       " Citation for infraction|Warning (verbal or written)                                                                                       35\n",
       " Custodial arrest pursuant to outstanding warrant|Custodial arrest without warrant                                                         15\n",
       " Warning (verbal or written)|Citation for infraction                                                                                        9\n",
       " Custodial arrest without warrant|Custodial arrest pursuant to outstanding warrant                                                          8\n",
       " Citation for infraction|Contacted parent/legal guardian or other person responsible for the minor                                          7\n",
       " Warning (verbal or written)|Field interview card completed                                                                                 7\n",
       " Field interview card completed                                                                                                             6\n",
       " Citation for infraction|In-field cite and release                                                                                          5\n",
       " In-field cite and release|Citation for infraction                                                                                          4\n",
       " Field interview card completed|Warning (verbal or written)                                                                                 3\n",
       " In-field cite and release|Noncriminal transport or caretaking transport (including transport by officer / ambulance or other agency)       2\n",
       " Warning (verbal or written)|Custodial arrest pursuant to outstanding warrant                                                               2\n",
       " Warning (verbal or written)| Psychiatric hold (W&I Code 5150 or 5585.20)                                                                   1\n",
       " Citation for infraction|Custodial arrest pursuant to outstanding warrant                                                                   1\n",
       " In-field cite and release|Custodial arrest pursuant to outstanding warrant|Warning (verbal or written)                                     1\n",
       " Custodial arrest pursuant to outstanding warrant| Psychiatric hold (W&I Code 5150 or 5585.20)                                              1\n",
       " In-field cite and release|Custodial arrest pursuant to outstanding warrant                                                                 1\n",
       " Contacted parent/legal guardian or other person responsible for the minor|Warning (verbal or written)                                      1\n",
       " Citation for infraction| Psychiatric hold (W&I Code 5150 or 5585.20)                                                                       1\n",
       " Warning (verbal or written)|In-field cite and release                                                                                      1\n",
       " Custodial arrest pursuant to outstanding warrant|Field interview card completed                                                            1\n",
       " Warning (verbal or written)|Custodial arrest without warrant                                                                               1\n",
       " Noncriminal transport or caretaking transport (including transport by officer / ambulance or other agency)                                 1\n",
       " Noncriminal transport or caretaking transport (including transport by officer / ambulance or other agency)|Citation for infraction         1\n",
       " Psychiatric hold (W&I Code 5150 or 5585.20)                                                                                                1\n",
       " Custodial arrest pursuant to outstanding warrant|Warning (verbal or written)                                                               1\n",
       " Citation for infraction|Field interview card completed                                                                                     1\n",
       " Name: result, dtype: int64,\n",
       " University Ave                             89\n",
       " 800 block of University Ave                81\n",
       " 2100 block of Martin Luther King Jr Way    71\n",
       " 2900 block of 7th St                       58\n",
       " 1000 block of University Ave               57\n",
       "                                            ..\n",
       " 2100 block of MLK junior way                1\n",
       " 3300 block of California St                 1\n",
       " I-580 E, North of University Ave            1\n",
       " 7th st @Anthony st                          1\n",
       " 1600 block of McGee Ave                     1\n",
       " Name: location, Length: 1687, dtype: int64]"
      ]
     },
     "execution_count": 21,
     "metadata": {},
     "output_type": "execute_result"
    }
   ],
   "source": [
    "df = BPD\n",
    "[df[col].value_counts() for col in df.columns[2:]] "
   ]
  },
  {
   "cell_type": "code",
   "execution_count": 22,
   "id": "86d6dd1d",
   "metadata": {},
   "outputs": [
    {
     "data": {
      "text/plain": [
       "white                         2074\n",
       "black/african american        1952\n",
       "hispanic/latino               1126\n",
       "asian                          639\n",
       "middle eastern/south asian     524\n",
       "mixed                          116\n",
       "pacific islander                35\n",
       "Name: race, dtype: int64"
      ]
     },
     "execution_count": 22,
     "metadata": {},
     "output_type": "execute_result"
    }
   ],
   "source": [
    "BPD['race'].value_counts()"
   ]
  },
  {
   "cell_type": "markdown",
   "id": "dbabe885",
   "metadata": {},
   "source": [
    "## Davis PD"
   ]
  },
  {
   "cell_type": "code",
   "execution_count": 23,
   "id": "6e6da5de",
   "metadata": {
    "scrolled": true
   },
   "outputs": [
    {
     "name": "stdout",
     "output_type": "stream",
     "text": [
      "/Users/karatechop\n"
     ]
    }
   ],
   "source": [
    "cd"
   ]
  },
  {
   "cell_type": "code",
   "execution_count": 24,
   "id": "2ad3e8f1",
   "metadata": {
    "scrolled": true
   },
   "outputs": [
    {
     "name": "stdout",
     "output_type": "stream",
     "text": [
      "/Users/karatechop/Documents/GitHub/senior-thesis-pretextual-stops/Data/RIPA-DATA-CA-as-of-2022 (CSV)/Waves 3_4/Davis PD\n"
     ]
    }
   ],
   "source": [
    "cd '/Users/karatechop/Documents/GitHub/senior-thesis-pretextual-stops/Data/RIPA-DATA-CA-as-of-2022 (CSV)/Waves 3_4/Davis PD'"
   ]
  },
  {
   "cell_type": "code",
   "execution_count": 25,
   "id": "f060b618",
   "metadata": {},
   "outputs": [
    {
     "name": "stdout",
     "output_type": "stream",
     "text": [
      "ALL-DAVIS-AB953.csv\r\n",
      "Jan-Dec_2020_Reported_Stop_Data_PUBLIC.csv\r\n",
      "\u001b[34moriginal\u001b[m\u001b[m/\r\n"
     ]
    }
   ],
   "source": [
    "ls"
   ]
  },
  {
   "cell_type": "code",
   "execution_count": 30,
   "id": "a44e8927",
   "metadata": {},
   "outputs": [
    {
     "name": "stdout",
     "output_type": "stream",
     "text": [
      "[]\n"
     ]
    }
   ],
   "source": [
    "import os\n",
    "from glob import glob\n",
    "\n",
    "PATH = os.getcwd()\n",
    "EXT = \"*.csv\"\n",
    "\n",
    "cols = []\n",
    "for path, subdir, files in os.walk(PATH):\n",
    "    for file in glob(os.path.join(path, EXT)):\n",
    "        df = pd.read_csv(file, index_col=None)\n",
    "        \n",
    "        for col in df.columns:\n",
    "            cols.append(col)\n",
    "                \n",
    "print(pd.unique([match for match in cols if 'address'.lower() in match.lower()]))"
   ]
  },
  {
   "cell_type": "code",
   "execution_count": 27,
   "id": "7d0e8175",
   "metadata": {},
   "outputs": [
    {
     "data": {
      "text/plain": [
       "Index(['Date', 'Time', 'Street', 'Cross Street', 'Source of Call',\n",
       "       'Total OnScene Time', 'Stop - K-12?', 'Stop - School Code',\n",
       "       'Stop - Officer Assignment', 'Stop - Reason For',\n",
       "       'Stop - Suspicion Types', 'Stop - Violation Type', 'Stop - Perc Race',\n",
       "       'Stop - Perc Disabilities', 'Stop - Perc Gender', 'Stop - Perc LGBT?',\n",
       "       'Stop - Limited English?', 'Stop - Perc Age', 'Stop - Actions Taken',\n",
       "       'Stop - Search Basis', 'Stop - Evidence Discovered',\n",
       "       'Stop - Seized Property Basis', 'Stop - Seized Property Type',\n",
       "       'Stop - Result', 'Stop - Citation Code 1', 'Stop - Citation Desc 1',\n",
       "       'Stop - Custodial Code 1', 'Stop - Custodial Desc 1',\n",
       "       'Stop - Cite/Release Code 1', 'Stop - Cite/Release Desc 1',\n",
       "       'Stop - Warning Code 1', 'Stop - Warning Desc 1', 'Stop - Educ Section',\n",
       "       'Stop - Educ Subdivision'],\n",
       "      dtype='object')"
      ]
     },
     "execution_count": 27,
     "metadata": {},
     "output_type": "execute_result"
    }
   ],
   "source": [
    "davis = pd.read_csv('Jan-Dec_2020_Reported_Stop_Data_PUBLIC.csv')\n",
    "davis['Stop - Violation Type'].value_counts()\n",
    "davis.columns"
   ]
  },
  {
   "cell_type": "code",
   "execution_count": 36,
   "id": "4e8b247e",
   "metadata": {
    "scrolled": false
   },
   "outputs": [
    {
     "name": "stdout",
     "output_type": "stream",
     "text": [
      "no dropped pid dupes\n",
      "final DAVIS is (1496, 14)\n",
      "\n",
      "final saved!\n"
     ]
    }
   ],
   "source": [
    "import glob\n",
    "def convert_simplify_DAVIS(df):\n",
    "    i = df\n",
    "    i = i.rename(columns={'Date':'date',\n",
    "#                           'StopDate':'Date',\n",
    "#                           'Date of Stop':'Date',\n",
    "                          'Time':'time',\n",
    "#                           'stopTime':'Time',\n",
    "#                           'Time of Stop':'Time',\n",
    "                          \n",
    "                          'Stop - Officer Assignment':'assignment',\n",
    "#                           'Officer Type of Assignment':'assignment',\n",
    "                          \n",
    "                          'Source of Call':'service call',\n",
    "#                           'stopInResponseToCFS':'service call',\n",
    "                          \n",
    "#                           'stopDuration':'Duration',\n",
    "                          'Total OnScene Time':'Duration',\n",
    "                          \n",
    "                          'Person Number':'PID',\n",
    "                          \n",
    "                          'Stop - Perc Race':'race',\n",
    "#                           'Stop - Perc Race':'race perceived prior',\n",
    "                          'Stop - Perc Gender':'sex',\n",
    "#                           'Perceived Gender 1-4':'sex',\n",
    "                          'Stop - Perc Age':'age',\n",
    "#                           'Perceived Age':'age',\n",
    "                          \n",
    "                          'Stop - Violation Type':'type',\n",
    "                          \n",
    "                          'Stop - Reason For':'reason',\n",
    "#                           'Stop - Actions Taken':'basis',\n",
    "                          'Stop - Actions Taken':'actions taken',\n",
    "                          \n",
    "                          'Stop - Search Basis':'search basis',\n",
    "                          'Stop - Seized Property Basis':'seizure basis',\n",
    "                          'Stop - Seized Property Type':'property seized',\n",
    "                          'Stop - Evidence Discovered':'evidence',\n",
    "                          \n",
    "                          'Stop - Result':'result',\n",
    "                          'Stop - Citation Code 1':'offense code',\n",
    "                          \n",
    "                          'Stop - K-12?':'student',\n",
    "                          'Cross Street':'location'})\n",
    "\n",
    "    i = i[(i['assignment']=='Patrol, traffic enforcement, field operations')\\\n",
    "#           & ((i['type']==1) | (i['type']==2) | (i['type']==3))\\\n",
    "          &  (i['reason']=='Traffic violation')]\n",
    "\n",
    "    i.loc[i['type'] == 1,'type'] = '1 Moving'\n",
    "    i.loc[i['type'] == 2,'type'] = '2 Equipment'\n",
    "    i.loc[i['type'] == 3,'type'] = '3 Non-Moving'\n",
    "    \n",
    "    i.loc[i['type'] == 'Moving violation','type'] = '1 Moving'\n",
    "    i.loc[i['type'] == 'Equipment violation','type'] = '2 Equipment'\n",
    "    i.loc[i['type'] == 'Non-moving violation, including registration','type'] = '3 Non-Moving'\n",
    "    \n",
    "    try:\n",
    "        i = i[i['student']!='True']\n",
    "    except:\n",
    "        print('no student drop')\n",
    "        pass\n",
    "    \n",
    "    \n",
    "    \n",
    "    try: \n",
    "        i.loc[i['race'] == 'Asian','race'] = 'asian'    \n",
    "        i.loc[i['race'] == 'Black/African American','race'] = 'black/african american'    \n",
    "        i.loc[i['race'] == 'Hispanic/Latino','race'] = 'hispanic/latino(a)'    \n",
    "        i.loc[i['race'] == 'Middle Eastern or South Asian'] = 'middle eastern or south asian'    \n",
    "        i.loc[i['race'] == 'Native American','race'] = 'native american'   \n",
    "        i.loc[i['race'] == 'Pacific Islander','race'] = 'pacific islander'   \n",
    "        i.loc[i['race'] == 'White','race'] = 'white'\n",
    "        i['race'][~i['race'].isin(['asian','black/african american','hispanic/latino(a)','middle eastern or south asian',\n",
    "                'native american','pacific islander','white'])] = 'mixed'\n",
    "    except: \n",
    "        print('race switch failed')\n",
    "        pass\n",
    " \n",
    "    \n",
    "    race_list = []\n",
    "    for race in i['race']:\n",
    "        try:\n",
    "            if len(race.split('/'))>2:\n",
    "                race_list.append('mixed')\n",
    "            else:\n",
    "                race_list.append(race)\n",
    "        except:\n",
    "            try:\n",
    "                race_str = race.str.replace(',','')\n",
    "                race_list.append(race_str)\n",
    "            except:\n",
    "                    race_list.append(race)\n",
    "        \n",
    "    already_good = ['asian','black/african american','hispanic/latino(a)','middle eastern or south asian',\n",
    "                    'native american','pacific islander','white','mixed','location']\n",
    "    \n",
    "    i['race'] = race_list\n",
    "    i['race'] = i['race'].replace(',','', regex=True)\n",
    "    \n",
    "    \n",
    "#     try:\n",
    "#         i['Date'] = pd.to_datetime(i['Date'])\n",
    "#         i['Time'] = i['Date'].dt.time\n",
    "#     except: \n",
    "#         try: \n",
    "#             i['Time'] = i['Date'].dt.time\n",
    "#         except:\n",
    "#             print('no time changes')\n",
    "#             pass\n",
    "\n",
    "    \n",
    "    try: \n",
    "        i = i.drop_duplicates(subset=['stop_id'], keep='first')\n",
    "    except: \n",
    "        print('no dropped pid dupes')\n",
    "        pass\n",
    "    \n",
    "    \n",
    "    output_df = i[['date','time','Duration','race', 'sex','age','type',\n",
    "                   'reason','offense code', 'actions taken', 'property seized', 'search basis',\n",
    "                   'result','location']]\n",
    "\n",
    "    return output_df\n",
    "\n",
    "path = os.getcwd()\n",
    "files = glob.glob(path + \"/*.csv\")\n",
    "\n",
    "for i in files: \n",
    "    if 'AB953' not in i:\n",
    "        DAVIS = convert_simplify_DAVIS(pd.read_csv(i))\n",
    "        \n",
    "print(f'final DAVIS is {DAVIS.shape}')\n",
    "\n",
    "DAVIS.to_csv('ALL-DAVIS-AB953.csv',index=False)\n",
    "print('\\nfinal saved!')"
   ]
  },
  {
   "cell_type": "code",
   "execution_count": 37,
   "id": "4af965b7",
   "metadata": {},
   "outputs": [
    {
     "data": {
      "text/plain": [
       "[3.0      152\n",
       " 2.0      138\n",
       " 4.0      108\n",
       " 7.0      103\n",
       " 6.0       92\n",
       "         ... \n",
       " 159.0      1\n",
       " 54.0       1\n",
       " 356.0      1\n",
       " 80.0       1\n",
       " 350.0      1\n",
       " Name: Duration, Length: 130, dtype: int64,\n",
       " white                            678\n",
       " hispanic/latino(a)               336\n",
       " asian                            190\n",
       " black/african american           156\n",
       " middle eastern or south asian     85\n",
       " mixed                             50\n",
       " native american                    1\n",
       " Name: race, dtype: int64,\n",
       " Male                             918\n",
       " Female                           493\n",
       " middle eastern or south asian     85\n",
       " Name: sex, dtype: int64,\n",
       " 25.0                             212\n",
       " 20.0                             145\n",
       " 30.0                             144\n",
       " 40.0                             125\n",
       " 35.0                             117\n",
       " 22.0                             101\n",
       " middle eastern or south asian     85\n",
       " 50.0                              79\n",
       " 45.0                              74\n",
       " 21.0                              58\n",
       " 60.0                              47\n",
       " 55.0                              40\n",
       " 23.0                              36\n",
       " 18.0                              36\n",
       " 24.0                              24\n",
       " 17.0                              19\n",
       " 65.0                              15\n",
       " 70.0                              11\n",
       " 19.0                              11\n",
       " 28.0                              10\n",
       " 29.0                               9\n",
       " 26.0                               9\n",
       " 27.0                               9\n",
       " 33.0                               6\n",
       " 31.0                               6\n",
       " 32.0                               5\n",
       " 44.0                               5\n",
       " 36.0                               4\n",
       " 38.0                               4\n",
       " 46.0                               4\n",
       " 42.0                               4\n",
       " 39.0                               4\n",
       " 57.0                               3\n",
       " 37.0                               3\n",
       " 80.0                               3\n",
       " 75.0                               3\n",
       " 41.0                               3\n",
       " 66.0                               2\n",
       " 16.0                               2\n",
       " 15.0                               2\n",
       " 48.0                               2\n",
       " 51.0                               2\n",
       " 34.0                               2\n",
       " 53.0                               2\n",
       " 61.0                               1\n",
       " 47.0                               1\n",
       " 68.0                               1\n",
       " 49.0                               1\n",
       " 71.0                               1\n",
       " 73.0                               1\n",
       " 52.0                               1\n",
       " 85.0                               1\n",
       " 90.0                               1\n",
       " Name: age, dtype: int64,\n",
       " 1 Moving                         852\n",
       " 2 Equipment                      373\n",
       " 3 Non-Moving                     186\n",
       " middle eastern or south asian     85\n",
       " Name: type, dtype: int64,\n",
       " Traffic violation                1411\n",
       " middle eastern or south asian      85\n",
       " Name: reason, dtype: int64,\n",
       " 22350 VC                         120\n",
       " middle eastern or south asian     85\n",
       " 22450(A) VC                       76\n",
       " 22349(A) VC                       33\n",
       " 4000(A)(1) VC                     33\n",
       "                                 ... \n",
       " 12816                              1\n",
       " 22100(A) VC                        1\n",
       " 222350                             1\n",
       " 21755 VC                           1\n",
       " 23111 VC                           1\n",
       " Name: offense code, Length: 61, dtype: int64,\n",
       " None                                                                                                                                                                                                                                                                                                    1227\n",
       " middle eastern or south asian                                                                                                                                                                                                                                                                             85\n",
       " Asked for consent to search person, Asked for consent to search property, Search of person was conducted, Search of property was conducted                                                                                                                                                                18\n",
       " Search of person was conducted, Search of property was conducted                                                                                                                                                                                                                                          16\n",
       " Curbside detention, Search of person was conducted, Search of property was conducted                                                                                                                                                                                                                       7\n",
       "                                                                                                                                                                                                                                                                                                         ... \n",
       " Asked for consent to search person, Asked for consent to search property, Canine removed from vehicle or used to search, Curbside detention, Handcuffed or flex cuffed, Patrol car detention, Person removed from vehicle by order, Search of person was conducted, Search of property was conducted       1\n",
       " Asked for consent to search person, Curbside detention, Search of person was conducted                                                                                                                                                                                                                     1\n",
       " Asked for consent to search person, Asked for consent to search property, Curbside detention, Person removed from vehicle by order, Search of person was conducted, Search of property was conducted                                                                                                       1\n",
       " Asked for consent to search person, Property was seized, Search of person was conducted, Search of property was conducted                                                                                                                                                                                  1\n",
       " Asked for consent to search person, Search of person was conducted, Search of property was conducted                                                                                                                                                                                                       1\n",
       " Name: actions taken, Length: 85, dtype: int64,\n",
       " middle eastern or south asian                                                                   85\n",
       " Drug paraphernalia, Drugs/narcotics                                                              9\n",
       " Drugs/narcotics                                                                                  8\n",
       " Suspected stolen property                                                                        4\n",
       " Drug paraphernalia                                                                               4\n",
       " Drug paraphernalia, Weapon(s) other than firearm                                                 2\n",
       " Other contraband or evidence                                                                     2\n",
       " Vehicle                                                                                          2\n",
       " Drug paraphernalia, Drugs/narcotics, Other contraband or evidence                                2\n",
       " Weapon(s) other than firearm                                                                     2\n",
       " Drug paraphernalia, Drugs/narcotics, Suspected stolen property                                   2\n",
       " Drug paraphernalia, Other contraband or evidence                                                 2\n",
       " Other contraband or evidence, Suspected stolen property                                          1\n",
       " Firearms, Other contraband or evidence                                                           1\n",
       " Cell phone(s) or electronic devices, Other contraband or evidence, Suspected stolen property     1\n",
       " Drugs/narcotics, Other contraband or evidence                                                    1\n",
       " Cell phone(s) or electronic devices, Money                                                       1\n",
       " Name: property seized, dtype: int64,\n",
       " middle eastern or south asian                                                                                  85\n",
       " Condition of parole/probation/PRCS/mandatory supervision                                                       71\n",
       " Consent given                                                                                                  32\n",
       " Incident to arrest                                                                                             26\n",
       " Evidence of crime                                                                                               5\n",
       " Condition of parole/probation/PRCS/mandatory supervision, Consent given                                         4\n",
       " Condition of parole/probation/PRCS/mandatory supervision, Incident to arrest                                    3\n",
       " Consent given, Visible contraband                                                                               2\n",
       " Evidence of crime, Incident to arrest                                                                           2\n",
       " Consent given, Incident to arrest                                                                               2\n",
       " Incident to arrest, Officer safety/safety of others                                                             2\n",
       " Canine detection, Incident to arrest                                                                            1\n",
       " Incident to arrest, Vehicle inventory                                                                           1\n",
       " Officer safety/safety of others, Suspected weapons                                                              1\n",
       " Condition of parole/probation/PRCS/mandatory supervision, Consent given, Incident to arrest                     1\n",
       " Consent given, Evidence of crime, Officer safety/safety of others, Visible contraband                           1\n",
       " Condition of parole/probation/PRCS/mandatory supervision, Consent given, Officer safety/safety of others        1\n",
       " Consent given, Officer safety/safety of others, Suspected weapons                                               1\n",
       " Officer safety/safety of others                                                                                 1\n",
       " Canine detection, Condition of parole/probation/PRCS/mandatory supervision, Officer safety/safety of others     1\n",
       " Consent given, Evidence of crime, Officer safety/safety of others                                               1\n",
       " Consent given, Officer safety/safety of others                                                                  1\n",
       " Canine detection                                                                                                1\n",
       " Consent given, Evidence of crime                                                                                1\n",
       " Odor of contraband                                                                                              1\n",
       " Vehicle inventory                                                                                               1\n",
       " Condition of parole/probation/PRCS/mandatory supervision, Evidence of crime                                     1\n",
       " Evidence of crime, Officer safety/safety of others                                                              1\n",
       " Evidence of crime, Incident to arrest, Officer safety/safety of others, Vehicle inventory                       1\n",
       " Name: search basis, dtype: int64,\n",
       " Warning (verbal or written)                                                                                                                                               629\n",
       " Citation for infraction                                                                                                                                                   411\n",
       " No action                                                                                                                                                                 304\n",
       " middle eastern or south asian                                                                                                                                              85\n",
       " Custodial arrest without warrant                                                                                                                                           26\n",
       " Custodial arrest pursuant to outstanding warrant                                                                                                                           16\n",
       " Field interview card completed, Warning (verbal or written)                                                                                                                 8\n",
       " Custodial arrest pursuant to outstanding warrant, Custodial arrest without warrant                                                                                          5\n",
       " Citation for infraction, Warning (verbal or written)                                                                                                                        3\n",
       " In-field cite and release                                                                                                                                                   3\n",
       " Noncriminal transport or caretaking transport (including transport by officer, ambulance or other agency), Psychiatric hold (W&I Code 5150 or 5585.20)                      1\n",
       " Citation for infraction, Field interview card completed                                                                                                                     1\n",
       " Field interview card completed, Noncriminal transport or caretaking transport (including transport by officer, ambulance or other agency), Warning (verbal or written)      1\n",
       " Citation for infraction, Custodial arrest pursuant to outstanding warrant                                                                                                   1\n",
       " Psychiatric hold (W&I Code 5150 or 5585.20)                                                                                                                                 1\n",
       " Custodial arrest pursuant to outstanding warrant, Warning (verbal or written)                                                                                               1\n",
       " Name: result, dtype: int64,\n",
       " middle eastern or south asian    85\n",
       " MACE BL                          45\n",
       " POLE LINE RD                     45\n",
       " ALHAMBRA DR                      34\n",
       " CHILES RD                        32\n",
       "                                  ..\n",
       " MANZANITA LN                      1\n",
       " 12TH ST/E 14TH ST                 1\n",
       " CHESTNUT PL                       1\n",
       " HUTCHISON                         1\n",
       " SOLITO ST                         1\n",
       " Name: location, Length: 280, dtype: int64]"
      ]
     },
     "execution_count": 37,
     "metadata": {},
     "output_type": "execute_result"
    }
   ],
   "source": [
    "df = DAVIS\n",
    "[df[col].value_counts() for col in df.columns[2:]] "
   ]
  },
  {
   "cell_type": "markdown",
   "id": "809875aa",
   "metadata": {},
   "source": [
    "## Marin County"
   ]
  },
  {
   "cell_type": "code",
   "execution_count": 38,
   "id": "f1f32f06",
   "metadata": {
    "scrolled": false
   },
   "outputs": [
    {
     "name": "stdout",
     "output_type": "stream",
     "text": [
      "/Users/karatechop\n"
     ]
    }
   ],
   "source": [
    "cd"
   ]
  },
  {
   "cell_type": "code",
   "execution_count": 39,
   "id": "f53114c3",
   "metadata": {
    "scrolled": true
   },
   "outputs": [
    {
     "name": "stdout",
     "output_type": "stream",
     "text": [
      "/Users/karatechop/Documents/GitHub/senior-thesis-pretextual-stops/Data/RIPA-DATA-CA-as-of-2022 (CSV)/Waves 3_4/Marin County Sherrifs Office\n"
     ]
    }
   ],
   "source": [
    "cd '/Users/karatechop/Documents/GitHub/senior-thesis-pretextual-stops/Data/RIPA-DATA-CA-as-of-2022 (CSV)/Waves 3_4/Marin County Sherrifs Office'"
   ]
  },
  {
   "cell_type": "code",
   "execution_count": 40,
   "id": "b1622557",
   "metadata": {},
   "outputs": [
    {
     "name": "stdout",
     "output_type": "stream",
     "text": [
      "ALL-MARIN-AB953.csv                \u001b[34moriginal\u001b[m\u001b[m/\r\n",
      "PRA_RIPA_Marin_County_Sheriff.csv\r\n"
     ]
    }
   ],
   "source": [
    "ls"
   ]
  },
  {
   "cell_type": "code",
   "execution_count": 226,
   "id": "9a88bd19",
   "metadata": {
    "scrolled": true
   },
   "outputs": [
    {
     "data": {
      "text/plain": [
       "\"\\n'Date/Time of Stop':'Date',\\n'Date/Time of Stop':'Time',\\n'Officer Type of Assignment':'assignment',\\n'Other Assignment Type':'assignment',\\n'Is Stop Made in Response to Call for Service':'service',\\n'Duration of Stop':'duration',\\n'Perceived Race or Ethnicity':'race',\\n'Perceived Race or Ethnicity 2':'race',\\n'Race Noted Before Detention':'race',\\n'Perceived Gender 1‐4':'gender',\\n'Perceived Gender 5 ‐ Gender Nonconforming':'gender',\\n'Agency ORI':'age',\\n'Perceived Age':'age',\\n'Traffic Violation Type':'traffic',\\n'Traffic Violation ‐ CJIS Offense Code':'traffic',\\n'Suspicion CJIS Offense Code':'suspicion',\\n'Suspicion Sub‐Type':'suspicion',\\n'Suspicion Sub‐Type 2':'suspicion',\\n'Actions Taken':'actions',\\n'Actions Taken 2':'actions',\\n'Actions Taken 3':'actions',\\n'Actions Taken 4':'actions',\\n'Basis for Search':'search',\\n'Basis for Search Narrative':'search',\\n'Basis for Property Seizure':'seizure',\\n'Basis for Property Seizure':'property',\\n'Type of Property Seized':'property',\\n'Type of Property Seized 2':'property',\\n'Type of Property Seized 3':'property',\\n'Contraband or Evidence':'evidence',\\n'Contraband or Evidence 2':'evidence',\\n'Contraband or Evidence 3':'evidence',\\n'If K‐12 School, Is Stop of a Student':'student',\\n'Is Stop Made in Response to Call for Service':'service',\\n'reason':'reason',\\n'reason':'reason',\\n'reason':'reason',\""
      ]
     },
     "execution_count": 226,
     "metadata": {},
     "output_type": "execute_result"
    }
   ],
   "source": [
    "# import os\n",
    "# from glob import glob\n",
    "# import pyperclip as clip\n",
    "\n",
    "# PATH = os.getcwd()\n",
    "# EXT = \"*.csv\"\n",
    "\n",
    "# cols = []\n",
    "# for path, subdir, files in os.walk(PATH):\n",
    "#     for file in glob(os.path.join(path, EXT)):\n",
    "#         df = pd.read_csv(file, index_col=None)\n",
    "        \n",
    "#         for col in df.columns:\n",
    "#             cols.append(col)\n",
    "\n",
    "# keyword = 'reason'  \n",
    "# # copy_str = ''\n",
    "\n",
    "# options = pd.unique([match for match in cols if keyword.lower() in match.lower()])\n",
    "\n",
    "# for result in options:\n",
    "#     copy_str = copy_str + f\"\\n'{result}':'{keyword}',\"\n",
    "# clip.copy(copy_str)\n",
    "\n",
    "# clip.paste()"
   ]
  },
  {
   "cell_type": "code",
   "execution_count": 43,
   "id": "9015c305",
   "metadata": {},
   "outputs": [
    {
     "data": {
      "text/plain": [
       "No     5625\n",
       "Yes    1122\n",
       "Name: Is Stop Made in Response to Call for Service, dtype: int64"
      ]
     },
     "execution_count": 43,
     "metadata": {},
     "output_type": "execute_result"
    }
   ],
   "source": [
    "marin = pd.read_csv('PRA_RIPA_Marin_County_Sheriff.csv')\n",
    "marin['Is Stop Made in Response to Call for Service'].value_counts()\n",
    "# marin.columns"
   ]
  },
  {
   "cell_type": "code",
   "execution_count": 44,
   "id": "713a0d6d",
   "metadata": {
    "scrolled": false
   },
   "outputs": [
    {
     "name": "stdout",
     "output_type": "stream",
     "text": [
      "no dropped pid dupes\n",
      "final MARIN is (4746, 14)\n",
      "\n",
      "final saved!\n"
     ]
    }
   ],
   "source": [
    "import glob\n",
    "def convert_simplify_MARIN(df):\n",
    "    i = df\n",
    "    i = i.rename(columns={'Date/Time of Stop':'date',\n",
    "                            \n",
    "                            'Officer Type of Assignment':'assignment',\n",
    "                            'Officer Years of Experience':'experience',\n",
    "\n",
    "                            'Is Stop Made in Response to Call for Service':'service call',\n",
    "                            'Duration of Stop':'Duration',\n",
    "                          \n",
    "                            'Perceived Race or Ethnicity':'race',\n",
    "                            'Race Noted Before Detention':'race perceived prior',\n",
    "                            'Perceived Gender 1‐4':'sex',\n",
    "                            'Perceived Age':'age',\n",
    "                          \n",
    "                            'Traffic Violation Type':'type',\n",
    "                          \n",
    "                            'Rea00n for Stop':'reason',\n",
    "                            'Suspicion Sub‐Type':'suspicion',\n",
    "                            'Actions Taken':'actions taken',\n",
    "                            'Result of Stop':'result',\n",
    "                           \n",
    "                            'Basis for Search':'search basis',\n",
    "                            'Basis for Property Seizure':'seizure basis',\n",
    "                            'Type of Property Seized':'property seized',\n",
    "                            'Contraband or Evidence':'evidence',\n",
    "                            \n",
    "                            'If K‐12 School, Is Stop of a Student':'student',\n",
    "                            'Location':'location'})\n",
    "\n",
    "    i = i[(i['service call']!='Yes')\\\n",
    "          & (i['assignment']=='1_Patrol, traffic enforcement, field operations')\\\n",
    "#           & ((i['type']==1) | (i['type']==2) | (i['type']==3))\\\n",
    "          &  (i['reason']=='1_Traffic violation')]\n",
    "\n",
    "    i.loc[i['type'] == 1,'type'] = '1 Moving'\n",
    "    i.loc[i['type'] == 2,'type'] = '2 Equipment'\n",
    "    i.loc[i['type'] == 3,'type'] = '3 Non-Moving'\n",
    "    \n",
    "    i.loc[i['type'] == 'Moving violation','type'] = '1 Moving'\n",
    "    i.loc[i['type'] == 'Equipment violation','type'] = '2 Equipment'\n",
    "    i.loc[i['type'] == 'Non-moving violation, including registration','type'] = '3 Non-Moving'\n",
    "    \n",
    "    try:\n",
    "        i = i[i['student']!='True']\n",
    "    except:\n",
    "        print('no student drop')\n",
    "        pass\n",
    "    \n",
    "    \n",
    "    i['race'] = [i[:1] for i in i['race']]\n",
    "    \n",
    "    \n",
    "    try:     \n",
    "        i.loc[i['race'] == '1','race'] = 'asian'\n",
    "        i.loc[i['race'] == '2','race'] = 'black/african american'\n",
    "        i.loc[i['race'] == '3','race'] = 'hispanic/latino(a)'\n",
    "        i.loc[i['race'] == '4','race'] = 'middle eastern or south asian'\n",
    "        i.loc[i['race'] == '5','race'] = 'native american'\n",
    "        i.loc[i['race'] == '6','race'] = 'pacific islander'\n",
    "        i.loc[i['race'] == '7','race'] = 'white'\n",
    "        i.loc[i['race'] == 1,'race'] = 'asian'\n",
    "        i.loc[i['race'] == 2,'race'] = 'black/african american'\n",
    "        i.loc[i['race'] == 3,'race'] = 'hispanic/latino(a)'\n",
    "        i.loc[i['race'] == 4,'race'] = 'middle eastern or south asian'\n",
    "        i.loc[i['race'] == 5,'race'] = 'native american'\n",
    "        i.loc[i['race'] == 6,'race'] = 'pacific islander'\n",
    "        i.loc[i['race'] == 7,'race'] = 'white'\n",
    "    except: \n",
    "        print('race switch failed')\n",
    "        pass\n",
    "    \n",
    "    \n",
    "#     try:\n",
    "#         i['Date'] = pd.to_datetime(i['Date'])\n",
    "#         i['Time'] = i['Date'].dt.time\n",
    "#     except: \n",
    "#         try: \n",
    "#             i['Time'] = i['Date'].dt.time\n",
    "#         except:\n",
    "#             print('no time changes')\n",
    "#             pass\n",
    "    i['date'] = pd.to_datetime(i['date'])\n",
    "    i['time'] = i['date'].dt.time\n",
    "    \n",
    "    try: \n",
    "        i = i.drop_duplicates(subset=['stop_id'], keep='first')\n",
    "    except: \n",
    "        print('no dropped pid dupes')\n",
    "        pass\n",
    "    \n",
    "    \n",
    "    output_df = i[['date','time','Duration','race', 'sex','age','type','race perceived prior',\n",
    "                   'reason', 'actions taken', 'property seized', 'search basis',\n",
    "                   'result','location']]\n",
    "\n",
    "    return output_df\n",
    "\n",
    "path = os.getcwd()\n",
    "files = glob.glob(path + \"/*.csv\")\n",
    "\n",
    "for i in files: \n",
    "    if 'AB953' not in i:\n",
    "        MARIN = convert_simplify_MARIN(pd.read_csv(i))\n",
    "        \n",
    "print(f'final MARIN is {MARIN.shape}')\n",
    "\n",
    "MARIN.to_csv('ALL-MARIN-AB953.csv',index=False)\n",
    "print('\\nfinal saved!')"
   ]
  },
  {
   "cell_type": "code",
   "execution_count": 46,
   "id": "ebde53af",
   "metadata": {},
   "outputs": [
    {
     "data": {
      "text/plain": [
       "[5             1127\n",
       " 10             534\n",
       " 4              419\n",
       " 6              387\n",
       " 7              327\n",
       "               ... \n",
       " 6 min            1\n",
       " 50               1\n",
       " 5                1\n",
       " 6 minutes        1\n",
       " 33               1\n",
       " Name: Duration, Length: 137, dtype: int64,\n",
       " white                            2315\n",
       " hispanic/latino(a)               1171\n",
       " black/african american            830\n",
       " asian                             213\n",
       " middle eastern or south asian     182\n",
       " pacific islander                   26\n",
       " native american                     9\n",
       " Name: race, dtype: int64,\n",
       " 1_Male                      3338\n",
       " 2_Female                    1404\n",
       " 3_Transgender man/boy          2\n",
       " 4_Transgender woman/girl       1\n",
       " 5_Gender Non Conforming        1\n",
       " Name: sex, dtype: int64,\n",
       " 30    698\n",
       " 40    640\n",
       " 25    534\n",
       " 50    444\n",
       " 35    394\n",
       "      ... \n",
       " 63      2\n",
       " 13      1\n",
       " 73      1\n",
       " 77      1\n",
       " 71      1\n",
       " Name: age, Length: 66, dtype: int64,\n",
       " 2_Equipment violation                             2336\n",
       " 1_Moving violation                                1621\n",
       " 3_Non-moving violation, including registration     789\n",
       " Name: type, dtype: int64,\n",
       " No     2698\n",
       " Yes     148\n",
       " Name: race perceived prior, dtype: int64,\n",
       " 1_Traffic violation    4746\n",
       " Name: reason, dtype: int64,\n",
       " 24_NONE                                                    3864\n",
       " 1_Per00n removed from vehicle by order                      250\n",
       " 4_Curbside detention                                        142\n",
       " 6_Patrol car detention                                      119\n",
       " 17_Asked for consent to search per00n                        95\n",
       " 18_Search of per00n was conducted                            76\n",
       " 19_Asked for consent to search property                      62\n",
       " 5_Handcuffed or flex cuffed                                  38\n",
       " 20_Search of property was conducted                          38\n",
       " 3_Field 00briety test conducted                              36\n",
       " 23_Admission or written statement obtained from student      10\n",
       " 8_Firearm pointed at per00n                                   3\n",
       " 2_Per00n removed from vehicle by physical contact             3\n",
       " 21_Property was seized                                        2\n",
       " 15_Other physical or vehicle contact                          2\n",
       " 22_Vehicle impounded                                          2\n",
       " 10_Electronic control device used                             1\n",
       " 16_Per00n photographed                                        1\n",
       " 9_Firearm discharged or used                                  1\n",
       " 7_Canine removed from vehicle or used to search               1\n",
       " Name: actions taken, dtype: int64,\n",
       " 4_Drugs/narcotics                        72\n",
       " 7_Drug paraphernalia                     22\n",
       " 5_Alcohol                                18\n",
       " 1_Firearms                               11\n",
       " 11_Other contraband or evidence           8\n",
       " 3_Weapon(s) other than firearm            7\n",
       " 8_Suspected stolen property               5\n",
       " 2_Ammunition                              2\n",
       " 10_Vehicle                                2\n",
       " 9_Cell phone(s) or electronic devices     1\n",
       " Name: property seized, dtype: int64,\n",
       " 4_Condition of parole/probation/PRCS/mandatory supervision    50\n",
       " 1_Consent given                                               20\n",
       " 6_Visible contraband                                          12\n",
       " 7_Odor of contraband                                           8\n",
       " 9_Evidence of crime                                            7\n",
       " 10_Incident to arrest                                          3\n",
       " 5_Suspected weapons                                            1\n",
       " 2_Officer safety/safety of others                              1\n",
       " Name: search basis, dtype: int64,\n",
       " 2_Warning (verbal or written)                                                                                  3018\n",
       " 1_No action                                                                                                     900\n",
       " 3_Citation for infraction                                                                                       489\n",
       " 6_Custodial arrest without warrant                                                                              120\n",
       " 4_In-field cite and release                                                                                     114\n",
       " 5_Custodial arrest pursuant to outstanding warrant                                                               84\n",
       " Only use #12 & #13 if the stop was at a public school AND the subject is a student                               11\n",
       " 7_Field interview card completed                                                                                  3\n",
       " 9_Contacted parent/legal guardian or other per00n responsible for the minor                                       3\n",
       " 8_Noncriminal transport or caretaking transport (including transport by officer, ambulance or other agency)       2\n",
       " 10_Psychiatric hold (W&I Code 5150 or 5585.20)                                                                    2\n",
       " Name: result, dtype: int64,\n",
       " E sir Francis drake/ larkspur landing    26\n",
       " Bridge and Bridgeway                     24\n",
       " 100 Shoreline Hwy                        20\n",
       " 100 Shoreline Highway                    19\n",
       " 500 redwood highway frontage             16\n",
       "                                          ..\n",
       " NB 101/Marin city                         1\n",
       " 400 tiburon blvd                          1\n",
       " Northbound at paradise dr                 1\n",
       " Hey 101 @ Millercreek Rd                  1\n",
       " Highway 101 North/ Seminary Drive         1\n",
       " Name: location, Length: 3697, dtype: int64]"
      ]
     },
     "execution_count": 46,
     "metadata": {},
     "output_type": "execute_result"
    }
   ],
   "source": [
    "df = MARIN\n",
    "[df[col].value_counts() for col in df.columns[2:]] "
   ]
  }
 ],
 "metadata": {
  "kernelspec": {
   "display_name": "Python 3 (ipykernel)",
   "language": "python",
   "name": "python3"
  },
  "language_info": {
   "codemirror_mode": {
    "name": "ipython",
    "version": 3
   },
   "file_extension": ".py",
   "mimetype": "text/x-python",
   "name": "python",
   "nbconvert_exporter": "python",
   "pygments_lexer": "ipython3",
   "version": "3.10.6"
  }
 },
 "nbformat": 4,
 "nbformat_minor": 5
}
