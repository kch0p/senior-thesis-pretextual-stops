{
 "cells": [
  {
   "cell_type": "code",
   "execution_count": 1,
   "id": "28f88b15",
   "metadata": {},
   "outputs": [],
   "source": [
    "import pandas as pd\n",
    "import numpy as np\n",
    "import os\n",
    "from glob import glob\n",
    "import numpy as np\n",
    "import matplotlib.pyplot as plt\n",
    "import time\n",
    "\n",
    "pd.set_option('display.max_columns', None) "
   ]
  },
  {
   "cell_type": "code",
   "execution_count": 118,
   "id": "bf93c5c5",
   "metadata": {},
   "outputs": [],
   "source": [
    "# RIPA_factors = 'ORI number\\nDate, time, and duration of the stop\\nLocation of stop\\nPerceived race or ethnicity of person stopped\\nPerceived gender of person stopped\\nPerson stopped perceived to be LGBT\\nPerceived age of person stopped\\nPerson stopped has limited or no English fluency\\nPerceived or known disability or person stopped\\nReason for stop\\nStop made in response to a call for service\\nActions taken by officer during stop\\nResults of stop\\nOfficer’s Identification (ID) Number\\nOfficer’s years of experience\\nType of assignment of officer'\n",
    "# RIPA_cols_to_keep = RIPA_factors.splitlines"
   ]
  },
  {
   "cell_type": "code",
   "execution_count": 119,
   "id": "5b46c60d",
   "metadata": {},
   "outputs": [],
   "source": [
    "# RIPA_cols_to_keep"
   ]
  },
  {
   "cell_type": "markdown",
   "id": "6ef3b222",
   "metadata": {},
   "source": [
    "### looking for perceived"
   ]
  },
  {
   "cell_type": "code",
   "execution_count": 120,
   "id": "a3a82a54",
   "metadata": {},
   "outputs": [],
   "source": [
    "import warnings\n",
    "warnings.filterwarnings(\"ignore\")"
   ]
  },
  {
   "cell_type": "code",
   "execution_count": 181,
   "id": "c3313b56",
   "metadata": {},
   "outputs": [
    {
     "name": "stdout",
     "output_type": "stream",
     "text": [
      "/Users/karatechop\n"
     ]
    }
   ],
   "source": [
    "cd"
   ]
  },
  {
   "cell_type": "code",
   "execution_count": 182,
   "id": "4163e17b",
   "metadata": {},
   "outputs": [
    {
     "name": "stdout",
     "output_type": "stream",
     "text": [
      "/Users/karatechop/Documents/GitHub/senior-thesis-pretextual-stops/Data/RIPA-DATA-CA-as-of-2022 (CSV)/Waves 3_4\n"
     ]
    }
   ],
   "source": [
    "cd /Users/karatechop/Documents/GitHub/senior-thesis-pretextual-stops/Data/RIPA-DATA-CA-as-of-2022 (CSV)/Waves 3_4"
   ]
  },
  {
   "cell_type": "code",
   "execution_count": 183,
   "id": "4796b3e4",
   "metadata": {
    "scrolled": true
   },
   "outputs": [
    {
     "name": "stdout",
     "output_type": "stream",
     "text": [
      "\u001b[34mBerkeley PD\u001b[m\u001b[m/                  \u001b[34mMarin County Sherrifs Office\u001b[m\u001b[m/\r\n",
      "\u001b[34mDavis PD\u001b[m\u001b[m/\r\n"
     ]
    }
   ],
   "source": [
    "ls"
   ]
  },
  {
   "cell_type": "code",
   "execution_count": 8,
   "id": "d75fb07b",
   "metadata": {
    "scrolled": false
   },
   "outputs": [
    {
     "name": "stdout",
     "output_type": "stream",
     "text": [
      "raceperceivedprior\n",
      "/Users/karatechop/Documents/GitHub/senior-thesis-pretextual-stops/Data/RIPA-DATA-CA-as-of-2022 (CSV)/Wave 2/Oakland PD/Q1-2022-Stop-Data-for-PRRs-and-Website.csv\n",
      "\n",
      "\n",
      "raceperceivedprior\n",
      "/Users/karatechop/Documents/GitHub/senior-thesis-pretextual-stops/Data/RIPA-DATA-CA-as-of-2022 (CSV)/Wave 2/Oakland PD/Q2-Stop-Data-Cleaned.csv\n",
      "\n",
      "\n",
      "raceperceivedprior\n",
      "/Users/karatechop/Documents/GitHub/senior-thesis-pretextual-stops/Data/RIPA-DATA-CA-as-of-2022 (CSV)/Wave 2/Oakland PD/Stop_Data_for_Release_Jan_2017_to_Feb_2021_1_2.csv\n",
      "\n",
      "\n",
      "raceperceivedprior\n",
      "/Users/karatechop/Documents/GitHub/senior-thesis-pretextual-stops/Data/RIPA-DATA-CA-as-of-2022 (CSV)/Wave 2/Oakland PD/Cleaned-Stop-Data-2021-for-PRR-Requests(1).csv\n",
      "\n",
      "\n",
      "race perceived prior\n",
      "/Users/karatechop/Documents/GitHub/senior-thesis-pretextual-stops/Data/RIPA-DATA-CA-as-of-2022 (CSV)/Wave 2/Oakland PD/ALL-OAKLAND_PD-AB953.csv\n",
      "\n",
      "\n",
      "race perceived prior to stop\n",
      "/Users/karatechop/Documents/GitHub/senior-thesis-pretextual-stops/Data/RIPA-DATA-CA-as-of-2022 (CSV)/Waves 3_4/Berkeley PD/Berkeley_PD_-_Stop_Data__October_1__2020_-_Present_.csv\n",
      "\n",
      "\n",
      "race noted before detention\n",
      "/Users/karatechop/Documents/GitHub/senior-thesis-pretextual-stops/Data/RIPA-DATA-CA-as-of-2022 (CSV)/Waves 3_4/Marin County Sherrifs Office/PRA_RIPA_Marin_County_Sheriff.csv\n",
      "\n",
      "\n"
     ]
    }
   ],
   "source": [
    "import os\n",
    "from glob import glob\n",
    "\n",
    "PATH = os.getcwd()\n",
    "EXT = \"*.csv\"\n",
    "\n",
    "\n",
    "for path, subdir, files in os.walk(PATH):\n",
    "    for file in glob(os.path.join(path, EXT)):\n",
    "        df = pd.read_csv(file, index_col=None)\n",
    "        \n",
    "        for col in df.columns:\n",
    "            col = col.lower()\n",
    "            if 'prior' in col:\n",
    "                print(f'{col}\\n{file}\\n\\n')\n",
    "                \n",
    "        for col in df.columns:\n",
    "            col = col.lower()\n",
    "            if 'before' in col:\n",
    "                print(f'{col}\\n{file}\\n\\n')\n",
    "        \n",
    "#         print('\\n\\n\\n\\n\\n\\n')\n",
    "                \n",
    "#         for col in df.columns:\n",
    "#             col = col.lower()\n",
    "#             if 'race' in col:\n",
    "#                 print(f'{col}\\n{file}\\n\\n')\n",
    "        "
   ]
  },
  {
   "cell_type": "markdown",
   "id": "78222fc9",
   "metadata": {},
   "source": [
    "# WAVE(s) 3-4"
   ]
  },
  {
   "cell_type": "markdown",
   "id": "315f0f7d",
   "metadata": {},
   "source": [
    "## Berkeley PD"
   ]
  },
  {
   "cell_type": "code",
   "execution_count": 95,
   "id": "fb927eb2",
   "metadata": {
    "scrolled": true
   },
   "outputs": [
    {
     "name": "stdout",
     "output_type": "stream",
     "text": [
      "/Users/karatechop\n"
     ]
    }
   ],
   "source": [
    "cd"
   ]
  },
  {
   "cell_type": "code",
   "execution_count": 96,
   "id": "c9ed1978",
   "metadata": {
    "scrolled": true
   },
   "outputs": [
    {
     "name": "stdout",
     "output_type": "stream",
     "text": [
      "/Users/karatechop/Documents/GitHub/senior-thesis-pretextual-stops/Data/RIPA-DATA-CA-as-of-2022 (CSV)/Waves 3_4/Berkeley PD\n"
     ]
    }
   ],
   "source": [
    "cd '/Users/karatechop/Documents/GitHub/senior-thesis-pretextual-stops/Data/RIPA-DATA-CA-as-of-2022 (CSV)/Waves 3_4/Berkeley PD'"
   ]
  },
  {
   "cell_type": "code",
   "execution_count": 97,
   "id": "112bd037",
   "metadata": {},
   "outputs": [
    {
     "name": "stdout",
     "output_type": "stream",
     "text": [
      "ALL-BPD-AB953.csv\r\n",
      "Berkeley_PD_-_Stop_Data__October_1__2020_-_Present_.csv\r\n",
      "Results for \"stops ripa\" | Page 1 of 1 | Open Data | City of Berkeley.webloc\r\n"
     ]
    }
   ],
   "source": [
    "ls"
   ]
  },
  {
   "cell_type": "code",
   "execution_count": 98,
   "id": "19d45274",
   "metadata": {},
   "outputs": [
    {
     "name": "stdout",
     "output_type": "stream",
     "text": [
      "['Race Perceived Prior To Stop' 'race perceived prior']\n"
     ]
    }
   ],
   "source": [
    "import os\n",
    "from glob import glob\n",
    "\n",
    "PATH = os.getcwd()\n",
    "EXT = \"*.csv\"\n",
    "\n",
    "cols = []\n",
    "for path, subdir, files in os.walk(PATH):\n",
    "    for file in glob(os.path.join(path, EXT)):\n",
    "        df = pd.read_csv(file, index_col=None)\n",
    "        \n",
    "        for col in df.columns:\n",
    "            cols.append(col)\n",
    "                \n",
    "print(pd.unique([match for match in cols if 'prior'.lower() in match.lower()]))"
   ]
  },
  {
   "cell_type": "code",
   "execution_count": 106,
   "id": "778bb59e",
   "metadata": {},
   "outputs": [
    {
     "data": {
      "text/plain": [
       "Traffic Violation                                        6466\n",
       "Reasonable suspicion                                     4745\n",
       "Knowledge of outstanding arrest warrant/wanted person     343\n",
       "Investigation to determine whether person was truant       58\n",
       "Consensual encounter resulting in search                   58\n",
       "Parole/probation/PRCS/mandatory supervision                52\n",
       "Name: Reason for Stop, dtype: int64"
      ]
     },
     "execution_count": 106,
     "metadata": {},
     "output_type": "execute_result"
    }
   ],
   "source": [
    "berk = pd.read_csv('Berkeley_PD_-_Stop_Data__October_1__2020_-_Present_.csv')\n",
    "berk['Is Stop Made in Response to Call for Service'].value_counts()\n",
    "berk['Reason for Stop'].value_counts()"
   ]
  },
  {
   "cell_type": "code",
   "execution_count": 109,
   "id": "15a2edd5",
   "metadata": {
    "scrolled": true
   },
   "outputs": [
    {
     "name": "stdout",
     "output_type": "stream",
     "text": [
      "final BPD is (6466, 14)\n",
      "\n",
      "final saved!\n"
     ]
    }
   ],
   "source": [
    "import glob\n",
    "def convert_simplify_BK(df):\n",
    "    i = df\n",
    "    i = i.rename(columns={'Date of Stop':'Date',\n",
    "#                           'StopDate':'Date',\n",
    "#                           'Date of Stop':'Date',\n",
    "                          'Time of Stop':'Time',\n",
    "#                           'stopTime':'Time',\n",
    "#                           'Time of Stop':'Time',\n",
    "                          \n",
    "                          'Officer Type of Assignment':'assignment',\n",
    "#                           'Officer Type of Assignment':'assignment',\n",
    "                          \n",
    "                          'Is Stop Made in Response to Call for Service':'service call',\n",
    "#                           'stopInResponseToCFS':'service call',\n",
    "                          \n",
    "#                           'stopDuration':'Duration',\n",
    "                          'Duration of Stop':'Duration',\n",
    "                          \n",
    "                          'Person Number':'PID',\n",
    "                          \n",
    "                          'Perceived Race or Ethnicity':'race',\n",
    "                          'Race Perceived Prior To Stop':'race perceived prior',\n",
    "                          'Perceived Gender':'sex',\n",
    "#                           'Perceived Gender 1-4':'sex',\n",
    "                          'Perceived Age':'age',\n",
    "#                           'Perceived Age':'age',\n",
    "                          \n",
    "                          'Traffic Violation Type':'type',\n",
    "                          \n",
    "                          'Reason for Stop':'reason',\n",
    "                          'Suspicion SubType':'basis',\n",
    "                          'Actions Taken':'actions taken',\n",
    "                          \n",
    "                          'Basis for Search':'search basis',\n",
    "                          'Basis for Property Seizure':'seizure basis',\n",
    "                          'Type of Property Seized':'property seized',\n",
    "                          'Contraband or Evidence':'evidence',\n",
    "                          \n",
    "                          'Result of Stop':'result',\n",
    "                          'Traffic Violation Offense Codes':'offense code',\n",
    "                          \n",
    "                          'If K12 School Is Stop of a Student':'student'})\n",
    "\n",
    "    i = i[(i['service call']!='True')\\\n",
    "          & (i['assignment']=='Patrol, traffic enforcement, field operations')\\\n",
    "#           & ((i['type']==1) | (i['type']==2) | (i['type']==3))\\\n",
    "          &  (i['reason']=='Traffic Violation')]\n",
    "\n",
    "    i.loc[i['type'] == 1,'type'] = '1 Moving'\n",
    "    i.loc[i['type'] == 2,'type'] = '2 Equipment'\n",
    "    i.loc[i['type'] == 3,'type'] = '3 Non-Moving'\n",
    "    \n",
    "    try:\n",
    "        i = i[i['student']!='True']\n",
    "    except:\n",
    "        print('no student drop')\n",
    "        pass\n",
    "    \n",
    "    \n",
    "    try:\n",
    "        i['Date'] = pd.to_datetime(i['Date'])\n",
    "    except: \n",
    "        print('no datetime conversion')\n",
    "        i['Time'] = i['Date'].dt.time\n",
    "        pass\n",
    "    \n",
    "    \n",
    "    output_df = i[['Date','Time','Duration','race', 'sex','age','type', 'race perceived prior',\n",
    "                   'reason','offense code','basis', 'actions taken', 'property seized', 'search basis',\n",
    "                   'result']]\n",
    "\n",
    "    return output_df\n",
    "\n",
    "path = os.getcwd()\n",
    "files = glob.glob(path + \"/*.csv\")\n",
    "\n",
    "for i in files: \n",
    "    if 'AB953' not in i:\n",
    "        BPD = convert_simplify_BK(pd.read_csv(i))\n",
    "        \n",
    "print(f'final BPD is {BPD.shape}')\n",
    "\n",
    "BPD.to_csv('ALL-BPD-AB953.csv',index=False)\n",
    "print('\\nfinal saved!')"
   ]
  },
  {
   "cell_type": "code",
   "execution_count": null,
   "id": "dfd05faa",
   "metadata": {},
   "outputs": [],
   "source": []
  },
  {
   "cell_type": "markdown",
   "id": "dbabe885",
   "metadata": {},
   "source": [
    "## Davis PD"
   ]
  },
  {
   "cell_type": "code",
   "execution_count": 122,
   "id": "6e6da5de",
   "metadata": {
    "scrolled": true
   },
   "outputs": [
    {
     "name": "stdout",
     "output_type": "stream",
     "text": [
      "/Users/karatechop\n"
     ]
    }
   ],
   "source": [
    "cd"
   ]
  },
  {
   "cell_type": "code",
   "execution_count": 125,
   "id": "2ad3e8f1",
   "metadata": {
    "scrolled": true
   },
   "outputs": [
    {
     "name": "stdout",
     "output_type": "stream",
     "text": [
      "/Users/karatechop/Documents/GitHub/senior-thesis-pretextual-stops/Data/RIPA-DATA-CA-as-of-2022 (CSV)/Waves 3_4/Davis PD\n"
     ]
    }
   ],
   "source": [
    "cd '/Users/karatechop/Documents/GitHub/senior-thesis-pretextual-stops/Data/RIPA-DATA-CA-as-of-2022 (CSV)/Waves 3_4/Davis PD'"
   ]
  },
  {
   "cell_type": "code",
   "execution_count": 126,
   "id": "f060b618",
   "metadata": {},
   "outputs": [
    {
     "name": "stdout",
     "output_type": "stream",
     "text": [
      "Jan-Dec_2020_Reported_Stop_Data_PUBLIC.csv\r\n",
      "\u001b[34moriginal\u001b[m\u001b[m/\r\n"
     ]
    }
   ],
   "source": [
    "ls"
   ]
  },
  {
   "cell_type": "code",
   "execution_count": 168,
   "id": "a44e8927",
   "metadata": {},
   "outputs": [
    {
     "name": "stdout",
     "output_type": "stream",
     "text": [
      "['Stop - Actions Taken']\n"
     ]
    }
   ],
   "source": [
    "import os\n",
    "from glob import glob\n",
    "\n",
    "PATH = os.getcwd()\n",
    "EXT = \"*.csv\"\n",
    "\n",
    "cols = []\n",
    "for path, subdir, files in os.walk(PATH):\n",
    "    for file in glob(os.path.join(path, EXT)):\n",
    "        df = pd.read_csv(file, index_col=None)\n",
    "        \n",
    "        for col in df.columns:\n",
    "            cols.append(col)\n",
    "                \n",
    "print(pd.unique([match for match in cols if 'action'.lower() in match.lower()]))"
   ]
  },
  {
   "cell_type": "code",
   "execution_count": 169,
   "id": "7d0e8175",
   "metadata": {},
   "outputs": [
    {
     "data": {
      "text/plain": [
       "Index(['Date', 'Time', 'Street', 'Cross Street', 'Source of Call',\n",
       "       'Total OnScene Time', 'Stop - K-12?', 'Stop - School Code',\n",
       "       'Stop - Officer Assignment', 'Stop - Reason For',\n",
       "       'Stop - Suspicion Types', 'Stop - Violation Type', 'Stop - Perc Race',\n",
       "       'Stop - Perc Disabilities', 'Stop - Perc Gender', 'Stop - Perc LGBT?',\n",
       "       'Stop - Limited English?', 'Stop - Perc Age', 'Stop - Actions Taken',\n",
       "       'Stop - Search Basis', 'Stop - Evidence Discovered',\n",
       "       'Stop - Seized Property Basis', 'Stop - Seized Property Type',\n",
       "       'Stop - Result', 'Stop - Citation Code 1', 'Stop - Citation Desc 1',\n",
       "       'Stop - Custodial Code 1', 'Stop - Custodial Desc 1',\n",
       "       'Stop - Cite/Release Code 1', 'Stop - Cite/Release Desc 1',\n",
       "       'Stop - Warning Code 1', 'Stop - Warning Desc 1', 'Stop - Educ Section',\n",
       "       'Stop - Educ Subdivision'],\n",
       "      dtype='object')"
      ]
     },
     "execution_count": 169,
     "metadata": {},
     "output_type": "execute_result"
    }
   ],
   "source": [
    "davis = pd.read_csv('Jan-Dec_2020_Reported_Stop_Data_PUBLIC.csv')\n",
    "davis['Stop - Violation Type'].value_counts()\n",
    "davis.columns"
   ]
  },
  {
   "cell_type": "code",
   "execution_count": 180,
   "id": "4e8b247e",
   "metadata": {
    "scrolled": false
   },
   "outputs": [
    {
     "name": "stdout",
     "output_type": "stream",
     "text": [
      "final DAVIS is (1496, 13)\n",
      "\n",
      "final saved!\n"
     ]
    }
   ],
   "source": [
    "import glob\n",
    "def convert_simplify_DAVIS(df):\n",
    "    i = df\n",
    "    i = i.rename(columns={'Date':'Date',\n",
    "#                           'StopDate':'Date',\n",
    "#                           'Date of Stop':'Date',\n",
    "                          'Time':'Time',\n",
    "#                           'stopTime':'Time',\n",
    "#                           'Time of Stop':'Time',\n",
    "                          \n",
    "                          'Stop - Officer Assignment':'assignment',\n",
    "#                           'Officer Type of Assignment':'assignment',\n",
    "                          \n",
    "                          'Source of Call':'service call',\n",
    "#                           'stopInResponseToCFS':'service call',\n",
    "                          \n",
    "#                           'stopDuration':'Duration',\n",
    "                          'Total OnScene Time':'Duration',\n",
    "                          \n",
    "                          'Person Number':'PID',\n",
    "                          \n",
    "                          'Stop - Perc Race':'race',\n",
    "#                           'Stop - Perc Race':'race perceived prior',\n",
    "                          'Stop - Perc Gender':'sex',\n",
    "#                           'Perceived Gender 1-4':'sex',\n",
    "                          'Stop - Perc Age':'age',\n",
    "#                           'Perceived Age':'age',\n",
    "                          \n",
    "                          'Stop - Violation Type':'type',\n",
    "                          \n",
    "                          'Stop - Reason For':'reason',\n",
    "#                           'Stop - Actions Taken':'basis',\n",
    "                          'Stop - Actions Taken':'actions taken',\n",
    "                          \n",
    "                          'Stop - Search Basis':'search basis',\n",
    "                          'Stop - Seized Property Basis':'seizure basis',\n",
    "                          'Stop - Seized Property Type':'property seized',\n",
    "                          'Stop - Evidence Discovered':'evidence',\n",
    "                          \n",
    "                          'Stop - Result':'result',\n",
    "                          'Stop - Citation Code 1':'offense code',\n",
    "                          \n",
    "                          'Stop - K-12?':'student'})\n",
    "\n",
    "    i = i[(i['assignment']=='Patrol, traffic enforcement, field operations')\\\n",
    "#           & ((i['type']==1) | (i['type']==2) | (i['type']==3))\\\n",
    "          &  (i['reason']=='Traffic violation')]\n",
    "\n",
    "    i.loc[i['type'] == 1,'type'] = '1 Moving'\n",
    "    i.loc[i['type'] == 2,'type'] = '2 Equipment'\n",
    "    i.loc[i['type'] == 3,'type'] = '3 Non-Moving'\n",
    "    \n",
    "    i.loc[i['type'] == 'Moving violation','type'] = '1 Moving'\n",
    "    i.loc[i['type'] == 'Equipment violation','type'] = '2 Equipment'\n",
    "    i.loc[i['type'] == 'Non-moving violation, including registration','type'] = '3 Non-Moving'\n",
    "    \n",
    "    try:\n",
    "        i = i[i['student']!='True']\n",
    "    except:\n",
    "        print('no student drop')\n",
    "        pass\n",
    "    \n",
    "    \n",
    "    try:\n",
    "        i['Date'] = pd.to_datetime(i['Date'])\n",
    "    except: \n",
    "        print('no datetime conversion')\n",
    "        i['Time'] = i['Date'].dt.time\n",
    "        pass\n",
    "    \n",
    "    \n",
    "    output_df = i[['Date','Time','Duration','race', 'sex','age','type',\n",
    "                   'reason','offense code', 'actions taken', 'property seized', 'search basis',\n",
    "                   'result']]\n",
    "\n",
    "    return output_df\n",
    "\n",
    "path = os.getcwd()\n",
    "files = glob.glob(path + \"/*.csv\")\n",
    "\n",
    "for i in files: \n",
    "    if 'AB953' not in i:\n",
    "        DAVIS = convert_simplify_DAVIS(pd.read_csv(i))\n",
    "        \n",
    "print(f'final DAVIS is {DAVIS.shape}')\n",
    "\n",
    "DAVIS.to_csv('ALL-DAVIS-AB953.csv',index=False)\n",
    "print('\\nfinal saved!')"
   ]
  },
  {
   "cell_type": "code",
   "execution_count": null,
   "id": "1f482357",
   "metadata": {},
   "outputs": [],
   "source": []
  },
  {
   "cell_type": "markdown",
   "id": "809875aa",
   "metadata": {},
   "source": [
    "## Marin County"
   ]
  },
  {
   "cell_type": "code",
   "execution_count": 13,
   "id": "f1f32f06",
   "metadata": {
    "scrolled": false
   },
   "outputs": [
    {
     "name": "stdout",
     "output_type": "stream",
     "text": [
      "/Users/karatechop\n"
     ]
    }
   ],
   "source": [
    "cd"
   ]
  },
  {
   "cell_type": "code",
   "execution_count": 14,
   "id": "f53114c3",
   "metadata": {
    "scrolled": true
   },
   "outputs": [
    {
     "name": "stdout",
     "output_type": "stream",
     "text": [
      "/Users/karatechop/Documents/GitHub/senior-thesis-pretextual-stops/Data/RIPA-DATA-CA-as-of-2022 (CSV)/Waves 3_4/Marin County Sherrifs Office\n"
     ]
    }
   ],
   "source": [
    "cd '/Users/karatechop/Documents/GitHub/senior-thesis-pretextual-stops/Data/RIPA-DATA-CA-as-of-2022 (CSV)/Waves 3_4/Marin County Sherrifs Office'"
   ]
  },
  {
   "cell_type": "code",
   "execution_count": 15,
   "id": "b1622557",
   "metadata": {},
   "outputs": [
    {
     "name": "stdout",
     "output_type": "stream",
     "text": [
      "PRA_RIPA_Marin_County_Sheriff.csv  \u001b[34moriginal\u001b[m\u001b[m/\r\n"
     ]
    }
   ],
   "source": [
    "ls"
   ]
  },
  {
   "cell_type": "code",
   "execution_count": 23,
   "id": "a5630628",
   "metadata": {},
   "outputs": [],
   "source": [
    "import pyperclip as clip"
   ]
  },
  {
   "cell_type": "code",
   "execution_count": 73,
   "id": "9a88bd19",
   "metadata": {
    "scrolled": true
   },
   "outputs": [
    {
     "data": {
      "text/plain": [
       "\"\\n'Date/Time of Stop':'Date',\\n'Date/Time of Stop':'Time',\\n'Officer Type of Assignment':'assignment',\\n'Other Assignment Type':'assignment',\\n'Is Stop Made in Response to Call for Service':'service',\\n'Duration of Stop':'duration',\\n'Perceived Race or Ethnicity':'race',\\n'Perceived Race or Ethnicity 2':'race',\\n'Race Noted Before Detention':'race',\\n'Perceived Gender 1‐4':'gender',\\n'Perceived Gender 5 ‐ Gender Nonconforming':'gender',\\n'Agency ORI':'age',\\n'Perceived Age':'age',\\n'Traffic Violation Type':'traffic',\\n'Traffic Violation ‐ CJIS Offense Code':'traffic',\\n'Suspicion CJIS Offense Code':'suspicion',\\n'Suspicion Sub‐Type':'suspicion',\\n'Suspicion Sub‐Type 2':'suspicion',\\n'Actions Taken':'actions',\\n'Actions Taken 2':'actions',\\n'Actions Taken 3':'actions',\\n'Actions Taken 4':'actions',\\n'Basis for Search':'search',\\n'Basis for Search Narrative':'search',\\n'Basis for Property Seizure':'seizure',\\n'Basis for Property Seizure':'property',\\n'Type of Property Seized':'property',\\n'Type of Property Seized 2':'property',\\n'Type of Property Seized 3':'property',\\n'Contraband or Evidence':'evidence',\\n'Contraband or Evidence 2':'evidence',\\n'Contraband or Evidence 3':'evidence',\\n'If K‐12 School, Is Stop of a Student':'student',\\n'Is Stop Made in Response to Call for Service':'service',\""
      ]
     },
     "execution_count": 73,
     "metadata": {},
     "output_type": "execute_result"
    }
   ],
   "source": [
    "import os\n",
    "from glob import glob\n",
    "import pyperclip as clip\n",
    "\n",
    "PATH = os.getcwd()\n",
    "EXT = \"*.csv\"\n",
    "\n",
    "cols = []\n",
    "for path, subdir, files in os.walk(PATH):\n",
    "    for file in glob(os.path.join(path, EXT)):\n",
    "        df = pd.read_csv(file, index_col=None)\n",
    "        \n",
    "        for col in df.columns:\n",
    "            cols.append(col)\n",
    "\n",
    "keyword = 'reason'  \n",
    "# copy_str = ''\n",
    "\n",
    "options = pd.unique([match for match in cols if keyword.lower() in match.lower()])\n",
    "\n",
    "for result in options:\n",
    "    copy_str = copy_str + f\"\\n'{result}':'{keyword}',\"\n",
    "clip.copy(copy_str)\n",
    "\n",
    "clip.paste()"
   ]
  },
  {
   "cell_type": "code",
   "execution_count": 74,
   "id": "9015c305",
   "metadata": {},
   "outputs": [
    {
     "data": {
      "text/plain": [
       "Index(['LEA Record ID', 'Agency ORI', 'LEA Batch ID', 'Transaction Type',\n",
       "       'NFIA', 'Date/Time of Stop', 'Duration of Stop',\n",
       "       'Is Stop Made in Response to Call for Service', 'Officer Unique ID',\n",
       "       'Officer Years of Experience', 'Officer Type of Assignment',\n",
       "       'Other Assignment Type', 'Proxy Login', 'Location', 'City',\n",
       "       'Is Location a K‐12 Public School', 'K‐12 School Code', 'Per00n Number',\n",
       "       'Perceived Race or Ethnicity', 'Perceived Race or Ethnicity 2',\n",
       "       'Perceived Gender 1‐4', 'Perceived Gender 5 ‐ Gender Nonconforming',\n",
       "       'Is LGBT', 'Perceived Age', 'Per00n had Limited or No English Fluency',\n",
       "       'Perceived or Known Disability', 'Perceived or Known Disability 2',\n",
       "       'Perceived or Known Disability 3',\n",
       "       'If K‐12 School, Is Stop of a Student', 'Rea00n for Stop',\n",
       "       'Rea00n for Stop Narrative', 'Traffic Violation Type',\n",
       "       'Traffic Violation ‐ CJIS Offense Code', 'Education Code Section',\n",
       "       'Education Code Subdivision', 'Suspicion CJIS Offense Code',\n",
       "       'Suspicion Sub‐Type', 'Suspicion Sub‐Type 2', 'Actions Taken',\n",
       "       'Actions Taken 2', 'Actions Taken 3', 'Actions Taken 4',\n",
       "       'Basis for Search', 'Basis for Search Narrative',\n",
       "       'Basis for Property Seizure', 'Type of Property Seized',\n",
       "       'Type of Property Seized 2', 'Type of Property Seized 3',\n",
       "       'Contraband or Evidence', 'Contraband or Evidence 2',\n",
       "       'Contraband or Evidence 3', 'Result of Stop',\n",
       "       'Warning CJIS Offense Code(s)', 'Citation CJIS Offense Code(s)',\n",
       "       'In‐field cite and release CJIS Offense Code(s)',\n",
       "       'Custodial arrest CJIS Offense Code(s)', 'Beat',\n",
       "       'Race Noted Before Detention', 'Marin Resident', 'Unnamed: 59',\n",
       "       'Unnamed: 60', 'Unnamed: 61', 'Unnamed: 62', 'Unnamed: 63',\n",
       "       'Unnamed: 64', 'Unnamed: 65', 'Unnamed: 66', 'Unnamed: 67',\n",
       "       'Unnamed: 68', 'Unnamed: 69', 'Unnamed: 70', 'Unnamed: 71',\n",
       "       'Unnamed: 72', 'Unnamed: 73', 'Unnamed: 74', 'Unnamed: 75'],\n",
       "      dtype='object')"
      ]
     },
     "execution_count": 74,
     "metadata": {},
     "output_type": "execute_result"
    }
   ],
   "source": [
    "marin = pd.read_csv('PRA_RIPA_Marin_County_Sheriff.csv')\n",
    "marin['Officer Type of Assignment'].value_counts()\n",
    "marin.columns"
   ]
  },
  {
   "cell_type": "code",
   "execution_count": 109,
   "id": "713a0d6d",
   "metadata": {
    "scrolled": true
   },
   "outputs": [
    {
     "name": "stdout",
     "output_type": "stream",
     "text": [
      "final BPD is (6466, 14)\n",
      "\n",
      "final saved!\n"
     ]
    }
   ],
   "source": [
    "import glob\n",
    "def convert_simplify_BK(df):\n",
    "    i = df\n",
    "    i = i.rename(columns={  'Date/Time of Stop':'Date',\n",
    "                            'Date/Time of Stop':'Time',\n",
    "                            \n",
    "                            'Officer Type of Assignment':'assignment',\n",
    "                            'Officer Years of Experience':'experience',\n",
    "\n",
    "                            'Is Stop Made in Response to Call for Service':'service call',\n",
    "                            'Duration of Stop':'duration',\n",
    "                          \n",
    "                            'Perceived Race or Ethnicity':'race',\n",
    "                            'Race Noted Before Detention':'race',\n",
    "                            'Perceived Gender 1‐4':'gender',\n",
    "                            'Perceived Age':'age',\n",
    "                          \n",
    "                            'Traffic Violation Type':'type',\n",
    "                          \n",
    "                            'Suspicion Sub‐Type':'suspicion',\n",
    "                            'Actions Taken':'actions taken',\n",
    "                           \n",
    "                            'Basis for Search':'search basis',\n",
    "                            'Basis for Property Seizure':'seizure basis',\n",
    "                            'Type of Property Seized':'property',\n",
    "                            'Contraband or Evidence':'evidence',\n",
    "                            \n",
    "                            'If K‐12 School, Is Stop of a Student':'student'})\n",
    "\n",
    "    i = i[(i['service call']!='Yes')\\\n",
    "          & (i['assignment']=='1_Patrol, traffic enforcement, field operations ')\\\n",
    "#           & ((i['type']==1) | (i['type']==2) | (i['type']==3))\\\n",
    "          &  (i['reason']=='Traffic Violation')]\n",
    "\n",
    "    i.loc[i['type'] == 1,'type'] = '1 Moving'\n",
    "    i.loc[i['type'] == 2,'type'] = '2 Equipment'\n",
    "    i.loc[i['type'] == 3,'type'] = '3 Non-Moving'\n",
    "    \n",
    "    try:\n",
    "        i = i[i['student']!='True']\n",
    "    except:\n",
    "        print('no student drop')\n",
    "        pass\n",
    "    \n",
    "    \n",
    "    try:\n",
    "        i['Date'] = pd.to_datetime(i['Date'])\n",
    "    except: \n",
    "        print('no datetime conversion')\n",
    "        i['Time'] = i['Date'].dt.time\n",
    "        pass\n",
    "    \n",
    "    \n",
    "    output_df = i[['Date','Time','Duration','race', 'sex','age','type',\n",
    "                   'reason','offense code','basis', 'actions taken', 'property seized', 'search basis',\n",
    "                   'result']]\n",
    "\n",
    "    return output_df\n",
    "\n",
    "path = os.getcwd()\n",
    "files = glob.glob(path + \"/*.csv\")\n",
    "\n",
    "for i in files: \n",
    "    if 'AB953' not in i:\n",
    "        BPD = convert_simplify_BK(pd.read_csv(i))\n",
    "        \n",
    "print(f'final BPD is {BPD.shape}')\n",
    "\n",
    "BPD.to_csv('ALL-BPD-AB953.csv',index=False)\n",
    "print('\\nfinal saved!')"
   ]
  }
 ],
 "metadata": {
  "kernelspec": {
   "display_name": "Python 3 (ipykernel)",
   "language": "python",
   "name": "python3"
  },
  "language_info": {
   "codemirror_mode": {
    "name": "ipython",
    "version": 3
   },
   "file_extension": ".py",
   "mimetype": "text/x-python",
   "name": "python",
   "nbconvert_exporter": "python",
   "pygments_lexer": "ipython3",
   "version": "3.9.12"
  }
 },
 "nbformat": 4,
 "nbformat_minor": 5
}
