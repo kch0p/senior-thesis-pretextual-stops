{
 "cells": [
  {
   "cell_type": "markdown",
   "id": "667392c9",
   "metadata": {},
   "source": [
    "censusdata docs: https://jtleider.github.io/censusdata/example1.html</br>\n",
    "for la county code: https://notary.cdn.sos.ca.gov/forms/notary-county-codes.pdf</br>\n",
    "example of censustract package: https://towardsdatascience.com/mapping-us-census-data-with-python-607df3de4b9c\n"
   ]
  },
  {
   "cell_type": "code",
   "execution_count": 1,
   "id": "61547392",
   "metadata": {},
   "outputs": [],
   "source": [
    "import pandas as pd\n",
    "import numpy as np \n",
    "\n",
    "import censusdata\n",
    "import censusgeocode as cg\n",
    "\n",
    "from time import time\n",
    "import threading"
   ]
  },
  {
   "cell_type": "code",
   "execution_count": 2,
   "id": "e620e12a",
   "metadata": {},
   "outputs": [
    {
     "name": "stdout",
     "output_type": "stream",
     "text": [
      "/Users/karatechop\n"
     ]
    }
   ],
   "source": [
    "cd"
   ]
  },
  {
   "cell_type": "code",
   "execution_count": 3,
   "id": "e98af87c",
   "metadata": {},
   "outputs": [
    {
     "name": "stdout",
     "output_type": "stream",
     "text": [
      "/Users/karatechop/Documents/GitHub/senior-thesis-pretextual-stops/Data/RIPA-DATA-CA-as-of-2022 (CSV)\n"
     ]
    }
   ],
   "source": [
    "cd /Users/karatechop/Documents/GitHub/senior-thesis-pretextual-stops/Data/RIPA-DATA-CA-as-of-2022\\ \\(CSV\\)"
   ]
  },
  {
   "cell_type": "code",
   "execution_count": 13,
   "id": "a097368a",
   "metadata": {},
   "outputs": [],
   "source": [
    "def search_census_concepts(search_term):\n",
    "    \"\"\"Finds relevant census topic call codes\n",
    "    based on a given search term input.\"\"\"\n",
    "    \n",
    "    sample = censusdata.search('acs1', 2021,'concept', search_term)\n",
    "    return sample\n",
    "\n",
    "search_census_concepts('RACE')"
   ]
  },
  {
   "cell_type": "code",
   "execution_count": 81,
   "id": "192a1768",
   "metadata": {},
   "outputs": [
    {
     "data": {
      "text/html": [
       "<div>\n",
       "<style scoped>\n",
       "    .dataframe tbody tr th:only-of-type {\n",
       "        vertical-align: middle;\n",
       "    }\n",
       "\n",
       "    .dataframe tbody tr th {\n",
       "        vertical-align: top;\n",
       "    }\n",
       "\n",
       "    .dataframe thead th {\n",
       "        text-align: right;\n",
       "    }\n",
       "</style>\n",
       "<table border=\"1\" class=\"dataframe\">\n",
       "  <thead>\n",
       "    <tr style=\"text-align: right;\">\n",
       "      <th></th>\n",
       "      <th>tract</th>\n",
       "      <th>tract_pop</th>\n",
       "      <th>housing_units</th>\n",
       "      <th>med_income_12mo_adj</th>\n",
       "    </tr>\n",
       "  </thead>\n",
       "  <tbody>\n",
       "    <tr>\n",
       "      <th>0</th>\n",
       "      <td>4827.02</td>\n",
       "      <td>2373</td>\n",
       "      <td>845</td>\n",
       "      <td>100114</td>\n",
       "    </tr>\n",
       "    <tr>\n",
       "      <th>1</th>\n",
       "      <td>5002.01</td>\n",
       "      <td>7267</td>\n",
       "      <td>2251</td>\n",
       "      <td>127568</td>\n",
       "    </tr>\n",
       "    <tr>\n",
       "      <th>2</th>\n",
       "      <td>5002.02</td>\n",
       "      <td>4988</td>\n",
       "      <td>1567</td>\n",
       "      <td>152742</td>\n",
       "    </tr>\n",
       "    <tr>\n",
       "      <th>3</th>\n",
       "      <td>5003</td>\n",
       "      <td>2973</td>\n",
       "      <td>1108</td>\n",
       "      <td>132386</td>\n",
       "    </tr>\n",
       "    <tr>\n",
       "      <th>4</th>\n",
       "      <td>5005</td>\n",
       "      <td>2703</td>\n",
       "      <td>931</td>\n",
       "      <td>60625</td>\n",
       "    </tr>\n",
       "    <tr>\n",
       "      <th>...</th>\n",
       "      <td>...</td>\n",
       "      <td>...</td>\n",
       "      <td>...</td>\n",
       "      <td>...</td>\n",
       "    </tr>\n",
       "    <tr>\n",
       "      <th>2341</th>\n",
       "      <td>1041.08</td>\n",
       "      <td>6001</td>\n",
       "      <td>1483</td>\n",
       "      <td>51690</td>\n",
       "    </tr>\n",
       "    <tr>\n",
       "      <th>2342</th>\n",
       "      <td>1042.03</td>\n",
       "      <td>5441</td>\n",
       "      <td>1184</td>\n",
       "      <td>48516</td>\n",
       "    </tr>\n",
       "    <tr>\n",
       "      <th>2343</th>\n",
       "      <td>1042.04</td>\n",
       "      <td>3679</td>\n",
       "      <td>786</td>\n",
       "      <td>53636</td>\n",
       "    </tr>\n",
       "    <tr>\n",
       "      <th>2344</th>\n",
       "      <td>1044.03</td>\n",
       "      <td>3341</td>\n",
       "      <td>710</td>\n",
       "      <td>62337</td>\n",
       "    </tr>\n",
       "    <tr>\n",
       "      <th>2345</th>\n",
       "      <td>1044.04</td>\n",
       "      <td>3084</td>\n",
       "      <td>708</td>\n",
       "      <td>55375</td>\n",
       "    </tr>\n",
       "  </tbody>\n",
       "</table>\n",
       "<p>2346 rows × 4 columns</p>\n",
       "</div>"
      ],
      "text/plain": [
       "        tract  tract_pop  housing_units  med_income_12mo_adj\n",
       "0     4827.02       2373            845               100114\n",
       "1     5002.01       7267           2251               127568\n",
       "2     5002.02       4988           1567               152742\n",
       "3        5003       2973           1108               132386\n",
       "4        5005       2703            931                60625\n",
       "...       ...        ...            ...                  ...\n",
       "2341  1041.08       6001           1483                51690\n",
       "2342  1042.03       5441           1184                48516\n",
       "2343  1042.04       3679            786                53636\n",
       "2344  1044.03       3341            710                62337\n",
       "2345  1044.04       3084            708                55375\n",
       "\n",
       "[2346 rows x 4 columns]"
      ]
     },
     "execution_count": 81,
     "metadata": {},
     "output_type": "execute_result"
    }
   ],
   "source": [
    "tract_pops = censusdata.download('acs5', \n",
    "             2019,\n",
    "             censusdata.censusgeo([('state', '06'), ('county', '037'), ('tract','*')]),\n",
    "             ['B01003_001E','B25001_001E','B19113_001E']).reset_index(drop=False)\\\n",
    "             .rename(columns={'index':'tract',\n",
    "                              'B01003_001E':'tract_pop',\n",
    "                              'B25001_001E':'housing_units',\n",
    "                              'B19113_001E':'med_income_12mo_adj'})\n",
    "tract_pops['tract'] = [str(i)[13:-88] for i in tract_pops['tract']]\n",
    "tract_pops"
   ]
  },
  {
   "cell_type": "code",
   "execution_count": null,
   "id": "8d306a5c",
   "metadata": {},
   "outputs": [],
   "source": []
  },
  {
   "cell_type": "code",
   "execution_count": 82,
   "id": "2989f4a1",
   "metadata": {},
   "outputs": [
    {
     "data": {
      "text/plain": [
       "count     2346.000000\n",
       "mean      4297.344416\n",
       "std       1587.065962\n",
       "min          0.000000\n",
       "25%       3203.750000\n",
       "50%       4211.500000\n",
       "75%       5314.000000\n",
       "max      12463.000000\n",
       "Name: tract_pop, dtype: float64"
      ]
     },
     "execution_count": 82,
     "metadata": {},
     "output_type": "execute_result"
    }
   ],
   "source": [
    "tract_pops.tract_pop.describe()"
   ]
  },
  {
   "cell_type": "code",
   "execution_count": 83,
   "id": "c354f810",
   "metadata": {},
   "outputs": [
    {
     "data": {
      "text/html": [
       "<div>\n",
       "<style scoped>\n",
       "    .dataframe tbody tr th:only-of-type {\n",
       "        vertical-align: middle;\n",
       "    }\n",
       "\n",
       "    .dataframe tbody tr th {\n",
       "        vertical-align: top;\n",
       "    }\n",
       "\n",
       "    .dataframe thead th {\n",
       "        text-align: right;\n",
       "    }\n",
       "</style>\n",
       "<table border=\"1\" class=\"dataframe\">\n",
       "  <thead>\n",
       "    <tr style=\"text-align: right;\">\n",
       "      <th></th>\n",
       "      <th>tract</th>\n",
       "      <th>tract_pop</th>\n",
       "      <th>housing_units</th>\n",
       "      <th>med_income_12mo_adj</th>\n",
       "      <th>pop_level</th>\n",
       "    </tr>\n",
       "  </thead>\n",
       "  <tbody>\n",
       "    <tr>\n",
       "      <th>0</th>\n",
       "      <td>4827.02</td>\n",
       "      <td>2373</td>\n",
       "      <td>845</td>\n",
       "      <td>100114</td>\n",
       "      <td>low</td>\n",
       "    </tr>\n",
       "    <tr>\n",
       "      <th>1</th>\n",
       "      <td>5002.01</td>\n",
       "      <td>7267</td>\n",
       "      <td>2251</td>\n",
       "      <td>127568</td>\n",
       "      <td>high</td>\n",
       "    </tr>\n",
       "    <tr>\n",
       "      <th>2</th>\n",
       "      <td>5002.02</td>\n",
       "      <td>4988</td>\n",
       "      <td>1567</td>\n",
       "      <td>152742</td>\n",
       "      <td>mid</td>\n",
       "    </tr>\n",
       "    <tr>\n",
       "      <th>3</th>\n",
       "      <td>5003</td>\n",
       "      <td>2973</td>\n",
       "      <td>1108</td>\n",
       "      <td>132386</td>\n",
       "      <td>mid</td>\n",
       "    </tr>\n",
       "    <tr>\n",
       "      <th>4</th>\n",
       "      <td>5005</td>\n",
       "      <td>2703</td>\n",
       "      <td>931</td>\n",
       "      <td>60625</td>\n",
       "      <td>low</td>\n",
       "    </tr>\n",
       "    <tr>\n",
       "      <th>...</th>\n",
       "      <td>...</td>\n",
       "      <td>...</td>\n",
       "      <td>...</td>\n",
       "      <td>...</td>\n",
       "      <td>...</td>\n",
       "    </tr>\n",
       "    <tr>\n",
       "      <th>2341</th>\n",
       "      <td>1041.08</td>\n",
       "      <td>6001</td>\n",
       "      <td>1483</td>\n",
       "      <td>51690</td>\n",
       "      <td>high</td>\n",
       "    </tr>\n",
       "    <tr>\n",
       "      <th>2342</th>\n",
       "      <td>1042.03</td>\n",
       "      <td>5441</td>\n",
       "      <td>1184</td>\n",
       "      <td>48516</td>\n",
       "      <td>mid</td>\n",
       "    </tr>\n",
       "    <tr>\n",
       "      <th>2343</th>\n",
       "      <td>1042.04</td>\n",
       "      <td>3679</td>\n",
       "      <td>786</td>\n",
       "      <td>53636</td>\n",
       "      <td>mid</td>\n",
       "    </tr>\n",
       "    <tr>\n",
       "      <th>2344</th>\n",
       "      <td>1044.03</td>\n",
       "      <td>3341</td>\n",
       "      <td>710</td>\n",
       "      <td>62337</td>\n",
       "      <td>mid</td>\n",
       "    </tr>\n",
       "    <tr>\n",
       "      <th>2345</th>\n",
       "      <td>1044.04</td>\n",
       "      <td>3084</td>\n",
       "      <td>708</td>\n",
       "      <td>55375</td>\n",
       "      <td>mid</td>\n",
       "    </tr>\n",
       "  </tbody>\n",
       "</table>\n",
       "<p>2346 rows × 5 columns</p>\n",
       "</div>"
      ],
      "text/plain": [
       "        tract  tract_pop  housing_units  med_income_12mo_adj pop_level\n",
       "0     4827.02       2373            845               100114       low\n",
       "1     5002.01       7267           2251               127568      high\n",
       "2     5002.02       4988           1567               152742       mid\n",
       "3        5003       2973           1108               132386       mid\n",
       "4        5005       2703            931                60625       low\n",
       "...       ...        ...            ...                  ...       ...\n",
       "2341  1041.08       6001           1483                51690      high\n",
       "2342  1042.03       5441           1184                48516       mid\n",
       "2343  1042.04       3679            786                53636       mid\n",
       "2344  1044.03       3341            710                62337       mid\n",
       "2345  1044.04       3084            708                55375       mid\n",
       "\n",
       "[2346 rows x 5 columns]"
      ]
     },
     "execution_count": 83,
     "metadata": {},
     "output_type": "execute_result"
    }
   ],
   "source": [
    "low_high = [(4278 - 1556),(4278 + 1556)]\n",
    "\n",
    "tract_pops.loc[tract_pops['tract_pop']<low_high[0],'pop_level']='low'\n",
    "tract_pops.loc[tract_pops['tract_pop']>low_high[1],'pop_level']='high'\n",
    "tract_pops['pop_level'].fillna('mid',inplace=True)\n",
    "\n",
    "tract_pops"
   ]
  },
  {
   "cell_type": "markdown",
   "id": "952a5233",
   "metadata": {},
   "source": [
    "## FIND TRACT FROM COORDS"
   ]
  },
  {
   "cell_type": "code",
   "execution_count": 15,
   "id": "173ad86d",
   "metadata": {},
   "outputs": [],
   "source": [
    "df = pd.read_csv('la_lat_lon_expanded.csv')"
   ]
  },
  {
   "cell_type": "code",
   "execution_count": 16,
   "id": "6861d825",
   "metadata": {
    "scrolled": true
   },
   "outputs": [
    {
     "data": {
      "text/plain": [
       "31265"
      ]
     },
     "execution_count": 16,
     "metadata": {},
     "output_type": "execute_result"
    }
   ],
   "source": [
    "len(df['coords'].unique())"
   ]
  },
  {
   "cell_type": "code",
   "execution_count": 10,
   "id": "6092c88f",
   "metadata": {},
   "outputs": [],
   "source": [
    "# %load_ext line_profiler\n",
    "# %lprun -f coords_to_tracts coords_to_tracts()\n",
    "# #             ^^^^^---- this call will be profiled\n",
    "# #         ^^^-----------function to profile"
   ]
  },
  {
   "cell_type": "code",
   "execution_count": 17,
   "id": "922af4d8",
   "metadata": {},
   "outputs": [],
   "source": [
    "df['tract'] = None"
   ]
  },
  {
   "cell_type": "code",
   "execution_count": 20,
   "id": "9b4da585",
   "metadata": {},
   "outputs": [],
   "source": [
    "def coords_to_tracts_1():\n",
    "    start = time()\n",
    "    counter = 0    \n",
    "\n",
    "    for i in df['coords'].unique()[:len(df['coords'].unique())//2]:\n",
    "        counter+=1\n",
    "        \n",
    "        try:\n",
    "            coords = i.split(' , ')\n",
    "            tract = cg.coordinates(y=coords[0], x=coords[1])['2020 Census Blocks'][0]['TRACT'] \n",
    "            tract = tract[:-2] + '.' + tract[-2:]\n",
    "            df.loc[df['coords'] == i,'tract'] = tract \n",
    "    \n",
    "        except: \n",
    "            print(f'failed for coords {i}')\n",
    "            pass\n",
    "        \n",
    "        if counter%500==0:\n",
    "            unique = df['coords'].unique()\n",
    "            print(f'{round((time()-start)/60,2)} minutes have passed, {unique} unique coords remaining.')\n",
    "    \n",
    "    print(f'that took {round((time()-start)/60,2)} minutes.')"
   ]
  },
  {
   "cell_type": "code",
   "execution_count": 21,
   "id": "5fea16bb",
   "metadata": {},
   "outputs": [],
   "source": [
    "def coords_to_tracts_2():\n",
    "    start = time()\n",
    "    counter = 0    \n",
    "\n",
    "    for i in df['coords'].unique()[len(df['coords'].unique())//2:]:\n",
    "        counter+=1\n",
    "        \n",
    "        try:\n",
    "            coords = i.split(' , ')\n",
    "            tract = cg.coordinates(y=coords[0], x=coords[1])['2020 Census Blocks'][0]['TRACT'] \n",
    "            tract = tract[:-2] + '.' + tract[-2:]\n",
    "            df.loc[df['coords'] == i,'tract'] = tract \n",
    "    \n",
    "        except: \n",
    "            print(f'failed for coords {i}')\n",
    "            pass\n",
    "        \n",
    "        if counter%1000==0:\n",
    "            print(f'coords_to_tracts_2 at {counter}.')\n",
    "    \n",
    "    print(f'that took {round((time()-start)/60,2)} minutes.')"
   ]
  },
  {
   "cell_type": "code",
   "execution_count": 38,
   "id": "a5fca9cd",
   "metadata": {},
   "outputs": [],
   "source": [
    "# if __name__ ==\"__main__\":\n",
    "#     t1 = threading.Thread(target=coords_to_tracts_1)\n",
    "#     t2 = threading.Thread(target=coords_to_tracts_2)\n",
    "    \n",
    "#     t1.start()\n",
    "#     t2.start()\n",
    " \n",
    "#     t1.join()\n",
    "#     t2.join()\n",
    " \n",
    "#     # both threads completely executed\n",
    "#     print(f\"\\n\\n\\nBoth threads are done!\\n\\n{df['coords'].unique()}\")\n",
    "#     df.to_csv('la_lat_lon_tract_expanded')"
   ]
  },
  {
   "cell_type": "code",
   "execution_count": 76,
   "id": "3fbdb340",
   "metadata": {},
   "outputs": [],
   "source": [
    "backup = df\n",
    "backup2 = df"
   ]
  },
  {
   "cell_type": "code",
   "execution_count": 84,
   "id": "2c094ff9",
   "metadata": {
    "scrolled": true
   },
   "outputs": [],
   "source": [
    "stop_freq = df['tract'].value_counts().rename_axis('tract').reset_index(name='stop_freq')"
   ]
  },
  {
   "cell_type": "code",
   "execution_count": 92,
   "id": "bc121a26",
   "metadata": {},
   "outputs": [
    {
     "data": {
      "text/plain": [
       "Index(['tract', 'tract_pop', 'housing_units', 'med_income_12mo_adj',\n",
       "       'pop_level', 'stop_freq', 'freq_level'],\n",
       "      dtype='object')"
      ]
     },
     "execution_count": 92,
     "metadata": {},
     "output_type": "execute_result"
    }
   ],
   "source": [
    "tract_info = pd.merge(tract_pops,stop_freq)\n",
    "low_high = [65,200]\n",
    "\n",
    "tract_info.loc[tract_info['stop_freq']<low_high[0],'freq_level']='low'\n",
    "tract_info.loc[tract_info['stop_freq']>low_high[1],'freq_level']='high'\n",
    "tract_info['freq_level'].fillna('mid',inplace=True)\n",
    "\n",
    "tract_info.columns"
   ]
  },
  {
   "cell_type": "code",
   "execution_count": 99,
   "id": "b732fe87",
   "metadata": {},
   "outputs": [
    {
     "data": {
      "text/html": [
       "<div>\n",
       "<style scoped>\n",
       "    .dataframe tbody tr th:only-of-type {\n",
       "        vertical-align: middle;\n",
       "    }\n",
       "\n",
       "    .dataframe tbody tr th {\n",
       "        vertical-align: top;\n",
       "    }\n",
       "\n",
       "    .dataframe thead th {\n",
       "        text-align: right;\n",
       "    }\n",
       "</style>\n",
       "<table border=\"1\" class=\"dataframe\">\n",
       "  <thead>\n",
       "    <tr style=\"text-align: right;\">\n",
       "      <th></th>\n",
       "      <th>date</th>\n",
       "      <th>time</th>\n",
       "      <th>race</th>\n",
       "      <th>location</th>\n",
       "      <th>city</th>\n",
       "      <th>wave</th>\n",
       "      <th>mins_before_dusk</th>\n",
       "      <th>mins_stop_time</th>\n",
       "      <th>mins_dusk</th>\n",
       "      <th>dark</th>\n",
       "      <th>period</th>\n",
       "      <th>coords</th>\n",
       "      <th>tract</th>\n",
       "      <th>pop_level</th>\n",
       "      <th>freq_level</th>\n",
       "    </tr>\n",
       "  </thead>\n",
       "  <tbody>\n",
       "    <tr>\n",
       "      <th>0</th>\n",
       "      <td>2018-07-01</td>\n",
       "      <td>1900-01-01 19:05:00</td>\n",
       "      <td>hispanic/latino(a)</td>\n",
       "      <td>600 south alvarado st</td>\n",
       "      <td>Los Angeles</td>\n",
       "      <td>1</td>\n",
       "      <td>93.0</td>\n",
       "      <td>1145.0</td>\n",
       "      <td>1238.0</td>\n",
       "      <td>0</td>\n",
       "      <td>dusk</td>\n",
       "      <td>34.059389 , -118.274837</td>\n",
       "      <td>2089.03</td>\n",
       "      <td>mid</td>\n",
       "      <td>high</td>\n",
       "    </tr>\n",
       "    <tr>\n",
       "      <th>1</th>\n",
       "      <td>2018-07-02</td>\n",
       "      <td>1900-01-01 17:30:00</td>\n",
       "      <td>black/african american</td>\n",
       "      <td>600 south alvarado st</td>\n",
       "      <td>Los Angeles</td>\n",
       "      <td>1</td>\n",
       "      <td>188.0</td>\n",
       "      <td>1050.0</td>\n",
       "      <td>1238.0</td>\n",
       "      <td>0</td>\n",
       "      <td>dusk</td>\n",
       "      <td>34.059389 , -118.274837</td>\n",
       "      <td>2089.03</td>\n",
       "      <td>mid</td>\n",
       "      <td>high</td>\n",
       "    </tr>\n",
       "    <tr>\n",
       "      <th>2</th>\n",
       "      <td>2018-07-02</td>\n",
       "      <td>1900-01-01 19:20:00</td>\n",
       "      <td>hispanic/latino(a)</td>\n",
       "      <td>600 south alvarado st</td>\n",
       "      <td>Los Angeles</td>\n",
       "      <td>1</td>\n",
       "      <td>78.0</td>\n",
       "      <td>1160.0</td>\n",
       "      <td>1238.0</td>\n",
       "      <td>0</td>\n",
       "      <td>dusk</td>\n",
       "      <td>34.059389 , -118.274837</td>\n",
       "      <td>2089.03</td>\n",
       "      <td>mid</td>\n",
       "      <td>high</td>\n",
       "    </tr>\n",
       "    <tr>\n",
       "      <th>3</th>\n",
       "      <td>2018-07-02</td>\n",
       "      <td>1900-01-01 19:20:00</td>\n",
       "      <td>hispanic/latino(a)</td>\n",
       "      <td>600 south alvarado st</td>\n",
       "      <td>Los Angeles</td>\n",
       "      <td>1</td>\n",
       "      <td>78.0</td>\n",
       "      <td>1160.0</td>\n",
       "      <td>1238.0</td>\n",
       "      <td>0</td>\n",
       "      <td>dusk</td>\n",
       "      <td>34.059389 , -118.274837</td>\n",
       "      <td>2089.03</td>\n",
       "      <td>mid</td>\n",
       "      <td>high</td>\n",
       "    </tr>\n",
       "    <tr>\n",
       "      <th>4</th>\n",
       "      <td>2018-07-07</td>\n",
       "      <td>1900-01-01 19:34:00</td>\n",
       "      <td>hispanic/latino(a)</td>\n",
       "      <td>south westlake avenue &amp; west 6th street</td>\n",
       "      <td>Los Angeles</td>\n",
       "      <td>1</td>\n",
       "      <td>63.0</td>\n",
       "      <td>1174.0</td>\n",
       "      <td>1237.0</td>\n",
       "      <td>0</td>\n",
       "      <td>dusk</td>\n",
       "      <td>34.0589914 , -118.2736649</td>\n",
       "      <td>2089.03</td>\n",
       "      <td>mid</td>\n",
       "      <td>high</td>\n",
       "    </tr>\n",
       "  </tbody>\n",
       "</table>\n",
       "</div>"
      ],
      "text/plain": [
       "        date                 time                    race  \\\n",
       "0 2018-07-01  1900-01-01 19:05:00      hispanic/latino(a)   \n",
       "1 2018-07-02  1900-01-01 17:30:00  black/african american   \n",
       "2 2018-07-02  1900-01-01 19:20:00      hispanic/latino(a)   \n",
       "3 2018-07-02  1900-01-01 19:20:00      hispanic/latino(a)   \n",
       "4 2018-07-07  1900-01-01 19:34:00      hispanic/latino(a)   \n",
       "\n",
       "                                   location         city  wave  \\\n",
       "0                     600 south alvarado st  Los Angeles     1   \n",
       "1                     600 south alvarado st  Los Angeles     1   \n",
       "2                     600 south alvarado st  Los Angeles     1   \n",
       "3                     600 south alvarado st  Los Angeles     1   \n",
       "4   south westlake avenue & west 6th street  Los Angeles     1   \n",
       "\n",
       "   mins_before_dusk  mins_stop_time  mins_dusk  dark period  \\\n",
       "0              93.0          1145.0     1238.0     0   dusk   \n",
       "1             188.0          1050.0     1238.0     0   dusk   \n",
       "2              78.0          1160.0     1238.0     0   dusk   \n",
       "3              78.0          1160.0     1238.0     0   dusk   \n",
       "4              63.0          1174.0     1237.0     0   dusk   \n",
       "\n",
       "                      coords    tract pop_level freq_level  \n",
       "0    34.059389 , -118.274837  2089.03       mid       high  \n",
       "1    34.059389 , -118.274837  2089.03       mid       high  \n",
       "2    34.059389 , -118.274837  2089.03       mid       high  \n",
       "3    34.059389 , -118.274837  2089.03       mid       high  \n",
       "4  34.0589914 , -118.2736649  2089.03       mid       high  "
      ]
     },
     "execution_count": 99,
     "metadata": {},
     "output_type": "execute_result"
    }
   ],
   "source": [
    "tract_info_next = pd.merge(df,tract_info[['tract','pop_level','freq_level']])\n",
    "tract_info_next['date'] = pd.to_datetime(tract_info_next['date'])\n",
    "tract_info_next.head()"
   ]
  },
  {
   "cell_type": "code",
   "execution_count": 124,
   "id": "b9cd3591",
   "metadata": {},
   "outputs": [],
   "source": [
    "import warnings"
   ]
  },
  {
   "cell_type": "code",
   "execution_count": 141,
   "id": "e7a7c37c",
   "metadata": {},
   "outputs": [],
   "source": [
    "warnings.filterwarnings(\"ignore\") \n",
    "\n",
    "tract_info_next.loc[tract_info_next['date'].dt.year == 2018,['dst1','dst2']] = pd.to_datetime('3/11/18'),pd.to_datetime('11/04/18')\n",
    "tract_info_next.loc[tract_info_next['date'].dt.year == 2019,['dst1','dst2']] = pd.to_datetime('3/10/19'),pd.to_datetime('11/03/19')\n",
    "tract_info_next.loc[tract_info_next['date'].dt.year == 2020,['dst1','dst2']] = pd.to_datetime('3/08/20'),pd.to_datetime('11/01/20')\n",
    "tract_info_next.loc[tract_info_next['date'].dt.year == 2021,['dst1','dst2']] = pd.to_datetime('3/14/21'),pd.to_datetime('11/07/21')\n",
    "tract_info_next.loc[tract_info_next['date'].dt.year == 2022,['dst1','dst2']] = pd.to_datetime('3/13/22'),pd.to_datetime('11/06/22')\n",
    "\n",
    "tract_info_next['diff_dst1'] = (tract_info_next['date']-tract_info_next['dst1'])\n",
    "tract_info_next['diff_dst1'] = [i.days for i in tract_info_next['diff_dst1']]\n",
    "\n",
    "tract_info_next['diff_dst2'] = (tract_info_next['date']-tract_info_next['dst2'])\n",
    "tract_info_next['diff_dst2'] = [i.days for i in tract_info_next['diff_dst2']]\n",
    "\n",
    "tract_info_final = tract_info_next[((tract_info_next['diff_dst1'] <= 30) & (tract_info_next['diff_dst1'] >= -30))|\\\n",
    "                                   ((tract_info_next['diff_dst2'] <= 30) & (tract_info_next['diff_dst2'] >= -30))]"
   ]
  },
  {
   "cell_type": "code",
   "execution_count": 142,
   "id": "d41d9a94",
   "metadata": {},
   "outputs": [
    {
     "data": {
      "text/plain": [
       "(149655, 19)"
      ]
     },
     "execution_count": 142,
     "metadata": {},
     "output_type": "execute_result"
    }
   ],
   "source": [
    "tract_info_next.shape"
   ]
  },
  {
   "cell_type": "code",
   "execution_count": 143,
   "id": "2abf7b2f",
   "metadata": {},
   "outputs": [
    {
     "data": {
      "text/plain": [
       "(44871, 19)"
      ]
     },
     "execution_count": 143,
     "metadata": {},
     "output_type": "execute_result"
    }
   ],
   "source": [
    "tract_info_final.shape"
   ]
  },
  {
   "cell_type": "code",
   "execution_count": 146,
   "id": "a9b77da6",
   "metadata": {},
   "outputs": [
    {
     "data": {
      "text/plain": [
       "(149655, 19)"
      ]
     },
     "execution_count": 146,
     "metadata": {},
     "output_type": "execute_result"
    }
   ],
   "source": [
    "tract_info_final.to_csv('la_final_seasonal.csv',index=False)\n",
    "tract_info_next.to_csv('la_final_non_seasonal.csv',index=False)\n",
    "tract_info_next.shape"
   ]
  },
  {
   "cell_type": "code",
   "execution_count": null,
   "id": "c14c5954",
   "metadata": {},
   "outputs": [],
   "source": []
  }
 ],
 "metadata": {
  "kernelspec": {
   "display_name": "VOD",
   "language": "python",
   "name": "vod"
  },
  "language_info": {
   "codemirror_mode": {
    "name": "ipython",
    "version": 3
   },
   "file_extension": ".py",
   "mimetype": "text/x-python",
   "name": "python",
   "nbconvert_exporter": "python",
   "pygments_lexer": "ipython3",
   "version": "3.10.6"
  }
 },
 "nbformat": 4,
 "nbformat_minor": 5
}
