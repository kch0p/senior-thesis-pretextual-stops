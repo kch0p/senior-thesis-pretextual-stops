{
 "cells": [
  {
   "cell_type": "code",
   "execution_count": 36,
   "id": "a9d1fb0d",
   "metadata": {},
   "outputs": [],
   "source": [
    "import pandas as pd\n",
    "import numpy as np\n",
    "\n",
    "import scipy\n",
    "import statsmodels.formula.api as smf\n",
    "import statistics as st \n",
    "import pandas as pd\n",
    "import matplotlib.pyplot as plt\n",
    "\n",
    "import requests\n",
    "from geopy.geocoders import Nominatim\n",
    "from astral import LocationInfo\n",
    "import datetime\n",
    "from astral.sun import sun\n",
    "from astral import LocationInfo\n",
    "\n",
    "from time import time"
   ]
  },
  {
   "cell_type": "code",
   "execution_count": 37,
   "id": "538c8a17",
   "metadata": {},
   "outputs": [
    {
     "name": "stdout",
     "output_type": "stream",
     "text": [
      "/Users/karatechop\n"
     ]
    }
   ],
   "source": [
    "cd"
   ]
  },
  {
   "cell_type": "code",
   "execution_count": 38,
   "id": "b8f7d7a5",
   "metadata": {},
   "outputs": [
    {
     "name": "stdout",
     "output_type": "stream",
     "text": [
      "/Users/karatechop/Documents/GitHub/senior-thesis-pretextual-stops/Data/RIPA-DATA-CA-as-of-2022 (CSV)\n"
     ]
    }
   ],
   "source": [
    "cd /Users/karatechop/Documents/GitHub/senior-thesis-pretextual-stops/Data/RIPA-DATA-CA-as-of-2022\\ \\(CSV\\)"
   ]
  },
  {
   "cell_type": "code",
   "execution_count": null,
   "id": "d43a6de9",
   "metadata": {},
   "outputs": [],
   "source": [
    "working_main = pd.read_csv('working_main.csv')\n",
    "print(working_main.columns,'\\n',working_main.shape,'\\n',len(working_main.time))"
   ]
  },
  {
   "cell_type": "code",
   "execution_count": null,
   "id": "c8390455",
   "metadata": {},
   "outputs": [],
   "source": [
    "print(working_main.columns,'\\n\\n',\n",
    "      working_main.time.value_counts(),'\\n\\n',\n",
    "      'unique lengths of timestamps are:',pd.unique([len(i) for i in working_main['time']]),'\\n\\n',\n",
    "      [i for i in working_main['time'] if len(i)==5][0],'\\n',\n",
    "      [i for i in working_main['time'] if len(i)==8][0],'\\n',\n",
    "      [i for i in working_main['time'] if len(i)==7][0],'\\n',\n",
    "      [i for i in working_main['time'] if len(i)==19][0],'\\n',\n",
    "      [i for i in working_main['time'] if len(i)==4][0],'\\n')"
   ]
  },
  {
   "cell_type": "code",
   "execution_count": null,
   "id": "064928d9",
   "metadata": {},
   "outputs": [],
   "source": [
    "time = []\n",
    "\n",
    "for i in working_main['time']: \n",
    "    if len(i) == 8:\n",
    "        time.append(i)\n",
    "    elif len(i) == 4:\n",
    "        time.append('0' + i + ':00')\n",
    "    elif len(i) == 5:\n",
    "        time.append(i + ':00')\n",
    "    elif len(i) == 7:\n",
    "        time.append('0' + i)\n",
    "    elif len(i) == 19:\n",
    "        time.append(i[-8:])\n",
    "    else:\n",
    "        time.append(i)"
   ]
  },
  {
   "cell_type": "code",
   "execution_count": null,
   "id": "a0713720",
   "metadata": {},
   "outputs": [],
   "source": [
    "len(time)"
   ]
  },
  {
   "cell_type": "code",
   "execution_count": null,
   "id": "e35a32a1",
   "metadata": {
    "scrolled": true
   },
   "outputs": [],
   "source": [
    "working_main['time'] = time\n",
    "\n",
    "# working_main['time'] = [pd.to_datetime(i) for i in working_main['time'] if len(i)==8]working_main['time'] = [pd.to_datetime(i) for i in working_main['time'] if len(i)==8]\n",
    "working_main['time'] = pd.to_datetime(working_main['time'],format=\"%H:%M:%S\")\n",
    "\n",
    "print('len of time column is:',len(working_main.time),'\\n sum of null time values is:',working_main['time'].isna().sum())\n",
    "working_main"
   ]
  },
  {
   "cell_type": "code",
   "execution_count": null,
   "id": "56efd52a",
   "metadata": {
    "scrolled": false
   },
   "outputs": [],
   "source": [
    "working_main.rename(columns={'city':'agency'},inplace=True)\n",
    "print('debug, change worked')\n",
    "\n",
    "def city_from_agency_check(df):\n",
    "    city_str = []\n",
    "    lat_str = []\n",
    "    lon_str = []\n",
    "    wave_str = []\n",
    "    \n",
    "    for i in df['agency']:\n",
    "        if 'ALL-SJPD-AB953' in i:\n",
    "            city_str.append('San Jose')\n",
    "            lat_str.append(37.3387)\n",
    "            lon_str.append(-121.8853)\n",
    "            wave_str.append(2)\n",
    "        elif 'ALL-LBPD-AB953' in i:\n",
    "            city_str.append('Long Beach')\n",
    "            lat_str.append(33.7701)\n",
    "            lon_str.append(-118.1937)\n",
    "            wave_str.append(2)\n",
    "        elif 'ALL-OAKLAND_PD-AB953' in i:\n",
    "            city_str.append('Oakland')\n",
    "            lat_str.append(37.8044)\n",
    "            lon_str.append(-122.2712)\n",
    "            wave_str.append(2)\n",
    "        elif 'Berkeley PD' in i:\n",
    "            city_str.append('Berkeley')\n",
    "            lat_str.append(37.8715)\n",
    "            lon_str.append(-122.2730)\n",
    "            wave_str.append(3)\n",
    "        elif 'ALL-MARIN-AB953' in i:\n",
    "            city_str.append('Marin')\n",
    "            lat_str.append(38.0834)\n",
    "            lon_str.append(-122.7633)\n",
    "            wave_str.append(3)\n",
    "        elif 'Davis PD' in i:\n",
    "            city_str.append('Davis')\n",
    "            lat_str.append(38.5449)\n",
    "            lon_str.append(-121.7405)\n",
    "            wave_str.append(3)\n",
    "        elif 'ALL-RIVERSIDE-AB953' in i:\n",
    "            city_str.append('Riverside')\n",
    "            lat_str.append(33.9806)\n",
    "            lon_str.append(-117.3755)\n",
    "            wave_str.append(1)\n",
    "        elif 'SDPD' in i:\n",
    "            city_str.append('San Diego')\n",
    "            lat_str.append(32.7157)\n",
    "            lon_str.append(-117.1611)\n",
    "            wave_str.append(1)\n",
    "        elif 'ALL-SFPD-AB953' in i:\n",
    "            city_str.append('San Francisco')\n",
    "            lat_str.append(37.7749)\n",
    "            lon_str.append(-122.4194)\n",
    "            wave_str.append(1)\n",
    "        elif 'LAPD' in i:\n",
    "            city_str.append('Los Angeles')\n",
    "            lat_str.append(34.0522)\n",
    "            lon_str.append(-118.2437)\n",
    "            wave_str.append(1)\n",
    "        else:\n",
    "            print('didnt work',i)\n",
    "        \n",
    "    df['city']=city_str\n",
    "    df['lat']=lat_str\n",
    "    df['lon']=lon_str\n",
    "    df['wave']=wave_str\n",
    "    \n",
    "    pd.option_context('display.precision', 10)\n",
    "    \n",
    "    return df\n",
    "\n",
    "working_main = city_from_agency_check(working_main)\n",
    "working_main['location'] = working_main['location'].astype(str)\n",
    "working_main['location'] = working_main['location'] + ' - ' + working_main['city']"
   ]
  },
  {
   "cell_type": "code",
   "execution_count": null,
   "id": "70b0c4df",
   "metadata": {},
   "outputs": [],
   "source": [
    "working_main.location.value_counts()"
   ]
  },
  {
   "cell_type": "code",
   "execution_count": null,
   "id": "725c8b1d",
   "metadata": {},
   "outputs": [],
   "source": [
    "# working_main.to_csv('working_main_expanded.csv')"
   ]
  },
  {
   "cell_type": "code",
   "execution_count": null,
   "id": "30e674f9",
   "metadata": {},
   "outputs": [],
   "source": [
    "# working_main_expanded = pd.read_csv('working_main_expanded.csv')"
   ]
  },
  {
   "cell_type": "code",
   "execution_count": null,
   "id": "d910ec83",
   "metadata": {},
   "outputs": [],
   "source": [
    "working_main_expanded = working_main"
   ]
  },
  {
   "cell_type": "code",
   "execution_count": null,
   "id": "0a4fbcca",
   "metadata": {},
   "outputs": [],
   "source": [
    "working_main_expanded.date = pd.to_datetime(working_main_expanded.date)"
   ]
  },
  {
   "cell_type": "code",
   "execution_count": null,
   "id": "b6fd2e77",
   "metadata": {},
   "outputs": [],
   "source": [
    "working_main_expanded.dtypes"
   ]
  },
  {
   "cell_type": "code",
   "execution_count": null,
   "id": "4f3f9fe3",
   "metadata": {},
   "outputs": [],
   "source": [
    "# s = sun(loc.observer, date=datetime.date(2021, 1, 15), tzinfo=loc.timezone)\n",
    "# for key in ['dawn', 'dusk', 'noon', 'sunrise', 'sunset']:\n",
    "#     print(f'{key:10s}:', s[key])"
   ]
  },
  {
   "cell_type": "code",
   "execution_count": null,
   "id": "4e6c7676",
   "metadata": {},
   "outputs": [],
   "source": [
    "# %%timeit\n",
    "# start = time()\n",
    "\n",
    "dawn_list = []\n",
    "sunrise_list = []\n",
    "sunset_list = []\n",
    "dusk_list = []\n",
    "\n",
    "counter = 0\n",
    "\n",
    "\n",
    "\n",
    "for i in working_main_expanded['date']:\n",
    "    year = i.year\n",
    "    month = i.month\n",
    "    day = i.day\n",
    "\n",
    "    name = working_main_expanded['city'][counter]\n",
    "    lat = working_main_expanded['lat'][counter]\n",
    "    lon = working_main_expanded['lon'][counter]\n",
    "\n",
    "    loc = LocationInfo(name=name, region='CA, USA', timezone='America/Los_Angeles', #https://en.wikipedia.org/wiki/List_of_tz_database_time_zones\n",
    "                       latitude=lat, longitude=lon)\n",
    "    \n",
    "\n",
    "\n",
    "    s = sun(loc.observer, date=datetime.date(year, month, day), tzinfo=loc.timezone)\n",
    "    sunset_list.append(s['sunset'].time())\n",
    "    dusk_list.append(s['dusk'].time())\n",
    "    dawn_list.append(s['dawn'].time())\n",
    "    sunrise_list.append(s['sunrise'].time())\n",
    "    \n",
    "    counter+=1\n",
    "    if counter%100000==0:\n",
    "        print(f'debug, counter is at {counter}')\n",
    "    \n",
    "    \n",
    "dawn_list2 = [str(i)[:8] for i in dawn_list]\n",
    "sunrise_list2 = [str(i)[:8] for i in sunrise_list]\n",
    "sunset_list2 = [str(i)[:8] for i in sunset_list]  \n",
    "dusk_list2 = [str(i)[:8] for i in dusk_list]  \n",
    "\n",
    "working_main_expanded['dawntime'] = dawn_list2\n",
    "working_main_expanded['sunrisetime'] = sunrise_list2\n",
    "working_main_expanded['sunsettime'] = sunset_list2\n",
    "working_main_expanded['dusktime'] = dusk_list2\n",
    "print('debug, done!')\n",
    "# print(f'that whole process took {(time()-start)/60} minutes')\n",
    "# sunset_list"
   ]
  },
  {
   "cell_type": "code",
   "execution_count": null,
   "id": "c1f6b2c8",
   "metadata": {
    "scrolled": false
   },
   "outputs": [],
   "source": [
    "import warnings\n",
    "warnings.filterwarnings(\"ignore\") \n",
    "date_to_subtract = datetime.datetime(1900, 1, 1)\n",
    "\n",
    "working_main_expanded['mins_dawn'] = [round(((datetime.datetime.strptime(i, '%H:%M:%S') - date_to_subtract).total_seconds() / 60.0),0) \n",
    "                                           for i in dawn_list2]\n",
    "working_main_expanded['mins_sunrise'] = [round(((datetime.datetime.strptime(i, '%H:%M:%S') - date_to_subtract).total_seconds() / 60.0),0) \n",
    "                                           for i in sunrise_list2]\n",
    "\n",
    "\n",
    "working_main_expanded['mins_sunset'] = [round(((datetime.datetime.strptime(i, '%H:%M:%S') - date_to_subtract).total_seconds() / 60.0),0) \n",
    "                                           for i in sunset_list2]\n",
    "working_main_expanded['mins_dusk'] = [round(((datetime.datetime.strptime(i, '%H:%M:%S') - date_to_subtract).total_seconds() / 60.0),0) \n",
    "                                           for i in dusk_list2]\n",
    "\n",
    "\n",
    "working_main_expanded['mins_stop_time'] = [round(((i - date_to_subtract).total_seconds()/60),0) \n",
    "                                           for i in working_main_expanded['time']]\n",
    "\n",
    "\n",
    "\n",
    "working_main_expanded['mins_after_dawn'] = working_main_expanded['mins_stop_time'] - working_main_expanded['mins_dawn']\n",
    "working_main_expanded['mins_before_dusk'] = working_main_expanded['mins_dusk'] - working_main_expanded['mins_stop_time']\n",
    "working_main_expanded['day_in_year'] = [i.day for i in working_main_expanded['date']]\n",
    "\n",
    "working_main_expanded['dark'] = 0\n",
    "working_main_expanded.loc[working_main_expanded['mins_after_dawn']<=0,'dark']=1\n",
    "working_main_expanded.loc[working_main_expanded['mins_before_dusk']<=0,'dark']=1\n",
    "\n",
    "working_main_expanded.head(3)"
   ]
  },
  {
   "cell_type": "code",
   "execution_count": null,
   "id": "706f29e0",
   "metadata": {},
   "outputs": [],
   "source": [
    "working_main_expanded = working_main_expanded[['date','day_in_year', 'time', 'sunsettime', 'dusktime', 'sex', 'race', 'type', 'duration', 'agency', 'location',\n",
    "       'city', 'lat', 'lon', 'wave', 'mins_stop_time','mins_dawn','mins_sunrise','mins_sunset','mins_dusk', 'mins_after_dawn', 'mins_before_dusk','dark']]"
   ]
  },
  {
   "cell_type": "code",
   "execution_count": null,
   "id": "69b02709",
   "metadata": {},
   "outputs": [],
   "source": [
    "working_main_expanded.to_csv('working_main_expanded.csv',index=False)"
   ]
  },
  {
   "cell_type": "code",
   "execution_count": null,
   "id": "5b983887",
   "metadata": {},
   "outputs": [],
   "source": []
  },
  {
   "cell_type": "code",
   "execution_count": null,
   "id": "b171d3da",
   "metadata": {},
   "outputs": [],
   "source": []
  }
 ],
 "metadata": {
  "kernelspec": {
   "display_name": "VOD",
   "language": "python",
   "name": "vod"
  },
  "language_info": {
   "codemirror_mode": {
    "name": "ipython",
    "version": 3
   },
   "file_extension": ".py",
   "mimetype": "text/x-python",
   "name": "python",
   "nbconvert_exporter": "python",
   "pygments_lexer": "ipython3",
   "version": "3.10.6"
  }
 },
 "nbformat": 4,
 "nbformat_minor": 5
}
