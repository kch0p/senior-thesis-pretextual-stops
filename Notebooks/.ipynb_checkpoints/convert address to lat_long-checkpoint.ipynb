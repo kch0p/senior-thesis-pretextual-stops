{
 "cells": [
  {
   "cell_type": "code",
   "execution_count": 1,
   "id": "af2875ff",
   "metadata": {},
   "outputs": [
    {
     "name": "stdout",
     "output_type": "stream",
     "text": [
      "\n",
      " API queries_quota: 60 \n",
      "\n"
     ]
    }
   ],
   "source": [
    "import pandas as pd\n",
    "import numpy as np\n",
    "\n",
    "from time import time\n",
    "from string import digits\n",
    "import random\n",
    "\n",
    "from geopy import Point\n",
    "from geopy import Nominatim\n",
    "from postal.parser import parse_address\n",
    "from postal.expand import expand_address\n",
    "import googlemaps\n",
    "from googlemaps_api_key import key \n",
    "\n",
    "key = key.replace('†','')\n",
    "gmaps = googlemaps.Client(key=key)\n",
    "# https://console.cloud.google.com/apis/credentials?project=la-api-key"
   ]
  },
  {
   "cell_type": "code",
   "execution_count": 2,
   "id": "923c2e98",
   "metadata": {},
   "outputs": [
    {
     "name": "stdout",
     "output_type": "stream",
     "text": [
      "/Users/karatechop\n"
     ]
    }
   ],
   "source": [
    "cd"
   ]
  },
  {
   "cell_type": "code",
   "execution_count": 3,
   "id": "6e5c3ed1",
   "metadata": {},
   "outputs": [
    {
     "name": "stdout",
     "output_type": "stream",
     "text": [
      "/Users/karatechop/Documents/GitHub/senior-thesis-pretextual-stops/Data/RIPA-DATA-CA-as-of-2022 (CSV)\n"
     ]
    }
   ],
   "source": [
    "cd /Users/karatechop/Documents/GitHub/senior-thesis-pretextual-stops/Data/RIPA-DATA-CA-as-of-2022\\ \\(CSV\\)"
   ]
  },
  {
   "cell_type": "code",
   "execution_count": 4,
   "id": "15fdbe9a",
   "metadata": {},
   "outputs": [],
   "source": [
    "itp_dusk = pd.read_csv('itp_dusk.csv')"
   ]
  },
  {
   "cell_type": "code",
   "execution_count": 5,
   "id": "634a6f7f",
   "metadata": {},
   "outputs": [
    {
     "data": {
      "text/plain": [
       "60189"
      ]
     },
     "execution_count": 5,
     "metadata": {},
     "output_type": "execute_result"
    }
   ],
   "source": [
    "la = itp_dusk[itp_dusk['city'] == 'Los Angeles'].reset_index(drop=True)\n",
    "la['location'] = [i.lower().replace(' - los angeles','') for i in la['location']]\n",
    "len(la['location'].unique())"
   ]
  },
  {
   "cell_type": "code",
   "execution_count": 6,
   "id": "6002591b",
   "metadata": {},
   "outputs": [],
   "source": [
    "def first_char_NESW(street):\n",
    "    \n",
    "    try: \n",
    "        if street.split()[0] == 'n':\n",
    "            street = 'north ' + ''.join(street[2:])\n",
    "        elif street.split()[0] == 'e':\n",
    "            street = 'east '  + ''.join(street[2:])\n",
    "        elif street.split()[0] == 's':\n",
    "            street = 'south ' + ''.join(street[2:])\n",
    "        elif street.split()[0] == 'w':\n",
    "            street = 'west ' + ''.join(street[2:])\n",
    "    except:\n",
    "        pass\n",
    "    \n",
    "    return street\n"
   ]
  },
  {
   "cell_type": "code",
   "execution_count": 58,
   "id": "484b580e",
   "metadata": {
    "collapsed": true
   },
   "outputs": [
    {
     "name": "stdout",
     "output_type": "stream",
     "text": [
      "1 braddock dr & stoner ave ---> braddock dr & streetoner avenue\n",
      "2 100 gateway plaza dr ---> 100 gateway plaza dr\n",
      "3 n sepulveda blvd & vose st ---> north sepulveda Boulevard & vose street\n",
      "4 w jefferson blvd & crenshaw blvd ---> west jefferson Boulevard & crenshaw Boulevard\n",
      "5 s figueroa st & west 8th st ---> south figueroa street & westreet 8th street\n",
      "6 stonegate dr & valley circle blvd ---> streetonegate dr & valley circle Boulevard\n",
      "7 riviera ave & westminster ave ---> riviera avenue & westreetminstreeter avenue\n",
      "8 avalon blvd & east 112th st ---> avalon Boulevard & eastreet 112th street\n",
      "9 w olympic blvd & francisco st ---> west olympic Boulevard & francisco street\n",
      "10 4000 western ---> 4000 westreetern\n",
      "11 dell ave & washington blvd ---> dell avenue & washington Boulevard\n",
      "12 800 west 56th st ---> 800 westreet 56th street\n",
      "13 s broadway & west vernon ave ---> south broadway & westreet vernon avenue\n",
      "14 vanowen & oakdale ---> vanowen & oakdale\n",
      "15 s flower st & west 9th st ---> south flower street & westreet 9th street\n",
      "16 avalon blvd & east 58th st ---> avalon Boulevard & eastreet 58th street\n",
      "17 lassen st & hayvenhurst ave ---> lassen street & hayvenhurstreet avenue\n",
      "18 friar st & belmar ave ---> friar street & belmar avenue\n",
      "19 7400 south hobart blvd ---> 7400 south hobart Boulevard\n",
      "20 6th & alvarado ---> 6th & alvarado\n",
      "21 s la brea ave & san vicente blvd ---> south la brea avenue & san vicente Boulevard\n",
      "22 w florence ave & 8th ave ---> west florence avenue & 8th avenue\n",
      "23 orange & hwd ---> orange & hwd\n",
      "24 louise ave & keswick st ---> louise avenue & keswick street\n",
      "25 calvert st & van nuys blvd ---> calvert street & van nuys Boulevard\n",
      "26 w olympic blvd & south westlake ave ---> west olympic Boulevard & south westreetlake avenue\n",
      "27 n broadway & bishops rd ---> north broadway & bishops rd\n",
      "28 saticoy st & zelzah ave ---> saticoy street & zelzah avenue\n",
      "29 300 south main st ---> 300 south main street\n",
      "30 haddon ave & remington st ---> haddon avenue & remington street\n",
      "31 crenshaw blvd & hyde park blvd ---> crenshaw Boulevard & hyde park Boulevard\n",
      "32 11800 south main st ---> 11800 south main street\n",
      "33 s hoover st & west vernon ave ---> south hoover street & westreet vernon avenue\n",
      "34 wilbur ave & philliprimm st ---> wilbur avenue & philliprimm street\n",
      "35 n mathews st & east 1st st ---> north mathews street & eastreet 1street street\n",
      "36 dudley ave & ocean front wk ---> dudley avenue & ocean front wk\n",
      "37 s crenshaw & vernon ---> south crenshaw & vernon\n",
      "38 w 54th st & south western ave ---> west 54th street & south westreetern avenue\n",
      "39 w 23rd st & south hill st ---> west 23rd street & south hill street\n",
      "40 15600 rinaldi st ---> 15600 rinaldi street\n",
      "41 7600 north lankershim blvd ---> 7600 north lankershim Boulevard\n",
      "42 crenshaw blvd & west 39th st ---> crenshaw Boulevard & westreet 39th street\n",
      "43 redondo beach & figueroa ---> redondo beach & figueroa\n",
      "44 w 84th pl & south figueroa st ---> west 84th pl & south figueroa street\n",
      "45 s westlake ave & west 7th st ---> south westreetlake avenue & westreet 7th street\n",
      "46 s berendo st & west 3rd st ---> south berendo street & westreet 3rd street\n",
      "47 van nuys blvd & haddon ave ---> van nuys Boulevard & haddon avenue\n",
      "48 2700 winter st ---> 2700 winter street\n",
      "49 n fig & mlk ---> north fig & mlk\n",
      "50 3100 wilshire blvd ---> 3100 wilshire Boulevard\n",
      "51 82nd & vermont ---> 82nd & vermont\n",
      "52 1900 south santa fe ave ---> 1900 south santa fe avenue\n",
      "53 e 8th st & south los angeles st ---> east 8th street & south los angeles street\n",
      "54 s alvarado st & west 7th st ---> south alvarado street & westreet 7th street\n",
      "55 w 8th st & south alvarado st ---> west 8th street & south alvarado street\n",
      "56 hope & 7th ---> hope & 7th\n",
      "57 3300 beverly glen blvd ---> 3300 beverly glen Boulevard\n",
      "58 1000 frigate ave ---> 1000 frigate avenue\n",
      "59 hollywood blvd & whitley ave ---> hollywood Boulevard & whitley avenue\n",
      "60 600 south hill st ---> 600 south hill street\n",
      "61 100 10th ---> 100 10th\n",
      "62 foothill blvd & i-210 ---> foothill Boulevard & i-210\n",
      "63 menlo ave & west florence ave ---> menlo avenue & westreet florence avenue\n",
      "64 2200 west 6th st ---> 2200 westreet 6th street\n",
      "65 w olympic blvd & south grand ave ---> west olympic Boulevard & south grand avenue\n",
      "66 8000 south western ave ---> 8000 south westreetern avenue\n",
      "67 500 south hill st ---> 500 south hill street\n",
      "68 w 79th st & south figueroa st ---> west 79th street & south figueroa street\n",
      "69 e 87th pl & mckinley pl ---> east 87th pl & mckinley pl\n",
      "70 vanowen & independence ---> vanowen & independence\n",
      "71 s vermont ave & west 92nd st ---> south vermont avenue & westreet 92nd street\n",
      "72 s figueroa st & west 12th dr ---> south figueroa street & westreet 12th dr\n",
      "73 towne & 103rd ---> towne & 103rd\n",
      "74 s figueroa st & west imperial hwy ---> south figueroa street & westreet imperial hwy\n",
      "75 olympic & spence ---> olympic & spence\n",
      "76 osborne st & laurel canyon blvd ---> osborne street & laurel canyon Boulevard\n",
      "77 main & 27th st ---> main & 27th street\n",
      "78 900 west olympic ---> 900 westreet olympic\n",
      "79 nordhoff pl & corbin ave ---> nordhoff pl & corbin avenue\n",
      "80 e olympic blvd & south naomi ave ---> east olympic Boulevard & south naomi avenue\n",
      "81 800 south soto st ---> 800 south soto street\n",
      "82 n argyle ave & west sunset blvd ---> north argyle avenue & westreet sunset Boulevard\n",
      "83 lindley ave & keswick st ---> lindley avenue & keswick street\n",
      "84 s figueroa st & exposition blvd ---> south figueroa street & exposition Boulevard\n",
      "85 4700 crystal springs dr ---> 4700 crystreetal springs dr\n",
      "86 w 54th st & denker ave ---> west 54th street & denker avenue\n",
      "87 n vermont & i-101 fwy ---> north vermont & i-101 fwy\n",
      "88 lankershim blvd & peoria st ---> lankershim Boulevard & peoria street\n",
      "89 mckinley ave & east 50th st ---> mckinley avenue & eastreet 50th street\n",
      "90 w sunset blvd & north alvarado st ---> west sunset Boulevard & north alvarado street\n",
      "91 james m wood blvd & south new hampshire ave ---> james m wood Boulevard & south new hampshire avenue\n",
      "92 w slauson ave & south western ave ---> west slauson avenue & south westreetern avenue\n",
      "93 w jefferson blvd & buckingham rd ---> west jefferson Boulevard & buckingham rd\n",
      "94 kohler st & wilde st ---> kohler street & wilde street\n",
      "95 s normandie ave & west pico blvd ---> south normandie avenue & westreet pico Boulevard\n",
      "96 s central ave & east 12th st ---> south central avenue & eastreet 12th street\n",
      "97 community st & de soto ave ---> community street & de soto avenue\n",
      "98 w 10th & pacific ---> west 10th & pacific\n",
      "99 hollywood blvd & north mc cadden pl ---> hollywood Boulevard & north mc cadden pl\n",
      "100 n vermont ave & melrose ave ---> north vermont avenue & melrose avenue\n"
     ]
    }
   ],
   "source": [
    "# unit_tests = np.random.choice( la['location'] , size = 100, replace = True, p = None)\n",
    "# unit_tests = [i.replace(' - ','')\n",
    "#                .replace(' n ',' north ')\n",
    "#                .replace(' e ',' east ')\n",
    "#                .replace(' s ',' south ')\n",
    "#                .replace(' w ',' west ') for i in unit_tests]\n",
    "\n",
    "# counter = 0\n",
    "# for street in unit_tests:\n",
    "    \n",
    "#     counter+=1\n",
    "#     street_fix = first_char_NESW(street)\n",
    "#     print(f'{counter} {street} ---> {street_fix}')"
   ]
  },
  {
   "cell_type": "code",
   "execution_count": 7,
   "id": "6d4753fe",
   "metadata": {},
   "outputs": [
    {
     "data": {
      "text/plain": [
       "60179"
      ]
     },
     "execution_count": 7,
     "metadata": {},
     "output_type": "execute_result"
    }
   ],
   "source": [
    "la['location'] = [i.lower().lstrip('').rstrip('') for i in la['location']]\n",
    "la['location'] = la['location'].str.replace(' - Los Angeles','') \n",
    "la['location'] = la['location'].str.replace(' - los angeles','') \n",
    "\n",
    "la['location'] = la['location'].str.replace(' n ',' north ') \n",
    "la['location'] = la['location'].str.replace(' e ',' east ') \n",
    "la['location'] = la['location'].str.replace(' s ',' south ') \n",
    "la['location'] = la['location'].str.replace(' w ',' west ') \n",
    "\n",
    "la['location'] = la['location'].str.replace(' st ',' street ') \n",
    "la['location'] = la['location'].str.replace(' ave',' avenue')\n",
    "la['location'] = la['location'].str.replace(' blvd',' boulevard')\n",
    "\n",
    "\n",
    "len(la['location'].unique())"
   ]
  },
  {
   "cell_type": "code",
   "execution_count": 8,
   "id": "b1f75a54",
   "metadata": {},
   "outputs": [
    {
     "data": {
      "text/plain": [
       "array(['600 south alvarado st', 'vine street & west sunset boulevard',\n",
       "       'lincoln & flower', ..., 'broadway & 66th st', '500 west 51st st',\n",
       "       'e 14th street & wilson st'], dtype=object)"
      ]
     },
     "execution_count": 8,
     "metadata": {},
     "output_type": "execute_result"
    }
   ],
   "source": [
    "la['location'].unique()"
   ]
  },
  {
   "cell_type": "code",
   "execution_count": 15,
   "id": "b9e2b945",
   "metadata": {},
   "outputs": [],
   "source": [
    "# for street in la['location'].unique()[:10]:\n",
    "#     print(street,'\\n',first_char_NESW(street),'\\n\\n')"
   ]
  },
  {
   "cell_type": "code",
   "execution_count": 10,
   "id": "e46f2171",
   "metadata": {
    "scrolled": true
   },
   "outputs": [],
   "source": [
    "la['location'] = [first_char_NESW(i) for i in la['location']]"
   ]
  },
  {
   "cell_type": "code",
   "execution_count": 46,
   "id": "90d34e22",
   "metadata": {
    "collapsed": true
   },
   "outputs": [
    {
     "data": {
      "text/plain": [
       "array(['600 south alvarado st', 'vine street & west sunset boulevard',\n",
       "       'lincoln & flower', 'sunset & lincoln',\n",
       "       'north sepulveda boulevard & lanark st', 'florence & denver',\n",
       "       'west mlk boulevard & 2nd avenue', 'brooks avenue & royal ct',\n",
       "       'south budlong avenue & west 43rd st', '4000 nicolet avenue',\n",
       "       'west 59th pl & south broadway', 'pacific avenue & horizon avenue',\n",
       "       '4800 slauson avenue',\n",
       "       'west vernon avenue & south harvard boulevard',\n",
       "       'west 19th street & south pacific avenue',\n",
       "       'cabrillo avenue & market st', 'east 88th pl & caliburn dr',\n",
       "       'east 42nd pl & mckinley avenue',\n",
       "       'west 84th pl & south figueroa st',\n",
       "       'south hobart boulevard & west 42nd pl',\n",
       "       'saticoy street & balboa boulevard',\n",
       "       'north venice boulevard & speedway', '89th & mettler',\n",
       "       'venice way & main st', 'mindanao & lincoln',\n",
       "       'east olympic boulevard & hooper avenue',\n",
       "       'south western avenue & west 38th pl',\n",
       "       'south vermont avenue & west 91st st', 'west yucca & hudson',\n",
       "       'east 48th street & avalon boulevard', 'east 5th street & wall st',\n",
       "       'south figueroa street & west vernon avenue',\n",
       "       'roscoe & balboa boulevard',\n",
       "       'east manchester avenue & avalon boulevard', '4900 coliseum st',\n",
       "       'flower street & west vernon avenue', 'marengo street & lord st',\n",
       "       'west 24th street & gramercy park',\n",
       "       'horizon avenue & ocean front wk', '42nd & san pedro',\n",
       "       'roscoe boulevard & white oak avenue',\n",
       "       'south budlong avenue & west 91st st', 'ocean front wk & navy st',\n",
       "       'venice boulevard & globe avenue', 'south venice & pacific',\n",
       "       '51st & towne', 'arleta & branford', '2nd avenue & west 23rd st',\n",
       "       'west manchester avenue & south western avenue',\n",
       "       '200 north venice boulevard'], dtype=object)"
      ]
     },
     "execution_count": 46,
     "metadata": {},
     "output_type": "execute_result"
    }
   ],
   "source": [
    "la['location'].unique()[:50]"
   ]
  },
  {
   "cell_type": "code",
   "execution_count": 70,
   "id": "9cd24bbe",
   "metadata": {},
   "outputs": [],
   "source": [
    "def find_lat_lon(address):\n",
    "    la_viewbox = ( (33.525861509262725,-117.32095033303995), (34.26915279876192,-118.52290082214722) )   \n",
    "    la_bounds = gmaps.geocode('los angeles')[0]['geometry']['bounds']\n",
    "    \n",
    "    nom_count = 0\n",
    "    gv3_count = 0\n",
    "        \n",
    "    if '&' not in address:\n",
    "        try:\n",
    "            geolocator = Nominatim(user_agent=\"kcharris@berkeley.edu\")\n",
    "            location = geolocator.geocode(address,viewbox=la_viewbox,bounded=True)\n",
    "\n",
    "            coords = location.raw['lat'] + ' , ' + location.raw['lon']\n",
    "\n",
    "        except:\n",
    "            try:\n",
    "                address = address + ' - los angeles'\n",
    "                coords = str(gmaps.geocode(address,bounds=la_bounds)[0]['geometry']['location']['lat']) + ' , ' +\\\n",
    "                         str(gmaps.geocode(address,bounds=la_bounds)[0]['geometry']['location']['lng'])\n",
    "\n",
    "            except:\n",
    "                print(f'google maps and nominatim failed for {address}')\n",
    "                coords = None\n",
    "                pass\n",
    "        \n",
    "        nom_count+=1\n",
    "    \n",
    "    \n",
    "    else: \n",
    "        try:\n",
    "            address = address + ' - los angeles'\n",
    "            coords = str(gmaps.geocode(address,bounds=la_bounds)[0]['geometry']['location']['lat']) + ' , ' +\\\n",
    "                     str(gmaps.geocode(address,bounds=la_bounds)[0]['geometry']['location']['lng'])\n",
    "\n",
    "        except:\n",
    "            print(f'google maps and nominatim failed for {address}')\n",
    "            coords = None\n",
    "            pass\n",
    "        \n",
    "        gv3_count +=1\n",
    "        \n",
    "        \n",
    "    return coords,nom_count,gv3_count"
   ]
  },
  {
   "cell_type": "code",
   "execution_count": 45,
   "id": "5025100f",
   "metadata": {},
   "outputs": [
    {
     "data": {
      "text/plain": [
       "60177"
      ]
     },
     "execution_count": 45,
     "metadata": {},
     "output_type": "execute_result"
    }
   ],
   "source": [
    "len(la_loc_fixed_geo['location'].unique())"
   ]
  },
  {
   "cell_type": "code",
   "execution_count": 80,
   "id": "db5e2842",
   "metadata": {},
   "outputs": [
    {
     "data": {
      "text/plain": [
       "0.21"
      ]
     },
     "execution_count": 80,
     "metadata": {},
     "output_type": "execute_result"
    }
   ],
   "source": [
    "round(len([address for address in la_loc_fixed_geo['location'].unique() if '&' not in address])/len(la_loc_fixed_geo['location'].unique()),2)"
   ]
  },
  {
   "cell_type": "code",
   "execution_count": 83,
   "id": "5d366248",
   "metadata": {
    "scrolled": false
   },
   "outputs": [
    {
     "name": "stdout",
     "output_type": "stream",
     "text": [
      "That portion took 60.67097020149231 seconds. Nom: 16, GV3: 84\n"
     ]
    }
   ],
   "source": [
    "counter = 0\n",
    "nom_count_test = 0\n",
    "gv3_count_test = 0\n",
    "\n",
    "la_loc_fixed_geo = la\n",
    "la_loc_fixed_geo['coords'] = None \n",
    "\n",
    "for address in la_loc_fixed_geo['location'].unique():\n",
    "    if counter%50==0:\n",
    "        start = time()\n",
    "        \n",
    "    coords = find_lat_lon(address)\n",
    "    la_loc_fixed_geo.loc[la_loc_fixed_geo['location']==address,'coords']=coords[0]\n",
    "    counter+=1\n",
    "    nom_count_test += coords[1]\n",
    "    gv3_count_test += coords[2]\n",
    "    \n",
    "    counter+=1\n",
    "    if counter%50==0:\n",
    "        time_took = round(time()-start,2)\n",
    "        len_left = la_loc_fixed_geo['coords'].isna().sum()\n",
    "\n",
    "print(f'That portion took {time()-start} seconds. Nom: {nom_count_test}, GV3: {gv3_count_test}')"
   ]
  },
  {
   "cell_type": "code",
   "execution_count": 71,
   "id": "a50f1b0b",
   "metadata": {},
   "outputs": [
    {
     "name": "stdout",
     "output_type": "stream",
     "text": [
      "('34.018195 , -118.352275', 1, 0)\n"
     ]
    },
    {
     "data": {
      "text/plain": [
       "0.647101879119873"
      ]
     },
     "execution_count": 71,
     "metadata": {},
     "output_type": "execute_result"
    }
   ],
   "source": [
    "test_dog = '4900 coliseum st'\n",
    "start = time()\n",
    "print(find_lat_lon(test_dog))\n",
    "time()-start"
   ]
  },
  {
   "cell_type": "code",
   "execution_count": null,
   "id": "c9f35255",
   "metadata": {},
   "outputs": [],
   "source": []
  },
  {
   "cell_type": "code",
   "execution_count": 32,
   "id": "f7855e2b",
   "metadata": {},
   "outputs": [
    {
     "name": "stdout",
     "output_type": "stream",
     "text": [
      "10.842262029647827\n"
     ]
    },
    {
     "name": "stderr",
     "output_type": "stream",
     "text": [
      "/var/folders/td/yc8lq2qx2ks3ck292tbf6wtm0000gn/T/ipykernel_1473/1850364815.py:2: SettingWithCopyWarning: \n",
      "A value is trying to be set on a copy of a slice from a DataFrame\n",
      "\n",
      "See the caveats in the documentation: https://pandas.pydata.org/pandas-docs/stable/user_guide/indexing.html#returning-a-view-versus-a-copy\n",
      "  la_loc_fixed_geo['location2'][:5] = [find_lat_lon(i) for i in la_loc_fixed_geo['location'][:5]]\n"
     ]
    }
   ],
   "source": [
    "start = time()\n",
    "la_loc_fixed_geo['location2'][:5] = [find_lat_lon(i) for i in la_loc_fixed_geo['location'][:5]]\n",
    "print(time() - start)"
   ]
  },
  {
   "cell_type": "code",
   "execution_count": 34,
   "id": "14b4189b",
   "metadata": {},
   "outputs": [
    {
     "data": {
      "text/plain": [
       "(266137, 14)"
      ]
     },
     "execution_count": 34,
     "metadata": {},
     "output_type": "execute_result"
    }
   ],
   "source": [
    "la.shape"
   ]
  },
  {
   "cell_type": "code",
   "execution_count": null,
   "id": "d74de2e7",
   "metadata": {},
   "outputs": [],
   "source": [
    "la_loc_fixed_geo = la\n",
    "la_loc_fixed.to_csv('la_loc_fixed_geo.csv',index=False)"
   ]
  },
  {
   "cell_type": "code",
   "execution_count": null,
   "id": "e5bd999c",
   "metadata": {},
   "outputs": [],
   "source": [
    "# zip_start = time()\n",
    "# la_viewbox = ( (33.525861509262725,-117.32095033303995), (34.26915279876192,-118.52290082214722) )   \n",
    "# street = 'james m wood boulevard & south new hampshire avenue los angeles'\n",
    "# street = street.split('&')[0]\n",
    "\n",
    "# geolocator = Nominatim(user_agent=\"kcharris@berkeley.edu\")\n",
    "# location = geolocator.geocode(street,viewbox=la_viewbox,bounded=True)\n",
    "\n",
    "# test_zip = location.raw\n",
    "# test_zip = test_zip['display_name'].split()[-3].replace(',','')\n",
    "# print(test_zip,'time:',round(time()-zip_start,2),'seconds')"
   ]
  }
 ],
 "metadata": {
  "kernelspec": {
   "display_name": "VOD",
   "language": "python",
   "name": "vod"
  },
  "language_info": {
   "codemirror_mode": {
    "name": "ipython",
    "version": 3
   },
   "file_extension": ".py",
   "mimetype": "text/x-python",
   "name": "python",
   "nbconvert_exporter": "python",
   "pygments_lexer": "ipython3",
   "version": "3.10.6"
  }
 },
 "nbformat": 4,
 "nbformat_minor": 5
}
