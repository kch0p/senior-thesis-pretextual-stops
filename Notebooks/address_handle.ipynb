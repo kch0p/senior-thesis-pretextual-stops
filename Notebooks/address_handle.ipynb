{
 "cells": [
  {
   "cell_type": "code",
   "execution_count": 2,
   "id": "7016cb9e",
   "metadata": {},
   "outputs": [
    {
     "name": "stdout",
     "output_type": "stream",
     "text": [
      "/Users/karatechop\n"
     ]
    }
   ],
   "source": [
    "cd"
   ]
  },
  {
   "cell_type": "code",
   "execution_count": 3,
   "id": "1848ce1d",
   "metadata": {},
   "outputs": [
    {
     "name": "stdout",
     "output_type": "stream",
     "text": [
      "/Users/karatechop/Documents/GitHub/senior-thesis-pretextual-stops/Data/RIPA-DATA-CA-as-of-2022 (CSV)\n"
     ]
    }
   ],
   "source": [
    "cd /Users/karatechop/Documents/GitHub/senior-thesis-pretextual-stops/Data/RIPA-DATA-CA-as-of-2022\\ \\(CSV\\)"
   ]
  },
  {
   "cell_type": "code",
   "execution_count": 4,
   "id": "fece3380",
   "metadata": {},
   "outputs": [
    {
     "name": "stdout",
     "output_type": "stream",
     "text": [
      "Index(['date', 'day_in_year', 'time', 'sunsettime', 'dusktime', 'sex', 'race',\n",
      "       'type', 'duration', 'agency', 'location', 'city', 'lat', 'lon', 'wave',\n",
      "       'mins_stop_time', 'mins_sunset', 'mins_dusk', 'mins_after_dusk',\n",
      "       'dark'],\n",
      "      dtype='object') \n",
      " (2408246, 20)\n"
     ]
    }
   ],
   "source": [
    "df = pd.read_csv('working_main_expanded.csv')\n",
    "print(df.columns,'\\n',df.shape)"
   ]
  },
  {
   "cell_type": "code",
   "execution_count": 6,
   "id": "627133b9",
   "metadata": {},
   "outputs": [
    {
     "data": {
      "text/plain": [
       "(340906, 6)"
      ]
     },
     "execution_count": 6,
     "metadata": {},
     "output_type": "execute_result"
    }
   ],
   "source": [
    "itp = df[(df['type']!='Non-Moving') &\n",
    "        ((df['mins_stop_time']>=990) & (df['mins_stop_time']<=1230)) & #filtering for ITP (4:30-8:30)\n",
    "        ((df['mins_after_dusk']<=-30) | (df['mins_after_dusk']>=0))][['date', #removing sunset->dusk period\n",
    "                                                                      'race',\n",
    "                                                                      'location',\n",
    "                                                                      'city',\n",
    "                                                                      'mins_after_dusk',\n",
    "                                                                      'dark']]\n",
    "\n",
    "itp.shape"
   ]
  },
  {
   "cell_type": "markdown",
   "id": "1192f648",
   "metadata": {},
   "source": [
    "## VOD "
   ]
  },
  {
   "cell_type": "code",
   "execution_count": 1,
   "id": "fa8ff037",
   "metadata": {},
   "outputs": [],
   "source": [
    "import pandas as pd\n",
    "import numpy as np\n",
    "import matplotlib.pyplot as plt\n",
    "from time import time\n",
    "from postal.parser import parse_address\n",
    "from postal.expand import expand_address"
   ]
  },
  {
   "cell_type": "markdown",
   "id": "33536cf1",
   "metadata": {},
   "source": [
    "### Statewide VOD Model"
   ]
  },
  {
   "cell_type": "code",
   "execution_count": 9,
   "id": "b025b347",
   "metadata": {},
   "outputs": [
    {
     "data": {
      "text/plain": [
       "Index(['date', 'race', 'location', 'city', 'mins_after_dusk', 'dark'], dtype='object')"
      ]
     },
     "execution_count": 9,
     "metadata": {},
     "output_type": "execute_result"
    }
   ],
   "source": [
    "itp.columns"
   ]
  },
  {
   "cell_type": "code",
   "execution_count": 10,
   "id": "568dba1b",
   "metadata": {},
   "outputs": [
    {
     "data": {
      "text/plain": [
       "(340906, 6)"
      ]
     },
     "execution_count": 10,
     "metadata": {},
     "output_type": "execute_result"
    }
   ],
   "source": [
    "#https://www.geeksforgeeks.org/ml-one-hot-encoding-of-datasets-in-python/\n",
    "vod = pd.get_dummies(itp, columns = ['race'], drop_first=True, prefix='')\\\n",
    "                    [['date',\n",
    "                      'location',\n",
    "                      'city',\n",
    "                      'mins_after_dusk',\n",
    "                      'dark',\n",
    "                      '_black/african american']].rename(columns={'_black/african american':'black'})\\\n",
    "                                                 .reset_index(drop=True)\n",
    "vod.head(2)\n",
    "vod.shape"
   ]
  },
  {
   "cell_type": "code",
   "execution_count": 341,
   "id": "e5c54846",
   "metadata": {},
   "outputs": [
    {
     "data": {
      "text/plain": [
       "57260"
      ]
     },
     "execution_count": 341,
     "metadata": {},
     "output_type": "execute_result"
    }
   ],
   "source": [
    "la = vod[vod['city'] == 'Los Angeles'].reset_index(drop=True)\n",
    "la.head(2)\n",
    "la['location'] = [i.lower().lstrip('').rstrip('') for i in la['location']]\n",
    "locations_la = la['location'].unique()\n",
    "len(locations_la)"
   ]
  },
  {
   "cell_type": "code",
   "execution_count": 356,
   "id": "fa9ab864",
   "metadata": {},
   "outputs": [
    {
     "ename": "SyntaxError",
     "evalue": "invalid syntax (3033127843.py, line 3)",
     "output_type": "error",
     "traceback": [
      "\u001b[0;36m  Input \u001b[0;32mIn [356]\u001b[0;36m\u001b[0m\n\u001b[0;31m    la['location'] = [i.replace('s ','') for i in la['location'] if len(i.split()[0]) == 1 elif i]\u001b[0m\n\u001b[0m                                                                                           ^\u001b[0m\n\u001b[0;31mSyntaxError\u001b[0m\u001b[0;31m:\u001b[0m invalid syntax\n"
     ]
    }
   ],
   "source": [
    "# la['location'].replace('saint','street',inplace=True)\n",
    "\n",
    "la['location'] = [i.replace('s ','') for i in la['location'] if len(i.split()[0]) == 1]\n",
    "la['location'] = [i.replace('e ','') for i in la['location'] if len(i.split()[0]) == 1]\n",
    "la['location'] = [i.replace('n ','') for i in la['location'] if len(i.split()[0]) == 1]\n",
    "la['location'] = [i.replace('w ','') for i in la['location'] if len(i.split()[0]) == 1]\n",
    "\n",
    "la['location'] = la['location'].str.replace(' s ','')\n",
    "la['location'] = la['location'].str.replace(' n ','')\n",
    "la['location'] = la['location'].str.replace(' e ','')\n",
    "la['location'] = la['location'].str.replace(' w ','')\n",
    "# la['location'] = la['location'].str.replace('san ','')\n",
    "\n",
    "# expand_start = time()\n",
    "# la['expanded_location'] = [expand_address(i)[0] for i in la['location']]\n",
    "\n",
    "# la['location'] = la['location'].str.replace('saint','')\n",
    "# la['location'] = la['location'].str.replace(' st ','')\n",
    "# la['location'] = la['location'].str.replace('san ','')\n",
    "la['location'] = la['location'].str.replace('south ','')\n",
    "la['location'] = la['location'].str.replace('north ','')\n",
    "la['location'] = la['location'].str.replace('east ','')\n",
    "la['location'] = la['location'].str.replace('west ','')\n",
    "\n",
    "\n",
    "\n",
    "\n",
    "# print(f'debug,expand worked and took {round((time()-expand_start)/60,2)} minutes')\n",
    "\n",
    "addresses = [i.split('&')[0].rstrip('').lstrip('') + ', los angeles' for i in la['location']]\n",
    "# addresses = [i.split('&')[0].replace(' - los angeles','').rstrip('').lstrip('') for i in la['location']]\n",
    "\n",
    "len(pd.unique(addresses))"
   ]
  },
  {
   "cell_type": "code",
   "execution_count": 378,
   "id": "c45b0268",
   "metadata": {},
   "outputs": [
    {
     "name": "stdout",
     "output_type": "stream",
     "text": [
      "\n",
      " API queries_quota: 60 \n",
      "\n"
     ]
    }
   ],
   "source": [
    "from geopy import Point\n",
    "from geopy import Nominatim\n",
    "from postal.parser import parse_address\n",
    "from postal.expand import expand_address\n",
    "import googlemaps\n",
    "from key import key #this is a file ignored in the REPO to privately host my google maps API key\n",
    "\n",
    "key = key.replace('†','')\n",
    "gmaps = googlemaps.Client(key=key)\n",
    "# https://console.cloud.google.com/apis/credentials?project=la-api-key"
   ]
  },
  {
   "cell_type": "code",
   "execution_count": 397,
   "id": "31d09baf",
   "metadata": {},
   "outputs": [
    {
     "data": {
      "text/plain": [
       "'33.9565039 , -118.2625641'"
      ]
     },
     "execution_count": 397,
     "metadata": {},
     "output_type": "execute_result"
    }
   ],
   "source": [
    "str(gmaps.geocode('88th place',bounds=la_bounds)[0]['geometry']['location']['lat']) + ' , ' +\\\n",
    "str(gmaps.geocode('88th place',bounds=la_bounds)[0]['geometry']['location']['lng'])"
   ]
  },
  {
   "cell_type": "code",
   "execution_count": 360,
   "id": "3cdb974b",
   "metadata": {},
   "outputs": [
    {
     "ename": "ApiError",
     "evalue": "REQUEST_DENIED (The provided API key is invalid. )",
     "output_type": "error",
     "traceback": [
      "\u001b[0;31m---------------------------------------------------------------------------\u001b[0m",
      "\u001b[0;31mApiError\u001b[0m                                  Traceback (most recent call last)",
      "Input \u001b[0;32mIn [360]\u001b[0m, in \u001b[0;36m<cell line: 2>\u001b[0;34m()\u001b[0m\n\u001b[1;32m      1\u001b[0m la_viewbox \u001b[38;5;241m=\u001b[39m ( (\u001b[38;5;241m33.525861509262725\u001b[39m,\u001b[38;5;241m-\u001b[39m\u001b[38;5;241m117.32095033303995\u001b[39m), (\u001b[38;5;241m34.26915279876192\u001b[39m,\u001b[38;5;241m-\u001b[39m\u001b[38;5;241m118.52290082214722\u001b[39m) )   \n\u001b[0;32m----> 2\u001b[0m la_bounds \u001b[38;5;241m=\u001b[39m \u001b[43mgmaps\u001b[49m\u001b[38;5;241;43m.\u001b[39;49m\u001b[43mgeocode\u001b[49m\u001b[43m(\u001b[49m\u001b[38;5;124;43m'\u001b[39;49m\u001b[38;5;124;43mlos angeles\u001b[39;49m\u001b[38;5;124;43m'\u001b[39;49m\u001b[43m)\u001b[49m[\u001b[38;5;241m0\u001b[39m][\u001b[38;5;124m'\u001b[39m\u001b[38;5;124mgeometry\u001b[39m\u001b[38;5;124m'\u001b[39m][\u001b[38;5;124m'\u001b[39m\u001b[38;5;124mbounds\u001b[39m\u001b[38;5;124m'\u001b[39m]\n\u001b[1;32m      4\u001b[0m \u001b[38;5;28;01mdef\u001b[39;00m \u001b[38;5;21mfind_zip\u001b[39m(address):\n\u001b[1;32m      5\u001b[0m     street \u001b[38;5;241m=\u001b[39m address\u001b[38;5;241m.\u001b[39msplit(\u001b[38;5;124m'\u001b[39m\u001b[38;5;124m&\u001b[39m\u001b[38;5;124m'\u001b[39m)[\u001b[38;5;241m0\u001b[39m]\n",
      "File \u001b[0;32m~/opt/anaconda3/envs/VOD-RIPA/lib/python3.10/site-packages/googlemaps/client.py:443\u001b[0m, in \u001b[0;36mmake_api_method.<locals>.wrapper\u001b[0;34m(*args, **kwargs)\u001b[0m\n\u001b[1;32m    440\u001b[0m \u001b[38;5;129m@functools\u001b[39m\u001b[38;5;241m.\u001b[39mwraps(func)\n\u001b[1;32m    441\u001b[0m \u001b[38;5;28;01mdef\u001b[39;00m \u001b[38;5;21mwrapper\u001b[39m(\u001b[38;5;241m*\u001b[39margs, \u001b[38;5;241m*\u001b[39m\u001b[38;5;241m*\u001b[39mkwargs):\n\u001b[1;32m    442\u001b[0m     args[\u001b[38;5;241m0\u001b[39m]\u001b[38;5;241m.\u001b[39m_extra_params \u001b[38;5;241m=\u001b[39m kwargs\u001b[38;5;241m.\u001b[39mpop(\u001b[38;5;124m\"\u001b[39m\u001b[38;5;124mextra_params\u001b[39m\u001b[38;5;124m\"\u001b[39m, \u001b[38;5;28;01mNone\u001b[39;00m)\n\u001b[0;32m--> 443\u001b[0m     result \u001b[38;5;241m=\u001b[39m \u001b[43mfunc\u001b[49m\u001b[43m(\u001b[49m\u001b[38;5;241;43m*\u001b[39;49m\u001b[43margs\u001b[49m\u001b[43m,\u001b[49m\u001b[43m \u001b[49m\u001b[38;5;241;43m*\u001b[39;49m\u001b[38;5;241;43m*\u001b[39;49m\u001b[43mkwargs\u001b[49m\u001b[43m)\u001b[49m\n\u001b[1;32m    444\u001b[0m     \u001b[38;5;28;01mtry\u001b[39;00m:\n\u001b[1;32m    445\u001b[0m         \u001b[38;5;28;01mdel\u001b[39;00m args[\u001b[38;5;241m0\u001b[39m]\u001b[38;5;241m.\u001b[39m_extra_params\n",
      "File \u001b[0;32m~/opt/anaconda3/envs/VOD-RIPA/lib/python3.10/site-packages/googlemaps/geocoding.py:75\u001b[0m, in \u001b[0;36mgeocode\u001b[0;34m(client, address, place_id, components, bounds, region, language)\u001b[0m\n\u001b[1;32m     72\u001b[0m \u001b[38;5;28;01mif\u001b[39;00m language:\n\u001b[1;32m     73\u001b[0m     params[\u001b[38;5;124m\"\u001b[39m\u001b[38;5;124mlanguage\u001b[39m\u001b[38;5;124m\"\u001b[39m] \u001b[38;5;241m=\u001b[39m language\n\u001b[0;32m---> 75\u001b[0m \u001b[38;5;28;01mreturn\u001b[39;00m \u001b[43mclient\u001b[49m\u001b[38;5;241;43m.\u001b[39;49m\u001b[43m_request\u001b[49m\u001b[43m(\u001b[49m\u001b[38;5;124;43m\"\u001b[39;49m\u001b[38;5;124;43m/maps/api/geocode/json\u001b[39;49m\u001b[38;5;124;43m\"\u001b[39;49m\u001b[43m,\u001b[49m\u001b[43m \u001b[49m\u001b[43mparams\u001b[49m\u001b[43m)\u001b[49m\u001b[38;5;241m.\u001b[39mget(\u001b[38;5;124m\"\u001b[39m\u001b[38;5;124mresults\u001b[39m\u001b[38;5;124m\"\u001b[39m, [])\n",
      "File \u001b[0;32m~/opt/anaconda3/envs/VOD-RIPA/lib/python3.10/site-packages/googlemaps/client.py:338\u001b[0m, in \u001b[0;36mClient._request\u001b[0;34m(self, url, params, first_request_time, retry_counter, base_url, accepts_clientid, extract_body, requests_kwargs, post_json)\u001b[0m\n\u001b[1;32m    336\u001b[0m     result \u001b[38;5;241m=\u001b[39m extract_body(response)\n\u001b[1;32m    337\u001b[0m \u001b[38;5;28;01melse\u001b[39;00m:\n\u001b[0;32m--> 338\u001b[0m     result \u001b[38;5;241m=\u001b[39m \u001b[38;5;28;43mself\u001b[39;49m\u001b[38;5;241;43m.\u001b[39;49m\u001b[43m_get_body\u001b[49m\u001b[43m(\u001b[49m\u001b[43mresponse\u001b[49m\u001b[43m)\u001b[49m\n\u001b[1;32m    339\u001b[0m \u001b[38;5;28mself\u001b[39m\u001b[38;5;241m.\u001b[39msent_times\u001b[38;5;241m.\u001b[39mappend(time\u001b[38;5;241m.\u001b[39mtime())\n\u001b[1;32m    340\u001b[0m \u001b[38;5;28;01mreturn\u001b[39;00m result\n",
      "File \u001b[0;32m~/opt/anaconda3/envs/VOD-RIPA/lib/python3.10/site-packages/googlemaps/client.py:367\u001b[0m, in \u001b[0;36mClient._get_body\u001b[0;34m(self, response)\u001b[0m\n\u001b[1;32m    363\u001b[0m \u001b[38;5;28;01mif\u001b[39;00m api_status \u001b[38;5;241m==\u001b[39m \u001b[38;5;124m\"\u001b[39m\u001b[38;5;124mOVER_QUERY_LIMIT\u001b[39m\u001b[38;5;124m\"\u001b[39m:\n\u001b[1;32m    364\u001b[0m     \u001b[38;5;28;01mraise\u001b[39;00m googlemaps\u001b[38;5;241m.\u001b[39mexceptions\u001b[38;5;241m.\u001b[39m_OverQueryLimit(\n\u001b[1;32m    365\u001b[0m         api_status, body\u001b[38;5;241m.\u001b[39mget(\u001b[38;5;124m\"\u001b[39m\u001b[38;5;124merror_message\u001b[39m\u001b[38;5;124m\"\u001b[39m))\n\u001b[0;32m--> 367\u001b[0m \u001b[38;5;28;01mraise\u001b[39;00m googlemaps\u001b[38;5;241m.\u001b[39mexceptions\u001b[38;5;241m.\u001b[39mApiError(api_status,\n\u001b[1;32m    368\u001b[0m                                      body\u001b[38;5;241m.\u001b[39mget(\u001b[38;5;124m\"\u001b[39m\u001b[38;5;124merror_message\u001b[39m\u001b[38;5;124m\"\u001b[39m))\n",
      "\u001b[0;31mApiError\u001b[0m: REQUEST_DENIED (The provided API key is invalid. )"
     ]
    }
   ],
   "source": [
    "la_viewbox = ( (33.525861509262725,-117.32095033303995), (34.26915279876192,-118.52290082214722) )   \n",
    "la_bounds = gmaps.geocode('los angeles')[0]['geometry']['bounds']\n",
    "\n",
    "def find_lat_lon(address):\n",
    "    street = address.split('&')[0]\n",
    "    \n",
    "    try:\n",
    "        geolocator = Nominatim(user_agent=\"kcharris@berkeley.edu\")\n",
    "        location = geolocator.geocode(street,viewbox=la_viewbox,bounded=True)\n",
    "    \n",
    "        location_info = location.raw\n",
    "        coords = location_info['display_name'].split()[-3].replace(',','')\n",
    "    \n",
    "    except:\n",
    "        \n",
    "        try:\n",
    "#             coords = int(gmaps.geocode(street,bounds=la_bounds)[0]['address_components'][-1]['long_name'])\n",
    "            coords = str(gmaps.geocode('88th place',bounds=la_bounds)[0]['geometry']['location']['lat']) + ' , ' +\\\n",
    "                     str(gmaps.geocode('88th place',bounds=la_bounds)[0]['geometry']['location']['lng'])\n",
    "        \n",
    "        except:\n",
    "            print(f'google maps failed for {street}')\n",
    "            pass\n",
    "    \n",
    "    return coords"
   ]
  },
  {
   "cell_type": "code",
   "execution_count": 339,
   "id": "63a12840",
   "metadata": {
    "collapsed": true
   },
   "outputs": [
    {
     "name": "stdout",
     "output_type": "stream",
     "text": [
      "there are 36 starting unique values.\n",
      "google maps failed for vinst , los angeles\n",
      "google maps failed for abbot kinney , los angeles\n",
      "google maps failed for vanuyblvd , los angeles\n",
      "google maps failed for washingtoblvd , los angeles\n",
      "google maps failed for washingtoblvd , los angeles\n",
      "google maps failed for washingtoblvd , los angeles\n",
      "google maps failed for washingtoblvd , los angeles\n",
      "google maps failed for mlk blvd , los angeles\n",
      "google maps failed for lincolblvd , los angeles\n",
      "google maps failed for vernoav, los angeles\n",
      "google maps failed for 42nd pl , los angeles\n",
      "google maps failed for venicblvd , los angeles\n",
      "processing took 1.08 minutes. \n",
      "There are now 36 unique values.\n"
     ]
    },
    {
     "data": {
      "text/plain": [
       "[2602,\n",
       " 'vinst , los angeles',\n",
       " '56th st , los angeles',\n",
       " 'abbot kinney , los angeles',\n",
       " 'palm, los angeles',\n",
       " 'pacific av, los angeles',\n",
       " 'kewe, los angeles',\n",
       " 'wilcox av, los angeles',\n",
       " 'sunset , los angeles',\n",
       " 'calvert st , los angeles',\n",
       " 'vanuyblvd , los angeles',\n",
       " 'washingtoblvd , los angeles',\n",
       " 'washingtoblvd , los angeles',\n",
       " 'washingtoblvd , los angeles',\n",
       " 'washingtoblvd , los angeles',\n",
       " 'sepulveda blvd , los angeles',\n",
       " 'florenc, los angeles',\n",
       " 'mlk blvd , los angeles',\n",
       " 'brookav, los angeles',\n",
       " 'lincolblvd , los angeles',\n",
       " 'budlong av, los angeles',\n",
       " '7000 beviav- loangeles, los angeles',\n",
       " '7000 beviav- loangeles, los angeles',\n",
       " '4000 nicolet av- loangeles, los angeles',\n",
       " '59th pl , los angeles',\n",
       " '59th pl , los angeles',\n",
       " '59th pl , los angeles',\n",
       " '59th pl , los angeles',\n",
       " '59th pl , los angeles',\n",
       " '59th pl , los angeles',\n",
       " 'pacific av, los angeles',\n",
       " '4800 slausoav- loangeles, los angeles',\n",
       " 'vernoav, los angeles',\n",
       " '19th st , los angeles',\n",
       " 'cabrillo av, los angeles',\n",
       " '88th pl , los angeles',\n",
       " '42nd pl , los angeles',\n",
       " '84th pl , los angeles',\n",
       " 'hobart blvd , los angeles',\n",
       " 'hobart blvd , los angeles',\n",
       " 'saticoy st , los angeles',\n",
       " 'venicblvd , los angeles',\n",
       " '89th , los angeles',\n",
       " 'venicway , los angeles',\n",
       " 'venicway , los angeles',\n",
       " 'venicway , los angeles',\n",
       " 'mindanao , los angeles',\n",
       " 'olympic blvd , los angeles',\n",
       " 'olympic blvd , los angeles',\n",
       " '400 2nd st - loangeles, los angeles']"
      ]
     },
     "execution_count": 339,
     "metadata": {},
     "output_type": "execute_result"
    }
   ],
   "source": [
    "dog = zip_finder_replacer(addresses[:50])\n",
    "dog\n",
    "# la.to_csv('la.csv',index=False)"
   ]
  },
  {
   "cell_type": "code",
   "execution_count": 186,
   "id": "a851878d",
   "metadata": {},
   "outputs": [
    {
     "name": "stdout",
     "output_type": "stream",
     "text": [
      "james m wood boulevard \n",
      "90017 time: 1.13 seconds\n"
     ]
    }
   ],
   "source": [
    "# zip_start = time()\n",
    "# la_viewbox = ( (33.525861509262725,-117.32095033303995), (34.26915279876192,-118.52290082214722) )   \n",
    "# street = 'james m wood boulevard & south new hampshire avenue los angeles'\n",
    "# street = street.split('&')[0]\n",
    "\n",
    "# geolocator = Nominatim(user_agent=\"kcharris@berkeley.edu\")\n",
    "# location = geolocator.geocode(street,viewbox=la_viewbox,bounded=True)\n",
    "\n",
    "# test_zip = location.raw\n",
    "# test_zip = test_zip['display_name'].split()[-3].replace(',','')\n",
    "# print(test_zip,'time:',round(time()-zip_start,2),'seconds')"
   ]
  },
  {
   "cell_type": "code",
   "execution_count": null,
   "id": "f0e22760",
   "metadata": {},
   "outputs": [],
   "source": []
  }
 ],
 "metadata": {
  "kernelspec": {
   "display_name": "VOD",
   "language": "python",
   "name": "vod"
  },
  "language_info": {
   "codemirror_mode": {
    "name": "ipython",
    "version": 3
   },
   "file_extension": ".py",
   "mimetype": "text/x-python",
   "name": "python",
   "nbconvert_exporter": "python",
   "pygments_lexer": "ipython3",
   "version": "3.10.6"
  }
 },
 "nbformat": 4,
 "nbformat_minor": 5
}
