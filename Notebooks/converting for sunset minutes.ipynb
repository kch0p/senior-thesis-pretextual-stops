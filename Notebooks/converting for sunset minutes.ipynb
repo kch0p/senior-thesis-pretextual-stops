{
 "cells": [
  {
   "cell_type": "code",
   "execution_count": 25,
   "id": "a9d1fb0d",
   "metadata": {},
   "outputs": [],
   "source": [
    "import pandas as pd\n",
    "import numpy as np\n",
    "\n",
    "import scipy\n",
    "import statsmodels.formula.api as smf\n",
    "import statistics as st \n",
    "import pandas as pd\n",
    "import matplotlib.pyplot as plt\n",
    "\n",
    "import requests\n",
    "from geopy.geocoders import Nominatim\n",
    "from astral import LocationInfo\n",
    "import datetime\n",
    "from astral.sun import sun\n",
    "from astral import LocationInfo\n",
    "\n",
    "from time import time"
   ]
  },
  {
   "cell_type": "code",
   "execution_count": 26,
   "id": "538c8a17",
   "metadata": {},
   "outputs": [
    {
     "name": "stdout",
     "output_type": "stream",
     "text": [
      "/Users/karatechop\n"
     ]
    }
   ],
   "source": [
    "cd"
   ]
  },
  {
   "cell_type": "code",
   "execution_count": 27,
   "id": "b8f7d7a5",
   "metadata": {},
   "outputs": [
    {
     "name": "stdout",
     "output_type": "stream",
     "text": [
      "/Users/karatechop/Documents/GitHub/senior-thesis-pretextual-stops/Data/RIPA-DATA-CA-as-of-2022 (CSV)\n"
     ]
    }
   ],
   "source": [
    "cd /Users/karatechop/Documents/GitHub/senior-thesis-pretextual-stops/Data/RIPA-DATA-CA-as-of-2022\\ \\(CSV\\)"
   ]
  },
  {
   "cell_type": "code",
   "execution_count": 28,
   "id": "d43a6de9",
   "metadata": {},
   "outputs": [
    {
     "name": "stderr",
     "output_type": "stream",
     "text": [
      "/var/folders/td/yc8lq2qx2ks3ck292tbf6wtm0000gn/T/ipykernel_49295/2978794120.py:1: DtypeWarning: Columns (7) have mixed types. Specify dtype option on import or set low_memory=False.\n",
      "  working_main = pd.read_csv('working_main.csv')\n"
     ]
    },
    {
     "name": "stdout",
     "output_type": "stream",
     "text": [
      "Index(['date', 'time', 'sex', 'race', 'type', 'duration', 'city', 'location'], dtype='object') \n",
      " (2408246, 8) \n",
      " 2408246\n"
     ]
    }
   ],
   "source": [
    "working_main = pd.read_csv('working_main.csv')\n",
    "print(working_main.columns,'\\n',working_main.shape,'\\n',len(working_main.time))"
   ]
  },
  {
   "cell_type": "code",
   "execution_count": 29,
   "id": "c8390455",
   "metadata": {},
   "outputs": [
    {
     "name": "stdout",
     "output_type": "stream",
     "text": [
      "Index(['date', 'time', 'sex', 'race', 'type', 'duration', 'city', 'location'], dtype='object') \n",
      "\n",
      " 09:00       6871\n",
      "10:00       6659\n",
      "08:30       6604\n",
      "09:30       6010\n",
      "08:00       5933\n",
      "            ... \n",
      "06:29:20       1\n",
      "06:49:43       1\n",
      "15:01:54       1\n",
      "06:54:21       1\n",
      "06:04:55       1\n",
      "Name: time, Length: 83446, dtype: int64 \n",
      "\n",
      " unique lengths of timestamps are: [ 5  8  7 19  4] \n",
      "\n",
      " 13:00 \n",
      " 07:58:50 \n",
      " 8:18:00 \n",
      " 1900-01-01 01:56:00 \n",
      " 0:02 \n",
      "\n"
     ]
    }
   ],
   "source": [
    "print(working_main.columns,'\\n\\n',\n",
    "      working_main.time.value_counts(),'\\n\\n',\n",
    "      'unique lengths of timestamps are:',pd.unique([len(i) for i in working_main['time']]),'\\n\\n',\n",
    "      [i for i in working_main['time'] if len(i)==5][0],'\\n',\n",
    "      [i for i in working_main['time'] if len(i)==8][0],'\\n',\n",
    "      [i for i in working_main['time'] if len(i)==7][0],'\\n',\n",
    "      [i for i in working_main['time'] if len(i)==19][0],'\\n',\n",
    "      [i for i in working_main['time'] if len(i)==4][0],'\\n')"
   ]
  },
  {
   "cell_type": "code",
   "execution_count": 30,
   "id": "064928d9",
   "metadata": {},
   "outputs": [],
   "source": [
    "time = []\n",
    "\n",
    "for i in working_main['time']: \n",
    "    if len(i) == 8:\n",
    "        time.append(i)\n",
    "    elif len(i) == 4:\n",
    "        time.append('0' + i + ':00')\n",
    "    elif len(i) == 5:\n",
    "        time.append(i + ':00')\n",
    "    elif len(i) == 7:\n",
    "        time.append('0' + i)\n",
    "    elif len(i) == 19:\n",
    "        time.append(i[-8:])\n",
    "    else:\n",
    "        time.append(i)"
   ]
  },
  {
   "cell_type": "code",
   "execution_count": 31,
   "id": "a0713720",
   "metadata": {},
   "outputs": [
    {
     "data": {
      "text/plain": [
       "2408246"
      ]
     },
     "execution_count": 31,
     "metadata": {},
     "output_type": "execute_result"
    }
   ],
   "source": [
    "len(time)"
   ]
  },
  {
   "cell_type": "code",
   "execution_count": 32,
   "id": "e35a32a1",
   "metadata": {
    "scrolled": true
   },
   "outputs": [
    {
     "name": "stdout",
     "output_type": "stream",
     "text": [
      "len of time column is: 2408246 \n",
      " sum of null time values is: 0\n"
     ]
    },
    {
     "data": {
      "text/html": [
       "<div>\n",
       "<style scoped>\n",
       "    .dataframe tbody tr th:only-of-type {\n",
       "        vertical-align: middle;\n",
       "    }\n",
       "\n",
       "    .dataframe tbody tr th {\n",
       "        vertical-align: top;\n",
       "    }\n",
       "\n",
       "    .dataframe thead th {\n",
       "        text-align: right;\n",
       "    }\n",
       "</style>\n",
       "<table border=\"1\" class=\"dataframe\">\n",
       "  <thead>\n",
       "    <tr style=\"text-align: right;\">\n",
       "      <th></th>\n",
       "      <th>date</th>\n",
       "      <th>time</th>\n",
       "      <th>sex</th>\n",
       "      <th>race</th>\n",
       "      <th>type</th>\n",
       "      <th>duration</th>\n",
       "      <th>city</th>\n",
       "      <th>location</th>\n",
       "    </tr>\n",
       "  </thead>\n",
       "  <tbody>\n",
       "    <tr>\n",
       "      <th>0</th>\n",
       "      <td>12/09/2021</td>\n",
       "      <td>1900-01-01 13:00:00</td>\n",
       "      <td>Male</td>\n",
       "      <td>hispanic/latino(a)</td>\n",
       "      <td>Non-Moving</td>\n",
       "      <td>5.0</td>\n",
       "      <td>ALL-SJPD-AB953</td>\n",
       "      <td>0 block of n jackson av</td>\n",
       "    </tr>\n",
       "    <tr>\n",
       "      <th>1</th>\n",
       "      <td>04/26/21</td>\n",
       "      <td>1900-01-01 23:00:00</td>\n",
       "      <td>Male</td>\n",
       "      <td>black/african american</td>\n",
       "      <td>Moving</td>\n",
       "      <td>60.0</td>\n",
       "      <td>ALL-SJPD-AB953</td>\n",
       "      <td>0 block of north second st</td>\n",
       "    </tr>\n",
       "    <tr>\n",
       "      <th>2</th>\n",
       "      <td>04/15/21</td>\n",
       "      <td>1900-01-01 11:35:00</td>\n",
       "      <td>Female</td>\n",
       "      <td>black/african american</td>\n",
       "      <td>Equipment</td>\n",
       "      <td>10.0</td>\n",
       "      <td>ALL-SJPD-AB953</td>\n",
       "      <td>100 block of graham ave</td>\n",
       "    </tr>\n",
       "    <tr>\n",
       "      <th>3</th>\n",
       "      <td>04/01/21</td>\n",
       "      <td>1900-01-01 01:53:00</td>\n",
       "      <td>Male</td>\n",
       "      <td>asian</td>\n",
       "      <td>Non-Moving</td>\n",
       "      <td>100.0</td>\n",
       "      <td>ALL-SJPD-AB953</td>\n",
       "      <td>100 block of on ramp/tully rd</td>\n",
       "    </tr>\n",
       "    <tr>\n",
       "      <th>4</th>\n",
       "      <td>12/20/2021</td>\n",
       "      <td>1900-01-01 16:07:00</td>\n",
       "      <td>Female</td>\n",
       "      <td>white</td>\n",
       "      <td>Moving</td>\n",
       "      <td>10.0</td>\n",
       "      <td>ALL-SJPD-AB953</td>\n",
       "      <td>100 block of sb/ mckee</td>\n",
       "    </tr>\n",
       "    <tr>\n",
       "      <th>...</th>\n",
       "      <td>...</td>\n",
       "      <td>...</td>\n",
       "      <td>...</td>\n",
       "      <td>...</td>\n",
       "      <td>...</td>\n",
       "      <td>...</td>\n",
       "      <td>...</td>\n",
       "      <td>...</td>\n",
       "    </tr>\n",
       "    <tr>\n",
       "      <th>2408241</th>\n",
       "      <td>12/31/21</td>\n",
       "      <td>1900-01-01 22:33:00</td>\n",
       "      <td>Male</td>\n",
       "      <td>black/african american</td>\n",
       "      <td>Non-Moving</td>\n",
       "      <td>10.0</td>\n",
       "      <td>ALL-SFPD-AB953</td>\n",
       "      <td>VIA BUFANO / COLUMBUS AVE</td>\n",
       "    </tr>\n",
       "    <tr>\n",
       "      <th>2408242</th>\n",
       "      <td>12/31/21</td>\n",
       "      <td>1900-01-01 20:33:00</td>\n",
       "      <td>Male</td>\n",
       "      <td>black/african american</td>\n",
       "      <td>Equipment</td>\n",
       "      <td>11.0</td>\n",
       "      <td>ALL-SFPD-AB953</td>\n",
       "      <td>HAHN ST / VISITACION AVE</td>\n",
       "    </tr>\n",
       "    <tr>\n",
       "      <th>2408243</th>\n",
       "      <td>12/31/21</td>\n",
       "      <td>1900-01-01 11:51:00</td>\n",
       "      <td>Male</td>\n",
       "      <td>group 4</td>\n",
       "      <td>Moving</td>\n",
       "      <td>27.0</td>\n",
       "      <td>ALL-SFPD-AB953</td>\n",
       "      <td>S. McDonnell Road at TNC Lot 1 SFO</td>\n",
       "    </tr>\n",
       "    <tr>\n",
       "      <th>2408244</th>\n",
       "      <td>12/31/21</td>\n",
       "      <td>1900-01-01 12:47:00</td>\n",
       "      <td>Male</td>\n",
       "      <td>black/african american</td>\n",
       "      <td>Moving</td>\n",
       "      <td>1252.0</td>\n",
       "      <td>ALL-SFPD-AB953</td>\n",
       "      <td>Northgate  /   Macallan Rd</td>\n",
       "    </tr>\n",
       "    <tr>\n",
       "      <th>2408245</th>\n",
       "      <td>12/31/21</td>\n",
       "      <td>1900-01-01 13:34:00</td>\n",
       "      <td>Female</td>\n",
       "      <td>white</td>\n",
       "      <td>Moving</td>\n",
       "      <td>14.0</td>\n",
       "      <td>ALL-SFPD-AB953</td>\n",
       "      <td>08TH AVE / GEARY BLVD</td>\n",
       "    </tr>\n",
       "  </tbody>\n",
       "</table>\n",
       "<p>2408246 rows × 8 columns</p>\n",
       "</div>"
      ],
      "text/plain": [
       "               date                time     sex                    race  \\\n",
       "0        12/09/2021 1900-01-01 13:00:00    Male      hispanic/latino(a)   \n",
       "1          04/26/21 1900-01-01 23:00:00    Male  black/african american   \n",
       "2          04/15/21 1900-01-01 11:35:00  Female  black/african american   \n",
       "3          04/01/21 1900-01-01 01:53:00    Male                   asian   \n",
       "4        12/20/2021 1900-01-01 16:07:00  Female                   white   \n",
       "...             ...                 ...     ...                     ...   \n",
       "2408241    12/31/21 1900-01-01 22:33:00    Male  black/african american   \n",
       "2408242    12/31/21 1900-01-01 20:33:00    Male  black/african american   \n",
       "2408243    12/31/21 1900-01-01 11:51:00    Male                 group 4   \n",
       "2408244    12/31/21 1900-01-01 12:47:00    Male  black/african american   \n",
       "2408245    12/31/21 1900-01-01 13:34:00  Female                   white   \n",
       "\n",
       "               type  duration            city  \\\n",
       "0        Non-Moving       5.0  ALL-SJPD-AB953   \n",
       "1            Moving      60.0  ALL-SJPD-AB953   \n",
       "2         Equipment      10.0  ALL-SJPD-AB953   \n",
       "3        Non-Moving     100.0  ALL-SJPD-AB953   \n",
       "4            Moving      10.0  ALL-SJPD-AB953   \n",
       "...             ...       ...             ...   \n",
       "2408241  Non-Moving      10.0  ALL-SFPD-AB953   \n",
       "2408242   Equipment      11.0  ALL-SFPD-AB953   \n",
       "2408243      Moving      27.0  ALL-SFPD-AB953   \n",
       "2408244      Moving    1252.0  ALL-SFPD-AB953   \n",
       "2408245      Moving      14.0  ALL-SFPD-AB953   \n",
       "\n",
       "                                   location  \n",
       "0                   0 block of n jackson av  \n",
       "1                0 block of north second st  \n",
       "2                   100 block of graham ave  \n",
       "3             100 block of on ramp/tully rd  \n",
       "4                    100 block of sb/ mckee  \n",
       "...                                     ...  \n",
       "2408241           VIA BUFANO / COLUMBUS AVE  \n",
       "2408242            HAHN ST / VISITACION AVE  \n",
       "2408243  S. McDonnell Road at TNC Lot 1 SFO  \n",
       "2408244          Northgate  /   Macallan Rd  \n",
       "2408245               08TH AVE / GEARY BLVD  \n",
       "\n",
       "[2408246 rows x 8 columns]"
      ]
     },
     "execution_count": 32,
     "metadata": {},
     "output_type": "execute_result"
    }
   ],
   "source": [
    "working_main['time'] = time\n",
    "\n",
    "# working_main['time'] = [pd.to_datetime(i) for i in working_main['time'] if len(i)==8]working_main['time'] = [pd.to_datetime(i) for i in working_main['time'] if len(i)==8]\n",
    "working_main['time'] = pd.to_datetime(working_main['time'],format=\"%H:%M:%S\")\n",
    "\n",
    "print('len of time column is:',len(working_main.time),'\\n sum of null time values is:',working_main['time'].isna().sum())\n",
    "working_main"
   ]
  },
  {
   "cell_type": "code",
   "execution_count": 33,
   "id": "56efd52a",
   "metadata": {
    "scrolled": false
   },
   "outputs": [
    {
     "name": "stdout",
     "output_type": "stream",
     "text": [
      "debug, change worked\n"
     ]
    }
   ],
   "source": [
    "working_main.rename(columns={'city':'agency'},inplace=True)\n",
    "print('debug, change worked')\n",
    "\n",
    "def city_from_agency_check(df):\n",
    "    city_str = []\n",
    "    lat_str = []\n",
    "    lon_str = []\n",
    "    wave_str = []\n",
    "    \n",
    "    for i in df['agency']:\n",
    "        if 'ALL-SJPD-AB953' in i:\n",
    "            city_str.append('San Jose')\n",
    "            lat_str.append(37.3387)\n",
    "            lon_str.append(-121.8853)\n",
    "            wave_str.append(2)\n",
    "        elif 'ALL-LBPD-AB953' in i:\n",
    "            city_str.append('Long Beach')\n",
    "            lat_str.append(33.7701)\n",
    "            lon_str.append(-118.1937)\n",
    "            wave_str.append(2)\n",
    "        elif 'ALL-OAKLAND_PD-AB953' in i:\n",
    "            city_str.append('Oakland')\n",
    "            lat_str.append(37.8044)\n",
    "            lon_str.append(-122.2712)\n",
    "            wave_str.append(2)\n",
    "        elif 'Berkeley PD' in i:\n",
    "            city_str.append('Berkeley')\n",
    "            lat_str.append(37.8715)\n",
    "            lon_str.append(-122.2730)\n",
    "            wave_str.append(3)\n",
    "        elif 'ALL-MARIN-AB953' in i:\n",
    "            city_str.append('Marin')\n",
    "            lat_str.append(38.0834)\n",
    "            lon_str.append(-122.7633)\n",
    "            wave_str.append(3)\n",
    "        elif 'Davis PD' in i:\n",
    "            city_str.append('Davis')\n",
    "            lat_str.append(38.5449)\n",
    "            lon_str.append(-121.7405)\n",
    "            wave_str.append(3)\n",
    "        elif 'ALL-RIVERSIDE-AB953' in i:\n",
    "            city_str.append('Riverside')\n",
    "            lat_str.append(33.9806)\n",
    "            lon_str.append(-117.3755)\n",
    "            wave_str.append(1)\n",
    "        elif 'SDPD' in i:\n",
    "            city_str.append('San Diego')\n",
    "            lat_str.append(32.7157)\n",
    "            lon_str.append(-117.1611)\n",
    "            wave_str.append(1)\n",
    "        elif 'ALL-SFPD-AB953' in i:\n",
    "            city_str.append('San Francisco')\n",
    "            lat_str.append(37.7749)\n",
    "            lon_str.append(-122.4194)\n",
    "            wave_str.append(1)\n",
    "        elif 'LAPD' in i:\n",
    "            city_str.append('Los Angeles')\n",
    "            lat_str.append(34.0522)\n",
    "            lon_str.append(-118.2437)\n",
    "            wave_str.append(1)\n",
    "        else:\n",
    "            print('didnt work',i)\n",
    "        \n",
    "    df['city']=city_str\n",
    "    df['lat']=lat_str\n",
    "    df['lon']=lon_str\n",
    "    df['wave']=wave_str\n",
    "    \n",
    "    pd.option_context('display.precision', 10)\n",
    "    \n",
    "    return df\n",
    "\n",
    "working_main = city_from_agency_check(working_main)\n",
    "working_main['location'] = working_main['location'].astype(str)\n",
    "working_main['location'] = working_main['location'] + ' - ' + working_main['city']"
   ]
  },
  {
   "cell_type": "code",
   "execution_count": 34,
   "id": "70b0c4df",
   "metadata": {},
   "outputs": [
    {
     "data": {
      "text/plain": [
       "nan - San Diego                               50516\n",
       "nan - Long Beach                              17948\n",
       "800 N Alameda St - Los Angeles                 5569\n",
       "Roscoe Blvd & Nagle Ave - Los Angeles          4759\n",
       "3000.0 - San Diego                             4718\n",
       "                                              ...  \n",
       "WASHINGTON & BURLINGTON - Los Angeles             1\n",
       "N SPRiNG & 8TH - Los Angeles                      1\n",
       "N MAIN & 9TH - Los Angeles                        1\n",
       "500 W 1ST St - Los Angeles                        1\n",
       "Northgate  /   Macallan Rd - San Francisco        1\n",
       "Name: location, Length: 318586, dtype: int64"
      ]
     },
     "execution_count": 34,
     "metadata": {},
     "output_type": "execute_result"
    }
   ],
   "source": [
    "working_main.location.value_counts()"
   ]
  },
  {
   "cell_type": "code",
   "execution_count": 35,
   "id": "725c8b1d",
   "metadata": {},
   "outputs": [],
   "source": [
    "# working_main.to_csv('working_main_expanded.csv')"
   ]
  },
  {
   "cell_type": "code",
   "execution_count": 36,
   "id": "30e674f9",
   "metadata": {},
   "outputs": [],
   "source": [
    "# working_main_expanded = pd.read_csv('working_main_expanded.csv')"
   ]
  },
  {
   "cell_type": "code",
   "execution_count": 37,
   "id": "d910ec83",
   "metadata": {},
   "outputs": [],
   "source": [
    "working_main_expanded = working_main"
   ]
  },
  {
   "cell_type": "code",
   "execution_count": 38,
   "id": "0a4fbcca",
   "metadata": {},
   "outputs": [],
   "source": [
    "working_main_expanded.date = pd.to_datetime(working_main_expanded.date)"
   ]
  },
  {
   "cell_type": "code",
   "execution_count": 39,
   "id": "b6fd2e77",
   "metadata": {},
   "outputs": [
    {
     "data": {
      "text/plain": [
       "date                object\n",
       "time        datetime64[ns]\n",
       "sex                 object\n",
       "race                object\n",
       "type                object\n",
       "duration           float64\n",
       "agency              object\n",
       "location            object\n",
       "city                object\n",
       "lat                float64\n",
       "lon                float64\n",
       "wave                 int64\n",
       "dtype: object"
      ]
     },
     "execution_count": 39,
     "metadata": {},
     "output_type": "execute_result"
    }
   ],
   "source": [
    "working_main_expanded.dtypes"
   ]
  },
  {
   "cell_type": "code",
   "execution_count": 40,
   "id": "4f3f9fe3",
   "metadata": {},
   "outputs": [],
   "source": [
    "# s = sun(loc.observer, date=datetime.date(2021, 1, 15), tzinfo=loc.timezone)\n",
    "# for key in ['dawn', 'dusk', 'noon', 'sunrise', 'sunset']:\n",
    "#     print(f'{key:10s}:', s[key])"
   ]
  },
  {
   "cell_type": "code",
   "execution_count": 42,
   "id": "4e6c7676",
   "metadata": {},
   "outputs": [
    {
     "name": "stdout",
     "output_type": "stream",
     "text": [
      "debug, counter is at 100000\n",
      "debug, counter is at 200000\n",
      "debug, counter is at 300000\n",
      "debug, counter is at 400000\n",
      "debug, counter is at 500000\n",
      "debug, counter is at 600000\n",
      "debug, counter is at 700000\n",
      "debug, counter is at 800000\n",
      "debug, counter is at 900000\n",
      "debug, counter is at 1000000\n",
      "debug, counter is at 1100000\n",
      "debug, counter is at 1200000\n",
      "debug, counter is at 1300000\n",
      "debug, counter is at 1400000\n",
      "debug, counter is at 1500000\n",
      "debug, counter is at 1600000\n",
      "debug, counter is at 1700000\n",
      "debug, counter is at 1800000\n",
      "debug, counter is at 1900000\n",
      "debug, counter is at 2000000\n",
      "debug, counter is at 2100000\n",
      "debug, counter is at 2200000\n",
      "debug, counter is at 2300000\n",
      "debug, counter is at 2400000\n",
      "debug, done!\n"
     ]
    }
   ],
   "source": [
    "# %%timeit\n",
    "# start = time()\n",
    "\n",
    "sunset_list = []\n",
    "dusk_list = []\n",
    "counter = 0\n",
    "\n",
    "\n",
    "\n",
    "for i in working_main_expanded['date']:\n",
    "    year = i.year\n",
    "    month = i.month\n",
    "    day = i.day\n",
    "\n",
    "    name = working_main_expanded['city'][counter]\n",
    "    lat = working_main_expanded['lat'][counter]\n",
    "    lon = working_main_expanded['lon'][counter]\n",
    "\n",
    "    loc = LocationInfo(name=name, region='CA, USA', timezone='America/Los_Angeles', #https://en.wikipedia.org/wiki/List_of_tz_database_time_zones\n",
    "                       latitude=lat, longitude=lon)\n",
    "    \n",
    "\n",
    "\n",
    "    s = sun(loc.observer, date=datetime.date(year, month, day), tzinfo=loc.timezone)\n",
    "    sunset_list.append(s['sunset'].time())\n",
    "    dusk_list.append(s['dusk'].time())\n",
    "    \n",
    "    counter+=1\n",
    "    if counter%100000==0:\n",
    "        print(f'debug, counter is at {counter}')\n",
    "    \n",
    "    \n",
    "    \n",
    "sunset_list2 = [str(i)[:8] for i in sunset_list]  \n",
    "dusk_list2 = [str(i)[:8] for i in dusk_list]  \n",
    "\n",
    "working_main_expanded['sunsettime'] = sunset_list2\n",
    "working_main_expanded['dusktime'] = dusk_list2\n",
    "print('debug, done!')\n",
    "# print(f'that whole process took {(time()-start)/60} minutes')\n",
    "# sunset_list"
   ]
  },
  {
   "cell_type": "code",
   "execution_count": 68,
   "id": "c1f6b2c8",
   "metadata": {
    "scrolled": false
   },
   "outputs": [
    {
     "name": "stdout",
     "output_type": "stream",
     "text": [
      "debug, mins_sunset done\n",
      "debug, mins_dusk done\n",
      "debug, mins_stop done\n"
     ]
    },
    {
     "data": {
      "text/html": [
       "<div>\n",
       "<style scoped>\n",
       "    .dataframe tbody tr th:only-of-type {\n",
       "        vertical-align: middle;\n",
       "    }\n",
       "\n",
       "    .dataframe tbody tr th {\n",
       "        vertical-align: top;\n",
       "    }\n",
       "\n",
       "    .dataframe thead th {\n",
       "        text-align: right;\n",
       "    }\n",
       "</style>\n",
       "<table border=\"1\" class=\"dataframe\">\n",
       "  <thead>\n",
       "    <tr style=\"text-align: right;\">\n",
       "      <th></th>\n",
       "      <th>date</th>\n",
       "      <th>day_in_year</th>\n",
       "      <th>time</th>\n",
       "      <th>sunsettime</th>\n",
       "      <th>dusktime</th>\n",
       "      <th>sex</th>\n",
       "      <th>race</th>\n",
       "      <th>type</th>\n",
       "      <th>duration</th>\n",
       "      <th>agency</th>\n",
       "      <th>location</th>\n",
       "      <th>city</th>\n",
       "      <th>lat</th>\n",
       "      <th>lon</th>\n",
       "      <th>wave</th>\n",
       "      <th>mins_stop_time</th>\n",
       "      <th>mins_sunset</th>\n",
       "      <th>mins_dusk</th>\n",
       "      <th>mins_after_dusk</th>\n",
       "      <th>dark</th>\n",
       "    </tr>\n",
       "  </thead>\n",
       "  <tbody>\n",
       "    <tr>\n",
       "      <th>0</th>\n",
       "      <td>2021-12-09 00:00:00</td>\n",
       "      <td>9</td>\n",
       "      <td>1900-01-01 13:00:00</td>\n",
       "      <td>16:49:31</td>\n",
       "      <td>17:19:07</td>\n",
       "      <td>Male</td>\n",
       "      <td>hispanic/latino(a)</td>\n",
       "      <td>Non-Moving</td>\n",
       "      <td>5.0</td>\n",
       "      <td>ALL-SJPD-AB953</td>\n",
       "      <td>0 block of n jackson av - San Jose</td>\n",
       "      <td>San Jose</td>\n",
       "      <td>37.3387</td>\n",
       "      <td>-121.8853</td>\n",
       "      <td>2</td>\n",
       "      <td>780.0</td>\n",
       "      <td>1010.0</td>\n",
       "      <td>1039.0</td>\n",
       "      <td>-259.0</td>\n",
       "      <td>0</td>\n",
       "    </tr>\n",
       "    <tr>\n",
       "      <th>1</th>\n",
       "      <td>2021-04-26 00:00:00</td>\n",
       "      <td>26</td>\n",
       "      <td>1900-01-01 23:00:00</td>\n",
       "      <td>19:52:49</td>\n",
       "      <td>20:21:06</td>\n",
       "      <td>Male</td>\n",
       "      <td>black/african american</td>\n",
       "      <td>Moving</td>\n",
       "      <td>60.0</td>\n",
       "      <td>ALL-SJPD-AB953</td>\n",
       "      <td>0 block of north second st - San Jose</td>\n",
       "      <td>San Jose</td>\n",
       "      <td>37.3387</td>\n",
       "      <td>-121.8853</td>\n",
       "      <td>2</td>\n",
       "      <td>1380.0</td>\n",
       "      <td>1193.0</td>\n",
       "      <td>1221.0</td>\n",
       "      <td>159.0</td>\n",
       "      <td>1</td>\n",
       "    </tr>\n",
       "    <tr>\n",
       "      <th>2</th>\n",
       "      <td>2021-04-15 00:00:00</td>\n",
       "      <td>15</td>\n",
       "      <td>1900-01-01 11:35:00</td>\n",
       "      <td>19:42:53</td>\n",
       "      <td>20:10:24</td>\n",
       "      <td>Female</td>\n",
       "      <td>black/african american</td>\n",
       "      <td>Equipment</td>\n",
       "      <td>10.0</td>\n",
       "      <td>ALL-SJPD-AB953</td>\n",
       "      <td>100 block of graham ave - San Jose</td>\n",
       "      <td>San Jose</td>\n",
       "      <td>37.3387</td>\n",
       "      <td>-121.8853</td>\n",
       "      <td>2</td>\n",
       "      <td>695.0</td>\n",
       "      <td>1183.0</td>\n",
       "      <td>1210.0</td>\n",
       "      <td>-515.0</td>\n",
       "      <td>0</td>\n",
       "    </tr>\n",
       "  </tbody>\n",
       "</table>\n",
       "</div>"
      ],
      "text/plain": [
       "                  date  day_in_year                time sunsettime  dusktime  \\\n",
       "0  2021-12-09 00:00:00            9 1900-01-01 13:00:00   16:49:31  17:19:07   \n",
       "1  2021-04-26 00:00:00           26 1900-01-01 23:00:00   19:52:49  20:21:06   \n",
       "2  2021-04-15 00:00:00           15 1900-01-01 11:35:00   19:42:53  20:10:24   \n",
       "\n",
       "      sex                    race        type  duration          agency  \\\n",
       "0    Male      hispanic/latino(a)  Non-Moving       5.0  ALL-SJPD-AB953   \n",
       "1    Male  black/african american      Moving      60.0  ALL-SJPD-AB953   \n",
       "2  Female  black/african american   Equipment      10.0  ALL-SJPD-AB953   \n",
       "\n",
       "                                location      city      lat       lon  wave  \\\n",
       "0     0 block of n jackson av - San Jose  San Jose  37.3387 -121.8853     2   \n",
       "1  0 block of north second st - San Jose  San Jose  37.3387 -121.8853     2   \n",
       "2     100 block of graham ave - San Jose  San Jose  37.3387 -121.8853     2   \n",
       "\n",
       "   mins_stop_time  mins_sunset  mins_dusk  mins_after_dusk  dark  \n",
       "0           780.0       1010.0     1039.0           -259.0     0  \n",
       "1          1380.0       1193.0     1221.0            159.0     1  \n",
       "2           695.0       1183.0     1210.0           -515.0     0  "
      ]
     },
     "execution_count": 68,
     "metadata": {},
     "output_type": "execute_result"
    }
   ],
   "source": [
    "import warnings\n",
    "warnings.filterwarnings(\"ignore\") \n",
    "date_to_subtract = datetime.datetime(1900, 1, 1)\n",
    "\n",
    "\n",
    "\n",
    "working_main_expanded['mins_sunset'] = [round(((datetime.datetime.strptime(i, '%H:%M:%S') - date_to_subtract).total_seconds() / 60.0),0) \n",
    "                                           for i in sunset_list2]\n",
    "print('debug, mins_sunset done')\n",
    "\n",
    "\n",
    "working_main_expanded['mins_dusk'] = [round(((datetime.datetime.strptime(i, '%H:%M:%S') - date_to_subtract).total_seconds() / 60.0),0) \n",
    "                                           for i in dusk_list2]\n",
    "print('debug, mins_dusk done')\n",
    "\n",
    "\n",
    "working_main_expanded['mins_stop_time'] = [round(((i - date_to_subtract).total_seconds()/60),0) \n",
    "                                           for i in working_main_expanded['time']]\n",
    "print('debug, mins_stop done')\n",
    "\n",
    "\n",
    "\n",
    "working_main_expanded['mins_after_dusk'] = working_main_expanded['mins_stop_time'] - working_main_expanded['mins_dusk']\n",
    "working_main_expanded['day_in_year'] = [i.day for i in working_main_expanded['date']]\n",
    "\n",
    "working_main_expanded['dark'] = 0\n",
    "working_main_expanded.loc[working_main_expanded['mins_after_dusk']>=0,'dark']=1\n",
    "\n",
    "working_main_expanded.head(3)"
   ]
  },
  {
   "cell_type": "code",
   "execution_count": 69,
   "id": "706f29e0",
   "metadata": {},
   "outputs": [],
   "source": [
    "working_main_expanded = working_main_expanded[['date','day_in_year', 'time', 'sunsettime', 'dusktime', 'sex', 'race', 'type', 'duration', 'agency', 'location',\n",
    "       'city', 'lat', 'lon', 'wave', 'mins_stop_time','mins_sunset','mins_dusk', 'mins_after_dusk','dark']]"
   ]
  },
  {
   "cell_type": "code",
   "execution_count": 70,
   "id": "69b02709",
   "metadata": {},
   "outputs": [],
   "source": [
    "working_main_expanded.to_csv('working_main_expanded.csv',index=False)"
   ]
  },
  {
   "cell_type": "code",
   "execution_count": 71,
   "id": "9d33a7e5",
   "metadata": {},
   "outputs": [
    {
     "data": {
      "text/plain": [
       "2408246"
      ]
     },
     "execution_count": 71,
     "metadata": {},
     "output_type": "execute_result"
    }
   ],
   "source": [
    "working_main_expanded.location.shape[0]"
   ]
  }
 ],
 "metadata": {
  "kernelspec": {
   "display_name": "VOD",
   "language": "python",
   "name": "vod"
  },
  "language_info": {
   "codemirror_mode": {
    "name": "ipython",
    "version": 3
   },
   "file_extension": ".py",
   "mimetype": "text/x-python",
   "name": "python",
   "nbconvert_exporter": "python",
   "pygments_lexer": "ipython3",
   "version": "3.10.6"
  }
 },
 "nbformat": 4,
 "nbformat_minor": 5
}
