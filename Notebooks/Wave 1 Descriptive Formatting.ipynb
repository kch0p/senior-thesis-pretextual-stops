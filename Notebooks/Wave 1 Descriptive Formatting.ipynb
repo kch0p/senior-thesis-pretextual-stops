{
 "cells": [
  {
   "cell_type": "code",
   "execution_count": 96,
   "id": "28f88b15",
   "metadata": {},
   "outputs": [],
   "source": [
    "import pandas as pd\n",
    "import numpy as np\n",
    "import os\n",
    "from glob import glob\n",
    "import numpy as np\n",
    "import matplotlib.pyplot as plt\n",
    "import time\n",
    "\n",
    "pd.set_option('display.max_columns', None) "
   ]
  },
  {
   "cell_type": "code",
   "execution_count": 97,
   "id": "bf93c5c5",
   "metadata": {},
   "outputs": [],
   "source": [
    "RIPA_factors = 'ORI number\\nDate, time, and duration of the stop\\nLocation of stop\\nPerceived race or ethnicity of person stopped\\nPerceived gender of person stopped\\nPerson stopped perceived to be LGBT\\nPerceived age of person stopped\\nPerson stopped has limited or no English fluency\\nPerceived or known disability or person stopped\\nReason for stop\\nStop made in response to a call for service\\nActions taken by officer during stop\\nResults of stop\\nOfficer’s Identification (ID) Number\\nOfficer’s years of experience\\nType of assignment of officer'\n",
    "RIPA_cols_to_keep = RIPA_factors.splitlines"
   ]
  },
  {
   "cell_type": "code",
   "execution_count": 98,
   "id": "5b46c60d",
   "metadata": {},
   "outputs": [
    {
     "data": {
      "text/plain": [
       "<function str.splitlines(keepends=False)>"
      ]
     },
     "execution_count": 98,
     "metadata": {},
     "output_type": "execute_result"
    }
   ],
   "source": [
    "RIPA_cols_to_keep"
   ]
  },
  {
   "cell_type": "markdown",
   "id": "78222fc9",
   "metadata": {},
   "source": [
    "# WAVE 1"
   ]
  },
  {
   "cell_type": "markdown",
   "id": "315f0f7d",
   "metadata": {},
   "source": [
    "## LAPD"
   ]
  },
  {
   "cell_type": "code",
   "execution_count": 99,
   "id": "7ff14958",
   "metadata": {},
   "outputs": [
    {
     "name": "stdout",
     "output_type": "stream",
     "text": [
      "/Users/karatechop\n"
     ]
    }
   ],
   "source": [
    "cd"
   ]
  },
  {
   "cell_type": "code",
   "execution_count": 100,
   "id": "894bc186",
   "metadata": {},
   "outputs": [
    {
     "name": "stdout",
     "output_type": "stream",
     "text": [
      "/Users/karatechop/Documents/GitHub/senior-thesis-pretextual-stops/Data/RIPA-DATA-CA-as-of-2022 (CSV)/Wave 1/LAPD\n"
     ]
    }
   ],
   "source": [
    "cd /Users/karatechop/Documents/GitHub/senior-thesis-pretextual-stops/Data/RIPA-DATA-CA-as-of-2022\\ \\(CSV\\)/Wave 1/LAPD"
   ]
  },
  {
   "cell_type": "code",
   "execution_count": 101,
   "id": "4e93d3e9",
   "metadata": {
    "scrolled": true
   },
   "outputs": [
    {
     "name": "stdout",
     "output_type": "stream",
     "text": [
      "ALL-LAPD-AB953.csv   LAPD-AB953-2019.csv  LAPD-AB953-2021.csv\r\n",
      "LAPD-AB953-2018.csv  LAPD-AB953-2020.csv  dictionary.xlsx\r\n"
     ]
    }
   ],
   "source": [
    "ls"
   ]
  },
  {
   "cell_type": "code",
   "execution_count": 102,
   "id": "4b041cd3",
   "metadata": {
    "scrolled": true
   },
   "outputs": [
    {
     "name": "stderr",
     "output_type": "stream",
     "text": [
      "/var/folders/td/yc8lq2qx2ks3ck292tbf6wtm0000gn/T/ipykernel_15018/2380184422.py:1: DtypeWarning: Columns (16,17,26) have mixed types. Specify dtype option on import or set low_memory=False.\n",
      "  la18 = pd.read_csv('LAPD-AB953-2018.csv')\n",
      "/var/folders/td/yc8lq2qx2ks3ck292tbf6wtm0000gn/T/ipykernel_15018/2380184422.py:2: DtypeWarning: Columns (16,17,26) have mixed types. Specify dtype option on import or set low_memory=False.\n",
      "  la19 = pd.read_csv('LAPD-AB953-2019.csv')\n",
      "/var/folders/td/yc8lq2qx2ks3ck292tbf6wtm0000gn/T/ipykernel_15018/2380184422.py:3: DtypeWarning: Columns (16,17,26) have mixed types. Specify dtype option on import or set low_memory=False.\n",
      "  la20 = pd.read_csv('LAPD-AB953-2020.csv')\n",
      "/var/folders/td/yc8lq2qx2ks3ck292tbf6wtm0000gn/T/ipykernel_15018/2380184422.py:4: DtypeWarning: Columns (16,17,26) have mixed types. Specify dtype option on import or set low_memory=False.\n",
      "  la21 = pd.read_csv('LAPD-AB953-2021.csv')\n"
     ]
    }
   ],
   "source": [
    "la18 = pd.read_csv('LAPD-AB953-2018.csv')\n",
    "la19 = pd.read_csv('LAPD-AB953-2019.csv')\n",
    "la20 = pd.read_csv('LAPD-AB953-2020.csv')\n",
    "la21 = pd.read_csv('LAPD-AB953-2021.csv')\n",
    "\n",
    "la_dfs = [la18,la19,la20,la21]"
   ]
  },
  {
   "cell_type": "code",
   "execution_count": 132,
   "id": "8b36d6ed",
   "metadata": {},
   "outputs": [
    {
     "data": {
      "text/plain": [
       "Index(['idx', 'Agency', 'Seq', 'txType', 'NFIA', 'StopDate', 'StopTime',\n",
       "       'Duration', 'SvcCall', 'Officer', 'Experience', 'AsgntType',\n",
       "       'Assignment', 'Proxy', 'Addr', 'City', 'K12', 'SchoolCode', 'pid',\n",
       "       'race', 'sex', 'nonConf', 'lgbt', 'age', 'noEngl', 'disab', 'student',\n",
       "       'reason', 'rsnDsc', 'tpMvViol', 'mvCJIS', 'eduCode', 'eduSub',\n",
       "       'suspCJIS', 'suspBase', 'act', 'srchBase', 'srchDsc', 'szrBase',\n",
       "       'propSzd', 'evid', 'res', 'warnCJIS', 'citCJIS', 'infCJIS', 'arrCJIS'],\n",
       "      dtype='object')"
      ]
     },
     "execution_count": 132,
     "metadata": {},
     "output_type": "execute_result"
    }
   ],
   "source": [
    "la18.columns"
   ]
  },
  {
   "cell_type": "code",
   "execution_count": 134,
   "id": "9848718a",
   "metadata": {
    "scrolled": false
   },
   "outputs": [
    {
     "name": "stdout",
     "output_type": "stream",
     "text": [
      "no dropped pid dupes\n",
      "no dropped pid dupes\n",
      "la2019 was (712806, 46)\n",
      "la2019 is merged! LAPD shape is now (882363, 17)\n",
      "no dropped pid dupes\n",
      "la2020 was (521487, 46)\n",
      "la2020 is merged! LAPD shape is now (1282605, 17)\n",
      "no dropped pid dupes\n",
      "la2021 was (428259, 46)\n",
      "la2021 is merged! LAPD shape is now (1602977, 17)\n"
     ]
    }
   ],
   "source": [
    "def convert_simplify(df):\n",
    "    i = df\n",
    "    i = i.rename(columns={'StopDate':'Date',\n",
    "                          'StopTime':'time',\n",
    "                          'Duration':'Duration',\n",
    "                          'Experience':'Experience',\n",
    "                          'pid':'PID',\n",
    "                          'race':'race',\n",
    "                          'sex':'sex',\n",
    "                          'age':'age',\n",
    "                          'tpMvViol':'type',\n",
    "                          'reason':'reason',\n",
    "                          'suspBase':'basis',\n",
    "                          'act':'actions taken',\n",
    "                          'srchBase':'search basis',\n",
    "                          'szrBase':'seizure basis',\n",
    "                          'propSzd':'property seized',\n",
    "                          'evid':'evidence',\n",
    "                          'res':'result'})\n",
    "\n",
    "    i = i[(i['SvcCall']!='Y')\\\n",
    "#           & ((i['type']==1) | (i['type']==2))\\\n",
    "          &  (i['AsgntType']==1)\\\n",
    "          &  (i['K12']!='Y')\\\n",
    "          &  (i['student']!='Y')]\n",
    "\n",
    "    i.loc[i['type'] == 1,'type'] = '1 Moving'\n",
    "    i.loc[i['type'] == 2,'type'] = '2 Equipment'\n",
    "    i.loc[i['type'] == 3,'type'] = '3 Non-Moving'\n",
    "    \n",
    "    try:     \n",
    "        i.loc[i['race'] == '1','race'] = 'asian'\n",
    "        i.loc[i['race'] == '2','race'] = 'black/african american'\n",
    "        i.loc[i['race'] == '3','race'] = 'hispanic/latino(a)'\n",
    "        i.loc[i['race'] == '4','race'] = 'middle eastern or south asian'\n",
    "        i.loc[i['race'] == '5','race'] = 'native american'\n",
    "        i.loc[i['race'] == '6','race'] = 'pacific islander'\n",
    "        i.loc[i['race'] == '7','race'] = 'white'\n",
    "        i.loc[i['race'] == 1,'race'] = 'asian'\n",
    "        i.loc[i['race'] == 2,'race'] = 'black/african american'\n",
    "        i.loc[i['race'] == 3,'race'] = 'hispanic/latino(a)'\n",
    "        i.loc[i['race'] == 4,'race'] = 'middle eastern or south asian'\n",
    "        i.loc[i['race'] == 5,'race'] = 'native american'\n",
    "        i.loc[i['race'] == 6,'race'] = 'pacific islander'\n",
    "        i.loc[i['race'] == 7,'race'] = 'white'\n",
    "    except: \n",
    "        print('race switch failed')\n",
    "        pass\n",
    "    \n",
    "    try: #mixed list type 1\n",
    "        mixed_list = []\n",
    "        for check in i['race']:\n",
    "            if len(check.split(','))>1:\n",
    "                mixed_list.append('mixed')\n",
    "            else: \n",
    "                mixed_list.append(check)\n",
    "        i['race'] = mixed_list\n",
    "        i['race'] = i['race'].str.lower()\n",
    "    except:\n",
    "        try: #mixed list type 2\n",
    "            mixed_list = []\n",
    "            for check in i['race']:\n",
    "                if len(check.split('or'))>1:\n",
    "                    mixed_list.append(check.split('or')[0].replace(' ',''))\n",
    "                else: \n",
    "                    mixed_list.append(check)\n",
    "            i['race'] = mixed_list\n",
    "            i['race'] = i['race'].str.lower()\n",
    "        except:    \n",
    "            print('no mixed race changes')\n",
    "            pass\n",
    "\n",
    "    \n",
    "#     try:\n",
    "#         i['Date'] = pd.to_datetime(i['Date'])\n",
    "#         i['Time'] = i['Date'].dt.time\n",
    "#     except: \n",
    "#         print('no time changes')\n",
    "#         i['Time'] = i['Date'].dt.time\n",
    "#         pass\n",
    "\n",
    "    \n",
    "    try: \n",
    "        i = i.drop_duplicates(subset=['stop_id'], keep='first')\n",
    "    except: \n",
    "        print('no dropped pid dupes')\n",
    "        pass\n",
    "\n",
    "    output_df = i[['Date', 'time','Duration','Experience','PID','race', 'sex','age','type',\n",
    "                   'reason','basis', 'actions taken', 'search basis', 'seizure basis','property seized', \n",
    "                   'evidence', 'result']]\n",
    "    \n",
    "    \n",
    "    return output_df\n",
    "\n",
    "\n",
    "\n",
    "year = 2019\n",
    "\n",
    "for i in la_dfs[1:]:  \n",
    "    if 'AB953' not in i:\n",
    "        df = convert_simplify(i)\n",
    "\n",
    "        if year == 2019:\n",
    "            LAPD = pd.merge(convert_simplify(la18),df,how='outer')\n",
    "        else:\n",
    "            LAPD = pd.merge(LAPD,df,how='outer')\n",
    "\n",
    "        print(f'la{year} was {i.shape}')\n",
    "        print(f'la{year} is merged! LAPD shape is now {LAPD.shape}')\n",
    "        year+=1\n",
    "LAPD.to_csv('ALL-LAPD-AB953.csv',index=False)"
   ]
  },
  {
   "cell_type": "code",
   "execution_count": 105,
   "id": "dbc5b6f7",
   "metadata": {},
   "outputs": [
    {
     "data": {
      "text/plain": [
       "hispanic/latino(a)               755812\n",
       "black/african american           412820\n",
       "white                            296412\n",
       "middle eastern or south asian     65038\n",
       "asian                             58846\n",
       "mixed                              9122\n",
       "pacific islander                   3880\n",
       "native american                    1047\n",
       "Name: race, dtype: int64"
      ]
     },
     "execution_count": 105,
     "metadata": {},
     "output_type": "execute_result"
    }
   ],
   "source": [
    "LAPD['race'].value_counts()"
   ]
  },
  {
   "cell_type": "markdown",
   "id": "48407cfc",
   "metadata": {},
   "source": [
    "## RIVERSIDE"
   ]
  },
  {
   "cell_type": "code",
   "execution_count": 151,
   "id": "1b45783c",
   "metadata": {
    "scrolled": true
   },
   "outputs": [
    {
     "name": "stdout",
     "output_type": "stream",
     "text": [
      "/Users/karatechop\n"
     ]
    }
   ],
   "source": [
    "cd"
   ]
  },
  {
   "cell_type": "code",
   "execution_count": 152,
   "id": "621dc7e0",
   "metadata": {
    "scrolled": true
   },
   "outputs": [
    {
     "name": "stdout",
     "output_type": "stream",
     "text": [
      "/Users/karatechop/Documents/GitHub/senior-thesis-pretextual-stops/Data/RIPA-DATA-CA-as-of-2022 (CSV)/Wave 1/Riverside County Sheriffs Dpt\n"
     ]
    }
   ],
   "source": [
    "cd '/Users/karatechop/Documents/GitHub/senior-thesis-pretextual-stops/Data/RIPA-DATA-CA-as-of-2022 (CSV)/Wave 1/Riverside County Sheriffs Dpt'"
   ]
  },
  {
   "cell_type": "code",
   "execution_count": 153,
   "id": "bbcb8e49",
   "metadata": {
    "scrolled": true
   },
   "outputs": [],
   "source": [
    "# r1[r1['Person Primary Reason Traffic Violation Type'] == 0][['Person PID','Person Action Taken Action Value',\n",
    "#                                                              'Person Primary Reason Reason Value',\n",
    "#                                                              'Person Primary Reason Traffic Violation Type Value']]\n"
   ]
  },
  {
   "cell_type": "code",
   "execution_count": 154,
   "id": "9ae29749",
   "metadata": {},
   "outputs": [],
   "source": [
    "# # path = os.getcwd()\n",
    "# # files = glob.glob(path + \"/*.csv\")\n",
    "# r4 = pd.read_csv(files[1])\n",
    "# r4.columns"
   ]
  },
  {
   "cell_type": "code",
   "execution_count": 155,
   "id": "860efdf8",
   "metadata": {},
   "outputs": [
    {
     "name": "stdout",
     "output_type": "stream",
     "text": [
      "2018StopDataReport.csv   2020_StopDataReport.csv  ALL-RIVERSIDE-AB953.csv\r\n",
      "2019_StopDataReport.csv  2021_StopDataReport.csv  \u001b[34moriginal\u001b[m\u001b[m/\r\n"
     ]
    }
   ],
   "source": [
    "ls"
   ]
  },
  {
   "cell_type": "code",
   "execution_count": 156,
   "id": "140447e3",
   "metadata": {},
   "outputs": [],
   "source": [
    "# test_dog = ['dog or cat', 'dog cat']\n",
    "\n",
    "# mixed_list = []\n",
    "# for check in test_dog:\n",
    "#     if len(check.split('or'))>1:\n",
    "#         mixed_list.append(check.split('or')[0].replace(' ',''))\n",
    "\n",
    "# mixed_list"
   ]
  },
  {
   "cell_type": "code",
   "execution_count": 157,
   "id": "c3dab61c",
   "metadata": {},
   "outputs": [
    {
     "name": "stderr",
     "output_type": "stream",
     "text": [
      "/var/folders/td/yc8lq2qx2ks3ck292tbf6wtm0000gn/T/ipykernel_15018/2680912627.py:10: DtypeWarning: Columns (12,39,44) have mixed types. Specify dtype option on import or set low_memory=False.\n",
      "  df = pd.read_csv(file, index_col=None)\n",
      "/var/folders/td/yc8lq2qx2ks3ck292tbf6wtm0000gn/T/ipykernel_15018/2680912627.py:10: DtypeWarning: Columns (12,44) have mixed types. Specify dtype option on import or set low_memory=False.\n",
      "  df = pd.read_csv(file, index_col=None)\n",
      "/var/folders/td/yc8lq2qx2ks3ck292tbf6wtm0000gn/T/ipykernel_15018/2680912627.py:10: DtypeWarning: Columns (44) have mixed types. Specify dtype option on import or set low_memory=False.\n",
      "  df = pd.read_csv(file, index_col=None)\n"
     ]
    },
    {
     "name": "stdout",
     "output_type": "stream",
     "text": [
      "[]\n"
     ]
    },
    {
     "name": "stderr",
     "output_type": "stream",
     "text": [
      "/var/folders/td/yc8lq2qx2ks3ck292tbf6wtm0000gn/T/ipykernel_15018/2680912627.py:10: DtypeWarning: Columns (7,10,12,14,18,26,30,44) have mixed types. Specify dtype option on import or set low_memory=False.\n",
      "  df = pd.read_csv(file, index_col=None)\n"
     ]
    }
   ],
   "source": [
    "import os\n",
    "from glob import glob\n",
    "\n",
    "PATH = os.getcwd()\n",
    "EXT = \"*.csv\"\n",
    "\n",
    "cols = []\n",
    "for path, subdir, files in os.walk(PATH):\n",
    "    for file in glob(os.path.join(path, EXT)):\n",
    "        df = pd.read_csv(file, index_col=None)\n",
    "        \n",
    "        for col in df.columns:\n",
    "            cols.append(col)\n",
    "                \n",
    "print(pd.unique([match for match in cols if 'time'.lower() in match.lower()]))"
   ]
  },
  {
   "cell_type": "code",
   "execution_count": 159,
   "id": "c5597e3e",
   "metadata": {
    "scrolled": false
   },
   "outputs": [
    {
     "name": "stderr",
     "output_type": "stream",
     "text": [
      "/var/folders/td/yc8lq2qx2ks3ck292tbf6wtm0000gn/T/ipykernel_15018/881115055.py:106: DtypeWarning: Columns (12,39,44) have mixed types. Specify dtype option on import or set low_memory=False.\n",
      "  start_df = convert_simplify_RI(pd.read_csv(files[0]))\n"
     ]
    },
    {
     "name": "stdout",
     "output_type": "stream",
     "text": [
      "no dropped pid dupes\n"
     ]
    },
    {
     "name": "stderr",
     "output_type": "stream",
     "text": [
      "/var/folders/td/yc8lq2qx2ks3ck292tbf6wtm0000gn/T/ipykernel_15018/881115055.py:112: DtypeWarning: Columns (12,44) have mixed types. Specify dtype option on import or set low_memory=False.\n",
      "  df = convert_simplify_RI(pd.read_csv(i))\n"
     ]
    },
    {
     "name": "stdout",
     "output_type": "stream",
     "text": [
      "no dropped pid dupes\n"
     ]
    },
    {
     "name": "stderr",
     "output_type": "stream",
     "text": [
      "/Users/karatechop/opt/anaconda3/lib/python3.9/site-packages/pandas/core/reshape/merge.py:916: FutureWarning: In a future version, the Index constructor will not infer numeric dtypes when passed object-dtype sequences (matching Series behavior)\n",
      "  key_col = Index(lvals).where(~mask_left, rvals)\n"
     ]
    },
    {
     "name": "stdout",
     "output_type": "stream",
     "text": [
      "riverside2021 was (73890, 15)\n",
      "riverside2021 is merged! RIVERSIDE shape is now (174938, 15)\n"
     ]
    },
    {
     "name": "stderr",
     "output_type": "stream",
     "text": [
      "/var/folders/td/yc8lq2qx2ks3ck292tbf6wtm0000gn/T/ipykernel_15018/881115055.py:112: DtypeWarning: Columns (44) have mixed types. Specify dtype option on import or set low_memory=False.\n",
      "  df = convert_simplify_RI(pd.read_csv(i))\n"
     ]
    },
    {
     "name": "stdout",
     "output_type": "stream",
     "text": [
      "no dropped pid dupes\n"
     ]
    },
    {
     "name": "stderr",
     "output_type": "stream",
     "text": [
      "/Users/karatechop/opt/anaconda3/lib/python3.9/site-packages/pandas/core/reshape/merge.py:916: FutureWarning: In a future version, the Index constructor will not infer numeric dtypes when passed object-dtype sequences (matching Series behavior)\n",
      "  key_col = Index(lvals).where(~mask_left, rvals)\n"
     ]
    },
    {
     "name": "stdout",
     "output_type": "stream",
     "text": [
      "riverside2020 was (61647, 15)\n",
      "riverside2020 is merged! RIVERSIDE shape is now (236585, 15)\n"
     ]
    },
    {
     "name": "stderr",
     "output_type": "stream",
     "text": [
      "/var/folders/td/yc8lq2qx2ks3ck292tbf6wtm0000gn/T/ipykernel_15018/881115055.py:112: DtypeWarning: Columns (7,10,12,14,18,26,30,44) have mixed types. Specify dtype option on import or set low_memory=False.\n",
      "  df = convert_simplify_RI(pd.read_csv(i))\n"
     ]
    },
    {
     "name": "stdout",
     "output_type": "stream",
     "text": [
      "no dropped pid dupes\n"
     ]
    },
    {
     "name": "stderr",
     "output_type": "stream",
     "text": [
      "/Users/karatechop/opt/anaconda3/lib/python3.9/site-packages/pandas/core/reshape/merge.py:916: FutureWarning: In a future version, the Index constructor will not infer numeric dtypes when passed object-dtype sequences (matching Series behavior)\n",
      "  key_col = Index(lvals).where(~mask_left, rvals)\n"
     ]
    },
    {
     "name": "stdout",
     "output_type": "stream",
     "text": [
      "riverside2019 was (77912, 15)\n",
      "riverside2019 is merged! RIVERSIDE shape is now (314497, 15)\n",
      "RIVERSIDE saved!\n"
     ]
    }
   ],
   "source": [
    "import glob\n",
    "def convert_simplify_RI(df):\n",
    "    i = df\n",
    "    i = i.rename(columns={'Date':'date',\n",
    "                          'Time of Stop':'time',\n",
    "                          \n",
    "                          'Is Serv Call':'service call',\n",
    "                          'Stop Data Stop Duration':'Duration',\n",
    "                          'Person PID':'PID',\n",
    "                          'Person Perceived Ethnicity Race Or Ethnicity Value':'race',\n",
    "                          'Person Perceived Gender Value':'sex',\n",
    "                          'Person Perceived Age':'age',\n",
    "                          'Person Primary Reason Traffic Violation Type':'type',\n",
    "                          'Person Primary Reason Reason Value':'reason',\n",
    "                          'Person Primary Reason Suspicion Type Suspicion Type Value':'basis',\n",
    "                          'Person Action Taken Action Value':'actions taken',\n",
    "                          'Person Basis Search Narrative':'search basis',\n",
    "#                           'szrBase':'seizure basis',\n",
    "                          'Person Property Type Seized Type Seized Value':'property seized',\n",
    "#                           'evid':'evidence',\n",
    "                          'Person Result Of Stop Offense Stop Code Value':'result',\n",
    "                          'Person Result Of Stop Offense Stop Offense Value':'offense code',\n",
    "                          'Person Is Student':'student',\n",
    "                          'Is Serv Call':'service call'})\n",
    "\n",
    "    i = i[(i['service call']!='Y')\\\n",
    "          & ((i['type']==1) | (i['type']==2) | (i['type']==3))\\\n",
    "          &  (i['reason']=='Traffic violation')\\\n",
    "          &  (i['student']!='True')]\n",
    "\n",
    "    i.loc[i['type'] == 1,'type'] = '1 Moving'\n",
    "    i.loc[i['type'] == 2,'type'] = '2 Equipment'\n",
    "    i.loc[i['type'] == 3,'type'] = '3 Non-Moving'\n",
    "    \n",
    "    try:     \n",
    "        i.loc[i['race'] == '1','race'] = 'asian'\n",
    "        i.loc[i['race'] == '2','race'] = 'black/african american'\n",
    "        i.loc[i['race'] == '3','race'] = 'hispanic/latino(a)'\n",
    "        i.loc[i['race'] == '4','race'] = 'middle eastern or south asian'\n",
    "        i.loc[i['race'] == '5','race'] = 'native american'\n",
    "        i.loc[i['race'] == '6','race'] = 'pacific islander'\n",
    "        i.loc[i['race'] == '7','race'] = 'white'\n",
    "        i.loc[i['race'] == 1,'race'] = 'asian'\n",
    "        i.loc[i['race'] == 2,'race'] = 'black/african american'\n",
    "        i.loc[i['race'] == 3,'race'] = 'hispanic/latino(a)'\n",
    "        i.loc[i['race'] == 4,'race'] = 'middle eastern or south asian'\n",
    "        i.loc[i['race'] == 5,'race'] = 'native american'\n",
    "        i.loc[i['race'] == 6,'race'] = 'pacific islander'\n",
    "        i.loc[i['race'] == 7,'race'] = 'white'\n",
    "    except: \n",
    "        print('race switch failed')\n",
    "        pass\n",
    "    \n",
    "    try: #mixed list type 1\n",
    "        mixed_list = []\n",
    "        for check in i['race']:\n",
    "            if len(check.split(','))>1:\n",
    "                mixed_list.append('mixed')\n",
    "            else: \n",
    "                mixed_list.append(check)\n",
    "        i['race'] = mixed_list\n",
    "        i['race'] = i['race'].str.lower()\n",
    "    except:\n",
    "        try: #mixed list type 2\n",
    "            mixed_list = []\n",
    "            for check in i['race']:\n",
    "                if len(check.split('or'))>1:\n",
    "                    mixed_list.append(check.split('or')[0].replace(' ',''))\n",
    "                else: \n",
    "                    mixed_list.append(check)\n",
    "            i['race'] = mixed_list\n",
    "            i['race'] = i['race'].str.lower()\n",
    "        except:    \n",
    "            print('no mixed race changes')\n",
    "            pass\n",
    "\n",
    "    i['date'] = pd.to_datetime(i['date'])\n",
    "    i['time'] = i['date'].dt.time\n",
    "#     try:\n",
    "#         i['Date'] = pd.to_datetime(i['Date'])\n",
    "#         i['Time'] = i['Date'].dt.time\n",
    "#     except: \n",
    "#         print('no time changes')\n",
    "#         i['Time'] = i['Date'].dt.time\n",
    "#         pass\n",
    "\n",
    "    \n",
    "    try: \n",
    "        i = i.drop_duplicates(subset=['stop_id'], keep='first')\n",
    "    except: \n",
    "        print('no dropped pid dupes')\n",
    "        pass\n",
    "\n",
    "    output_df = i[['date','time','Duration','PID','race', 'sex','age','type',\n",
    "                   'reason','offense code','basis', 'actions taken', 'property seized', 'search basis',\n",
    "                   'result']]\n",
    "\n",
    "    return output_df\n",
    "\n",
    "\n",
    "\n",
    "path = os.getcwd()\n",
    "files = glob.glob(path + \"/*.csv\")\n",
    "\n",
    "\n",
    "start_df = convert_simplify_RI(pd.read_csv(files[0]))\n",
    "\n",
    "year = 2021\n",
    "\n",
    "for i in files[1:]: \n",
    "    if 'AB953' not in i:\n",
    "        df = convert_simplify_RI(pd.read_csv(i))\n",
    "\n",
    "        if year == 2021:\n",
    "            RIVERSIDE = pd.merge(start_df,df,how='outer')\n",
    "        else:\n",
    "            RIVERSIDE = pd.merge(RIVERSIDE,df,how='outer')\n",
    "\n",
    "        print(f'riverside{year} was {df.shape}')\n",
    "        print(f'riverside{year} is merged! RIVERSIDE shape is now {RIVERSIDE.shape}')\n",
    "        year-=1\n",
    "RIVERSIDE.to_csv('ALL-RIVERSIDE-AB953.csv',index=False)\n",
    "print('RIVERSIDE saved!')"
   ]
  },
  {
   "cell_type": "code",
   "execution_count": 115,
   "id": "744766cb",
   "metadata": {},
   "outputs": [
    {
     "data": {
      "text/plain": [
       "hispanic/latino(a)               154757\n",
       "white                            105978\n",
       "black/african american            33861\n",
       "asian                             12384\n",
       "middle eastern or south asian      4761\n",
       "pacific islander                   1648\n",
       "native american                    1108\n",
       "Name: race, dtype: int64"
      ]
     },
     "execution_count": 115,
     "metadata": {},
     "output_type": "execute_result"
    }
   ],
   "source": [
    "RIVERSIDE['race'].value_counts()"
   ]
  },
  {
   "cell_type": "markdown",
   "id": "b74fd5b9",
   "metadata": {},
   "source": [
    "## SDPD"
   ]
  },
  {
   "cell_type": "code",
   "execution_count": 177,
   "id": "b27eec13",
   "metadata": {},
   "outputs": [],
   "source": [
    "import pandas as pd\n",
    "import numpy as np\n",
    "import os\n",
    "from glob import glob\n",
    "import numpy as np\n",
    "import matplotlib.pyplot as plt\n",
    "import time\n",
    "\n",
    "pd.set_option('display.max_columns', None) "
   ]
  },
  {
   "cell_type": "code",
   "execution_count": 178,
   "id": "cb2a636b",
   "metadata": {},
   "outputs": [
    {
     "name": "stdout",
     "output_type": "stream",
     "text": [
      "/Users/karatechop\n"
     ]
    }
   ],
   "source": [
    "cd"
   ]
  },
  {
   "cell_type": "code",
   "execution_count": 179,
   "id": "24ceeff7",
   "metadata": {},
   "outputs": [
    {
     "name": "stdout",
     "output_type": "stream",
     "text": [
      "/Users/karatechop/Documents/GitHub/senior-thesis-pretextual-stops/Data/RIPA-DATA-CA-as-of-2022 (CSV)/Wave 1/SDPD\n"
     ]
    }
   ],
   "source": [
    "cd /Users/karatechop/Documents/GitHub/senior-thesis-pretextual-stops/Data/RIPA-DATA-CA-as-of-2022 (CSV)/Wave 1/SDPD"
   ]
  },
  {
   "cell_type": "code",
   "execution_count": 180,
   "id": "24b1f6a6",
   "metadata": {},
   "outputs": [
    {
     "name": "stdout",
     "output_type": "stream",
     "text": [
      "ALL-SDPD-AB-953-UNDUPED.csv\r\n",
      "ALL-SDPD-AB-953.csv\r\n",
      "ALL-SDPD-AB953.csv\r\n",
      "\u001b[34mcodebooks\u001b[m\u001b[m/\r\n",
      "ripa_actions_taken_datasd-UNDUPED.csv\r\n",
      "ripa_actions_taken_datasd.csv\r\n",
      "ripa_gender_datasd-UNDUPED.csv\r\n",
      "ripa_gender_datasd.csv\r\n",
      "ripa_prop_seize_type_datasd-UNDUPED.csv\r\n",
      "ripa_prop_seize_type_datasd.csv\r\n",
      "ripa_race_datasd-UNDUPED.csv\r\n",
      "ripa_race_datasd.csv\r\n",
      "ripa_search_basis_datasd-UNDUPED.csv\r\n",
      "ripa_search_basis_datasd.csv\r\n",
      "ripa_stop_reason_datasd-UNDUPED.csv\r\n",
      "ripa_stop_reason_datasd.csv\r\n",
      "ripa_stop_result_datasd-UNDUPED.csv\r\n",
      "ripa_stop_result_datasd.csv\r\n",
      "ripa_stops_datasd-UNDUPED.csv\r\n",
      "ripa_stops_datasd.csv\r\n"
     ]
    }
   ],
   "source": [
    "ls"
   ]
  },
  {
   "cell_type": "code",
   "execution_count": 181,
   "id": "4361c487",
   "metadata": {},
   "outputs": [
    {
     "name": "stderr",
     "output_type": "stream",
     "text": [
      "/var/folders/td/yc8lq2qx2ks3ck292tbf6wtm0000gn/T/ipykernel_15018/2878871643.py:10: DtypeWarning: Columns (12) have mixed types. Specify dtype option on import or set low_memory=False.\n",
      "  df = pd.read_csv(file)\n",
      "/var/folders/td/yc8lq2qx2ks3ck292tbf6wtm0000gn/T/ipykernel_15018/2878871643.py:10: DtypeWarning: Columns (3) have mixed types. Specify dtype option on import or set low_memory=False.\n",
      "  df = pd.read_csv(file)\n"
     ]
    },
    {
     "name": "stdout",
     "output_type": "stream",
     "text": [
      "no stop_id drop\n"
     ]
    },
    {
     "name": "stderr",
     "output_type": "stream",
     "text": [
      "/var/folders/td/yc8lq2qx2ks3ck292tbf6wtm0000gn/T/ipykernel_15018/2878871643.py:29: DtypeWarning: Columns (12) have mixed types. Specify dtype option on import or set low_memory=False.\n",
      "  temp_df = pd.read_csv(file)\n",
      "/var/folders/td/yc8lq2qx2ks3ck292tbf6wtm0000gn/T/ipykernel_15018/2878871643.py:29: DtypeWarning: Columns (3) have mixed types. Specify dtype option on import or set low_memory=False.\n",
      "  temp_df = pd.read_csv(file)\n"
     ]
    },
    {
     "name": "stdout",
     "output_type": "stream",
     "text": [
      "no drop\n",
      "/Users/karatechop/Documents/GitHub/senior-thesis-pretextual-stops/Data/RIPA-DATA-CA-as-of-2022 (CSV)/Wave 1/SDPD/ALL-SDPD-AB-953-UNDUPED.csv oof\n",
      "(534006, 45)\n"
     ]
    },
    {
     "data": {
      "text/plain": [
       "Index(['action', 'address_block', 'address_city', 'address_street', 'agency',\n",
       "       'assignment', 'basis_for_search', 'basis_for_search_explanation',\n",
       "       'beat', 'beat_name', 'code', 'consented', 'date_stop', 'exp_years',\n",
       "       'gend', 'gend_nc', 'gender', 'gender_nonconforming', 'highway_exit',\n",
       "       'intersection', 'isschool', 'isstudent', 'land_mark',\n",
       "       'officer_assignment_key', 'ori', 'perceived_age', 'perceived_gender',\n",
       "       'perceived_lgbt', 'perceived_limited_english', 'pid', 'race',\n",
       "       'reason_for_stop', 'reason_for_stop_code_text',\n",
       "       'reason_for_stop_detail', 'reason_for_stop_explanation',\n",
       "       'reason_for_stopcode', 'result', 'resultkey', 'resulttext',\n",
       "       'school_name', 'stop_id', 'stop_in_response_to_cfs', 'stopduration',\n",
       "       'time_stop', 'type_of_property_seized'],\n",
       "      dtype='object')"
      ]
     },
     "execution_count": 181,
     "metadata": {},
     "output_type": "execute_result"
    }
   ],
   "source": [
    "import glob\n",
    "path = os.getcwd()\n",
    "files = glob.glob(path + \"/*.csv\")\n",
    "\n",
    "unduped = []\n",
    "\n",
    "for file in files:\n",
    "    if 'unduped' not in file.lower():\n",
    "        if 'ab953' not in file.lower():\n",
    "            df = pd.read_csv(file)\n",
    "            try:\n",
    "                df = df.drop_duplicates(subset=['stop_id'], keep='first')\n",
    "            except:\n",
    "                print('no stop_id drop')\n",
    "                pass\n",
    "            file = str(file[:-4] + '-UNDUPED' + file[-4:])\n",
    "            df.to_csv(f'{file}',index=False)\n",
    "            unduped.append(file)\n",
    "\n",
    "import glob\n",
    "path = os.getcwd()\n",
    "files = glob.glob(path + \"/*.csv\")\n",
    "sdpd = pd.read_csv(unduped[0]) \n",
    "\n",
    "\n",
    "for file in unduped[1:]: \n",
    "    if 'ripa_stops_datasd-UNDUPED' not in file.lower():\n",
    "        if 'AB953' not in file:\n",
    "            temp_df = pd.read_csv(file)\n",
    "            \n",
    "            try:\n",
    "                temp_df.drop(columns=['pid'],inplace=True)\n",
    "            except:\n",
    "                print('no drop')\n",
    "                pass\n",
    "                \n",
    "            try:\n",
    "                sdpd = pd.merge(sdpd,temp_df,on='stop_id')\n",
    "            except:\n",
    "                print(file,'oof')\n",
    "\n",
    "print(sdpd.shape)\n",
    "sdpd.columns.sort_values()"
   ]
  },
  {
   "cell_type": "code",
   "execution_count": 182,
   "id": "84b493f2",
   "metadata": {},
   "outputs": [
    {
     "name": "stdout",
     "output_type": "stream",
     "text": [
      "works!\n"
     ]
    }
   ],
   "source": [
    "def convert_simplify_SD(df):\n",
    "    i = df\n",
    "    i = i.rename(columns={'date_stop':'date',\n",
    "                          'time_stop':'time',\n",
    "                          'stop_in_response_to_cfs':'Service Call',\n",
    "                          'stopduration':'Duration',\n",
    "                          'exp_years':'Experience',\n",
    "                          'pid':'PID',\n",
    "#                           'stop_id':'stop id',\n",
    "                          'race':'race',\n",
    "                          'gender':'sex',\n",
    "                          'perceived_age':'age',\n",
    "                          'reason_for_stop_detail':'type',\n",
    "                          'reason_for_stop':'reason',\n",
    "#                           'suspBase':'basis',\n",
    "                          'action':'actions taken',\n",
    "                          'basis_for_search':'search basis',\n",
    "                          'szrBase':'seizure basis',\n",
    "                          'type_of_property_seized':'property seized',\n",
    "#                           'evid':'evidence',\n",
    "                          'result':'result'})\n",
    "\n",
    "    i = i[(i['Service Call']!='Y')\\\n",
    "          &  (i['reason']=='Traffic Violation')\\\n",
    "          &  ((i['type'] == 'Moving Violation') |\\\n",
    "              (i['type'] == 'Equipment Violation') |\\\n",
    "              (i['type'] == 'Non-moving Violation, including Registration Violation') |\\\n",
    "              (i['type'] == 'Other Reasonable Suspicion of a crime'))\n",
    "          &  (i['assignment']=='Patrol, traffic enforcement, field operations')\\\n",
    "          &  (i['isstudent']!=1)]\n",
    "\n",
    "    i.loc[i['type'] == 'Moving Violation','type'] = '1 Moving'\n",
    "    i.loc[i['type'] == 'Equipment Violation','type'] = '2 Equipment'\n",
    "    i.loc[i['type'] == 'Non-moving Violation, including Registration Violation','type'] = '3 Non-Moving'\n",
    "\n",
    "    \n",
    "    \n",
    "    \n",
    "    try:     \n",
    "        i.loc[i['race'] == '1','race'] = 'asian'\n",
    "        i.loc[i['race'] == '2','race'] = 'black/african american'\n",
    "        i.loc[i['race'] == '3','race'] = 'hispanic/latino(a)'\n",
    "        i.loc[i['race'] == '4','race'] = 'middle eastern or south asian'\n",
    "        i.loc[i['race'] == '5','race'] = 'native american'\n",
    "        i.loc[i['race'] == '6','race'] = 'pacific islander'\n",
    "        i.loc[i['race'] == '7','race'] = 'white'\n",
    "        i.loc[i['race'] == 1,'race'] = 'asian'\n",
    "        i.loc[i['race'] == 2,'race'] = 'black/african american'\n",
    "        i.loc[i['race'] == 3,'race'] = 'hispanic/latino(a)'\n",
    "        i.loc[i['race'] == 4,'race'] = 'middle eastern or south asian'\n",
    "        i.loc[i['race'] == 5,'race'] = 'native american'\n",
    "        i.loc[i['race'] == 6,'race'] = 'pacific islander'\n",
    "        i.loc[i['race'] == 7,'race'] = 'white'\n",
    "    except: \n",
    "        print('race switch failed')\n",
    "        pass\n",
    "    \n",
    "    try: #mixed list type 1\n",
    "        mixed_list = []\n",
    "        for check in i['race']:\n",
    "            if len(check.split(','))>1:\n",
    "                mixed_list.append('mixed')\n",
    "            else: \n",
    "                mixed_list.append(check)\n",
    "        i['race'] = mixed_list\n",
    "        i['race'] = i['race'].str.lower()\n",
    "    except:\n",
    "        try: #mixed list type 2\n",
    "            mixed_list = []\n",
    "            for check in i['race']:\n",
    "                if len(check.split('or'))>1:\n",
    "                    mixed_list.append(check.split('or')[0].replace(' ',''))\n",
    "                else: \n",
    "                    mixed_list.append(check)\n",
    "            i['race'] = mixed_list\n",
    "            i['race'] = i['race'].str.lower()\n",
    "        except:    \n",
    "            print('no mixed race changes')\n",
    "            pass\n",
    "\n",
    "    \n",
    "#     try:\n",
    "#         i['Date'] = pd.to_datetime(i['Date'])\n",
    "#         i['Time'] = i['Date'].dt.time\n",
    "#     except: \n",
    "#         print('no time changes')\n",
    "#         i['Time'] = i['Date'].dt.time\n",
    "#         pass\n",
    "\n",
    "    \n",
    "    try: \n",
    "        i = i.drop_duplicates(subset=['stop_id'], keep='first')\n",
    "    except: \n",
    "        print('no dropped pid dupes')\n",
    "        pass\n",
    "\n",
    "    output_df = i[['date', 'time','Duration','Experience','PID','race', 'sex','age','type',\n",
    "                   'reason', 'actions taken', 'search basis','property seized', \n",
    "                   'result']]\n",
    "    \n",
    "    \n",
    "    return output_df\n",
    "\n",
    "\n",
    "import glob\n",
    "path = os.getcwd()\n",
    "files = glob.glob(path + \"/*.csv\")\n",
    "\n",
    "SDPD = convert_simplify_SD(sdpd)\n",
    "\n",
    "SDPD.to_csv('ALL-SDPD-AB953.csv',index=False)\n",
    "print('works!')"
   ]
  },
  {
   "cell_type": "markdown",
   "id": "17ae5dda",
   "metadata": {},
   "source": [
    "## SFPD"
   ]
  },
  {
   "cell_type": "code",
   "execution_count": 168,
   "id": "6bbfe2b6",
   "metadata": {},
   "outputs": [],
   "source": [
    "import pandas as pd\n",
    "import numpy as np\n",
    "import os\n",
    "import glob\n",
    "import time"
   ]
  },
  {
   "cell_type": "code",
   "execution_count": 169,
   "id": "668cad8d",
   "metadata": {},
   "outputs": [
    {
     "name": "stdout",
     "output_type": "stream",
     "text": [
      "/Users/karatechop\n"
     ]
    }
   ],
   "source": [
    "cd"
   ]
  },
  {
   "cell_type": "code",
   "execution_count": 170,
   "id": "a51399ec",
   "metadata": {},
   "outputs": [
    {
     "name": "stdout",
     "output_type": "stream",
     "text": [
      "/Users/karatechop/Documents/GitHub/senior-thesis-pretextual-stops/Data/RIPA-DATA-CA-as-of-2022 (CSV)/Wave 1/SFPD SDCS (Stop Data Collection System data) \n"
     ]
    }
   ],
   "source": [
    "cd Documents/GitHub/senior-thesis-pretextual-stops/Data/RIPA-DATA-CA-as-of-2022\\ \\(CSV\\)/Wave 1/SFPD\\ SDCS\\ \\(Stop\\ Data\\ Collection\\ System\\ data\\)\\ "
   ]
  },
  {
   "cell_type": "code",
   "execution_count": 171,
   "id": "f6c70d87",
   "metadata": {},
   "outputs": [
    {
     "name": "stdout",
     "output_type": "stream",
     "text": [
      "ALL-LAPD-AB953.csv  SFPD_SDCS_2018.csv  SFPD_SDCS_2020.csv  \u001b[34moriginal\u001b[m\u001b[m/\r\n",
      "ALL-SFPD-AB953.csv  SFPD_SDCS_2019.csv  SFPD_SDCS_2021.csv\r\n"
     ]
    }
   ],
   "source": [
    "ls"
   ]
  },
  {
   "cell_type": "code",
   "execution_count": 172,
   "id": "6b8462d8",
   "metadata": {
    "scrolled": true
   },
   "outputs": [
    {
     "name": "stderr",
     "output_type": "stream",
     "text": [
      "/var/folders/td/yc8lq2qx2ks3ck292tbf6wtm0000gn/T/ipykernel_15018/1833817849.py:1: DtypeWarning: Columns (18,31,44) have mixed types. Specify dtype option on import or set low_memory=False.\n",
      "  sf18 = pd.read_csv('SFPD_SDCS_2018.csv')\n"
     ]
    },
    {
     "data": {
      "text/plain": [
       "(53501, 47)"
      ]
     },
     "execution_count": 172,
     "metadata": {},
     "output_type": "execute_result"
    }
   ],
   "source": [
    "sf18 = pd.read_csv('SFPD_SDCS_2018.csv')\n",
    "sf18.shape"
   ]
  },
  {
   "cell_type": "code",
   "execution_count": 128,
   "id": "f7d10b83",
   "metadata": {},
   "outputs": [],
   "source": [
    "# sf18['Traffic Violation Type'].value_counts()"
   ]
  },
  {
   "cell_type": "code",
   "execution_count": 173,
   "id": "49e96ea2",
   "metadata": {},
   "outputs": [
    {
     "data": {
      "text/plain": [
       "Index(['DOJ Record ID', 'Stop Data Record Status', 'LEA Record ID',\n",
       "       'Agency ORI', 'LEA Batch ID', 'Transaction Type', 'NFIA Flag',\n",
       "       'Date of Stop', 'Time of Stop', 'Duration of Stop',\n",
       "       'Is Stop Made in Response to Call for Service',\n",
       "       'Officer Years of Experience', 'Officer Type of Assignment',\n",
       "       'Other Assignment Type', 'Proxy Login', 'Location', 'City',\n",
       "       'Is Location a K-12 Public School', 'K-12 School Code', 'Person Number',\n",
       "       'Perceived Race or Ethnicity', 'Perceived Gender 1-4',\n",
       "       'Perceived Gender 5 - Gender Nonconforming', 'Is LGBT', 'Perceived Age',\n",
       "       'Person had Limited or No English Fluency',\n",
       "       'Perceived or Known Disability', 'If K-12 School, Is Stop of a Student',\n",
       "       'Reason for Stop', 'Reason for Stop Narrative',\n",
       "       'Traffic Violation Type', 'Traffic Violation - CJIS Offense Code',\n",
       "       'Education Code section', 'Education Code Subdivision',\n",
       "       'Suspicion CJIS Offense Code', 'Suspicion Sub-Type', 'Actions Taken',\n",
       "       'Basis for Search', 'Basis for Search Narrative',\n",
       "       'Basis for Property Seizure', 'Type of Property Seized',\n",
       "       'Contraband or Evidence', 'Results of Stop',\n",
       "       'Warning CJIS Offense Code(s)', 'Citation CJIS Offense Code(s)',\n",
       "       'In-field cite and release CJIS Offense Code(s)',\n",
       "       'Custodial arrest CJIS Offense Code(s)'],\n",
       "      dtype='object')"
      ]
     },
     "execution_count": 173,
     "metadata": {},
     "output_type": "execute_result"
    }
   ],
   "source": [
    "sf18.columns"
   ]
  },
  {
   "cell_type": "code",
   "execution_count": 174,
   "id": "df8f17a4",
   "metadata": {
    "scrolled": false
   },
   "outputs": [
    {
     "name": "stderr",
     "output_type": "stream",
     "text": [
      "/var/folders/td/yc8lq2qx2ks3ck292tbf6wtm0000gn/T/ipykernel_15018/1118551652.py:102: DtypeWarning: Columns (18,31,44) have mixed types. Specify dtype option on import or set low_memory=False.\n",
      "  df = convert_simplify_SF(pd.read_csv(i))\n"
     ]
    },
    {
     "name": "stdout",
     "output_type": "stream",
     "text": [
      "no dropped pid dupes\n",
      "no dropped pid dupes\n",
      "sf2018 was (31125, 16)\n",
      "sf2018 is merged! SFPD shape is now (31129, 16)\n"
     ]
    },
    {
     "name": "stderr",
     "output_type": "stream",
     "text": [
      "/var/folders/td/yc8lq2qx2ks3ck292tbf6wtm0000gn/T/ipykernel_15018/1118551652.py:102: DtypeWarning: Columns (18,31) have mixed types. Specify dtype option on import or set low_memory=False.\n",
      "  df = convert_simplify_SF(pd.read_csv(i))\n"
     ]
    },
    {
     "name": "stdout",
     "output_type": "stream",
     "text": [
      "no dropped pid dupes\n",
      "sf2019 was (63096, 16)\n",
      "sf2019 is merged! SFPD shape is now (94225, 16)\n",
      "no dropped pid dupes\n",
      "sf2020 was (16055, 16)\n",
      "sf2020 is merged! SFPD shape is now (110280, 16)\n"
     ]
    },
    {
     "name": "stderr",
     "output_type": "stream",
     "text": [
      "/var/folders/td/yc8lq2qx2ks3ck292tbf6wtm0000gn/T/ipykernel_15018/1118551652.py:102: DtypeWarning: Columns (13,17,18,26,42,44,51,53,55,57,64,66,79,81,83,85,92,94,107,109,111,113,120,122,135,137,139,141,148,150,163,165,167,169,176,178,191,193,195,197,204,206,219,221,223,225,232,234,247,249,251,253,260,262,275,277,279,281,288,290,294,303,305,307,309,316,318,331,333,335,337,344,346,359,361,363,365,372,374,378,387,389,391,393,400,402,406,415,417,419,421,428,430,434,443,445,447,449,456,458,471,473,475,477,484,486,490,499,501,503,505,512,527,529,531,533,540,555,557,559,561,568,570,574,583,585,587,589,596,598,602,611,613,615,617,624,626,630) have mixed types. Specify dtype option on import or set low_memory=False.\n",
      "  df = convert_simplify_SF(pd.read_csv(i))\n"
     ]
    },
    {
     "name": "stdout",
     "output_type": "stream",
     "text": [
      "no dropped pid dupes\n",
      "sf2021 was (20697, 16)\n",
      "sf2021 is merged! SFPD shape is now (130977, 16)\n",
      "SFPD saved!\n"
     ]
    }
   ],
   "source": [
    "def convert_simplify_SF(df):\n",
    "    i = df\n",
    "    i = i.rename(columns={'Date of Stop':'date',\n",
    "                          'Time of Stop':'time',\n",
    "                          'Duration of Stop':'Duration',\n",
    "                          'Officer Years of Experience':'Experience',\n",
    "                          'Person Number':'PID',\n",
    "                          'Perceived Race or Ethnicity':'race',\n",
    "                          'Perceived Gender 1-4':'sex',\n",
    "                          'Perceived Age':'age',\n",
    "                          'Traffic Violation Type':'type',\n",
    "                          'Reason for Stop':'reason',\n",
    "                          'Suspicion Sub-Type':'basis',\n",
    "                          'Actions Taken':'actions taken',\n",
    "                          'Basis for Search':'search basis',\n",
    "                          'Basis for Property Seizure':'seizure basis',\n",
    "#                           'Basis for Property Seizure':'',\n",
    "                          'Contraband or Evidence':'property seized',\n",
    "                          'Results of Stop':'result'})\n",
    "\n",
    "    i = i[(i['Is Stop Made in Response to Call for Service']!='Y')\\\n",
    "#           & ((i['type']==1) | (i['type']==2))\\\n",
    "          &  (i['reason']==1)\\\n",
    "          &  (i['Is Location a K-12 Public School']!='Y')]\n",
    "\n",
    "    i.loc[i['type'] == 1,'type'] = '1 Moving'\n",
    "    i.loc[i['type'] == 2,'type'] = '2 Equipment'\n",
    "    i.loc[i['type'] == 3,'type'] = '3 Non-Moving'\n",
    "\n",
    "    try:     \n",
    "        i.loc[i['race'] == '1','race'] = 'asian'\n",
    "        i.loc[i['race'] == '2','race'] = 'black/african american'\n",
    "        i.loc[i['race'] == '3','race'] = 'hispanic/latino(a)'\n",
    "        i.loc[i['race'] == '4','race'] = 'middle eastern or south asian'\n",
    "        i.loc[i['race'] == '5','race'] = 'native american'\n",
    "        i.loc[i['race'] == '6','race'] = 'pacific islander'\n",
    "        i.loc[i['race'] == '7','race'] = 'white'\n",
    "        i.loc[i['race'] == 1,'race'] = 'asian'\n",
    "        i.loc[i['race'] == 2,'race'] = 'black/african american'\n",
    "        i.loc[i['race'] == 3,'race'] = 'hispanic/latino(a)'\n",
    "        i.loc[i['race'] == 4,'race'] = 'middle eastern or south asian'\n",
    "        i.loc[i['race'] == 5,'race'] = 'native american'\n",
    "        i.loc[i['race'] == 6,'race'] = 'pacific islander'\n",
    "        i.loc[i['race'] == 7,'race'] = 'white'\n",
    "    except: \n",
    "        print('race switch failed')\n",
    "        pass\n",
    "    \n",
    "    try: #mixed list type 1\n",
    "        mixed_list = []\n",
    "        for check in i['race']:\n",
    "            if len(check.split(','))>1:\n",
    "                mixed_list.append('mixed')\n",
    "            else: \n",
    "                mixed_list.append(check)\n",
    "        i['race'] = mixed_list\n",
    "        i['race'] = i['race'].str.lower()\n",
    "    except:\n",
    "        try: #mixed list type 2\n",
    "            mixed_list = []\n",
    "            for check in i['race']:\n",
    "                if len(check.split('or'))>1:\n",
    "                    mixed_list.append(check.split('or')[0].replace(' ',''))\n",
    "                else: \n",
    "                    mixed_list.append(check)\n",
    "            i['race'] = mixed_list\n",
    "            i['race'] = i['race'].str.lower()\n",
    "        except:    \n",
    "            print('no mixed race changes')\n",
    "            pass\n",
    "\n",
    "    \n",
    "#     try:\n",
    "#         i['Date'] = pd.to_datetime(i['Date'])\n",
    "#         i['Time'] = i['Date'].dt.time\n",
    "#     except: \n",
    "#         print('no time changes')\n",
    "#         i['Time'] = i['Date'].dt.time\n",
    "#         pass\n",
    "\n",
    "    \n",
    "    try: \n",
    "        i = i.drop_duplicates(subset=['stop_id'], keep='first')\n",
    "    except: \n",
    "        print('no dropped pid dupes')\n",
    "        pass\n",
    "\n",
    "    output_df = i[['date', 'time','Duration','Experience','PID','race', 'sex','age','type',\n",
    "                   'reason','basis', 'actions taken', 'search basis', 'seizure basis','property seized', \n",
    "                   'result']]\n",
    "    \n",
    "    \n",
    "    return output_df\n",
    "\n",
    "\n",
    "path = os.getcwd()\n",
    "files = glob.glob(path + \"/*.csv\")\n",
    "year = 2018\n",
    "\n",
    "for i in files:  \n",
    "    if 'AB953' not in i:\n",
    "        df = convert_simplify_SF(pd.read_csv(i))\n",
    "\n",
    "        if year == 2018:\n",
    "            SFPD = pd.merge(convert_simplify_SF(sf18),df,how='outer')\n",
    "        else:\n",
    "            SFPD = pd.merge(SFPD,df,how='outer')\n",
    "\n",
    "        print(f'sf{year} was {df.shape}')\n",
    "        print(f'sf{year} is merged! SFPD shape is now {SFPD.shape}')\n",
    "        year+=1\n",
    "SFPD.to_csv('ALL-SFPD-AB953.csv',index=False)\n",
    "print('SFPD saved!')"
   ]
  },
  {
   "cell_type": "code",
   "execution_count": null,
   "id": "d5288040",
   "metadata": {},
   "outputs": [],
   "source": []
  },
  {
   "cell_type": "code",
   "execution_count": null,
   "id": "4feda167",
   "metadata": {},
   "outputs": [],
   "source": []
  }
 ],
 "metadata": {
  "kernelspec": {
   "display_name": "Python 3 (ipykernel)",
   "language": "python",
   "name": "python3"
  },
  "language_info": {
   "codemirror_mode": {
    "name": "ipython",
    "version": 3
   },
   "file_extension": ".py",
   "mimetype": "text/x-python",
   "name": "python",
   "nbconvert_exporter": "python",
   "pygments_lexer": "ipython3",
   "version": "3.9.12"
  }
 },
 "nbformat": 4,
 "nbformat_minor": 5
}
