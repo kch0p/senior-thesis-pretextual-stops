{
 "cells": [
  {
   "cell_type": "code",
   "execution_count": 2,
   "id": "0a3972a3",
   "metadata": {},
   "outputs": [
    {
     "name": "stdout",
     "output_type": "stream",
     "text": [
      "\n",
      " API queries_quota: 60 \n",
      "\n"
     ]
    }
   ],
   "source": [
    "import pandas as pd\n",
    "import numpy as np\n",
    "\n",
    "from time import time\n",
    "from string import digits\n",
    "import random\n",
    "import threading\n",
    "\n",
    "from geopy import Point\n",
    "from geopy import Nominatim\n",
    "from postal.parser import parse_address\n",
    "from postal.expand import expand_address\n",
    "import googlemaps\n",
    "import warnings\n",
    "# from googlemaps_api_key import key \n",
    "\n",
    "# key = key.replace('†','')\n",
    "gmaps = googlemaps.Client(key=key)\n",
    "# https://console.cloud.google.com/apis/credentials?project=la-api-key"
   ]
  },
  {
   "cell_type": "code",
   "execution_count": 3,
   "id": "b9d8ad14",
   "metadata": {},
   "outputs": [
    {
     "name": "stdout",
     "output_type": "stream",
     "text": [
      "/Users/karatechop\n"
     ]
    }
   ],
   "source": [
    "cd "
   ]
  },
  {
   "cell_type": "code",
   "execution_count": 4,
   "id": "84bac6e3",
   "metadata": {},
   "outputs": [
    {
     "name": "stdout",
     "output_type": "stream",
     "text": [
      "/Users/karatechop/Documents/GitHub/senior-thesis-pretextual-stops/Data/Formatted with YOE\n"
     ]
    }
   ],
   "source": [
    "cd /Users/karatechop/Documents/GitHub/senior-thesis-pretextual-stops/Data/Formatted with YOE"
   ]
  },
  {
   "cell_type": "code",
   "execution_count": 4,
   "id": "71670e44",
   "metadata": {},
   "outputs": [
    {
     "name": "stdout",
     "output_type": "stream",
     "text": [
      "ALL-BPD-AB953-DUSK-LOC.csv  ALL-OAKLAND_PD-AB953.csv\r\n",
      "ALL-BPD-AB953-DUSK.csv      ALL-SDPD-AB953-DUSK.csv\r\n",
      "ALL-BPD-AB953.csv           ALL-SDPD-AB953.csv\r\n",
      "ALL-MARIN-AB953-DUSK.csv    ALL-SFPD-AB953-DUSK.csv\r\n",
      "ALL-MARIN-AB953.csv         ALL-SFPD-AB953.csv\r\n",
      "ALL-OAKLAND-AB953-DUSK.csv  sf_zips.csv\r\n"
     ]
    }
   ],
   "source": [
    "ls"
   ]
  },
  {
   "cell_type": "raw",
   "id": "920e56b1",
   "metadata": {},
   "source": [
    "SFPD: 26k unique intersections, 67k stops\n",
    "SDPD: 126 beats, 105K stops\n",
    "OAK: 58 beats, 7.5k stops\n",
    "BPD: 2800 coordinate pairs 2.9k stops\n",
    "MARIN: 2200 similar addresses, 2.8k stops"
   ]
  },
  {
   "cell_type": "markdown",
   "id": "9fbaed6c",
   "metadata": {},
   "source": [
    "## Function Setup"
   ]
  },
  {
   "cell_type": "code",
   "execution_count": 5,
   "id": "daea5a86",
   "metadata": {},
   "outputs": [],
   "source": [
    "# def find_lat_lon_GMV3_debuggARR(city,address):\n",
    "#     bounds = gmaps.geocode(city)[0]['geometry']['bounds']\n",
    "    \n",
    "#     if address != None: \n",
    "#         try:\n",
    "#             return gmaps.geocode(address,bounds=bounds)\n",
    "\n",
    "#         except:\n",
    "#             print(f'Google maps failed for {address}')\n",
    "          \n",
    "#             pass"
   ]
  },
  {
   "cell_type": "code",
   "execution_count": 8,
   "id": "49e9c055",
   "metadata": {},
   "outputs": [],
   "source": [
    "def find_lat_lon_GMV3(city,df,location_col='location'):\n",
    "    df['neighborhood'],df['zip'],df['coords'] = None,None,None\n",
    "    gmv3_total_start = time()\n",
    "    counter = 0\n",
    "    \n",
    "    global failed_addresses, failed_counter\n",
    "    failed_addresses = []\n",
    "    failed_counter = 0\n",
    "    \n",
    "    bounds = gmaps.geocode(city)[0]['geometry']['bounds']\n",
    "    \n",
    "    for address in df[location_col].unique(): \n",
    "        if address != None and 'freeway' not in address: \n",
    "            try:\n",
    "                result = gmaps.geocode(address,bounds=bounds)\n",
    "                \n",
    "                df.loc[df[location_col]==address,'gmap address'] = result[0]['formatted_address']\n",
    "                df.loc[df[location_col]==address,'neighborhood'] = result[0]['address_components'][1]['long_name']\n",
    "                df.loc[df[location_col]==address,'zip'] = result[0]['address_components'][-1]['long_name']\n",
    "                df.loc[df[location_col]==address,'coords'] = str(result[0]['geometry']['location']['lat']) + ', ' +\\\n",
    "                                                             str(result[0]['geometry']['location']['lng'])\n",
    "            \n",
    "            except:\n",
    "#                 print(f'Google maps failed for {address}')\n",
    "                \n",
    "                failed_addresses.append(address)\n",
    "                failed_counter+=1\n",
    "                \n",
    "                pass\n",
    "        \n",
    "        counter+=1\n",
    "        if counter%500==0:\n",
    "            time_passed = round((time()-gmv3_total_start)/60,2)\n",
    "            print(f'Counter is at {counter} for {city}. {time_passed} minutes have passed.')"
   ]
  },
  {
   "cell_type": "markdown",
   "id": "29a0a5e8",
   "metadata": {},
   "source": [
    "## WAVE 1"
   ]
  },
  {
   "cell_type": "code",
   "execution_count": 7,
   "id": "3940fb23",
   "metadata": {},
   "outputs": [
    {
     "data": {
      "text/plain": [
       "(24107, 14)"
      ]
     },
     "execution_count": 7,
     "metadata": {},
     "output_type": "execute_result"
    }
   ],
   "source": [
    "SFPD = pd.read_csv('ALL-SFPD-AB953-DUSK.csv')\n",
    "SFPD = SFPD[SFPD['itp']==1]\n",
    "\n",
    "SFPD.shape"
   ]
  },
  {
   "cell_type": "code",
   "execution_count": 8,
   "id": "864e2027",
   "metadata": {},
   "outputs": [
    {
     "name": "stderr",
     "output_type": "stream",
     "text": [
      "/var/folders/td/yc8lq2qx2ks3ck292tbf6wtm0000gn/T/ipykernel_11576/3011667247.py:22: FutureWarning: The default value of regex will change from True to False in a future version.\n",
      "  SFPD['location'] = SFPD['location'].str.replace(' st. ',' street ')\n"
     ]
    }
   ],
   "source": [
    "SFPD = SFPD.sort_values(by='location')\n",
    "SFPD['location'] = SFPD['location'].str.lower()\n",
    "\n",
    "SFPD.loc[(SFPD['location'].str.contains('upper')) |\\\n",
    "                   (SFPD['location'].str.contains('lower')) |\\\n",
    "                   (SFPD['location'].str.contains('sfia')) |\\\n",
    "                   (SFPD['location'].str.contains('terminal')) |\\\n",
    "                   (SFPD['location'].str.contains('sfo')), 'location'] = 'SFO'\n",
    "\n",
    "SFPD.loc[(SFPD['location'].str.contains('nb')) |\\\n",
    "                   (SFPD['location'].str.contains('northbound')) |\\\n",
    "                   (SFPD['location'].str.contains('sb')) |\\\n",
    "                   (SFPD['location'].str.contains('southbound')) |\\\n",
    "                   (SFPD['location'].str.contains('101')) |\\\n",
    "                   (SFPD['location'].str.contains('ramp')), 'location'] = 'hwy 101'\n",
    "\n",
    "SFPD['location'] = SFPD['location'].str.replace('/',' & ')\n",
    "SFPD['location'] = SFPD['location'].str.replace(' / ',' & ')\n",
    "SFPD['location'] = SFPD['location'].str.replace('/ ',' & ')\n",
    "SFPD['location'] = SFPD['location'].str.replace(' @ ',' & ')\n",
    "SFPD['location'] = SFPD['location'].str.replace(' and ',' & ')\n",
    "SFPD['location'] = SFPD['location'].str.replace(' st. ',' street ')\n",
    "SFPD['location'] = SFPD['location'].str.replace(' st ',' street ')\n",
    "\n",
    "\n",
    "\n",
    "SFPD['location'] = SFPD['location'].str.replace('block of',' ')\n",
    "SFPD['location'] = SFPD['location'].str.replace(' of ','')\n",
    "SFPD['location'] = SFPD['location'].str.replace('blk',' ')\n",
    "SFPD['location'] = SFPD['location'].str.replace('block',' ')\n",
    "SFPD['location'] = SFPD['location'].str.replace('0-100','0')\n",
    "SFPD['location'] = SFPD['location'].str.replace('0-99','0')\n",
    "\n",
    "\n",
    "SFPD['location'] = SFPD['location'].str.replace('01st','1st')\n",
    "SFPD['location'] = SFPD['location'].str.replace('02nd','2nd')\n",
    "SFPD['location'] = SFPD['location'].str.replace('03rd','3rd')\n",
    "SFPD['location'] = SFPD['location'].str.replace('04th','4th')\n",
    "SFPD['location'] = SFPD['location'].str.replace('05th','5th')\n",
    "SFPD['location'] = SFPD['location'].str.replace('06th','6th')\n",
    "SFPD['location'] = SFPD['location'].str.replace('07th','7th')\n",
    "SFPD['location'] = SFPD['location'].str.replace('08th','8th')\n",
    "SFPD['location'] = SFPD['location'].str.replace('09th','9th')"
   ]
  },
  {
   "cell_type": "code",
   "execution_count": 10,
   "id": "5e0404a3",
   "metadata": {},
   "outputs": [
    {
     "data": {
      "text/plain": [
       "10660"
      ]
     },
     "execution_count": 10,
     "metadata": {},
     "output_type": "execute_result"
    }
   ],
   "source": [
    "len(SFPD['location'].unique())"
   ]
  },
  {
   "cell_type": "code",
   "execution_count": 17,
   "id": "492bc7ef",
   "metadata": {
    "scrolled": false
   },
   "outputs": [
    {
     "name": "stdout",
     "output_type": "stream",
     "text": [
      "Counter is at 500 for SAN FRANCISCO. 0.88 minutes have passed.\n",
      "Counter is at 500 for SAN FRANCISCO. 0.93 minutes have passed.\n",
      "Counter is at 500 for SAN FRANCISCO. 0.95 minutes have passed.\n",
      "Counter is at 1000 for SAN FRANCISCO. 1.76 minutes have passed.\n",
      "Counter is at 1000 for SAN FRANCISCO. 1.82 minutes have passed.\n",
      "Counter is at 1000 for SAN FRANCISCO. 1.93 minutes have passed.\n",
      "Counter is at 1500 for SAN FRANCISCO. 2.75 minutes have passed.\n",
      "Counter is at 1500 for SAN FRANCISCO. 2.82 minutes have passed.\n",
      "Counter is at 1500 for SAN FRANCISCO. 2.91 minutes have passed.\n",
      "Counter is at 2000 for SAN FRANCISCO. 3.72 minutes have passed.\n",
      "Counter is at 2000 for SAN FRANCISCO. 3.8 minutes have passed.\n",
      "Counter is at 2000 for SAN FRANCISCO. 3.89 minutes have passed.\n",
      "Counter is at 2500 for SAN FRANCISCO. 4.72 minutes have passed.\n",
      "Counter is at 2500 for SAN FRANCISCO. 4.83 minutes have passed.\n",
      "Counter is at 2500 for SAN FRANCISCO. 4.92 minutes have passed.\n",
      "Counter is at 3000 for SAN FRANCISCO. 5.75 minutes have passed.\n",
      "Counter is at 3000 for SAN FRANCISCO. 5.89 minutes have passed.\n",
      "Counter is at 3000 for SAN FRANCISCO. 5.99 minutes have passed.\n",
      "Counter is at 3500 for SAN FRANCISCO. 6.96 minutes have passed.\n",
      "\n",
      "\n",
      "\\All threads are done!\n",
      "\n",
      "\n"
     ]
    }
   ],
   "source": [
    "warnings.filterwarnings(\"ignore\") \n",
    "\n",
    "SFPD1 = SFPD.iloc[:int(SFPD.shape[0]/3),:]\n",
    "SFPD2 = SFPD.iloc[int(SFPD.shape[0]/3):int(SFPD.shape[0]/3)*2,:]\n",
    "SFPD3 = SFPD.iloc[int(SFPD.shape[0]/3)*2:,:]\n",
    "\n",
    "\n",
    "if __name__ ==\"__main__\":\n",
    "    t1 = threading.Thread(target=find_lat_lon_GMV3,args=('SAN FRANCISCO',SFPD1))\n",
    "    t2 = threading.Thread(target=find_lat_lon_GMV3,args=('SAN FRANCISCO',SFPD2))\n",
    "    t3 = threading.Thread(target=find_lat_lon_GMV3,args=('SAN FRANCISCO',SFPD3))\n",
    "    \n",
    "    t1.start()\n",
    "    t2.start()\n",
    "    t3.start()\n",
    " \n",
    "    t1.join()\n",
    "    t2.join()\n",
    "    t3.join()\n",
    " \n",
    "    # both threads completely executed\n",
    "    print(\"\\n\\n\\All threads are done!\\n\\n\")"
   ]
  },
  {
   "cell_type": "code",
   "execution_count": 18,
   "id": "a21eb440",
   "metadata": {},
   "outputs": [
    {
     "data": {
      "text/plain": [
       "(24107, 18)"
      ]
     },
     "execution_count": 18,
     "metadata": {},
     "output_type": "execute_result"
    }
   ],
   "source": [
    "SFPD_lat_lon = pd.concat([SFPD1,SFPD2,SFPD3])\n",
    "SFPD_lat_lon.shape"
   ]
  },
  {
   "cell_type": "code",
   "execution_count": 19,
   "id": "db5fb176",
   "metadata": {},
   "outputs": [
    {
     "data": {
      "text/plain": [
       "(21324, 18)"
      ]
     },
     "execution_count": 19,
     "metadata": {},
     "output_type": "execute_result"
    }
   ],
   "source": [
    "zips = pd.read_csv('sf_zips.csv')\n",
    "zips['ZIP Code'] = zips['ZIP Code'].str[-5:]\n",
    "sf_zips = [i for i in zips['ZIP Code']]\n",
    "\n",
    "SFPD_lat_lon.loc[(SFPD_lat_lon['zip'].str.len()<5) |\n",
    "                 (SFPD_lat_lon['zip'].str.len()>5) |\n",
    "                 (SFPD_lat_lon['zip'].str[0]!='9'),'zip'] = SFPD_lat_lon['gmap address'].str[-10:-5]\n",
    "\n",
    "SFPD_lat_lon = SFPD_lat_lon[SFPD_lat_lon['zip'].str[0]=='9']\n",
    "SFPD_lat_lon = SFPD_lat_lon[SFPD_lat_lon['zip'].isin(sf_zips)]\n",
    "SFPD_lat_lon.shape"
   ]
  },
  {
   "cell_type": "code",
   "execution_count": null,
   "id": "c2d457f5",
   "metadata": {},
   "outputs": [],
   "source": [
    "# SFPD_lat_lon['zip'].value_counts().rename_axis('location').reset_index(name='count')"
   ]
  },
  {
   "cell_type": "code",
   "execution_count": 20,
   "id": "9e5ece44",
   "metadata": {},
   "outputs": [],
   "source": [
    "SFPD_lat_lon.to_csv('ALL-SFPD-AB953-DUSK-LOC.csv',index=False)"
   ]
  },
  {
   "cell_type": "markdown",
   "id": "a54b4065",
   "metadata": {},
   "source": [
    "## WAVES 2-4"
   ]
  },
  {
   "cell_type": "code",
   "execution_count": 22,
   "id": "46a539b2",
   "metadata": {},
   "outputs": [
    {
     "data": {
      "text/plain": [
       "(1090, 14)"
      ]
     },
     "execution_count": 22,
     "metadata": {},
     "output_type": "execute_result"
    }
   ],
   "source": [
    "BPD = pd.read_csv('ALL-BPD-AB953-DUSK.csv')\n",
    "BPD = BPD[BPD['itp']==1]\n",
    "BPD.shape"
   ]
  },
  {
   "cell_type": "code",
   "execution_count": 23,
   "id": "53afe8a1",
   "metadata": {},
   "outputs": [],
   "source": [
    "BPD = BPD.sort_values(by='location')\n",
    "BPD['location'] = BPD['location'].str.lower()\n",
    "\n",
    "\n",
    "BPD['location'] = BPD['location'].str.replace('/',' & ')\n",
    "BPD['location'] = BPD['location'].str.replace(' / ',' & ')\n",
    "BPD['location'] = BPD['location'].str.replace('/ ',' & ')\n",
    "BPD['location'] = BPD['location'].str.replace(' @ ',' & ')\n",
    "BPD['location'] = BPD['location'].str.replace(' and ',' & ')\n",
    "BPD['location'] = BPD['location'].str.replace(' st.',' street ')\n",
    "\n",
    "BPD['location'] = BPD['location'].str.replace('block of','')\n",
    "BPD['location'] = BPD['location'].str.replace(' of ','')\n"
   ]
  },
  {
   "cell_type": "code",
   "execution_count": 24,
   "id": "a7d93d22",
   "metadata": {
    "scrolled": false
   },
   "outputs": [
    {
     "name": "stdout",
     "output_type": "stream",
     "text": [
      "\n",
      "\n",
      "\\All threads are done!\n",
      "\n",
      "\n"
     ]
    },
    {
     "data": {
      "text/plain": [
       "(1090, 18)"
      ]
     },
     "execution_count": 24,
     "metadata": {},
     "output_type": "execute_result"
    }
   ],
   "source": [
    "warnings.filterwarnings(\"ignore\") \n",
    "\n",
    "BPD1 = BPD.iloc[:int(BPD.shape[0]/4),:]\n",
    "BPD2 = BPD.iloc[int(BPD.shape[0]/4):int(BPD.shape[0]/4)*2,:]\n",
    "BPD3 = BPD.iloc[int(BPD.shape[0]/4)*2:int(BPD.shape[0]/4)*3,:]\n",
    "BPD4 = BPD.iloc[int(BPD.shape[0]/4)*3:,:]\n",
    "\n",
    "if __name__ ==\"__main__\":\n",
    "    t1 = threading.Thread(target=find_lat_lon_GMV3,args=('BERKELEY, CA',BPD1))\n",
    "    t2 = threading.Thread(target=find_lat_lon_GMV3,args=('BERKELEY, CA',BPD2))\n",
    "    t3 = threading.Thread(target=find_lat_lon_GMV3,args=('BERKELEY, CA',BPD3))\n",
    "    t4 = threading.Thread(target=find_lat_lon_GMV3,args=('BERKELEY, CA',BPD4))\n",
    "    \n",
    "    t1.start()\n",
    "    t2.start()\n",
    "    t3.start()\n",
    "    t4.start()\n",
    " \n",
    "    t1.join()\n",
    "    t2.join()\n",
    "    t3.join()\n",
    "    t4.join()\n",
    " \n",
    "    # both threads completely executed\n",
    "    print(\"\\n\\n\\All threads are done!\\n\\n\")\n",
    "    \n",
    "BPD_lat_lon = pd.concat([BPD1,BPD2,BPD3,BPD4])\n",
    "BPD_lat_lon.shape"
   ]
  },
  {
   "cell_type": "code",
   "execution_count": 39,
   "id": "32875ea8",
   "metadata": {},
   "outputs": [
    {
     "data": {
      "text/plain": [
       "(1059, 18)"
      ]
     },
     "execution_count": 39,
     "metadata": {},
     "output_type": "execute_result"
    }
   ],
   "source": [
    "BPD_lat_lon = BPD_lat_lon.dropna()\n",
    "BPD_lat_lon.shape"
   ]
  },
  {
   "cell_type": "code",
   "execution_count": 40,
   "id": "b8f23f49",
   "metadata": {},
   "outputs": [],
   "source": [
    "# berkeley_zips = ['94608','94702','94703','94704','94705','94706']"
   ]
  },
  {
   "cell_type": "code",
   "execution_count": 41,
   "id": "66306a03",
   "metadata": {},
   "outputs": [],
   "source": [
    "BPD_lat_lon.to_csv('ALL-BPD-AB953-DUSK-LOC.csv',index=False)"
   ]
  },
  {
   "cell_type": "code",
   "execution_count": null,
   "id": "fee3117b",
   "metadata": {},
   "outputs": [],
   "source": []
  },
  {
   "cell_type": "code",
   "execution_count": 5,
   "id": "1ca5146b",
   "metadata": {},
   "outputs": [
    {
     "data": {
      "text/plain": [
       "(795, 15)"
      ]
     },
     "execution_count": 5,
     "metadata": {},
     "output_type": "execute_result"
    }
   ],
   "source": [
    "MARIN = pd.read_csv('ALL-MARIN-AB953-DUSK.csv')\n",
    "MARIN = MARIN[MARIN['itp']==1]\n",
    "MARIN.shape"
   ]
  },
  {
   "cell_type": "code",
   "execution_count": 6,
   "id": "36d277ef",
   "metadata": {},
   "outputs": [
    {
     "name": "stderr",
     "output_type": "stream",
     "text": [
      "/var/folders/td/yc8lq2qx2ks3ck292tbf6wtm0000gn/T/ipykernel_39524/295272892.py:21: FutureWarning: The default value of regex will change from True to False in a future version.\n",
      "  MARIN['location'] = MARIN['location'].str.replace('n. ',' north ')\n"
     ]
    }
   ],
   "source": [
    "MARIN = MARIN.sort_values(by='location')\n",
    "MARIN['location'] = MARIN['location'].str.lower()\n",
    "\n",
    "MARIN.loc[(MARIN['location'].str.contains(' nb ')) |\\\n",
    "          (MARIN['location'].str.contains('northbound')) |\\\n",
    "          (MARIN['location'].str.contains(' sb ')) |\\\n",
    "          (MARIN['location'].str.contains(' eb ')) |\\\n",
    "          (MARIN['location'].str.contains(' wb ')) |\\\n",
    "          (MARIN['location'].str.contains('southbound')) |\\\n",
    "          (MARIN['location'].str.contains('ramp')) |\\\n",
    "          (MARIN['location'].str.contains('overpass')), 'location'] = 'CA-37'\n",
    "\n",
    "MARIN.loc[(MARIN['location'].str.contains('101')) |\\\n",
    "          (MARIN['location'].str.contains('hwy')) |\\\n",
    "          (MARIN['location'].str.contains('highway')), 'location'] = 'hwy 101'\n",
    "\n",
    "\n",
    "\n",
    "\n",
    "MARIN['location'] = MARIN['location'].str.replace(' n ',' north ')\n",
    "MARIN['location'] = MARIN['location'].str.replace('n. ',' north ')\n",
    "MARIN['location'] = MARIN['location'].str.replace(' e ',' east ')\n",
    "MARIN['location'] = MARIN['location'].str.replace(' s ',' south ')\n",
    "MARIN['location'] = MARIN['location'].str.replace(' w ',' west ')\n",
    "\n",
    "\n",
    "MARIN['location'] = MARIN['location'].str.replace('/',' & ')\n",
    "MARIN['location'] = MARIN['location'].str.replace(' / ',' & ')\n",
    "MARIN['location'] = MARIN['location'].str.replace('/ ',' & ')\n",
    "MARIN['location'] = MARIN['location'].str.replace('@',' & ')\n",
    "MARIN['location'] = MARIN['location'].str.replace(' and ',' & ')\n",
    "MARIN['location'] = MARIN['location'].str.replace(' st ',' street ')\n",
    "\n",
    "# MARIN['location'] = MARIN['location'].str.replace('block of','')\n",
    "MARIN['location'] = MARIN['location'].str.replace('blk','')\n",
    "# MARIN['location'] = MARIN['location'].str.replace(' of ','')\n",
    "\n",
    "MARIN['location'] = MARIN['location'].str.replace('\\xa0','')\n",
    "MARIN['location'] = MARIN['location'].str.replace('00uth',' south ')\n",
    "MARIN['location'] = MARIN['location'].str.replace('00r','')\n",
    "MARIN['location'] = MARIN['location'].str.replace('1 sr','marin')\n",
    "MARIN['location'] = MARIN['location'].str.replace('bridge a','')\n",
    "MARIN['location'] = MARIN['location'].str.replace('ander00n','anderson')\n",
    "MARIN['location'] = MARIN['location'].str.replace('wil00n','wilson')\n",
    "MARIN['location'] = MARIN['location'].str.replace('ander00n','anderson')"
   ]
  },
  {
   "cell_type": "code",
   "execution_count": 9,
   "id": "e797a860",
   "metadata": {
    "scrolled": true
   },
   "outputs": [
    {
     "name": "stdout",
     "output_type": "stream",
     "text": [
      "\n",
      "\n",
      "\\All threads are done!\n",
      "\n",
      "\n"
     ]
    },
    {
     "data": {
      "text/plain": [
       "(795, 19)"
      ]
     },
     "execution_count": 9,
     "metadata": {},
     "output_type": "execute_result"
    }
   ],
   "source": [
    "warnings.filterwarnings(\"ignore\") \n",
    "\n",
    "MARIN1 = MARIN.iloc[:int(MARIN.shape[0]/4),:]\n",
    "MARIN2 = MARIN.iloc[int(MARIN.shape[0]/4):int(MARIN.shape[0]/4)*2,:]\n",
    "MARIN3 = MARIN.iloc[int(MARIN.shape[0]/4)*2:int(MARIN.shape[0]/4)*3,:]\n",
    "MARIN4 = MARIN.iloc[int(MARIN.shape[0]/4)*3:,:]\n",
    "\n",
    "if __name__ ==\"__main__\":\n",
    "    t1 = threading.Thread(target=find_lat_lon_GMV3,args=('MARIN, CA',MARIN1))\n",
    "    t2 = threading.Thread(target=find_lat_lon_GMV3,args=('MARIN, CA',MARIN2))\n",
    "    t3 = threading.Thread(target=find_lat_lon_GMV3,args=('MARIN, CA',MARIN3))\n",
    "    t4 = threading.Thread(target=find_lat_lon_GMV3,args=('MARIN, CA',MARIN4))\n",
    "    \n",
    "    t1.start()\n",
    "    t2.start()\n",
    "    t3.start()\n",
    "    t4.start()\n",
    " \n",
    "    t1.join()\n",
    "    t2.join()\n",
    "    t3.join()\n",
    "    t4.join()\n",
    " \n",
    "    # both threads completely executed\n",
    "    print(\"\\n\\n\\All threads are done!\\n\\n\")\n",
    "    \n",
    "MARIN_lat_lon = pd.concat([MARIN1,MARIN2,MARIN3,MARIN4])\n",
    "MARIN_lat_lon.shape"
   ]
  },
  {
   "cell_type": "code",
   "execution_count": 13,
   "id": "f41f4058",
   "metadata": {
    "scrolled": true
   },
   "outputs": [
    {
     "data": {
      "text/html": [
       "<div>\n",
       "<style scoped>\n",
       "    .dataframe tbody tr th:only-of-type {\n",
       "        vertical-align: middle;\n",
       "    }\n",
       "\n",
       "    .dataframe tbody tr th {\n",
       "        vertical-align: top;\n",
       "    }\n",
       "\n",
       "    .dataframe thead th {\n",
       "        text-align: right;\n",
       "    }\n",
       "</style>\n",
       "<table border=\"1\" class=\"dataframe\">\n",
       "  <thead>\n",
       "    <tr style=\"text-align: right;\">\n",
       "      <th></th>\n",
       "      <th>date</th>\n",
       "      <th>time</th>\n",
       "      <th>race</th>\n",
       "      <th>type</th>\n",
       "      <th>race perceived prior</th>\n",
       "      <th>experience</th>\n",
       "      <th>location</th>\n",
       "      <th>sunsettime</th>\n",
       "      <th>dusktime</th>\n",
       "      <th>mins_sunset</th>\n",
       "      <th>mins_dusk</th>\n",
       "      <th>mins_stop_time</th>\n",
       "      <th>mins_before_dusk</th>\n",
       "      <th>itp</th>\n",
       "      <th>dark</th>\n",
       "      <th>neighborhood</th>\n",
       "      <th>zip</th>\n",
       "      <th>coords</th>\n",
       "      <th>gmap address</th>\n",
       "    </tr>\n",
       "  </thead>\n",
       "  <tbody>\n",
       "    <tr>\n",
       "      <th>1845</th>\n",
       "      <td>2021-11-09 20:06:00</td>\n",
       "      <td>1900-01-01 20:06:00</td>\n",
       "      <td>black/african american</td>\n",
       "      <td>2_Equipment violation</td>\n",
       "      <td>No</td>\n",
       "      <td>6.0</td>\n",
       "      <td>sfd  &amp;  laurel grove</td>\n",
       "      <td>17:03:14</td>\n",
       "      <td>17:31:33</td>\n",
       "      <td>1023.0</td>\n",
       "      <td>1052.0</td>\n",
       "      <td>1206.0</td>\n",
       "      <td>-154.0</td>\n",
       "      <td>1</td>\n",
       "      <td>1</td>\n",
       "      <td>None</td>\n",
       "      <td>None</td>\n",
       "      <td>None</td>\n",
       "      <td>NaN</td>\n",
       "    </tr>\n",
       "    <tr>\n",
       "      <th>910</th>\n",
       "      <td>2021-03-31 20:33:00</td>\n",
       "      <td>1900-01-01 20:33:00</td>\n",
       "      <td>white</td>\n",
       "      <td>2_Equipment violation</td>\n",
       "      <td>NaN</td>\n",
       "      <td>21.0</td>\n",
       "      <td>hwy 101</td>\n",
       "      <td>19:33:22</td>\n",
       "      <td>20:00:28</td>\n",
       "      <td>1173.0</td>\n",
       "      <td>1200.0</td>\n",
       "      <td>1233.0</td>\n",
       "      <td>-33.0</td>\n",
       "      <td>1</td>\n",
       "      <td>1</td>\n",
       "      <td>United States</td>\n",
       "      <td>United States</td>\n",
       "      <td>41.3632465, -123.9894411</td>\n",
       "      <td>US-101, United States</td>\n",
       "    </tr>\n",
       "    <tr>\n",
       "      <th>2019</th>\n",
       "      <td>2021-12-11 19:47:00</td>\n",
       "      <td>1900-01-01 19:47:00</td>\n",
       "      <td>white</td>\n",
       "      <td>2_Equipment violation</td>\n",
       "      <td>No</td>\n",
       "      <td>NaN</td>\n",
       "      <td>hwy 101</td>\n",
       "      <td>16:51:15</td>\n",
       "      <td>17:21:16</td>\n",
       "      <td>1011.0</td>\n",
       "      <td>1041.0</td>\n",
       "      <td>1187.0</td>\n",
       "      <td>-146.0</td>\n",
       "      <td>1</td>\n",
       "      <td>1</td>\n",
       "      <td>United States</td>\n",
       "      <td>United States</td>\n",
       "      <td>41.3632465, -123.9894411</td>\n",
       "      <td>US-101, United States</td>\n",
       "    </tr>\n",
       "    <tr>\n",
       "      <th>1664</th>\n",
       "      <td>2021-09-29 20:47:00</td>\n",
       "      <td>1900-01-01 20:47:00</td>\n",
       "      <td>white</td>\n",
       "      <td>2_Equipment violation</td>\n",
       "      <td>No</td>\n",
       "      <td>NaN</td>\n",
       "      <td>hwy 101</td>\n",
       "      <td>18:56:14</td>\n",
       "      <td>19:22:59</td>\n",
       "      <td>1136.0</td>\n",
       "      <td>1163.0</td>\n",
       "      <td>1247.0</td>\n",
       "      <td>-84.0</td>\n",
       "      <td>1</td>\n",
       "      <td>1</td>\n",
       "      <td>United States</td>\n",
       "      <td>United States</td>\n",
       "      <td>41.3632465, -123.9894411</td>\n",
       "      <td>US-101, United States</td>\n",
       "    </tr>\n",
       "    <tr>\n",
       "      <th>1890</th>\n",
       "      <td>2021-11-19 20:31:00</td>\n",
       "      <td>1900-01-01 20:31:00</td>\n",
       "      <td>hispanic/latino(a)</td>\n",
       "      <td>2_Equipment violation</td>\n",
       "      <td>No</td>\n",
       "      <td>NaN</td>\n",
       "      <td>hwy 101</td>\n",
       "      <td>16:55:51</td>\n",
       "      <td>17:24:49</td>\n",
       "      <td>1016.0</td>\n",
       "      <td>1045.0</td>\n",
       "      <td>1231.0</td>\n",
       "      <td>-186.0</td>\n",
       "      <td>1</td>\n",
       "      <td>1</td>\n",
       "      <td>United States</td>\n",
       "      <td>United States</td>\n",
       "      <td>41.3632465, -123.9894411</td>\n",
       "      <td>US-101, United States</td>\n",
       "    </tr>\n",
       "    <tr>\n",
       "      <th>...</th>\n",
       "      <td>...</td>\n",
       "      <td>...</td>\n",
       "      <td>...</td>\n",
       "      <td>...</td>\n",
       "      <td>...</td>\n",
       "      <td>...</td>\n",
       "      <td>...</td>\n",
       "      <td>...</td>\n",
       "      <td>...</td>\n",
       "      <td>...</td>\n",
       "      <td>...</td>\n",
       "      <td>...</td>\n",
       "      <td>...</td>\n",
       "      <td>...</td>\n",
       "      <td>...</td>\n",
       "      <td>...</td>\n",
       "      <td>...</td>\n",
       "      <td>...</td>\n",
       "      <td>...</td>\n",
       "    </tr>\n",
       "    <tr>\n",
       "      <th>65</th>\n",
       "      <td>2020-10-12 19:56:00</td>\n",
       "      <td>1900-01-01 19:56:00</td>\n",
       "      <td>hispanic/latino(a)</td>\n",
       "      <td>NaN</td>\n",
       "      <td>NaN</td>\n",
       "      <td>11.0</td>\n",
       "      <td>woodla north ave a north auburn street</td>\n",
       "      <td>18:36:24</td>\n",
       "      <td>19:03:22</td>\n",
       "      <td>1116.0</td>\n",
       "      <td>1143.0</td>\n",
       "      <td>1196.0</td>\n",
       "      <td>-53.0</td>\n",
       "      <td>1</td>\n",
       "      <td>1</td>\n",
       "      <td>Grass Valley</td>\n",
       "      <td>95945</td>\n",
       "      <td>39.2212465, -121.0626224</td>\n",
       "      <td>N Auburn St, Grass Valley, CA 95945, USA</td>\n",
       "    </tr>\n",
       "    <tr>\n",
       "      <th>873</th>\n",
       "      <td>2021-03-26 20:44:00</td>\n",
       "      <td>1900-01-01 20:44:00</td>\n",
       "      <td>hispanic/latino(a)</td>\n",
       "      <td>2_Equipment violation</td>\n",
       "      <td>NaN</td>\n",
       "      <td>4.0</td>\n",
       "      <td>woodland &amp;  auburn</td>\n",
       "      <td>19:28:44</td>\n",
       "      <td>19:55:40</td>\n",
       "      <td>1169.0</td>\n",
       "      <td>1196.0</td>\n",
       "      <td>1244.0</td>\n",
       "      <td>-48.0</td>\n",
       "      <td>1</td>\n",
       "      <td>1</td>\n",
       "      <td>Marin County</td>\n",
       "      <td>94901</td>\n",
       "      <td>37.9575606, -122.5096168</td>\n",
       "      <td>Auburn St &amp; Woodland Ave, California 94901, USA</td>\n",
       "    </tr>\n",
       "    <tr>\n",
       "      <th>879</th>\n",
       "      <td>2021-03-27 20:17:00</td>\n",
       "      <td>1900-01-01 20:17:00</td>\n",
       "      <td>hispanic/latino(a)</td>\n",
       "      <td>2_Equipment violation</td>\n",
       "      <td>NaN</td>\n",
       "      <td>4.0</td>\n",
       "      <td>woodland &amp; auburn</td>\n",
       "      <td>19:29:40</td>\n",
       "      <td>19:56:37</td>\n",
       "      <td>1170.0</td>\n",
       "      <td>1197.0</td>\n",
       "      <td>1217.0</td>\n",
       "      <td>-20.0</td>\n",
       "      <td>1</td>\n",
       "      <td>1</td>\n",
       "      <td>Marin County</td>\n",
       "      <td>94901</td>\n",
       "      <td>37.9575606, -122.5096168</td>\n",
       "      <td>Auburn St &amp; Woodland Ave, California 94901, USA</td>\n",
       "    </tr>\n",
       "    <tr>\n",
       "      <th>880</th>\n",
       "      <td>2021-03-27 20:34:00</td>\n",
       "      <td>1900-01-01 20:34:00</td>\n",
       "      <td>white</td>\n",
       "      <td>2_Equipment violation</td>\n",
       "      <td>NaN</td>\n",
       "      <td>4.0</td>\n",
       "      <td>woodland &amp; auburn</td>\n",
       "      <td>19:29:40</td>\n",
       "      <td>19:56:37</td>\n",
       "      <td>1170.0</td>\n",
       "      <td>1197.0</td>\n",
       "      <td>1234.0</td>\n",
       "      <td>-37.0</td>\n",
       "      <td>1</td>\n",
       "      <td>1</td>\n",
       "      <td>Marin County</td>\n",
       "      <td>94901</td>\n",
       "      <td>37.9575606, -122.5096168</td>\n",
       "      <td>Auburn St &amp; Woodland Ave, California 94901, USA</td>\n",
       "    </tr>\n",
       "    <tr>\n",
       "      <th>1112</th>\n",
       "      <td>2021-05-14 20:13:00</td>\n",
       "      <td>1900-01-01 20:13:00</td>\n",
       "      <td>white</td>\n",
       "      <td>1_Moving violation</td>\n",
       "      <td>NaN</td>\n",
       "      <td>7.0</td>\n",
       "      <td>hwy 101</td>\n",
       "      <td>20:14:04</td>\n",
       "      <td>20:44:14</td>\n",
       "      <td>1214.0</td>\n",
       "      <td>1244.0</td>\n",
       "      <td>1213.0</td>\n",
       "      <td>31.0</td>\n",
       "      <td>1</td>\n",
       "      <td>0</td>\n",
       "      <td>United States</td>\n",
       "      <td>United States</td>\n",
       "      <td>41.3632465, -123.9894411</td>\n",
       "      <td>US-101, United States</td>\n",
       "    </tr>\n",
       "  </tbody>\n",
       "</table>\n",
       "<p>795 rows × 19 columns</p>\n",
       "</div>"
      ],
      "text/plain": [
       "                     date                 time                    race  \\\n",
       "1845  2021-11-09 20:06:00  1900-01-01 20:06:00  black/african american   \n",
       "910   2021-03-31 20:33:00  1900-01-01 20:33:00                   white   \n",
       "2019  2021-12-11 19:47:00  1900-01-01 19:47:00                   white   \n",
       "1664  2021-09-29 20:47:00  1900-01-01 20:47:00                   white   \n",
       "1890  2021-11-19 20:31:00  1900-01-01 20:31:00      hispanic/latino(a)   \n",
       "...                   ...                  ...                     ...   \n",
       "65    2020-10-12 19:56:00  1900-01-01 19:56:00      hispanic/latino(a)   \n",
       "873   2021-03-26 20:44:00  1900-01-01 20:44:00      hispanic/latino(a)   \n",
       "879   2021-03-27 20:17:00  1900-01-01 20:17:00      hispanic/latino(a)   \n",
       "880   2021-03-27 20:34:00  1900-01-01 20:34:00                   white   \n",
       "1112  2021-05-14 20:13:00  1900-01-01 20:13:00                   white   \n",
       "\n",
       "                       type race perceived prior  experience  \\\n",
       "1845  2_Equipment violation                   No         6.0   \n",
       "910   2_Equipment violation                  NaN        21.0   \n",
       "2019  2_Equipment violation                   No         NaN   \n",
       "1664  2_Equipment violation                   No         NaN   \n",
       "1890  2_Equipment violation                   No         NaN   \n",
       "...                     ...                  ...         ...   \n",
       "65                      NaN                  NaN        11.0   \n",
       "873   2_Equipment violation                  NaN         4.0   \n",
       "879   2_Equipment violation                  NaN         4.0   \n",
       "880   2_Equipment violation                  NaN         4.0   \n",
       "1112     1_Moving violation                  NaN         7.0   \n",
       "\n",
       "                                    location sunsettime  dusktime  \\\n",
       "1845                    sfd  &  laurel grove   17:03:14  17:31:33   \n",
       "910                                  hwy 101   19:33:22  20:00:28   \n",
       "2019                                 hwy 101   16:51:15  17:21:16   \n",
       "1664                                 hwy 101   18:56:14  19:22:59   \n",
       "1890                                 hwy 101   16:55:51  17:24:49   \n",
       "...                                      ...        ...       ...   \n",
       "65    woodla north ave a north auburn street   18:36:24  19:03:22   \n",
       "873                       woodland &  auburn   19:28:44  19:55:40   \n",
       "879                        woodland & auburn   19:29:40  19:56:37   \n",
       "880                        woodland & auburn   19:29:40  19:56:37   \n",
       "1112                                 hwy 101   20:14:04  20:44:14   \n",
       "\n",
       "      mins_sunset  mins_dusk  mins_stop_time  mins_before_dusk  itp  dark  \\\n",
       "1845       1023.0     1052.0          1206.0            -154.0    1     1   \n",
       "910        1173.0     1200.0          1233.0             -33.0    1     1   \n",
       "2019       1011.0     1041.0          1187.0            -146.0    1     1   \n",
       "1664       1136.0     1163.0          1247.0             -84.0    1     1   \n",
       "1890       1016.0     1045.0          1231.0            -186.0    1     1   \n",
       "...           ...        ...             ...               ...  ...   ...   \n",
       "65         1116.0     1143.0          1196.0             -53.0    1     1   \n",
       "873        1169.0     1196.0          1244.0             -48.0    1     1   \n",
       "879        1170.0     1197.0          1217.0             -20.0    1     1   \n",
       "880        1170.0     1197.0          1234.0             -37.0    1     1   \n",
       "1112       1214.0     1244.0          1213.0              31.0    1     0   \n",
       "\n",
       "       neighborhood            zip                    coords  \\\n",
       "1845           None           None                      None   \n",
       "910   United States  United States  41.3632465, -123.9894411   \n",
       "2019  United States  United States  41.3632465, -123.9894411   \n",
       "1664  United States  United States  41.3632465, -123.9894411   \n",
       "1890  United States  United States  41.3632465, -123.9894411   \n",
       "...             ...            ...                       ...   \n",
       "65     Grass Valley          95945  39.2212465, -121.0626224   \n",
       "873    Marin County          94901  37.9575606, -122.5096168   \n",
       "879    Marin County          94901  37.9575606, -122.5096168   \n",
       "880    Marin County          94901  37.9575606, -122.5096168   \n",
       "1112  United States  United States  41.3632465, -123.9894411   \n",
       "\n",
       "                                         gmap address  \n",
       "1845                                              NaN  \n",
       "910                             US-101, United States  \n",
       "2019                            US-101, United States  \n",
       "1664                            US-101, United States  \n",
       "1890                            US-101, United States  \n",
       "...                                               ...  \n",
       "65           N Auburn St, Grass Valley, CA 95945, USA  \n",
       "873   Auburn St & Woodland Ave, California 94901, USA  \n",
       "879   Auburn St & Woodland Ave, California 94901, USA  \n",
       "880   Auburn St & Woodland Ave, California 94901, USA  \n",
       "1112                            US-101, United States  \n",
       "\n",
       "[795 rows x 19 columns]"
      ]
     },
     "execution_count": 13,
     "metadata": {},
     "output_type": "execute_result"
    }
   ],
   "source": [
    "MARIN_lat_lon = pd.concat([MARIN1,MARIN2,MARIN3,MARIN4])\n",
    "MARIN_lat_lon\n",
    "# MARIN_lat_lon.isna().sum()"
   ]
  },
  {
   "cell_type": "code",
   "execution_count": 19,
   "id": "5f1d740a",
   "metadata": {},
   "outputs": [
    {
     "data": {
      "text/html": [
       "<div>\n",
       "<style scoped>\n",
       "    .dataframe tbody tr th:only-of-type {\n",
       "        vertical-align: middle;\n",
       "    }\n",
       "\n",
       "    .dataframe tbody tr th {\n",
       "        vertical-align: top;\n",
       "    }\n",
       "\n",
       "    .dataframe thead th {\n",
       "        text-align: right;\n",
       "    }\n",
       "</style>\n",
       "<table border=\"1\" class=\"dataframe\">\n",
       "  <thead>\n",
       "    <tr style=\"text-align: right;\">\n",
       "      <th></th>\n",
       "      <th>date</th>\n",
       "      <th>time</th>\n",
       "      <th>race</th>\n",
       "      <th>type</th>\n",
       "      <th>race perceived prior</th>\n",
       "      <th>experience</th>\n",
       "      <th>location</th>\n",
       "      <th>sunsettime</th>\n",
       "      <th>dusktime</th>\n",
       "      <th>mins_sunset</th>\n",
       "      <th>mins_dusk</th>\n",
       "      <th>mins_stop_time</th>\n",
       "      <th>mins_before_dusk</th>\n",
       "      <th>itp</th>\n",
       "      <th>dark</th>\n",
       "      <th>neighborhood</th>\n",
       "      <th>zip</th>\n",
       "      <th>coords</th>\n",
       "      <th>gmap address</th>\n",
       "    </tr>\n",
       "  </thead>\n",
       "  <tbody>\n",
       "    <tr>\n",
       "      <th>910</th>\n",
       "      <td>2021-03-31 20:33:00</td>\n",
       "      <td>1900-01-01 20:33:00</td>\n",
       "      <td>white</td>\n",
       "      <td>2_Equipment violation</td>\n",
       "      <td>NaN</td>\n",
       "      <td>21.0</td>\n",
       "      <td>hwy 101</td>\n",
       "      <td>19:33:22</td>\n",
       "      <td>20:00:28</td>\n",
       "      <td>1173.0</td>\n",
       "      <td>1200.0</td>\n",
       "      <td>1233.0</td>\n",
       "      <td>-33.0</td>\n",
       "      <td>1</td>\n",
       "      <td>1</td>\n",
       "      <td>United States</td>\n",
       "      <td>94965</td>\n",
       "      <td>41.3632465, -123.9894411</td>\n",
       "      <td>US-101, United States</td>\n",
       "    </tr>\n",
       "    <tr>\n",
       "      <th>2019</th>\n",
       "      <td>2021-12-11 19:47:00</td>\n",
       "      <td>1900-01-01 19:47:00</td>\n",
       "      <td>white</td>\n",
       "      <td>2_Equipment violation</td>\n",
       "      <td>No</td>\n",
       "      <td>NaN</td>\n",
       "      <td>hwy 101</td>\n",
       "      <td>16:51:15</td>\n",
       "      <td>17:21:16</td>\n",
       "      <td>1011.0</td>\n",
       "      <td>1041.0</td>\n",
       "      <td>1187.0</td>\n",
       "      <td>-146.0</td>\n",
       "      <td>1</td>\n",
       "      <td>1</td>\n",
       "      <td>United States</td>\n",
       "      <td>94965</td>\n",
       "      <td>41.3632465, -123.9894411</td>\n",
       "      <td>US-101, United States</td>\n",
       "    </tr>\n",
       "    <tr>\n",
       "      <th>1664</th>\n",
       "      <td>2021-09-29 20:47:00</td>\n",
       "      <td>1900-01-01 20:47:00</td>\n",
       "      <td>white</td>\n",
       "      <td>2_Equipment violation</td>\n",
       "      <td>No</td>\n",
       "      <td>NaN</td>\n",
       "      <td>hwy 101</td>\n",
       "      <td>18:56:14</td>\n",
       "      <td>19:22:59</td>\n",
       "      <td>1136.0</td>\n",
       "      <td>1163.0</td>\n",
       "      <td>1247.0</td>\n",
       "      <td>-84.0</td>\n",
       "      <td>1</td>\n",
       "      <td>1</td>\n",
       "      <td>United States</td>\n",
       "      <td>94965</td>\n",
       "      <td>41.3632465, -123.9894411</td>\n",
       "      <td>US-101, United States</td>\n",
       "    </tr>\n",
       "    <tr>\n",
       "      <th>1890</th>\n",
       "      <td>2021-11-19 20:31:00</td>\n",
       "      <td>1900-01-01 20:31:00</td>\n",
       "      <td>hispanic/latino(a)</td>\n",
       "      <td>2_Equipment violation</td>\n",
       "      <td>No</td>\n",
       "      <td>NaN</td>\n",
       "      <td>hwy 101</td>\n",
       "      <td>16:55:51</td>\n",
       "      <td>17:24:49</td>\n",
       "      <td>1016.0</td>\n",
       "      <td>1045.0</td>\n",
       "      <td>1231.0</td>\n",
       "      <td>-186.0</td>\n",
       "      <td>1</td>\n",
       "      <td>1</td>\n",
       "      <td>United States</td>\n",
       "      <td>94965</td>\n",
       "      <td>41.3632465, -123.9894411</td>\n",
       "      <td>US-101, United States</td>\n",
       "    </tr>\n",
       "    <tr>\n",
       "      <th>2551</th>\n",
       "      <td>2022-02-27 19:56:00</td>\n",
       "      <td>1900-01-01 19:56:00</td>\n",
       "      <td>white</td>\n",
       "      <td>2_Equipment violation</td>\n",
       "      <td>No</td>\n",
       "      <td>1.0</td>\n",
       "      <td>south  knoll road  &amp;  north knoll road</td>\n",
       "      <td>18:02:20</td>\n",
       "      <td>18:29:21</td>\n",
       "      <td>1082.0</td>\n",
       "      <td>1109.0</td>\n",
       "      <td>1196.0</td>\n",
       "      <td>-87.0</td>\n",
       "      <td>1</td>\n",
       "      <td>1</td>\n",
       "      <td>Bunkie</td>\n",
       "      <td>94939</td>\n",
       "      <td>30.9542005, -92.18976119999999</td>\n",
       "      <td>S Knoll Ave &amp; N Knoll Ave, Bunkie, LA 71322, USA</td>\n",
       "    </tr>\n",
       "    <tr>\n",
       "      <th>...</th>\n",
       "      <td>...</td>\n",
       "      <td>...</td>\n",
       "      <td>...</td>\n",
       "      <td>...</td>\n",
       "      <td>...</td>\n",
       "      <td>...</td>\n",
       "      <td>...</td>\n",
       "      <td>...</td>\n",
       "      <td>...</td>\n",
       "      <td>...</td>\n",
       "      <td>...</td>\n",
       "      <td>...</td>\n",
       "      <td>...</td>\n",
       "      <td>...</td>\n",
       "      <td>...</td>\n",
       "      <td>...</td>\n",
       "      <td>...</td>\n",
       "      <td>...</td>\n",
       "      <td>...</td>\n",
       "    </tr>\n",
       "    <tr>\n",
       "      <th>1813</th>\n",
       "      <td>2021-11-05 20:47:00</td>\n",
       "      <td>1900-01-01 20:47:00</td>\n",
       "      <td>hispanic/latino(a)</td>\n",
       "      <td>2_Equipment violation</td>\n",
       "      <td>No</td>\n",
       "      <td>7.0</td>\n",
       "      <td>wolfe grade poplar</td>\n",
       "      <td>18:06:59</td>\n",
       "      <td>18:35:03</td>\n",
       "      <td>1087.0</td>\n",
       "      <td>1115.0</td>\n",
       "      <td>1247.0</td>\n",
       "      <td>-132.0</td>\n",
       "      <td>1</td>\n",
       "      <td>1</td>\n",
       "      <td>Marin County</td>\n",
       "      <td>94920</td>\n",
       "      <td>37.9570896, -122.5357372</td>\n",
       "      <td>Wolfe Grade, California, USA</td>\n",
       "    </tr>\n",
       "    <tr>\n",
       "      <th>873</th>\n",
       "      <td>2021-03-26 20:44:00</td>\n",
       "      <td>1900-01-01 20:44:00</td>\n",
       "      <td>hispanic/latino(a)</td>\n",
       "      <td>2_Equipment violation</td>\n",
       "      <td>NaN</td>\n",
       "      <td>4.0</td>\n",
       "      <td>woodland &amp;  auburn</td>\n",
       "      <td>19:28:44</td>\n",
       "      <td>19:55:40</td>\n",
       "      <td>1169.0</td>\n",
       "      <td>1196.0</td>\n",
       "      <td>1244.0</td>\n",
       "      <td>-48.0</td>\n",
       "      <td>1</td>\n",
       "      <td>1</td>\n",
       "      <td>Marin County</td>\n",
       "      <td>94901</td>\n",
       "      <td>37.9575606, -122.5096168</td>\n",
       "      <td>Auburn St &amp; Woodland Ave, California 94901, USA</td>\n",
       "    </tr>\n",
       "    <tr>\n",
       "      <th>879</th>\n",
       "      <td>2021-03-27 20:17:00</td>\n",
       "      <td>1900-01-01 20:17:00</td>\n",
       "      <td>hispanic/latino(a)</td>\n",
       "      <td>2_Equipment violation</td>\n",
       "      <td>NaN</td>\n",
       "      <td>4.0</td>\n",
       "      <td>woodland &amp; auburn</td>\n",
       "      <td>19:29:40</td>\n",
       "      <td>19:56:37</td>\n",
       "      <td>1170.0</td>\n",
       "      <td>1197.0</td>\n",
       "      <td>1217.0</td>\n",
       "      <td>-20.0</td>\n",
       "      <td>1</td>\n",
       "      <td>1</td>\n",
       "      <td>Marin County</td>\n",
       "      <td>94901</td>\n",
       "      <td>37.9575606, -122.5096168</td>\n",
       "      <td>Auburn St &amp; Woodland Ave, California 94901, USA</td>\n",
       "    </tr>\n",
       "    <tr>\n",
       "      <th>880</th>\n",
       "      <td>2021-03-27 20:34:00</td>\n",
       "      <td>1900-01-01 20:34:00</td>\n",
       "      <td>white</td>\n",
       "      <td>2_Equipment violation</td>\n",
       "      <td>NaN</td>\n",
       "      <td>4.0</td>\n",
       "      <td>woodland &amp; auburn</td>\n",
       "      <td>19:29:40</td>\n",
       "      <td>19:56:37</td>\n",
       "      <td>1170.0</td>\n",
       "      <td>1197.0</td>\n",
       "      <td>1234.0</td>\n",
       "      <td>-37.0</td>\n",
       "      <td>1</td>\n",
       "      <td>1</td>\n",
       "      <td>Marin County</td>\n",
       "      <td>94901</td>\n",
       "      <td>37.9575606, -122.5096168</td>\n",
       "      <td>Auburn St &amp; Woodland Ave, California 94901, USA</td>\n",
       "    </tr>\n",
       "    <tr>\n",
       "      <th>1112</th>\n",
       "      <td>2021-05-14 20:13:00</td>\n",
       "      <td>1900-01-01 20:13:00</td>\n",
       "      <td>white</td>\n",
       "      <td>1_Moving violation</td>\n",
       "      <td>NaN</td>\n",
       "      <td>7.0</td>\n",
       "      <td>hwy 101</td>\n",
       "      <td>20:14:04</td>\n",
       "      <td>20:44:14</td>\n",
       "      <td>1214.0</td>\n",
       "      <td>1244.0</td>\n",
       "      <td>1213.0</td>\n",
       "      <td>31.0</td>\n",
       "      <td>1</td>\n",
       "      <td>0</td>\n",
       "      <td>United States</td>\n",
       "      <td>94965</td>\n",
       "      <td>41.3632465, -123.9894411</td>\n",
       "      <td>US-101, United States</td>\n",
       "    </tr>\n",
       "  </tbody>\n",
       "</table>\n",
       "<p>728 rows × 19 columns</p>\n",
       "</div>"
      ],
      "text/plain": [
       "                     date                 time                race  \\\n",
       "910   2021-03-31 20:33:00  1900-01-01 20:33:00               white   \n",
       "2019  2021-12-11 19:47:00  1900-01-01 19:47:00               white   \n",
       "1664  2021-09-29 20:47:00  1900-01-01 20:47:00               white   \n",
       "1890  2021-11-19 20:31:00  1900-01-01 20:31:00  hispanic/latino(a)   \n",
       "2551  2022-02-27 19:56:00  1900-01-01 19:56:00               white   \n",
       "...                   ...                  ...                 ...   \n",
       "1813  2021-11-05 20:47:00  1900-01-01 20:47:00  hispanic/latino(a)   \n",
       "873   2021-03-26 20:44:00  1900-01-01 20:44:00  hispanic/latino(a)   \n",
       "879   2021-03-27 20:17:00  1900-01-01 20:17:00  hispanic/latino(a)   \n",
       "880   2021-03-27 20:34:00  1900-01-01 20:34:00               white   \n",
       "1112  2021-05-14 20:13:00  1900-01-01 20:13:00               white   \n",
       "\n",
       "                       type race perceived prior  experience  \\\n",
       "910   2_Equipment violation                  NaN        21.0   \n",
       "2019  2_Equipment violation                   No         NaN   \n",
       "1664  2_Equipment violation                   No         NaN   \n",
       "1890  2_Equipment violation                   No         NaN   \n",
       "2551  2_Equipment violation                   No         1.0   \n",
       "...                     ...                  ...         ...   \n",
       "1813  2_Equipment violation                   No         7.0   \n",
       "873   2_Equipment violation                  NaN         4.0   \n",
       "879   2_Equipment violation                  NaN         4.0   \n",
       "880   2_Equipment violation                  NaN         4.0   \n",
       "1112     1_Moving violation                  NaN         7.0   \n",
       "\n",
       "                                     location sunsettime  dusktime  \\\n",
       "910                                   hwy 101   19:33:22  20:00:28   \n",
       "2019                                  hwy 101   16:51:15  17:21:16   \n",
       "1664                                  hwy 101   18:56:14  19:22:59   \n",
       "1890                                  hwy 101   16:55:51  17:24:49   \n",
       "2551   south  knoll road  &  north knoll road   18:02:20  18:29:21   \n",
       "...                                       ...        ...       ...   \n",
       "1813                       wolfe grade poplar   18:06:59  18:35:03   \n",
       "873                        woodland &  auburn   19:28:44  19:55:40   \n",
       "879                         woodland & auburn   19:29:40  19:56:37   \n",
       "880                         woodland & auburn   19:29:40  19:56:37   \n",
       "1112                                  hwy 101   20:14:04  20:44:14   \n",
       "\n",
       "      mins_sunset  mins_dusk  mins_stop_time  mins_before_dusk  itp  dark  \\\n",
       "910        1173.0     1200.0          1233.0             -33.0    1     1   \n",
       "2019       1011.0     1041.0          1187.0            -146.0    1     1   \n",
       "1664       1136.0     1163.0          1247.0             -84.0    1     1   \n",
       "1890       1016.0     1045.0          1231.0            -186.0    1     1   \n",
       "2551       1082.0     1109.0          1196.0             -87.0    1     1   \n",
       "...           ...        ...             ...               ...  ...   ...   \n",
       "1813       1087.0     1115.0          1247.0            -132.0    1     1   \n",
       "873        1169.0     1196.0          1244.0             -48.0    1     1   \n",
       "879        1170.0     1197.0          1217.0             -20.0    1     1   \n",
       "880        1170.0     1197.0          1234.0             -37.0    1     1   \n",
       "1112       1214.0     1244.0          1213.0              31.0    1     0   \n",
       "\n",
       "       neighborhood    zip                          coords  \\\n",
       "910   United States  94965        41.3632465, -123.9894411   \n",
       "2019  United States  94965        41.3632465, -123.9894411   \n",
       "1664  United States  94965        41.3632465, -123.9894411   \n",
       "1890  United States  94965        41.3632465, -123.9894411   \n",
       "2551         Bunkie  94939  30.9542005, -92.18976119999999   \n",
       "...             ...    ...                             ...   \n",
       "1813   Marin County  94920        37.9570896, -122.5357372   \n",
       "873    Marin County  94901        37.9575606, -122.5096168   \n",
       "879    Marin County  94901        37.9575606, -122.5096168   \n",
       "880    Marin County  94901        37.9575606, -122.5096168   \n",
       "1112  United States  94965        41.3632465, -123.9894411   \n",
       "\n",
       "                                          gmap address  \n",
       "910                              US-101, United States  \n",
       "2019                             US-101, United States  \n",
       "1664                             US-101, United States  \n",
       "1890                             US-101, United States  \n",
       "2551  S Knoll Ave & N Knoll Ave, Bunkie, LA 71322, USA  \n",
       "...                                                ...  \n",
       "1813                      Wolfe Grade, California, USA  \n",
       "873    Auburn St & Woodland Ave, California 94901, USA  \n",
       "879    Auburn St & Woodland Ave, California 94901, USA  \n",
       "880    Auburn St & Woodland Ave, California 94901, USA  \n",
       "1112                             US-101, United States  \n",
       "\n",
       "[728 rows x 19 columns]"
      ]
     },
     "execution_count": 19,
     "metadata": {},
     "output_type": "execute_result"
    }
   ],
   "source": [
    "MARIN_lat_lon = pd.concat([MARIN1,MARIN2,MARIN3,MARIN4])\n",
    "\n",
    "marin_zips = pd.read_csv('marin_zips - Sheet1.csv')\n",
    "marin_zips['zip'] = marin_zips['ZIP Code'].str[-5:]\n",
    "marin_zips = [i for i in marin_zips['zip']]\n",
    "\n",
    "MARIN_lat_lon = MARIN_lat_lon[MARIN_lat_lon['zip'].notna()]\n",
    "\n",
    "MARIN_lat_lon.loc[(MARIN_lat_lon['gmap address']=='US-101, United States')|\n",
    "                  (MARIN_lat_lon['gmap address']=='Bridgeway, Sausalito, CA 94965, USA'),'zip'] = '94965'\n",
    "\n",
    "MARIN_lat_lon.loc[MARIN_lat_lon['gmap address']=='California\\'s 37th Congressional District, CA, USA','zip'] = '94904'\n",
    "MARIN_lat_lon.loc[MARIN_lat_lon['zip']=='United States','zip'] = '94920'\n",
    "\n",
    "MARIN_lat_lon.loc[(MARIN_lat_lon['zip'].str.len()<5) |\n",
    "                  (MARIN_lat_lon['zip'].str.len()>5),'zip'] = MARIN_lat_lon['gmap address'].str[-10:-5]\n",
    "\n",
    "MARIN_lat_lon.loc[MARIN_lat_lon['zip'].str[0]!='9','zip'] = '94939'\n",
    "\n",
    "\n",
    "MARIN_lat_lon = MARIN_lat_lon[MARIN_lat_lon['zip'].isin(marin_zips)]\n",
    "\n",
    "\n",
    "MARIN_lat_lon"
   ]
  },
  {
   "cell_type": "code",
   "execution_count": 21,
   "id": "bf02627e",
   "metadata": {},
   "outputs": [
    {
     "data": {
      "text/plain": [
       "date                      0\n",
       "time                      0\n",
       "race                      0\n",
       "type                     74\n",
       "race perceived prior    304\n",
       "experience              102\n",
       "location                  0\n",
       "sunsettime                0\n",
       "dusktime                  0\n",
       "mins_sunset               0\n",
       "mins_dusk                 0\n",
       "mins_stop_time            0\n",
       "mins_before_dusk          0\n",
       "itp                       0\n",
       "dark                      0\n",
       "neighborhood              0\n",
       "zip                       0\n",
       "coords                    0\n",
       "gmap address              0\n",
       "dtype: int64"
      ]
     },
     "execution_count": 21,
     "metadata": {},
     "output_type": "execute_result"
    }
   ],
   "source": [
    "MARIN_lat_lon.isna().sum()"
   ]
  },
  {
   "cell_type": "code",
   "execution_count": 169,
   "id": "3163a508",
   "metadata": {},
   "outputs": [],
   "source": [
    "MARIN_lat_lon.to_csv('ALL-MARIN-AB953-DUSK-LOC.csv',index=False)"
   ]
  },
  {
   "cell_type": "code",
   "execution_count": 171,
   "id": "5f4b37ac",
   "metadata": {},
   "outputs": [
    {
     "data": {
      "text/plain": [
       "22"
      ]
     },
     "execution_count": 171,
     "metadata": {},
     "output_type": "execute_result"
    }
   ],
   "source": [
    "len(MARIN_lat_lon['zip'].unique())"
   ]
  },
  {
   "cell_type": "code",
   "execution_count": null,
   "id": "3b88dd5b",
   "metadata": {},
   "outputs": [],
   "source": []
  },
  {
   "cell_type": "code",
   "execution_count": null,
   "id": "76379c1c",
   "metadata": {},
   "outputs": [],
   "source": []
  },
  {
   "cell_type": "code",
   "execution_count": 75,
   "id": "08b9c48f",
   "metadata": {},
   "outputs": [
    {
     "name": "stdout",
     "output_type": "stream",
     "text": [
      "10817\n",
      "7446\n"
     ]
    }
   ],
   "source": [
    "print(pd.read_csv('ALL-OAKLAND_PD-AB953.csv').shape[0])\n",
    "print(pd.read_csv('ALL-OAKLAND-AB953-DUSK.csv').shape[0])"
   ]
  },
  {
   "cell_type": "code",
   "execution_count": null,
   "id": "0efd4376",
   "metadata": {},
   "outputs": [],
   "source": []
  },
  {
   "cell_type": "code",
   "execution_count": 172,
   "id": "66cbb5d9",
   "metadata": {},
   "outputs": [
    {
     "name": "stdout",
     "output_type": "stream",
     "text": [
      "/Users/karatechop/Documents/GitHub/senior-thesis-pretextual-stops/Data/Formatted with YOE\n"
     ]
    }
   ],
   "source": [
    "cd /Users/karatechop/Documents/GitHub/senior-thesis-pretextual-stops/Data/Formatted with YOE"
   ]
  },
  {
   "cell_type": "code",
   "execution_count": 173,
   "id": "c5a62d89",
   "metadata": {},
   "outputs": [
    {
     "name": "stdout",
     "output_type": "stream",
     "text": [
      "ALL-BPD-AB953-DUSK-LOC.csv    ALL-SDPD-AB953-DUSK.csv\r\n",
      "ALL-BPD-AB953-DUSK.csv        ALL-SDPD-AB953.csv\r\n",
      "ALL-BPD-AB953.csv             ALL-SFPD-AB953-DUSK-LOC.csv\r\n",
      "ALL-MARIN-AB953-DUSK-LOC.csv  ALL-SFPD-AB953-DUSK.csv\r\n",
      "ALL-MARIN-AB953-DUSK.csv      ALL-SFPD-AB953.csv\r\n",
      "ALL-MARIN-AB953.csv           marin_zips - Sheet1.csv\r\n",
      "ALL-OAKLAND-AB953-DUSK.csv    sf_zips.csv\r\n",
      "ALL-OAKLAND_PD-AB953.csv\r\n"
     ]
    }
   ],
   "source": [
    "ls"
   ]
  },
  {
   "cell_type": "code",
   "execution_count": 174,
   "id": "fc05d934",
   "metadata": {},
   "outputs": [
    {
     "name": "stdout",
     "output_type": "stream",
     "text": [
      "/Users/karatechop/Documents/GitHub/senior-thesis-pretextual-stops/Data/Formatted with YOE/ALL-BPD-AB953-DUSK-LOC.csv \n",
      "\n",
      "/Users/karatechop/Documents/GitHub/senior-thesis-pretextual-stops/Data/Formatted with YOE/ALL-SFPD-AB953-DUSK-LOC.csv \n",
      "\n",
      "/Users/karatechop/Documents/GitHub/senior-thesis-pretextual-stops/Data/Formatted with YOE/ALL-MARIN-AB953-DUSK-LOC.csv \n",
      "\n"
     ]
    }
   ],
   "source": [
    "import os\n",
    "from glob import glob\n",
    "\n",
    "PATH = os.getcwd()\n",
    "EXT = \"*.csv\"\n",
    "\n",
    "for path, subdir, files in os.walk(PATH):\n",
    "    for file in glob(os.path.join(path, EXT)):\n",
    "        if '-LOC' in file:\n",
    "            print(file,'\\n')"
   ]
  },
  {
   "cell_type": "code",
   "execution_count": null,
   "id": "3f17c0fe",
   "metadata": {},
   "outputs": [],
   "source": []
  }
 ],
 "metadata": {
  "kernelspec": {
   "display_name": "VOD",
   "language": "python",
   "name": "vod"
  },
  "language_info": {
   "codemirror_mode": {
    "name": "ipython",
    "version": 3
   },
   "file_extension": ".py",
   "mimetype": "text/x-python",
   "name": "python",
   "nbconvert_exporter": "python",
   "pygments_lexer": "ipython3",
   "version": "3.10.6"
  }
 },
 "nbformat": 4,
 "nbformat_minor": 5
}
