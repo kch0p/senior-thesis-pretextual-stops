{
 "cells": [
  {
   "cell_type": "code",
   "execution_count": 1,
   "id": "14e9414b",
   "metadata": {},
   "outputs": [],
   "source": [
    "import pandas as pd\n",
    "import numpy as np\n",
    "\n",
    "import requests\n",
    "from geopy.geocoders import Nominatim\n",
    "from astral import LocationInfo\n",
    "import datetime\n",
    "from astral.sun import sun\n",
    "from astral import LocationInfo\n",
    "\n",
    "from time import time\n",
    "import warnings"
   ]
  },
  {
   "cell_type": "code",
   "execution_count": 2,
   "id": "9702d8f4",
   "metadata": {
    "scrolled": true
   },
   "outputs": [
    {
     "name": "stdout",
     "output_type": "stream",
     "text": [
      "/Users/karatechop\n"
     ]
    }
   ],
   "source": [
    "cd"
   ]
  },
  {
   "cell_type": "code",
   "execution_count": 3,
   "id": "859c1399",
   "metadata": {},
   "outputs": [
    {
     "name": "stdout",
     "output_type": "stream",
     "text": [
      "/Users/karatechop/Documents/GitHub/senior-thesis-pretextual-stops/Data/Formatted with YOE\n"
     ]
    }
   ],
   "source": [
    "cd /Users/karatechop/Documents/GitHub/senior-thesis-pretextual-stops/Data/Formatted with YOE"
   ]
  },
  {
   "cell_type": "code",
   "execution_count": 4,
   "id": "7e076704",
   "metadata": {
    "scrolled": false
   },
   "outputs": [
    {
     "name": "stdout",
     "output_type": "stream",
     "text": [
      "ALL-BPD-AB953-DUSK.csv      ALL-SDPD-AB953-DUSK.csv\r\n",
      "ALL-BPD-AB953.csv           ALL-SDPD-AB953.csv\r\n",
      "ALL-MARIN-AB953-DUSK.csv    ALL-SFPD-AB953-DUSK.csv\r\n",
      "ALL-MARIN-AB953.csv         ALL-SFPD-AB953.csv\r\n",
      "ALL-OAKLAND-AB953-DUSK.csv  sf_zips.csv\r\n",
      "ALL-OAKLAND_PD-AB953.csv\r\n"
     ]
    }
   ],
   "source": [
    "ls"
   ]
  },
  {
   "cell_type": "markdown",
   "id": "d608c324",
   "metadata": {},
   "source": [
    "## FUNCTION SETUP"
   ]
  },
  {
   "cell_type": "code",
   "execution_count": 5,
   "id": "9f964e87",
   "metadata": {},
   "outputs": [],
   "source": [
    "def add_dusk_cols(df,date_col,time_col,city,city_lat,city_lon):\n",
    "    cols = df.columns\n",
    "    \n",
    "    try:\n",
    "        df[date_col] = pd.to_datetime(df[date_col])\n",
    "    except:\n",
    "        pass\n",
    "    \n",
    "    try:\n",
    "        df[time_col] = pd.to_datetime(df[time_col], format='%H:%M:%S', exact=False)\n",
    "    except: \n",
    "        print('time failed')\n",
    "        pass\n",
    "    \n",
    "#     print('debug',df.dtypes)\n",
    "    \n",
    "    \n",
    "    date_to_subtract = datetime.datetime(1900, 1, 1)\n",
    "    \n",
    "    dawn_list = []\n",
    "    sunrise_list = []\n",
    "    sunset_list = []\n",
    "    dusk_list = []\n",
    "\n",
    "    loc = LocationInfo(name=city, region='CA, USA', timezone='America/Los_Angeles', #https://en.wikipedia.org/wiki/List_of_tz_database_time_zones\n",
    "                       latitude=city_lat, longitude=city_lon)\n",
    "\n",
    "    print('debug',loc)\n",
    "    \n",
    "    for i in df[date_col]:\n",
    "        year = i.year\n",
    "        month = i.month\n",
    "        day = i.day\n",
    "\n",
    "\n",
    "        s = sun(loc.observer, date=datetime.date(year, month, day), tzinfo=loc.timezone)\n",
    "        sunset_list.append(s['sunset'].time())\n",
    "        dusk_list.append(s['dusk'].time())\n",
    "\n",
    "\n",
    "    sunset_list2 = [str(i)[:8] for i in sunset_list]  \n",
    "    dusk_list2 = [str(i)[:8] for i in dusk_list]  \n",
    "\n",
    "\n",
    "    df['sunsettime'] = sunset_list2\n",
    "    df['dusktime'] = dusk_list2\n",
    "\n",
    "    \n",
    "    \n",
    "\n",
    "    df['mins_sunset'] = [round(((datetime.datetime.strptime(i, '%H:%M:%S') - date_to_subtract).total_seconds() / 60.0),0) \n",
    "                         for i in df['sunsettime']]\n",
    "    df['mins_dusk'] = [round(((datetime.datetime.strptime(i, '%H:%M:%S') - date_to_subtract).total_seconds() / 60.0),0) \n",
    "                       for i in dusk_list2]\n",
    "\n",
    "    df['mins_stop_time'] = [round(((i - date_to_subtract).total_seconds()/60),0) \n",
    "                                for i in df[time_col]]\n",
    "      \n",
    "    df['mins_before_dusk'] = df['mins_dusk'] - df['mins_stop_time']\n",
    "    \n",
    "    \n",
    "    \n",
    "    \n",
    "    df['itp'] = 0\n",
    "    df.loc[(df['mins_stop_time']>=df['mins_dusk'].min()) &\\\n",
    "           (df['mins_stop_time']<=df['mins_dusk'].max()), 'itp'] = 1\n",
    "    \n",
    "    df['dark'] = 0\n",
    "    df.loc[df['mins_before_dusk']<=0,'dark']=1"
   ]
  },
  {
   "cell_type": "markdown",
   "id": "5d55c818",
   "metadata": {},
   "source": [
    "## WAVE 1"
   ]
  },
  {
   "cell_type": "markdown",
   "id": "039cc785",
   "metadata": {},
   "source": [
    "### SFPD"
   ]
  },
  {
   "cell_type": "code",
   "execution_count": 11,
   "id": "318c6fff",
   "metadata": {},
   "outputs": [
    {
     "data": {
      "text/plain": [
       "Index(['date', 'time', 'Experience', 'race', 'type', 'location'], dtype='object')"
      ]
     },
     "execution_count": 11,
     "metadata": {},
     "output_type": "execute_result"
    }
   ],
   "source": [
    "SFPD = pd.read_csv('ALL-SFPD-AB953.csv')\n",
    "SFPD['date'] = pd.to_datetime(SFPD['date'])\n",
    "SFPD_later = SFPD[SFPD['time']>'15:00:00']\n",
    "SFPD_later.columns"
   ]
  },
  {
   "cell_type": "code",
   "execution_count": 12,
   "id": "46946409",
   "metadata": {},
   "outputs": [
    {
     "name": "stdout",
     "output_type": "stream",
     "text": [
      "debug LocationInfo(name='San Francisco', region='CA, USA', timezone='America/Los_Angeles', latitude=37.7749, longitude=-122.4194)\n"
     ]
    }
   ],
   "source": [
    "warnings.filterwarnings(\"ignore\") \n",
    "add_dusk_cols(SFPD_later,'date','time','San Francisco',37.7749,-122.4194)"
   ]
  },
  {
   "cell_type": "code",
   "execution_count": 13,
   "id": "439eb216",
   "metadata": {},
   "outputs": [
    {
     "data": {
      "text/html": [
       "<div>\n",
       "<style scoped>\n",
       "    .dataframe tbody tr th:only-of-type {\n",
       "        vertical-align: middle;\n",
       "    }\n",
       "\n",
       "    .dataframe tbody tr th {\n",
       "        vertical-align: top;\n",
       "    }\n",
       "\n",
       "    .dataframe thead th {\n",
       "        text-align: right;\n",
       "    }\n",
       "</style>\n",
       "<table border=\"1\" class=\"dataframe\">\n",
       "  <thead>\n",
       "    <tr style=\"text-align: right;\">\n",
       "      <th></th>\n",
       "      <th>date</th>\n",
       "      <th>time</th>\n",
       "      <th>Experience</th>\n",
       "      <th>race</th>\n",
       "      <th>type</th>\n",
       "      <th>location</th>\n",
       "      <th>sunsettime</th>\n",
       "      <th>dusktime</th>\n",
       "      <th>mins_sunset</th>\n",
       "      <th>mins_dusk</th>\n",
       "      <th>mins_stop_time</th>\n",
       "      <th>mins_before_dusk</th>\n",
       "      <th>itp</th>\n",
       "      <th>dark</th>\n",
       "    </tr>\n",
       "  </thead>\n",
       "  <tbody>\n",
       "    <tr>\n",
       "      <th>0</th>\n",
       "      <td>2018-07-01</td>\n",
       "      <td>1900-01-01 18:11:00</td>\n",
       "      <td>3.0</td>\n",
       "      <td>hispanic/latino(a)</td>\n",
       "      <td>1 Moving</td>\n",
       "      <td>MISSION ST &amp; 8TH ST</td>\n",
       "      <td>20:35:16</td>\n",
       "      <td>21:07:00</td>\n",
       "      <td>1235.0</td>\n",
       "      <td>1267.0</td>\n",
       "      <td>1091.0</td>\n",
       "      <td>176.0</td>\n",
       "      <td>1</td>\n",
       "      <td>0</td>\n",
       "    </tr>\n",
       "    <tr>\n",
       "      <th>2</th>\n",
       "      <td>2018-07-01</td>\n",
       "      <td>1900-01-01 16:26:00</td>\n",
       "      <td>1.0</td>\n",
       "      <td>hispanic/latino(a)</td>\n",
       "      <td>2 Equipment</td>\n",
       "      <td>SUNBEAM LN &amp; JUNIOR TER</td>\n",
       "      <td>20:35:16</td>\n",
       "      <td>21:07:00</td>\n",
       "      <td>1235.0</td>\n",
       "      <td>1267.0</td>\n",
       "      <td>986.0</td>\n",
       "      <td>281.0</td>\n",
       "      <td>0</td>\n",
       "      <td>0</td>\n",
       "    </tr>\n",
       "  </tbody>\n",
       "</table>\n",
       "</div>"
      ],
      "text/plain": [
       "        date                time  Experience                race         type  \\\n",
       "0 2018-07-01 1900-01-01 18:11:00         3.0  hispanic/latino(a)     1 Moving   \n",
       "2 2018-07-01 1900-01-01 16:26:00         1.0  hispanic/latino(a)  2 Equipment   \n",
       "\n",
       "                  location sunsettime  dusktime  mins_sunset  mins_dusk  \\\n",
       "0      MISSION ST & 8TH ST   20:35:16  21:07:00       1235.0     1267.0   \n",
       "2  SUNBEAM LN & JUNIOR TER   20:35:16  21:07:00       1235.0     1267.0   \n",
       "\n",
       "   mins_stop_time  mins_before_dusk  itp  dark  \n",
       "0          1091.0             176.0    1     0  \n",
       "2           986.0             281.0    0     0  "
      ]
     },
     "execution_count": 13,
     "metadata": {},
     "output_type": "execute_result"
    }
   ],
   "source": [
    "SFPD_later.to_csv('ALL-SFPD-AB953-DUSK.csv',index=False)\n",
    "SFPD_later.head(2)"
   ]
  },
  {
   "cell_type": "markdown",
   "id": "41704865",
   "metadata": {},
   "source": [
    "### SDPD"
   ]
  },
  {
   "cell_type": "code",
   "execution_count": 14,
   "id": "3d281780",
   "metadata": {},
   "outputs": [
    {
     "data": {
      "text/plain": [
       "Index(['date', 'time', 'Experience', 'race', 'type', 'location'], dtype='object')"
      ]
     },
     "execution_count": 14,
     "metadata": {},
     "output_type": "execute_result"
    }
   ],
   "source": [
    "SDPD = pd.read_csv('ALL-SDPD-AB953.csv')\n",
    "SDPD_later = SDPD[SDPD['time']>'15:00:00']\n",
    "SDPD_later.columns"
   ]
  },
  {
   "cell_type": "code",
   "execution_count": 15,
   "id": "74549a57",
   "metadata": {},
   "outputs": [
    {
     "name": "stdout",
     "output_type": "stream",
     "text": [
      "debug LocationInfo(name='San Diego', region='CA, USA', timezone='America/Los_Angeles', latitude=32.7157, longitude=-117.1611)\n"
     ]
    }
   ],
   "source": [
    "warnings.filterwarnings(\"ignore\") \n",
    "add_dusk_cols(SDPD_later,'date','time','San Diego',32.7157,-117.1611)"
   ]
  },
  {
   "cell_type": "code",
   "execution_count": 16,
   "id": "b08eec1b",
   "metadata": {},
   "outputs": [
    {
     "name": "stdout",
     "output_type": "stream",
     "text": [
      "(104512, 14)\n"
     ]
    },
    {
     "data": {
      "text/html": [
       "<div>\n",
       "<style scoped>\n",
       "    .dataframe tbody tr th:only-of-type {\n",
       "        vertical-align: middle;\n",
       "    }\n",
       "\n",
       "    .dataframe tbody tr th {\n",
       "        vertical-align: top;\n",
       "    }\n",
       "\n",
       "    .dataframe thead th {\n",
       "        text-align: right;\n",
       "    }\n",
       "</style>\n",
       "<table border=\"1\" class=\"dataframe\">\n",
       "  <thead>\n",
       "    <tr style=\"text-align: right;\">\n",
       "      <th></th>\n",
       "      <th>date</th>\n",
       "      <th>time</th>\n",
       "      <th>Experience</th>\n",
       "      <th>race</th>\n",
       "      <th>type</th>\n",
       "      <th>location</th>\n",
       "      <th>sunsettime</th>\n",
       "      <th>dusktime</th>\n",
       "      <th>mins_sunset</th>\n",
       "      <th>mins_dusk</th>\n",
       "      <th>mins_stop_time</th>\n",
       "      <th>mins_before_dusk</th>\n",
       "      <th>itp</th>\n",
       "      <th>dark</th>\n",
       "    </tr>\n",
       "  </thead>\n",
       "  <tbody>\n",
       "    <tr>\n",
       "      <th>0</th>\n",
       "      <td>2018-07-15</td>\n",
       "      <td>1900-01-01 19:31:37</td>\n",
       "      <td>26</td>\n",
       "      <td>white</td>\n",
       "      <td>1 Moving</td>\n",
       "      <td>313.0</td>\n",
       "      <td>19:57:07</td>\n",
       "      <td>20:25:32</td>\n",
       "      <td>1197.0</td>\n",
       "      <td>1226.0</td>\n",
       "      <td>1172.0</td>\n",
       "      <td>54.0</td>\n",
       "      <td>1</td>\n",
       "      <td>0</td>\n",
       "    </tr>\n",
       "    <tr>\n",
       "      <th>12</th>\n",
       "      <td>2019-02-02</td>\n",
       "      <td>1900-01-01 16:56:56</td>\n",
       "      <td>28</td>\n",
       "      <td>hispanic/latino/a</td>\n",
       "      <td>1 Moving</td>\n",
       "      <td>712.0</td>\n",
       "      <td>17:22:03</td>\n",
       "      <td>17:48:21</td>\n",
       "      <td>1042.0</td>\n",
       "      <td>1068.0</td>\n",
       "      <td>1017.0</td>\n",
       "      <td>51.0</td>\n",
       "      <td>0</td>\n",
       "      <td>0</td>\n",
       "    </tr>\n",
       "  </tbody>\n",
       "</table>\n",
       "</div>"
      ],
      "text/plain": [
       "         date                time  Experience               race      type  \\\n",
       "0  2018-07-15 1900-01-01 19:31:37          26              white  1 Moving   \n",
       "12 2019-02-02 1900-01-01 16:56:56          28  hispanic/latino/a  1 Moving   \n",
       "\n",
       "    location sunsettime  dusktime  mins_sunset  mins_dusk  mins_stop_time  \\\n",
       "0      313.0   19:57:07  20:25:32       1197.0     1226.0          1172.0   \n",
       "12     712.0   17:22:03  17:48:21       1042.0     1068.0          1017.0   \n",
       "\n",
       "    mins_before_dusk  itp  dark  \n",
       "0               54.0    1     0  \n",
       "12              51.0    0     0  "
      ]
     },
     "execution_count": 16,
     "metadata": {},
     "output_type": "execute_result"
    }
   ],
   "source": [
    "SDPD_later.to_csv('ALL-SDPD-AB953-DUSK.csv',index=False)\n",
    "print(SDPD_later.shape)\n",
    "SDPD_later.head(2)"
   ]
  },
  {
   "cell_type": "markdown",
   "id": "5ddb5ec7",
   "metadata": {},
   "source": [
    "## WAVE 2"
   ]
  },
  {
   "cell_type": "code",
   "execution_count": 17,
   "id": "196b85ea",
   "metadata": {},
   "outputs": [
    {
     "name": "stdout",
     "output_type": "stream",
     "text": [
      "ALL-BPD-AB953-DUSK.csv      ALL-OAKLAND_PD-AB953.csv\r\n",
      "ALL-BPD-AB953.csv           ALL-SDPD-AB953-DUSK.csv\r\n",
      "ALL-MARIN-AB953-DUSK.csv    ALL-SDPD-AB953.csv\r\n",
      "ALL-MARIN-AB953.csv         ALL-SFPD-AB953-DUSK.csv\r\n",
      "ALL-OAKLAND-AB953-DUSK.csv  ALL-SFPD-AB953.csv\r\n"
     ]
    }
   ],
   "source": [
    "ls"
   ]
  },
  {
   "cell_type": "markdown",
   "id": "4cb881f3",
   "metadata": {},
   "source": [
    "### OAKLAND"
   ]
  },
  {
   "cell_type": "code",
   "execution_count": 18,
   "id": "a7846819",
   "metadata": {},
   "outputs": [
    {
     "data": {
      "text/plain": [
       "Index(['date', 'time', 'race', 'race perceived prior', 'type', 'Experience',\n",
       "       'location'],\n",
       "      dtype='object')"
      ]
     },
     "execution_count": 18,
     "metadata": {},
     "output_type": "execute_result"
    }
   ],
   "source": [
    "OAK = pd.read_csv('ALL-OAKLAND_PD-AB953.csv')\n",
    "OAK_later = OAK[OAK['time']>'15:00:00']\n",
    "OAK_later.columns"
   ]
  },
  {
   "cell_type": "code",
   "execution_count": 19,
   "id": "fb26a120",
   "metadata": {},
   "outputs": [
    {
     "name": "stdout",
     "output_type": "stream",
     "text": [
      "debug LocationInfo(name='Oakland', region='CA, USA', timezone='America/Los_Angeles', latitude=37.8044, longitude=-122.2712)\n"
     ]
    }
   ],
   "source": [
    "warnings.filterwarnings(\"ignore\") \n",
    "add_dusk_cols(OAK_later,'date','time','Oakland',37.8044,-122.2712)"
   ]
  },
  {
   "cell_type": "code",
   "execution_count": 20,
   "id": "63ba4db3",
   "metadata": {},
   "outputs": [
    {
     "data": {
      "text/html": [
       "<div>\n",
       "<style scoped>\n",
       "    .dataframe tbody tr th:only-of-type {\n",
       "        vertical-align: middle;\n",
       "    }\n",
       "\n",
       "    .dataframe tbody tr th {\n",
       "        vertical-align: top;\n",
       "    }\n",
       "\n",
       "    .dataframe thead th {\n",
       "        text-align: right;\n",
       "    }\n",
       "</style>\n",
       "<table border=\"1\" class=\"dataframe\">\n",
       "  <thead>\n",
       "    <tr style=\"text-align: right;\">\n",
       "      <th></th>\n",
       "      <th>date</th>\n",
       "      <th>time</th>\n",
       "      <th>race</th>\n",
       "      <th>race perceived prior</th>\n",
       "      <th>type</th>\n",
       "      <th>Experience</th>\n",
       "      <th>location</th>\n",
       "      <th>sunsettime</th>\n",
       "      <th>dusktime</th>\n",
       "      <th>mins_sunset</th>\n",
       "      <th>mins_dusk</th>\n",
       "      <th>mins_stop_time</th>\n",
       "      <th>mins_before_dusk</th>\n",
       "      <th>itp</th>\n",
       "      <th>dark</th>\n",
       "    </tr>\n",
       "  </thead>\n",
       "  <tbody>\n",
       "    <tr>\n",
       "      <th>0</th>\n",
       "      <td>2022-06-18</td>\n",
       "      <td>1900-01-01 22:16:00</td>\n",
       "      <td>Black/African American</td>\n",
       "      <td>No</td>\n",
       "      <td>Moving violation</td>\n",
       "      <td>NaN</td>\n",
       "      <td>20X</td>\n",
       "      <td>20:33:33</td>\n",
       "      <td>21:05:31</td>\n",
       "      <td>1234.0</td>\n",
       "      <td>1266.0</td>\n",
       "      <td>1336.0</td>\n",
       "      <td>-70.0</td>\n",
       "      <td>0</td>\n",
       "      <td>1</td>\n",
       "    </tr>\n",
       "    <tr>\n",
       "      <th>1</th>\n",
       "      <td>2022-04-20</td>\n",
       "      <td>1900-01-01 16:10:00</td>\n",
       "      <td>Black/African American</td>\n",
       "      <td>Yes</td>\n",
       "      <td>Moving violation</td>\n",
       "      <td>NaN</td>\n",
       "      <td>32X</td>\n",
       "      <td>19:49:22</td>\n",
       "      <td>20:17:24</td>\n",
       "      <td>1189.0</td>\n",
       "      <td>1217.0</td>\n",
       "      <td>970.0</td>\n",
       "      <td>247.0</td>\n",
       "      <td>0</td>\n",
       "      <td>0</td>\n",
       "    </tr>\n",
       "  </tbody>\n",
       "</table>\n",
       "</div>"
      ],
      "text/plain": [
       "        date                time                    race race perceived prior  \\\n",
       "0 2022-06-18 1900-01-01 22:16:00  Black/African American                   No   \n",
       "1 2022-04-20 1900-01-01 16:10:00  Black/African American                  Yes   \n",
       "\n",
       "               type  Experience location sunsettime  dusktime  mins_sunset  \\\n",
       "0  Moving violation         NaN      20X   20:33:33  21:05:31       1234.0   \n",
       "1  Moving violation         NaN      32X   19:49:22  20:17:24       1189.0   \n",
       "\n",
       "   mins_dusk  mins_stop_time  mins_before_dusk  itp  dark  \n",
       "0     1266.0          1336.0             -70.0    0     1  \n",
       "1     1217.0           970.0             247.0    0     0  "
      ]
     },
     "execution_count": 20,
     "metadata": {},
     "output_type": "execute_result"
    }
   ],
   "source": [
    "OAK_later.to_csv('ALL-OAKLAND-AB953-DUSK.csv',index=False)\n",
    "OAK_later.head(2)"
   ]
  },
  {
   "cell_type": "markdown",
   "id": "7db05898",
   "metadata": {},
   "source": [
    "## WAVES 3-4"
   ]
  },
  {
   "cell_type": "markdown",
   "id": "29352269",
   "metadata": {},
   "source": [
    "### BERKELEY"
   ]
  },
  {
   "cell_type": "code",
   "execution_count": 13,
   "id": "6f50e11f",
   "metadata": {},
   "outputs": [
    {
     "data": {
      "text/plain": [
       "Index(['date', 'time', 'race', 'race perceived prior', 'type', 'location'], dtype='object')"
      ]
     },
     "execution_count": 13,
     "metadata": {},
     "output_type": "execute_result"
    }
   ],
   "source": [
    "berk = pd.read_csv('ALL-BPD-AB953.csv')\n",
    "berk['time'] = berk['time'].astype(str) + ':00'\n",
    "berk_later = berk[berk['time']>'15:00:00']\n",
    "berk_later.columns"
   ]
  },
  {
   "cell_type": "code",
   "execution_count": 14,
   "id": "cd9470ec",
   "metadata": {},
   "outputs": [
    {
     "name": "stdout",
     "output_type": "stream",
     "text": [
      "debug LocationInfo(name='Berkeley', region='CA, USA', timezone='America/Los_Angeles', latitude=37.8715, longitude=-122.273)\n"
     ]
    }
   ],
   "source": [
    "warnings.filterwarnings(\"ignore\") \n",
    "add_dusk_cols(berk_later,'date','time','Berkeley',37.8715,-122.2730)"
   ]
  },
  {
   "cell_type": "code",
   "execution_count": 15,
   "id": "449fb2ca",
   "metadata": {},
   "outputs": [
    {
     "data": {
      "text/html": [
       "<div>\n",
       "<style scoped>\n",
       "    .dataframe tbody tr th:only-of-type {\n",
       "        vertical-align: middle;\n",
       "    }\n",
       "\n",
       "    .dataframe tbody tr th {\n",
       "        vertical-align: top;\n",
       "    }\n",
       "\n",
       "    .dataframe thead th {\n",
       "        text-align: right;\n",
       "    }\n",
       "</style>\n",
       "<table border=\"1\" class=\"dataframe\">\n",
       "  <thead>\n",
       "    <tr style=\"text-align: right;\">\n",
       "      <th></th>\n",
       "      <th>date</th>\n",
       "      <th>time</th>\n",
       "      <th>race</th>\n",
       "      <th>race perceived prior</th>\n",
       "      <th>type</th>\n",
       "      <th>location</th>\n",
       "      <th>sunsettime</th>\n",
       "      <th>dusktime</th>\n",
       "      <th>mins_sunset</th>\n",
       "      <th>mins_dusk</th>\n",
       "      <th>mins_stop_time</th>\n",
       "      <th>mins_before_dusk</th>\n",
       "      <th>itp</th>\n",
       "      <th>dark</th>\n",
       "    </tr>\n",
       "  </thead>\n",
       "  <tbody>\n",
       "    <tr>\n",
       "      <th>3</th>\n",
       "      <td>2020-10-01</td>\n",
       "      <td>1900-01-01 22:26:00</td>\n",
       "      <td>hispanic/latino</td>\n",
       "      <td>False</td>\n",
       "      <td>Non-moving violation / including registration</td>\n",
       "      <td>1600 block of Cedar St</td>\n",
       "      <td>18:50:54</td>\n",
       "      <td>19:17:35</td>\n",
       "      <td>1131.0</td>\n",
       "      <td>1158.0</td>\n",
       "      <td>1346.0</td>\n",
       "      <td>-188.0</td>\n",
       "      <td>0</td>\n",
       "      <td>1</td>\n",
       "    </tr>\n",
       "    <tr>\n",
       "      <th>4</th>\n",
       "      <td>2020-10-01</td>\n",
       "      <td>1900-01-01 23:18:00</td>\n",
       "      <td>black/african american</td>\n",
       "      <td>False</td>\n",
       "      <td>Moving Violation</td>\n",
       "      <td>700 block of Carleton St</td>\n",
       "      <td>18:50:54</td>\n",
       "      <td>19:17:35</td>\n",
       "      <td>1131.0</td>\n",
       "      <td>1158.0</td>\n",
       "      <td>1398.0</td>\n",
       "      <td>-240.0</td>\n",
       "      <td>0</td>\n",
       "      <td>1</td>\n",
       "    </tr>\n",
       "  </tbody>\n",
       "</table>\n",
       "</div>"
      ],
      "text/plain": [
       "        date                time                    race  \\\n",
       "3 2020-10-01 1900-01-01 22:26:00         hispanic/latino   \n",
       "4 2020-10-01 1900-01-01 23:18:00  black/african american   \n",
       "\n",
       "   race perceived prior                                           type  \\\n",
       "3                 False  Non-moving violation / including registration   \n",
       "4                 False                               Moving Violation   \n",
       "\n",
       "                   location sunsettime  dusktime  mins_sunset  mins_dusk  \\\n",
       "3    1600 block of Cedar St   18:50:54  19:17:35       1131.0     1158.0   \n",
       "4  700 block of Carleton St   18:50:54  19:17:35       1131.0     1158.0   \n",
       "\n",
       "   mins_stop_time  mins_before_dusk  itp  dark  \n",
       "3          1346.0            -188.0    0     1  \n",
       "4          1398.0            -240.0    0     1  "
      ]
     },
     "execution_count": 15,
     "metadata": {},
     "output_type": "execute_result"
    }
   ],
   "source": [
    "berk_later.to_csv('ALL-BPD-AB953-DUSK.csv',index=False)\n",
    "berk_later.head(2)"
   ]
  },
  {
   "cell_type": "markdown",
   "id": "6fcf9926",
   "metadata": {},
   "source": [
    "### MARIN"
   ]
  },
  {
   "cell_type": "code",
   "execution_count": 27,
   "id": "dddf191d",
   "metadata": {},
   "outputs": [
    {
     "data": {
      "text/plain": [
       "Index(['date', 'time', 'race', 'type', 'race perceived prior', 'experience',\n",
       "       'location'],\n",
       "      dtype='object')"
      ]
     },
     "execution_count": 27,
     "metadata": {},
     "output_type": "execute_result"
    }
   ],
   "source": [
    "marin = pd.read_csv('ALL-MARIN-AB953.csv')\n",
    "marin_later = marin[marin['time']>'15:00:00']\n",
    "marin_later.columns"
   ]
  },
  {
   "cell_type": "code",
   "execution_count": 28,
   "id": "777ad2d5",
   "metadata": {},
   "outputs": [
    {
     "name": "stdout",
     "output_type": "stream",
     "text": [
      "debug LocationInfo(name='Marin', region='CA, USA', timezone='America/Los_Angeles', latitude=38.0834, longitude=-122.7633)\n"
     ]
    }
   ],
   "source": [
    "warnings.filterwarnings(\"ignore\") \n",
    "add_dusk_cols(marin_later,'date','time','Marin',38.0834,-122.7633)"
   ]
  },
  {
   "cell_type": "code",
   "execution_count": 29,
   "id": "c0e1d970",
   "metadata": {},
   "outputs": [
    {
     "data": {
      "text/html": [
       "<div>\n",
       "<style scoped>\n",
       "    .dataframe tbody tr th:only-of-type {\n",
       "        vertical-align: middle;\n",
       "    }\n",
       "\n",
       "    .dataframe tbody tr th {\n",
       "        vertical-align: top;\n",
       "    }\n",
       "\n",
       "    .dataframe thead th {\n",
       "        text-align: right;\n",
       "    }\n",
       "</style>\n",
       "<table border=\"1\" class=\"dataframe\">\n",
       "  <thead>\n",
       "    <tr style=\"text-align: right;\">\n",
       "      <th></th>\n",
       "      <th>date</th>\n",
       "      <th>time</th>\n",
       "      <th>race</th>\n",
       "      <th>type</th>\n",
       "      <th>race perceived prior</th>\n",
       "      <th>experience</th>\n",
       "      <th>location</th>\n",
       "      <th>sunsettime</th>\n",
       "      <th>dusktime</th>\n",
       "      <th>mins_sunset</th>\n",
       "      <th>mins_dusk</th>\n",
       "      <th>mins_stop_time</th>\n",
       "      <th>mins_before_dusk</th>\n",
       "      <th>itp</th>\n",
       "      <th>dark</th>\n",
       "    </tr>\n",
       "  </thead>\n",
       "  <tbody>\n",
       "    <tr>\n",
       "      <th>0</th>\n",
       "      <td>2020-09-30 22:30:00</td>\n",
       "      <td>1900-01-01 22:30:00</td>\n",
       "      <td>hispanic/latino(a)</td>\n",
       "      <td>2_Equipment violation</td>\n",
       "      <td>NaN</td>\n",
       "      <td>0.0</td>\n",
       "      <td>2000 sir Francis drake Blvd</td>\n",
       "      <td>18:54:19</td>\n",
       "      <td>19:21:04</td>\n",
       "      <td>1134.0</td>\n",
       "      <td>1161.0</td>\n",
       "      <td>1350.0</td>\n",
       "      <td>-189.0</td>\n",
       "      <td>0</td>\n",
       "      <td>1</td>\n",
       "    </tr>\n",
       "    <tr>\n",
       "      <th>5</th>\n",
       "      <td>2020-10-01 15:50:00</td>\n",
       "      <td>1900-01-01 15:50:00</td>\n",
       "      <td>hispanic/latino(a)</td>\n",
       "      <td>1_Moving violation</td>\n",
       "      <td>NaN</td>\n",
       "      <td>17.0</td>\n",
       "      <td>3000 bridge way</td>\n",
       "      <td>18:52:47</td>\n",
       "      <td>19:19:32</td>\n",
       "      <td>1133.0</td>\n",
       "      <td>1160.0</td>\n",
       "      <td>950.0</td>\n",
       "      <td>210.0</td>\n",
       "      <td>0</td>\n",
       "      <td>0</td>\n",
       "    </tr>\n",
       "  </tbody>\n",
       "</table>\n",
       "</div>"
      ],
      "text/plain": [
       "                 date                time                race  \\\n",
       "0 2020-09-30 22:30:00 1900-01-01 22:30:00  hispanic/latino(a)   \n",
       "5 2020-10-01 15:50:00 1900-01-01 15:50:00  hispanic/latino(a)   \n",
       "\n",
       "                    type race perceived prior  experience  \\\n",
       "0  2_Equipment violation                  NaN         0.0   \n",
       "5     1_Moving violation                  NaN        17.0   \n",
       "\n",
       "                       location sunsettime  dusktime  mins_sunset  mins_dusk  \\\n",
       "0  2000 sir Francis drake Blvd    18:54:19  19:21:04       1134.0     1161.0   \n",
       "5              3000 bridge way    18:52:47  19:19:32       1133.0     1160.0   \n",
       "\n",
       "   mins_stop_time  mins_before_dusk  itp  dark  \n",
       "0          1350.0            -189.0    0     1  \n",
       "5           950.0             210.0    0     0  "
      ]
     },
     "execution_count": 29,
     "metadata": {},
     "output_type": "execute_result"
    }
   ],
   "source": [
    "marin_later.to_csv('ALL-MARIN-AB953-DUSK.csv',index=False)\n",
    "marin_later.head(2)"
   ]
  },
  {
   "cell_type": "code",
   "execution_count": null,
   "id": "5bb71e3c",
   "metadata": {},
   "outputs": [],
   "source": []
  }
 ],
 "metadata": {
  "kernelspec": {
   "display_name": "VOD",
   "language": "python",
   "name": "vod"
  },
  "language_info": {
   "codemirror_mode": {
    "name": "ipython",
    "version": 3
   },
   "file_extension": ".py",
   "mimetype": "text/x-python",
   "name": "python",
   "nbconvert_exporter": "python",
   "pygments_lexer": "ipython3",
   "version": "3.10.6"
  }
 },
 "nbformat": 4,
 "nbformat_minor": 5
}
