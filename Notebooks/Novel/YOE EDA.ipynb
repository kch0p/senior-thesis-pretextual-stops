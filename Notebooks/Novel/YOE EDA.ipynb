{
 "cells": [
  {
   "cell_type": "code",
   "execution_count": 11,
   "id": "98b9e8ac",
   "metadata": {},
   "outputs": [],
   "source": [
    "import pandas as pd\n",
    "import numpy as np\n",
    "\n",
    "from scipy import stats\n",
    "from scipy.stats import bootstrap\n",
    "\n",
    "import matplotlib.pyplot as plt\n",
    "from time import time"
   ]
  },
  {
   "cell_type": "code",
   "execution_count": 12,
   "id": "6d4cdbdb",
   "metadata": {},
   "outputs": [
    {
     "name": "stdout",
     "output_type": "stream",
     "text": [
      "/Users/karatechop/Documents/GitHub/senior-thesis-pretextual-stops/Data/Formatted with YOE\n"
     ]
    }
   ],
   "source": [
    "cd /Users/karatechop/Documents/GitHub/senior-thesis-pretextual-stops/Data/Formatted with YOE"
   ]
  },
  {
   "cell_type": "code",
   "execution_count": 13,
   "id": "c6f3a550",
   "metadata": {},
   "outputs": [
    {
     "name": "stdout",
     "output_type": "stream",
     "text": [
      "ALL-BPD-AB953-DUSK-LOC.csv    ALL-SDPD-AB953.csv\r\n",
      "ALL-BPD-AB953.csv             ALL-SFPD-AB953-DUSK-LOC.csv\r\n",
      "ALL-MARIN-AB953-DUSK-LOC.csv  ALL-SFPD-AB953-DUSK.csv\r\n",
      "ALL-MARIN-AB953.csv           ALL-SFPD-AB953.csv\r\n",
      "ALL-OAKLAND-AB953-DUSK.csv    \u001b[34mfor final analysis\u001b[m\u001b[m/\r\n",
      "ALL-OAKLAND_PD-AB953.csv      marin_zips - Sheet1.csv\r\n",
      "ALL-SDPD-AB953-DUSK.csv       sf_zips.csv\r\n"
     ]
    }
   ],
   "source": [
    "ls"
   ]
  },
  {
   "cell_type": "code",
   "execution_count": 5,
   "id": "4be6ed84",
   "metadata": {},
   "outputs": [],
   "source": [
    "# import os\n",
    "# from glob import glob\n",
    "\n",
    "# PATH = os.getcwd()\n",
    "# EXT = \"*.csv\"\n",
    "\n",
    "# for path, subdir, files in os.walk(PATH):\n",
    "#     for file in glob(os.path.join(path, EXT)):\n",
    "#         if '-LOC' not in file:\n",
    "#             print(file.replace('/Users/karatechop/Documents/GitHub/senior-thesis-pretextual-stops/Data/Formatted with YOE/','',\n",
    "#         )) "
   ]
  },
  {
   "cell_type": "code",
   "execution_count": 14,
   "id": "b236baf1",
   "metadata": {
    "scrolled": false
   },
   "outputs": [
    {
     "data": {
      "text/html": [
       "<div>\n",
       "<style scoped>\n",
       "    .dataframe tbody tr th:only-of-type {\n",
       "        vertical-align: middle;\n",
       "    }\n",
       "\n",
       "    .dataframe tbody tr th {\n",
       "        vertical-align: top;\n",
       "    }\n",
       "\n",
       "    .dataframe thead th {\n",
       "        text-align: right;\n",
       "    }\n",
       "</style>\n",
       "<table border=\"1\" class=\"dataframe\">\n",
       "  <thead>\n",
       "    <tr style=\"text-align: right;\">\n",
       "      <th></th>\n",
       "      <th>date</th>\n",
       "      <th>time</th>\n",
       "      <th>Experience</th>\n",
       "      <th>race</th>\n",
       "      <th>type</th>\n",
       "      <th>location</th>\n",
       "      <th>sunsettime</th>\n",
       "      <th>dusktime</th>\n",
       "      <th>mins_sunset</th>\n",
       "      <th>mins_dusk</th>\n",
       "      <th>mins_stop_time</th>\n",
       "      <th>mins_before_dusk</th>\n",
       "      <th>itp</th>\n",
       "      <th>dark</th>\n",
       "      <th>hour</th>\n",
       "    </tr>\n",
       "  </thead>\n",
       "  <tbody>\n",
       "    <tr>\n",
       "      <th>0</th>\n",
       "      <td>2018-07-01</td>\n",
       "      <td>1900-01-01 18:11:00</td>\n",
       "      <td>3.0</td>\n",
       "      <td>hispanic/latino(a)</td>\n",
       "      <td>1 Moving</td>\n",
       "      <td>MISSION ST &amp; 8TH ST</td>\n",
       "      <td>20:35:16</td>\n",
       "      <td>21:07:00</td>\n",
       "      <td>1235.0</td>\n",
       "      <td>1267.0</td>\n",
       "      <td>1091.0</td>\n",
       "      <td>176.0</td>\n",
       "      <td>1</td>\n",
       "      <td>0</td>\n",
       "      <td>18</td>\n",
       "    </tr>\n",
       "    <tr>\n",
       "      <th>1</th>\n",
       "      <td>2018-07-01</td>\n",
       "      <td>1900-01-01 14:34:00</td>\n",
       "      <td>19.0</td>\n",
       "      <td>asian</td>\n",
       "      <td>1 Moving</td>\n",
       "      <td>FOLSOM ST &amp; 2ND ST</td>\n",
       "      <td>20:35:16</td>\n",
       "      <td>21:07:00</td>\n",
       "      <td>1235.0</td>\n",
       "      <td>1267.0</td>\n",
       "      <td>874.0</td>\n",
       "      <td>393.0</td>\n",
       "      <td>0</td>\n",
       "      <td>0</td>\n",
       "      <td>14</td>\n",
       "    </tr>\n",
       "    <tr>\n",
       "      <th>2</th>\n",
       "      <td>2018-07-01</td>\n",
       "      <td>1900-01-01 16:26:00</td>\n",
       "      <td>1.0</td>\n",
       "      <td>hispanic/latino(a)</td>\n",
       "      <td>2 Equipment</td>\n",
       "      <td>SUNBEAM LN &amp; JUNIOR TER</td>\n",
       "      <td>20:35:16</td>\n",
       "      <td>21:07:00</td>\n",
       "      <td>1235.0</td>\n",
       "      <td>1267.0</td>\n",
       "      <td>986.0</td>\n",
       "      <td>281.0</td>\n",
       "      <td>0</td>\n",
       "      <td>0</td>\n",
       "      <td>16</td>\n",
       "    </tr>\n",
       "    <tr>\n",
       "      <th>3</th>\n",
       "      <td>2018-07-01</td>\n",
       "      <td>1900-01-01 12:37:00</td>\n",
       "      <td>12.0</td>\n",
       "      <td>white</td>\n",
       "      <td>1 Moving</td>\n",
       "      <td>CLOUD CIR &amp; SCIENCE CIR</td>\n",
       "      <td>20:35:16</td>\n",
       "      <td>21:07:00</td>\n",
       "      <td>1235.0</td>\n",
       "      <td>1267.0</td>\n",
       "      <td>757.0</td>\n",
       "      <td>510.0</td>\n",
       "      <td>0</td>\n",
       "      <td>0</td>\n",
       "      <td>12</td>\n",
       "    </tr>\n",
       "    <tr>\n",
       "      <th>4</th>\n",
       "      <td>2018-07-01</td>\n",
       "      <td>1900-01-01 18:34:00</td>\n",
       "      <td>17.0</td>\n",
       "      <td>middle eastern or south asian</td>\n",
       "      <td>1 Moving</td>\n",
       "      <td>S. McDonnell Rd North of Millbrae Gate</td>\n",
       "      <td>20:35:16</td>\n",
       "      <td>21:07:00</td>\n",
       "      <td>1235.0</td>\n",
       "      <td>1267.0</td>\n",
       "      <td>1114.0</td>\n",
       "      <td>153.0</td>\n",
       "      <td>1</td>\n",
       "      <td>0</td>\n",
       "      <td>18</td>\n",
       "    </tr>\n",
       "  </tbody>\n",
       "</table>\n",
       "</div>"
      ],
      "text/plain": [
       "         date                 time  Experience                           race  \\\n",
       "0  2018-07-01  1900-01-01 18:11:00         3.0             hispanic/latino(a)   \n",
       "1  2018-07-01  1900-01-01 14:34:00        19.0                          asian   \n",
       "2  2018-07-01  1900-01-01 16:26:00         1.0             hispanic/latino(a)   \n",
       "3  2018-07-01  1900-01-01 12:37:00        12.0                          white   \n",
       "4  2018-07-01  1900-01-01 18:34:00        17.0  middle eastern or south asian   \n",
       "\n",
       "          type                                location sunsettime  dusktime  \\\n",
       "0     1 Moving                     MISSION ST & 8TH ST   20:35:16  21:07:00   \n",
       "1     1 Moving                      FOLSOM ST & 2ND ST   20:35:16  21:07:00   \n",
       "2  2 Equipment                 SUNBEAM LN & JUNIOR TER   20:35:16  21:07:00   \n",
       "3     1 Moving                 CLOUD CIR & SCIENCE CIR   20:35:16  21:07:00   \n",
       "4     1 Moving  S. McDonnell Rd North of Millbrae Gate   20:35:16  21:07:00   \n",
       "\n",
       "   mins_sunset  mins_dusk  mins_stop_time  mins_before_dusk  itp  dark  hour  \n",
       "0       1235.0     1267.0          1091.0             176.0    1     0    18  \n",
       "1       1235.0     1267.0           874.0             393.0    0     0    14  \n",
       "2       1235.0     1267.0           986.0             281.0    0     0    16  \n",
       "3       1235.0     1267.0           757.0             510.0    0     0    12  \n",
       "4       1235.0     1267.0          1114.0             153.0    1     0    18  "
      ]
     },
     "execution_count": 14,
     "metadata": {},
     "output_type": "execute_result"
    }
   ],
   "source": [
    "SFPD = pd.read_csv('ALL-SFPD-AB953-DUSK.csv')\n",
    "SFPD['hour'] = pd.to_datetime(SFPD['time']).dt.hour\n",
    "SFPD_EDA = SFPD[(SFPD['hour']>=4)&(SFPD['hour']<=23)]\n",
    "SFPD_EDA_day = SFPD_EDA[SFPD_EDA['dark']==0]\n",
    "SFPD_EDA_night = SFPD_EDA[SFPD_EDA['dark']==1]\n",
    "SFPD_EDA.head()"
   ]
  },
  {
   "cell_type": "code",
   "execution_count": 25,
   "id": "b2ac9e6b",
   "metadata": {
    "scrolled": false
   },
   "outputs": [
    {
     "data": {
      "text/plain": [
       "([<matplotlib.axis.XTick at 0x7fac2bd46110>,\n",
       "  <matplotlib.axis.XTick at 0x7fac2bd460e0>,\n",
       "  <matplotlib.axis.XTick at 0x7fac2bd45780>,\n",
       "  <matplotlib.axis.XTick at 0x7fac2bd8ecb0>,\n",
       "  <matplotlib.axis.XTick at 0x7fac2bd8f400>,\n",
       "  <matplotlib.axis.XTick at 0x7fac2bd8fb50>,\n",
       "  <matplotlib.axis.XTick at 0x7fac0b3882e0>,\n",
       "  <matplotlib.axis.XTick at 0x7fac2bd8fe20>,\n",
       "  <matplotlib.axis.XTick at 0x7fac2bd8eda0>,\n",
       "  <matplotlib.axis.XTick at 0x7fac0b388d30>,\n",
       "  <matplotlib.axis.XTick at 0x7fac0b389480>,\n",
       "  <matplotlib.axis.XTick at 0x7fac0b389bd0>,\n",
       "  <matplotlib.axis.XTick at 0x7fac0b38a320>,\n",
       "  <matplotlib.axis.XTick at 0x7fac0b38aa70>,\n",
       "  <matplotlib.axis.XTick at 0x7fac0b38aa40>,\n",
       "  <matplotlib.axis.XTick at 0x7fac0b389b40>,\n",
       "  <matplotlib.axis.XTick at 0x7fac0b3889d0>,\n",
       "  <matplotlib.axis.XTick at 0x7fac0b38b6d0>,\n",
       "  <matplotlib.axis.XTick at 0x7fac0b38be20>,\n",
       "  <matplotlib.axis.XTick at 0x7fac0b3505b0>,\n",
       "  <matplotlib.axis.XTick at 0x7fac0b350d00>,\n",
       "  <matplotlib.axis.XTick at 0x7fac0b38b640>,\n",
       "  <matplotlib.axis.XTick at 0x7fac2bd8f430>,\n",
       "  <matplotlib.axis.XTick at 0x7fac0b3510f0>],\n",
       " [Text(0, 0, ''),\n",
       "  Text(0, 0, ''),\n",
       "  Text(0, 0, ''),\n",
       "  Text(0, 0, ''),\n",
       "  Text(0, 0, ''),\n",
       "  Text(0, 0, ''),\n",
       "  Text(0, 0, ''),\n",
       "  Text(0, 0, ''),\n",
       "  Text(0, 0, ''),\n",
       "  Text(0, 0, ''),\n",
       "  Text(0, 0, ''),\n",
       "  Text(0, 0, ''),\n",
       "  Text(0, 0, ''),\n",
       "  Text(0, 0, ''),\n",
       "  Text(0, 0, ''),\n",
       "  Text(0, 0, ''),\n",
       "  Text(0, 0, ''),\n",
       "  Text(0, 0, ''),\n",
       "  Text(0, 0, ''),\n",
       "  Text(0, 0, ''),\n",
       "  Text(0, 0, ''),\n",
       "  Text(0, 0, ''),\n",
       "  Text(0, 0, ''),\n",
       "  Text(0, 0, '')])"
      ]
     },
     "execution_count": 25,
     "metadata": {},
     "output_type": "execute_result"
    },
    {
     "data": {
      "image/png": "[encoded data removed]",
      "text/plain": [
       "<Figure size 640x480 with 1 Axes>"
      ]
     },
     "metadata": {},
     "output_type": "display_data"
    }
   ],
   "source": [
    "SFPD_hourly = SFPD[['Experience','hour']].groupby('hour',as_index=False).mean().rename(columns={'Experience':'avg experience'})\n",
    "SFPD_hourly\n",
    "plt.plot(SFPD_hourly['hour'],SFPD_hourly['avg experience'])\n",
    "plt.xlim(-1,24)\n",
    "plt.xticks(np.arange(0,24))"
   ]
  },
  {
   "cell_type": "code",
   "execution_count": 16,
   "id": "9cf7cc1c",
   "metadata": {
    "scrolled": true
   },
   "outputs": [
    {
     "name": "stderr",
     "output_type": "stream",
     "text": [
      "/var/folders/td/yc8lq2qx2ks3ck292tbf6wtm0000gn/T/ipykernel_4553/2659710061.py:2: SettingWithCopyWarning: \n",
      "A value is trying to be set on a copy of a slice from a DataFrame.\n",
      "Try using .loc[row_indexer,col_indexer] = value instead\n",
      "\n",
      "See the caveats in the documentation: https://pandas.pydata.org/pandas-docs/stable/user_guide/indexing.html#returning-a-view-versus-a-copy\n",
      "  SFPD_officers.loc[(SFPD_officers['hour']>=9) & (SFPD_officers['hour']<=17),'shift cat'] = '9-5'\n"
     ]
    }
   ],
   "source": [
    "SFPD_officers = SFPD[['Experience','hour']]\n",
    "SFPD_officers.loc[(SFPD_officers['hour']>=9) & (SFPD_officers['hour']<=17),'shift cat'] = '9-5'\n",
    "SFPD_officers.loc[(SFPD_officers['shift cat'].isna()),'shift cat'] = 'else'\n"
   ]
  },
  {
   "cell_type": "code",
   "execution_count": 147,
   "id": "e2d7193a",
   "metadata": {
    "scrolled": true
   },
   "outputs": [
    {
     "data": {
      "text/plain": [
       "(94855, 15)"
      ]
     },
     "execution_count": 147,
     "metadata": {},
     "output_type": "execute_result"
    }
   ],
   "source": [
    "SFPD_EDA_day.shape"
   ]
  },
  {
   "cell_type": "code",
   "execution_count": 21,
   "id": "1efac7fc",
   "metadata": {
    "scrolled": true
   },
   "outputs": [
    {
     "name": "stdout",
     "output_type": "stream",
     "text": [
      "Test statistic is 96.767290\n",
      "p-value for two tailed test is 0.000000\n"
     ]
    }
   ],
   "source": [
    "from scipy.stats import ttest_ind\n",
    "\n",
    "group_a = SFPD_EDA_day['Experience']\n",
    "group_b = SFPD_EDA_night['Experience']\n",
    "\n",
    "t_value,p_value=stats.ttest_ind(group_a,group_b,equal_var=True)\n",
    "\n",
    "print('Test statistic is %f'%float(\"{:.6f}\".format(t_value)))\n",
    "\n",
    "print('p-value for two tailed test is %f'%p_value)\n"
   ]
  },
  {
   "cell_type": "code",
   "execution_count": 9,
   "id": "b4d70d5b",
   "metadata": {},
   "outputs": [
    {
     "ename": "NameError",
     "evalue": "name 'SFPD_officers' is not defined",
     "output_type": "error",
     "traceback": [
      "\u001b[0;31m---------------------------------------------------------------------------\u001b[0m",
      "\u001b[0;31mNameError\u001b[0m                                 Traceback (most recent call last)",
      "Input \u001b[0;32mIn [9]\u001b[0m, in \u001b[0;36m<cell line: 3>\u001b[0;34m()\u001b[0m\n\u001b[1;32m      1\u001b[0m \u001b[38;5;28;01mfrom\u001b[39;00m \u001b[38;5;21;01mscipy\u001b[39;00m\u001b[38;5;21;01m.\u001b[39;00m\u001b[38;5;21;01mstats\u001b[39;00m \u001b[38;5;28;01mimport\u001b[39;00m ttest_ind\n\u001b[0;32m----> 3\u001b[0m group_a \u001b[38;5;241m=\u001b[39m \u001b[43mSFPD_officers\u001b[49m[SFPD_officers[\u001b[38;5;124m'\u001b[39m\u001b[38;5;124mshift cat\u001b[39m\u001b[38;5;124m'\u001b[39m]\u001b[38;5;241m==\u001b[39m\u001b[38;5;124m'\u001b[39m\u001b[38;5;124m9-5\u001b[39m\u001b[38;5;124m'\u001b[39m][\u001b[38;5;124m'\u001b[39m\u001b[38;5;124mExperience\u001b[39m\u001b[38;5;124m'\u001b[39m]\n\u001b[1;32m      4\u001b[0m group_b \u001b[38;5;241m=\u001b[39m SFPD_officers[SFPD_officers[\u001b[38;5;124m'\u001b[39m\u001b[38;5;124mshift cat\u001b[39m\u001b[38;5;124m'\u001b[39m]\u001b[38;5;241m!=\u001b[39m\u001b[38;5;124m'\u001b[39m\u001b[38;5;124m9-5\u001b[39m\u001b[38;5;124m'\u001b[39m][\u001b[38;5;124m'\u001b[39m\u001b[38;5;124mExperience\u001b[39m\u001b[38;5;124m'\u001b[39m]\n\u001b[1;32m      6\u001b[0m t_value,p_value\u001b[38;5;241m=\u001b[39mstats\u001b[38;5;241m.\u001b[39mttest_ind(group_a,group_b)\n",
      "\u001b[0;31mNameError\u001b[0m: name 'SFPD_officers' is not defined"
     ]
    }
   ],
   "source": [
    "from scipy.stats import ttest_ind\n",
    "\n",
    "group_a = SFPD_officers[SFPD_officers['shift cat']=='9-5']['Experience']\n",
    "group_b = SFPD_officers[SFPD_officers['shift cat']!='9-5']['Experience']\n",
    "\n",
    "t_value,p_value=stats.ttest_ind(group_a,group_b)\n",
    "\n",
    "print('Test statistic is %f'%float(\"{:.6f}\".format(t_value)))\n",
    "\n",
    "print('p-value for two tailed test is %f'%p_value)\n",
    "\n",
    "alpha = 0.05"
   ]
  },
  {
   "cell_type": "code",
   "execution_count": 140,
   "id": "774c9863",
   "metadata": {},
   "outputs": [
    {
     "name": "stdout",
     "output_type": "stream",
     "text": [
      "standard error: 0.06\n",
      "\n",
      "CI: [5.94 6.12]\n",
      "p_val_null: 0.000\n"
     ]
    }
   ],
   "source": [
    "diffs = []\n",
    "\n",
    "def bootstrap_mean(df, varname):\n",
    "    bootstrapped = df.sample(n=len(df), replace=True)\n",
    "    return bootstrapped[varname].mean()\n",
    "\n",
    "\n",
    "for i in range(10000):\n",
    "    day_mean = bootstrap_mean(SFPD_EDA_day,'Experience')\n",
    "    night_mean = bootstrap_mean(SFPD_EDA_night,'Experience')\n",
    "    diffs.append(day_mean-night_mean)\n",
    "\n",
    "SE = np.std(diffs).round(2)\n",
    "CI95 = np.percentile(diffs, [5, 95]).round(2)\n",
    "# p_val = np.logical_or(np.array(diffs) >= observed_diff, np.array(diffs) <= -observed_diff).mean()\n",
    "null = [i for i in diffs if i==0]\n",
    "p_val_null = len(null)/len(diffs) \n",
    "\n",
    "print(f\"standard error: {SE}\\n\\nCI: {CI95}\\np_val_null: {p_val_null:.3f}\")"
   ]
  },
  {
   "cell_type": "code",
   "execution_count": null,
   "id": "d89ed519",
   "metadata": {},
   "outputs": [],
   "source": [
    "data = (SFPD_EDA_day['Experience'].astype(int).values,)  # samples must be in a sequence\n",
    "data\n",
    "\n",
    "res = bootstrap(data, np.std,n_resamples=10, confidence_level=0.95)\n",
    "res"
   ]
  },
  {
   "cell_type": "code",
   "execution_count": 35,
   "id": "98070616",
   "metadata": {},
   "outputs": [
    {
     "data": {
      "image/png": "[encoded data removed]",
      "text/plain": [
       "<Figure size 640x480 with 1 Axes>"
      ]
     },
     "metadata": {},
     "output_type": "display_data"
    }
   ],
   "source": [
    "plt.hist(diffs);"
   ]
  },
  {
   "cell_type": "code",
   "execution_count": null,
   "id": "13185fb4",
   "metadata": {},
   "outputs": [],
   "source": []
  }
 ],
 "metadata": {
  "kernelspec": {
   "display_name": "VOD",
   "language": "python",
   "name": "vod"
  },
  "language_info": {
   "codemirror_mode": {
    "name": "ipython",
    "version": 3
   },
   "file_extension": ".py",
   "mimetype": "text/x-python",
   "name": "python",
   "nbconvert_exporter": "python",
   "pygments_lexer": "ipython3",
   "version": "3.10.6"
  }
 },
 "nbformat": 4,
 "nbformat_minor": 5
}
