{
 "cells": [
  {
   "cell_type": "code",
   "execution_count": 28,
   "id": "28f88b15",
   "metadata": {},
   "outputs": [],
   "source": [
    "import pandas as pd\n",
    "import numpy as np\n",
    "import os\n",
    "import sys\n",
    "from glob import glob\n",
    "import numpy as np\n",
    "import matplotlib.pyplot as plt\n",
    "import time\n",
    "import warnings\n",
    "\n",
    "import pyperclip as clip\n",
    "\n",
    "pd.set_option('display.max_columns', None)\n",
    "pd.options.display.float_format = '{:20,.2f}'.format"
   ]
  },
  {
   "cell_type": "code",
   "execution_count": 29,
   "id": "7ff14958",
   "metadata": {},
   "outputs": [
    {
     "name": "stdout",
     "output_type": "stream",
     "text": [
      "/Users/karatechop\n"
     ]
    }
   ],
   "source": [
    "cd"
   ]
  },
  {
   "cell_type": "code",
   "execution_count": 30,
   "id": "894bc186",
   "metadata": {},
   "outputs": [
    {
     "name": "stdout",
     "output_type": "stream",
     "text": [
      "/Users/karatechop/Documents/GitHub/senior-thesis-pretextual-stops/Data/RIPA-DATA-CA-as-of-2022 (CSV)/Wave 1/LAPD\n"
     ]
    }
   ],
   "source": [
    "cd /Users/karatechop/Documents/GitHub/senior-thesis-pretextual-stops/Data/RIPA-DATA-CA-as-of-2022\\ \\(CSV\\)/Wave 1/LAPD"
   ]
  },
  {
   "cell_type": "code",
   "execution_count": 31,
   "id": "4e93d3e9",
   "metadata": {
    "scrolled": true
   },
   "outputs": [
    {
     "name": "stdout",
     "output_type": "stream",
     "text": [
      "ALL-LAPD-AB953.csv   LAPD-AB953-2019.csv  LAPD-AB953-2021.csv\r\n",
      "LAPD-AB953-2018.csv  LAPD-AB953-2020.csv  dictionary.xlsx\r\n"
     ]
    }
   ],
   "source": [
    "ls"
   ]
  },
  {
   "cell_type": "code",
   "execution_count": 32,
   "id": "4b041cd3",
   "metadata": {
    "scrolled": true
   },
   "outputs": [],
   "source": [
    "warnings.filterwarnings(\"ignore\") \n",
    "\n",
    "la18 = pd.read_csv('LAPD-AB953-2018.csv')\n",
    "la19 = pd.read_csv('LAPD-AB953-2019.csv')\n",
    "la20 = pd.read_csv('LAPD-AB953-2020.csv')\n",
    "la21 = pd.read_csv('LAPD-AB953-2021.csv')\n",
    "\n",
    "la_dfs = [la18,la19,la20,la21]"
   ]
  },
  {
   "cell_type": "code",
   "execution_count": 37,
   "id": "f7673c4a",
   "metadata": {},
   "outputs": [
    {
     "data": {
      "text/plain": [
       "Index(['idx', 'Agency', 'Seq', 'txType', 'NFIA', 'StopDate', 'StopTime',\n",
       "       'Duration', 'SvcCall', 'Officer', 'Experience', 'AsgntType',\n",
       "       'Assignment', 'Proxy', 'Addr', 'City', 'K12', 'SchoolCode', 'pid',\n",
       "       'race', 'sex', 'nonConf', 'lgbt', 'age', 'noEngl', 'disab', 'student',\n",
       "       'reason', 'rsnDsc', 'tpMvViol', 'mvCJIS', 'eduCode', 'eduSub',\n",
       "       'suspCJIS', 'suspBase', 'act', 'srchBase', 'srchDsc', 'szrBase',\n",
       "       'propSzd', 'evid', 'res', 'warnCJIS', 'citCJIS', 'infCJIS', 'arrCJIS'],\n",
       "      dtype='object')"
      ]
     },
     "execution_count": 37,
     "metadata": {},
     "output_type": "execute_result"
    }
   ],
   "source": [
    "la18.columns"
   ]
  },
  {
   "cell_type": "code",
   "execution_count": 42,
   "id": "19fc6234",
   "metadata": {},
   "outputs": [
    {
     "data": {
      "text/plain": [
       "0    336681\n",
       "Name: Officer, dtype: int64"
      ]
     },
     "execution_count": 42,
     "metadata": {},
     "output_type": "execute_result"
    }
   ],
   "source": [
    "la18['Officer'].value_counts()"
   ]
  },
  {
   "cell_type": "code",
   "execution_count": 33,
   "id": "9848718a",
   "metadata": {},
   "outputs": [],
   "source": [
    "def convert_simplify(df):\n",
    "    i = df\n",
    "    i = i.rename(columns={'StopDate':'Date',\n",
    "                          'StopTime':'time',\n",
    "                          'Duration':'Duration',\n",
    "                          'Experience':'Experience',\n",
    "                          'pid':'PID',\n",
    "                          'race':'race',\n",
    "                          'sex':'sex',\n",
    "                          'age':'age',\n",
    "                          'tpMvViol':'type',\n",
    "                          'reason':'reason',\n",
    "                          'suspBase':'basis',\n",
    "                          'act':'actions taken',\n",
    "                          'srchBase':'search basis',\n",
    "                          'szrBase':'seizure basis',\n",
    "                          'propSzd':'property seized',\n",
    "                          'evid':'evidence',\n",
    "                          'res':'result',\n",
    "                          'Addr':'location'})\n",
    "\n",
    "    i = i[(i['SvcCall']!='Y')\\\n",
    "#           & ((i['type']==1) | (i['type']==2))\\\n",
    "          &  (i['AsgntType']==1)\\\n",
    "          &  (i['K12']!='Y')\\\n",
    "          &  (i['student']!='Y')]\n",
    "\n",
    "    i.loc[i['type'] == 1,'type'] = '1 Moving'\n",
    "    i.loc[i['type'] == 2,'type'] = '2 Equipment'\n",
    "    i.loc[i['type'] == 3,'type'] = '3 Non-Moving'\n",
    "    \n",
    "    try:     \n",
    "        i.loc[i['race'] == '1','race'] = 'asian'\n",
    "        i.loc[i['race'] == '2','race'] = 'black/african american'\n",
    "        i.loc[i['race'] == '3','race'] = 'hispanic/latino(a)'\n",
    "        i.loc[i['race'] == '4','race'] = 'middle eastern or south asian'\n",
    "        i.loc[i['race'] == '5','race'] = 'native american'\n",
    "        i.loc[i['race'] == '6','race'] = 'pacific islander'\n",
    "        i.loc[i['race'] == '7','race'] = 'white'\n",
    "        i.loc[i['race'] == 1,'race'] = 'asian'\n",
    "        i.loc[i['race'] == 2,'race'] = 'black/african american'\n",
    "        i.loc[i['race'] == 3,'race'] = 'hispanic/latino(a)'\n",
    "        i.loc[i['race'] == 4,'race'] = 'middle eastern or south asian'\n",
    "        i.loc[i['race'] == 5,'race'] = 'native american'\n",
    "        i.loc[i['race'] == 6,'race'] = 'pacific islander'\n",
    "        i.loc[i['race'] == 7,'race'] = 'white'\n",
    "    except: \n",
    "        print('race switch failed')\n",
    "        pass\n",
    "    \n",
    "    try: #mixed list type 1\n",
    "        mixed_list = []\n",
    "        for check in i['race']:\n",
    "            if len(check.split(','))>1:\n",
    "                mixed_list.append('mixed')\n",
    "            else: \n",
    "                mixed_list.append(check)\n",
    "        i['race'] = mixed_list\n",
    "        i['race'] = i['race'].str.lower()\n",
    "    except:\n",
    "        try: #mixed list type 2\n",
    "            mixed_list = []\n",
    "            for check in i['race']:\n",
    "                if len(check.split('or'))>1:\n",
    "                    mixed_list.append(check.split('or')[0].replace(' ',''))\n",
    "                else: \n",
    "                    mixed_list.append(check)\n",
    "            i['race'] = mixed_list\n",
    "            i['race'] = i['race'].str.lower()\n",
    "        except:    \n",
    "            print('no mixed race changes')\n",
    "            pass\n",
    "\n",
    "\n",
    "\n",
    "    \n",
    "    try: \n",
    "        i = i.drop_duplicates(subset=['stop_id'], keep='first')\n",
    "    except: \n",
    "        print('no dropped pid dupes')\n",
    "        pass\n",
    "\n",
    "    output_df = i[['Date', 'time','Duration','Experience','PID','race', 'sex','age','type',\n",
    "                   'reason','basis', 'actions taken', 'search basis', 'seizure basis','property seized', \n",
    "                   'evidence', 'result','location']]\n",
    "    \n",
    "    \n",
    "    return output_df"
   ]
  },
  {
   "cell_type": "code",
   "execution_count": 34,
   "id": "d4ab9917",
   "metadata": {},
   "outputs": [
    {
     "name": "stdout",
     "output_type": "stream",
     "text": [
      "no dropped pid dupes\n",
      "no dropped pid dupes\n",
      "formatted la2018 df is (275155, 18)\n",
      "la2018 is merged! LAPD shape is now (275155, 18)\n",
      "no dropped pid dupes\n",
      "formatted la2019 df is (607208, 18)\n",
      "la2019 is merged! LAPD shape is now (882363, 18)\n",
      "no dropped pid dupes\n",
      "formatted la2020 df is (400242, 18)\n",
      "la2020 is merged! LAPD shape is now (1282605, 18)\n",
      "no dropped pid dupes\n",
      "formatted la2021 df is (320372, 18)\n",
      "la2021 is merged! LAPD shape is now (1602977, 18)\n"
     ]
    }
   ],
   "source": [
    "year = 2018\n",
    "for i in la_dfs:  \n",
    "    if 'AB953' not in i:\n",
    "        df = convert_simplify(i)\n",
    "\n",
    "        if year == 2018:\n",
    "            LAPD = convert_simplify(la18)\n",
    "            \n",
    "        else:\n",
    "            LAPD = pd.merge(LAPD,df,how='outer')\n",
    "            \n",
    "        print(f'formatted la{year} df is {df.shape}')\n",
    "        print(f'la{year} is merged! LAPD shape is now {LAPD.shape}')\n",
    "        year+=1\n",
    "LAPD.columns = LAPD.columns.str.lower()\n",
    "LAPD.to_csv('ALL-LAPD-AB953.csv',index=False)"
   ]
  },
  {
   "cell_type": "code",
   "execution_count": 36,
   "id": "ba9e7411",
   "metadata": {},
   "outputs": [
    {
     "ename": "KeyError",
     "evalue": "'experience'",
     "output_type": "error",
     "traceback": [
      "\u001b[0;31m---------------------------------------------------------------------------\u001b[0m",
      "\u001b[0;31mKeyError\u001b[0m                                  Traceback (most recent call last)",
      "File \u001b[0;32m~/opt/anaconda3/lib/python3.9/site-packages/pandas/core/indexes/base.py:3621\u001b[0m, in \u001b[0;36mIndex.get_loc\u001b[0;34m(self, key, method, tolerance)\u001b[0m\n\u001b[1;32m   3620\u001b[0m \u001b[38;5;28;01mtry\u001b[39;00m:\n\u001b[0;32m-> 3621\u001b[0m     \u001b[38;5;28;01mreturn\u001b[39;00m \u001b[38;5;28;43mself\u001b[39;49m\u001b[38;5;241;43m.\u001b[39;49m\u001b[43m_engine\u001b[49m\u001b[38;5;241;43m.\u001b[39;49m\u001b[43mget_loc\u001b[49m\u001b[43m(\u001b[49m\u001b[43mcasted_key\u001b[49m\u001b[43m)\u001b[49m\n\u001b[1;32m   3622\u001b[0m \u001b[38;5;28;01mexcept\u001b[39;00m \u001b[38;5;167;01mKeyError\u001b[39;00m \u001b[38;5;28;01mas\u001b[39;00m err:\n",
      "File \u001b[0;32m~/opt/anaconda3/lib/python3.9/site-packages/pandas/_libs/index.pyx:136\u001b[0m, in \u001b[0;36mpandas._libs.index.IndexEngine.get_loc\u001b[0;34m()\u001b[0m\n",
      "File \u001b[0;32m~/opt/anaconda3/lib/python3.9/site-packages/pandas/_libs/index.pyx:163\u001b[0m, in \u001b[0;36mpandas._libs.index.IndexEngine.get_loc\u001b[0;34m()\u001b[0m\n",
      "File \u001b[0;32mpandas/_libs/hashtable_class_helper.pxi:5198\u001b[0m, in \u001b[0;36mpandas._libs.hashtable.PyObjectHashTable.get_item\u001b[0;34m()\u001b[0m\n",
      "File \u001b[0;32mpandas/_libs/hashtable_class_helper.pxi:5206\u001b[0m, in \u001b[0;36mpandas._libs.hashtable.PyObjectHashTable.get_item\u001b[0;34m()\u001b[0m\n",
      "\u001b[0;31mKeyError\u001b[0m: 'experience'",
      "\nThe above exception was the direct cause of the following exception:\n",
      "\u001b[0;31mKeyError\u001b[0m                                  Traceback (most recent call last)",
      "Input \u001b[0;32mIn [36]\u001b[0m, in \u001b[0;36m<cell line: 1>\u001b[0;34m()\u001b[0m\n\u001b[0;32m----> 1\u001b[0m \u001b[43mla18\u001b[49m\u001b[43m[\u001b[49m\u001b[38;5;124;43m'\u001b[39;49m\u001b[38;5;124;43mexperience\u001b[39;49m\u001b[38;5;124;43m'\u001b[39;49m\u001b[43m]\u001b[49m\u001b[38;5;241m.\u001b[39mvalue_counts()\n",
      "File \u001b[0;32m~/opt/anaconda3/lib/python3.9/site-packages/pandas/core/frame.py:3505\u001b[0m, in \u001b[0;36mDataFrame.__getitem__\u001b[0;34m(self, key)\u001b[0m\n\u001b[1;32m   3503\u001b[0m \u001b[38;5;28;01mif\u001b[39;00m \u001b[38;5;28mself\u001b[39m\u001b[38;5;241m.\u001b[39mcolumns\u001b[38;5;241m.\u001b[39mnlevels \u001b[38;5;241m>\u001b[39m \u001b[38;5;241m1\u001b[39m:\n\u001b[1;32m   3504\u001b[0m     \u001b[38;5;28;01mreturn\u001b[39;00m \u001b[38;5;28mself\u001b[39m\u001b[38;5;241m.\u001b[39m_getitem_multilevel(key)\n\u001b[0;32m-> 3505\u001b[0m indexer \u001b[38;5;241m=\u001b[39m \u001b[38;5;28;43mself\u001b[39;49m\u001b[38;5;241;43m.\u001b[39;49m\u001b[43mcolumns\u001b[49m\u001b[38;5;241;43m.\u001b[39;49m\u001b[43mget_loc\u001b[49m\u001b[43m(\u001b[49m\u001b[43mkey\u001b[49m\u001b[43m)\u001b[49m\n\u001b[1;32m   3506\u001b[0m \u001b[38;5;28;01mif\u001b[39;00m is_integer(indexer):\n\u001b[1;32m   3507\u001b[0m     indexer \u001b[38;5;241m=\u001b[39m [indexer]\n",
      "File \u001b[0;32m~/opt/anaconda3/lib/python3.9/site-packages/pandas/core/indexes/base.py:3623\u001b[0m, in \u001b[0;36mIndex.get_loc\u001b[0;34m(self, key, method, tolerance)\u001b[0m\n\u001b[1;32m   3621\u001b[0m     \u001b[38;5;28;01mreturn\u001b[39;00m \u001b[38;5;28mself\u001b[39m\u001b[38;5;241m.\u001b[39m_engine\u001b[38;5;241m.\u001b[39mget_loc(casted_key)\n\u001b[1;32m   3622\u001b[0m \u001b[38;5;28;01mexcept\u001b[39;00m \u001b[38;5;167;01mKeyError\u001b[39;00m \u001b[38;5;28;01mas\u001b[39;00m err:\n\u001b[0;32m-> 3623\u001b[0m     \u001b[38;5;28;01mraise\u001b[39;00m \u001b[38;5;167;01mKeyError\u001b[39;00m(key) \u001b[38;5;28;01mfrom\u001b[39;00m \u001b[38;5;21;01merr\u001b[39;00m\n\u001b[1;32m   3624\u001b[0m \u001b[38;5;28;01mexcept\u001b[39;00m \u001b[38;5;167;01mTypeError\u001b[39;00m:\n\u001b[1;32m   3625\u001b[0m     \u001b[38;5;66;03m# If we have a listlike key, _check_indexing_error will raise\u001b[39;00m\n\u001b[1;32m   3626\u001b[0m     \u001b[38;5;66;03m#  InvalidIndexError. Otherwise we fall through and re-raise\u001b[39;00m\n\u001b[1;32m   3627\u001b[0m     \u001b[38;5;66;03m#  the TypeError.\u001b[39;00m\n\u001b[1;32m   3628\u001b[0m     \u001b[38;5;28mself\u001b[39m\u001b[38;5;241m.\u001b[39m_check_indexing_error(key)\n",
      "\u001b[0;31mKeyError\u001b[0m: 'experience'"
     ]
    }
   ],
   "source": [
    "la18['experience'].value_counts()"
   ]
  },
  {
   "cell_type": "code",
   "execution_count": 13,
   "id": "4a123c83",
   "metadata": {},
   "outputs": [
    {
     "name": "stdout",
     "output_type": "stream",
     "text": [
      "/Users/karatechop/Documents/GitHub/senior-thesis-pretextual-stops/Data/RIPA-DATA-CA-as-of-2022 (CSV)\n"
     ]
    }
   ],
   "source": [
    "cd /Users/karatechop/Documents/GitHub/senior-thesis-pretextual-stops/Data/RIPA-DATA-CA-as-of-2022\\ \\(CSV\\)"
   ]
  },
  {
   "cell_type": "code",
   "execution_count": 14,
   "id": "bb8d9975",
   "metadata": {},
   "outputs": [
    {
     "ename": "KeyError",
     "evalue": "'duration'",
     "output_type": "error",
     "traceback": [
      "\u001b[0;31m---------------------------------------------------------------------------\u001b[0m",
      "\u001b[0;31mKeyError\u001b[0m                                  Traceback (most recent call last)",
      "File \u001b[0;32m~/opt/anaconda3/lib/python3.9/site-packages/pandas/core/indexes/base.py:3621\u001b[0m, in \u001b[0;36mIndex.get_loc\u001b[0;34m(self, key, method, tolerance)\u001b[0m\n\u001b[1;32m   3620\u001b[0m \u001b[38;5;28;01mtry\u001b[39;00m:\n\u001b[0;32m-> 3621\u001b[0m     \u001b[38;5;28;01mreturn\u001b[39;00m \u001b[38;5;28;43mself\u001b[39;49m\u001b[38;5;241;43m.\u001b[39;49m\u001b[43m_engine\u001b[49m\u001b[38;5;241;43m.\u001b[39;49m\u001b[43mget_loc\u001b[49m\u001b[43m(\u001b[49m\u001b[43mcasted_key\u001b[49m\u001b[43m)\u001b[49m\n\u001b[1;32m   3622\u001b[0m \u001b[38;5;28;01mexcept\u001b[39;00m \u001b[38;5;167;01mKeyError\u001b[39;00m \u001b[38;5;28;01mas\u001b[39;00m err:\n",
      "File \u001b[0;32m~/opt/anaconda3/lib/python3.9/site-packages/pandas/_libs/index.pyx:136\u001b[0m, in \u001b[0;36mpandas._libs.index.IndexEngine.get_loc\u001b[0;34m()\u001b[0m\n",
      "File \u001b[0;32m~/opt/anaconda3/lib/python3.9/site-packages/pandas/_libs/index.pyx:163\u001b[0m, in \u001b[0;36mpandas._libs.index.IndexEngine.get_loc\u001b[0;34m()\u001b[0m\n",
      "File \u001b[0;32mpandas/_libs/hashtable_class_helper.pxi:5198\u001b[0m, in \u001b[0;36mpandas._libs.hashtable.PyObjectHashTable.get_item\u001b[0;34m()\u001b[0m\n",
      "File \u001b[0;32mpandas/_libs/hashtable_class_helper.pxi:5206\u001b[0m, in \u001b[0;36mpandas._libs.hashtable.PyObjectHashTable.get_item\u001b[0;34m()\u001b[0m\n",
      "\u001b[0;31mKeyError\u001b[0m: 'duration'",
      "\nThe above exception was the direct cause of the following exception:\n",
      "\u001b[0;31mKeyError\u001b[0m                                  Traceback (most recent call last)",
      "Input \u001b[0;32mIn [14]\u001b[0m, in \u001b[0;36m<cell line: 3>\u001b[0;34m()\u001b[0m\n\u001b[1;32m      1\u001b[0m LAPD\u001b[38;5;241m.\u001b[39mloc[LAPD[\u001b[38;5;124m'\u001b[39m\u001b[38;5;124mtype\u001b[39m\u001b[38;5;124m'\u001b[39m]\u001b[38;5;241m==\u001b[39m\u001b[38;5;124m'\u001b[39m\u001b[38;5;124mmiddle eastern or south asian\u001b[39m\u001b[38;5;124m'\u001b[39m,\u001b[38;5;124m'\u001b[39m\u001b[38;5;124mtype\u001b[39m\u001b[38;5;124m'\u001b[39m]\u001b[38;5;241m=\u001b[39m\u001b[38;5;28;01mNone\u001b[39;00m\n\u001b[1;32m      2\u001b[0m LAPD\u001b[38;5;241m.\u001b[39mloc[LAPD[\u001b[38;5;124m'\u001b[39m\u001b[38;5;124mtype\u001b[39m\u001b[38;5;124m'\u001b[39m]\u001b[38;5;241m==\u001b[39m\u001b[38;5;124m'\u001b[39m\u001b[38;5;124mmiddle eastern or south asian\u001b[39m\u001b[38;5;124m'\u001b[39m,\u001b[38;5;124m'\u001b[39m\u001b[38;5;124mtype\u001b[39m\u001b[38;5;124m'\u001b[39m]\u001b[38;5;241m=\u001b[39m\u001b[38;5;28;01mNone\u001b[39;00m\n\u001b[0;32m----> 3\u001b[0m LAPD\u001b[38;5;241m.\u001b[39mloc[\u001b[43mLAPD\u001b[49m\u001b[43m[\u001b[49m\u001b[38;5;124;43m'\u001b[39;49m\u001b[38;5;124;43mduration\u001b[39;49m\u001b[38;5;124;43m'\u001b[39;49m\u001b[43m]\u001b[49m\u001b[38;5;241m==\u001b[39m\u001b[38;5;124m'\u001b[39m\u001b[38;5;124m0-9\u001b[39m\u001b[38;5;124m'\u001b[39m,\u001b[38;5;124m'\u001b[39m\u001b[38;5;124mduration\u001b[39m\u001b[38;5;124m'\u001b[39m]\u001b[38;5;241m=\u001b[39m\u001b[38;5;241m5\u001b[39m\n\u001b[1;32m      6\u001b[0m type_list\u001b[38;5;241m=\u001b[39m[]\n\u001b[1;32m      7\u001b[0m LAPD[\u001b[38;5;124m'\u001b[39m\u001b[38;5;124mtype\u001b[39m\u001b[38;5;124m'\u001b[39m] \u001b[38;5;241m=\u001b[39m LAPD[\u001b[38;5;124m'\u001b[39m\u001b[38;5;124mtype\u001b[39m\u001b[38;5;124m'\u001b[39m]\u001b[38;5;241m.\u001b[39mastype(\u001b[38;5;28mstr\u001b[39m)\n",
      "File \u001b[0;32m~/opt/anaconda3/lib/python3.9/site-packages/pandas/core/frame.py:3505\u001b[0m, in \u001b[0;36mDataFrame.__getitem__\u001b[0;34m(self, key)\u001b[0m\n\u001b[1;32m   3503\u001b[0m \u001b[38;5;28;01mif\u001b[39;00m \u001b[38;5;28mself\u001b[39m\u001b[38;5;241m.\u001b[39mcolumns\u001b[38;5;241m.\u001b[39mnlevels \u001b[38;5;241m>\u001b[39m \u001b[38;5;241m1\u001b[39m:\n\u001b[1;32m   3504\u001b[0m     \u001b[38;5;28;01mreturn\u001b[39;00m \u001b[38;5;28mself\u001b[39m\u001b[38;5;241m.\u001b[39m_getitem_multilevel(key)\n\u001b[0;32m-> 3505\u001b[0m indexer \u001b[38;5;241m=\u001b[39m \u001b[38;5;28;43mself\u001b[39;49m\u001b[38;5;241;43m.\u001b[39;49m\u001b[43mcolumns\u001b[49m\u001b[38;5;241;43m.\u001b[39;49m\u001b[43mget_loc\u001b[49m\u001b[43m(\u001b[49m\u001b[43mkey\u001b[49m\u001b[43m)\u001b[49m\n\u001b[1;32m   3506\u001b[0m \u001b[38;5;28;01mif\u001b[39;00m is_integer(indexer):\n\u001b[1;32m   3507\u001b[0m     indexer \u001b[38;5;241m=\u001b[39m [indexer]\n",
      "File \u001b[0;32m~/opt/anaconda3/lib/python3.9/site-packages/pandas/core/indexes/base.py:3623\u001b[0m, in \u001b[0;36mIndex.get_loc\u001b[0;34m(self, key, method, tolerance)\u001b[0m\n\u001b[1;32m   3621\u001b[0m     \u001b[38;5;28;01mreturn\u001b[39;00m \u001b[38;5;28mself\u001b[39m\u001b[38;5;241m.\u001b[39m_engine\u001b[38;5;241m.\u001b[39mget_loc(casted_key)\n\u001b[1;32m   3622\u001b[0m \u001b[38;5;28;01mexcept\u001b[39;00m \u001b[38;5;167;01mKeyError\u001b[39;00m \u001b[38;5;28;01mas\u001b[39;00m err:\n\u001b[0;32m-> 3623\u001b[0m     \u001b[38;5;28;01mraise\u001b[39;00m \u001b[38;5;167;01mKeyError\u001b[39;00m(key) \u001b[38;5;28;01mfrom\u001b[39;00m \u001b[38;5;21;01merr\u001b[39;00m\n\u001b[1;32m   3624\u001b[0m \u001b[38;5;28;01mexcept\u001b[39;00m \u001b[38;5;167;01mTypeError\u001b[39;00m:\n\u001b[1;32m   3625\u001b[0m     \u001b[38;5;66;03m# If we have a listlike key, _check_indexing_error will raise\u001b[39;00m\n\u001b[1;32m   3626\u001b[0m     \u001b[38;5;66;03m#  InvalidIndexError. Otherwise we fall through and re-raise\u001b[39;00m\n\u001b[1;32m   3627\u001b[0m     \u001b[38;5;66;03m#  the TypeError.\u001b[39;00m\n\u001b[1;32m   3628\u001b[0m     \u001b[38;5;28mself\u001b[39m\u001b[38;5;241m.\u001b[39m_check_indexing_error(key)\n",
      "\u001b[0;31mKeyError\u001b[0m: 'duration'"
     ]
    }
   ],
   "source": [
    "LAPD.loc[LAPD['type']=='middle eastern or south asian','type']=None\n",
    "LAPD.loc[LAPD['type']=='middle eastern or south asian','type']=None\n",
    "LAPD.loc[LAPD['duration']=='0-9','duration']=5\n",
    " \n",
    "\n",
    "type_list=[]\n",
    "LAPD['type'] = LAPD['type'].astype(str)\n",
    "\n",
    "for i in LAPD['type']:\n",
    "    if '1' in i:\n",
    "        type_list.append('Moving')\n",
    "    elif '2' in i:\n",
    "        type_list.append('Equipment')\n",
    "    elif '3' in i:\n",
    "        type_list.append('Non-Moving')\n",
    "    \n",
    "    elif 'equipment' in i.lower():\n",
    "        type_list.append('Equipment')\n",
    "    elif 'non' in i.lower():\n",
    "        type_list.append('Non-Moving')\n",
    "    else:\n",
    "        type_list.append('Moving')\n",
    "LAPD['type'] = type_list\n",
    "\n",
    "\n",
    "LAPD.loc[LAPD['race'] == 'Asian','race'] = 'asian'    \n",
    "LAPD.loc[LAPD['race'] == 'Black/African American','race'] = 'black/african american'    \n",
    "LAPD.loc[LAPD['race'] == 'black/african american','race'] = 'black/african american'    \n",
    "\n",
    "LAPD.loc[LAPD['race'] == 'Hispanic/Latino','race'] = 'hispanic/latino(a)'   \n",
    "LAPD.loc[LAPD['race'] == 'Hispanic/Latino/a','race'] = 'hispanic/latino(a)'    \n",
    "LAPD.loc[LAPD['race'] == 'White','race'] = 'white'\n",
    "LAPD.loc[LAPD['race'] == 'asian','race'] = 'asian'    \n",
    "LAPD.loc[LAPD['race'] == 'black/african american','race'] = 'black/african american'    \n",
    "LAPD.loc[LAPD['race'] == 'hispanic/latino','race'] = 'hispanic/latino(a)'    \n",
    "\n",
    "LAPD.loc[LAPD['race'] == 'white','race'] = 'white'\n",
    "\n",
    "LAPD.loc[LAPD['race'] == '1','race'] = 'asian'\n",
    "LAPD.loc[LAPD['race'] == '2','race'] = 'black/african american'\n",
    "LAPD.loc[LAPD['race'] == '3','race'] = 'hispanic/latino(a)'\n",
    "LAPD.loc[LAPD['race'] == 'hispanic/latino/a','race'] = 'hispanic/latino(a)'\n",
    "LAPD.loc[LAPD['race'] == '7','race'] = 'white'\n",
    "LAPD.loc[LAPD['race'] == 1,'race'] = 'asian'\n",
    "LAPD.loc[LAPD['race'] == 2,'race'] = 'black/african american'\n",
    "LAPD.loc[LAPD['race'] == 3,'race'] = 'hispanic/latino(a)'\n",
    "LAPD.loc[LAPD['race'] == 7,'race'] = 'white'\n",
    "\n",
    "LAPD['race'] = LAPD['race'].astype(str)\n",
    "mixed_list = []\n",
    "for i in LAPD['race']:\n",
    "    if i not in ['white','asian','black/african american','hispanic/latino(a)']:\n",
    "        mixed_list.append('group 4')\n",
    "    else:\n",
    "        mixed_list.append(i)\n",
    "LAPD['race'] = mixed_list\n",
    "      \n",
    "\n",
    "\n",
    "sex_list = []\n",
    "LAPD['sex'] = LAPD['sex'].astype(str)\n",
    "\n",
    "LAPD.loc[LAPD['sex'] == 1,'sex'] = 'male'\n",
    "LAPD.loc[LAPD['sex'] == 'Male','sex'] = 'male'\n",
    "LAPD.loc[LAPD['sex'] == 2,'sex'] = 'female'\n",
    "LAPD.loc[LAPD['sex'] == 'Female','sex'] = 'female'\n",
    "LAPD.loc[LAPD['sex']==3,'sex'] = None\n",
    "LAPD.loc[LAPD['sex']==4,'sex'] = None\n",
    "\n",
    "def sex_code(i):\n",
    "    if '1' in i:\n",
    "        return 'Male'\n",
    "    elif '2' in i:\n",
    "        return 'Female'\n",
    "    elif 'female' in i or 'Female' in i:\n",
    "        return 'Female'\n",
    "    elif 'male' in i or 'Male' in i:\n",
    "        return 'Male'\n",
    "    else:\n",
    "        return None\n",
    "        \n",
    "LAPD['sex'] = [sex_code(i) if i is not None else i for i in LAPD['sex']]\n",
    "# [f(x) if x is not None else '' for x in xs]        \n",
    "LAPD['sex'].value_counts()\n"
   ]
  },
  {
   "cell_type": "code",
   "execution_count": null,
   "id": "1bf9ab47",
   "metadata": {},
   "outputs": [],
   "source": []
  }
 ],
 "metadata": {
  "kernelspec": {
   "display_name": "Python 3 (ipykernel)",
   "language": "python",
   "name": "python3"
  },
  "language_info": {
   "codemirror_mode": {
    "name": "ipython",
    "version": 3
   },
   "file_extension": ".py",
   "mimetype": "text/x-python",
   "name": "python",
   "nbconvert_exporter": "python",
   "pygments_lexer": "ipython3",
   "version": "3.9.12"
  }
 },
 "nbformat": 4,
 "nbformat_minor": 5
}
