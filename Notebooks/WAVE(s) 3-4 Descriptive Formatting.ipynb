{
 "cells": [
  {
   "cell_type": "code",
   "execution_count": 1,
   "id": "28f88b15",
   "metadata": {},
   "outputs": [],
   "source": [
    "import pandas as pd\n",
    "import numpy as np\n",
    "import os\n",
    "from glob import glob\n",
    "import matplotlib.pyplot as plt\n",
    "import time\n",
    "\n",
    "pd.set_option('display.max_columns', None) "
   ]
  },
  {
   "cell_type": "code",
   "execution_count": 2,
   "id": "bf93c5c5",
   "metadata": {},
   "outputs": [],
   "source": [
    "# RIPA_factors = 'ORI number\\nDate, time, and duration of the stop\\nLocation of stop\\nPerceived race or ethnicity of person stopped\\nPerceived gender of person stopped\\nPerson stopped perceived to be LGBT\\nPerceived age of person stopped\\nPerson stopped has limited or no English fluency\\nPerceived or known disability or person stopped\\nReason for stop\\nStop made in response to a call for service\\nActions taken by officer during stop\\nResults of stop\\nOfficer’s Identification (ID) Number\\nOfficer’s years of experience\\nType of assignment of officer'\n",
    "# RIPA_cols_to_keep = RIPA_factors.splitlines"
   ]
  },
  {
   "cell_type": "code",
   "execution_count": 233,
   "id": "5b46c60d",
   "metadata": {},
   "outputs": [],
   "source": [
    "# RIPA_cols_to_keep"
   ]
  },
  {
   "cell_type": "markdown",
   "id": "6ef3b222",
   "metadata": {},
   "source": [
    "### looking for perceived"
   ]
  },
  {
   "cell_type": "code",
   "execution_count": 234,
   "id": "a3a82a54",
   "metadata": {},
   "outputs": [],
   "source": [
    "import warnings\n",
    "warnings.filterwarnings(\"ignore\")"
   ]
  },
  {
   "cell_type": "code",
   "execution_count": 235,
   "id": "c3313b56",
   "metadata": {},
   "outputs": [
    {
     "name": "stdout",
     "output_type": "stream",
     "text": [
      "/Users/karatechop\n"
     ]
    }
   ],
   "source": [
    "cd"
   ]
  },
  {
   "cell_type": "code",
   "execution_count": 236,
   "id": "4163e17b",
   "metadata": {},
   "outputs": [
    {
     "name": "stdout",
     "output_type": "stream",
     "text": [
      "/Users/karatechop/Documents/GitHub/senior-thesis-pretextual-stops/Data/RIPA-DATA-CA-as-of-2022 (CSV)/Waves 3_4\n"
     ]
    }
   ],
   "source": [
    "cd /Users/karatechop/Documents/GitHub/senior-thesis-pretextual-stops/Data/RIPA-DATA-CA-as-of-2022 (CSV)/Waves 3_4"
   ]
  },
  {
   "cell_type": "code",
   "execution_count": 237,
   "id": "4796b3e4",
   "metadata": {
    "scrolled": true
   },
   "outputs": [
    {
     "name": "stdout",
     "output_type": "stream",
     "text": [
      "\u001b[34mBerkeley PD\u001b[m\u001b[m/                  \u001b[34mMarin County Sherrifs Office\u001b[m\u001b[m/\r\n",
      "\u001b[34mDavis PD\u001b[m\u001b[m/\r\n"
     ]
    }
   ],
   "source": [
    "ls"
   ]
  },
  {
   "cell_type": "code",
   "execution_count": 208,
   "id": "d75fb07b",
   "metadata": {
    "scrolled": false
   },
   "outputs": [
    {
     "name": "stdout",
     "output_type": "stream",
     "text": [
      "race perceived prior to stop\n",
      "/Users/karatechop/Documents/GitHub/senior-thesis-pretextual-stops/Data/RIPA-DATA-CA-as-of-2022 (CSV)/Waves 3_4/Berkeley PD/Berkeley_PD_-_Stop_Data__October_1__2020_-_Present_.csv\n",
      "\n",
      "\n",
      "race perceived prior\n",
      "/Users/karatechop/Documents/GitHub/senior-thesis-pretextual-stops/Data/RIPA-DATA-CA-as-of-2022 (CSV)/Waves 3_4/Berkeley PD/ALL-BPD-AB953.csv\n",
      "\n",
      "\n",
      "race noted before detention\n",
      "/Users/karatechop/Documents/GitHub/senior-thesis-pretextual-stops/Data/RIPA-DATA-CA-as-of-2022 (CSV)/Waves 3_4/Marin County Sherrifs Office/PRA_RIPA_Marin_County_Sheriff.csv\n",
      "\n",
      "\n"
     ]
    }
   ],
   "source": [
    "import os\n",
    "from glob import glob\n",
    "\n",
    "PATH = os.getcwd()\n",
    "EXT = \"*.csv\"\n",
    "\n",
    "\n",
    "for path, subdir, files in os.walk(PATH):\n",
    "    for file in glob(os.path.join(path, EXT)):\n",
    "        df = pd.read_csv(file, index_col=None)\n",
    "        \n",
    "        for col in df.columns:\n",
    "            col = col.lower()\n",
    "            if 'prior' in col:\n",
    "                print(f'{col}\\n{file}\\n\\n')\n",
    "                \n",
    "        for col in df.columns:\n",
    "            col = col.lower()\n",
    "            if 'before' in col:\n",
    "                print(f'{col}\\n{file}\\n\\n')\n",
    "        \n",
    "#         print('\\n\\n\\n\\n\\n\\n')\n",
    "                \n",
    "#         for col in df.columns:\n",
    "#             col = col.lower()\n",
    "#             if 'race' in col:\n",
    "#                 print(f'{col}\\n{file}\\n\\n')\n",
    "        "
   ]
  },
  {
   "cell_type": "markdown",
   "id": "78222fc9",
   "metadata": {},
   "source": [
    "# WAVE(s) 3-4"
   ]
  },
  {
   "cell_type": "markdown",
   "id": "315f0f7d",
   "metadata": {},
   "source": [
    "## Berkeley PD"
   ]
  },
  {
   "cell_type": "code",
   "execution_count": 238,
   "id": "fb927eb2",
   "metadata": {
    "scrolled": true
   },
   "outputs": [
    {
     "name": "stdout",
     "output_type": "stream",
     "text": [
      "/Users/karatechop\n"
     ]
    }
   ],
   "source": [
    "cd"
   ]
  },
  {
   "cell_type": "code",
   "execution_count": 239,
   "id": "c9ed1978",
   "metadata": {
    "scrolled": true
   },
   "outputs": [
    {
     "name": "stdout",
     "output_type": "stream",
     "text": [
      "/Users/karatechop/Documents/GitHub/senior-thesis-pretextual-stops/Data/RIPA-DATA-CA-as-of-2022 (CSV)/Waves 3_4/Berkeley PD\n"
     ]
    }
   ],
   "source": [
    "cd '/Users/karatechop/Documents/GitHub/senior-thesis-pretextual-stops/Data/RIPA-DATA-CA-as-of-2022 (CSV)/Waves 3_4/Berkeley PD'"
   ]
  },
  {
   "cell_type": "code",
   "execution_count": 240,
   "id": "112bd037",
   "metadata": {},
   "outputs": [
    {
     "name": "stdout",
     "output_type": "stream",
     "text": [
      "ALL-BPD-AB953.csv\r\n",
      "Berkeley_PD_-_Stop_Data__October_1__2020_-_Present_.csv\r\n",
      "Results for \"stops ripa\" | Page 1 of 1 | Open Data | City of Berkeley.webloc\r\n"
     ]
    }
   ],
   "source": [
    "ls"
   ]
  },
  {
   "cell_type": "code",
   "execution_count": 212,
   "id": "19d45274",
   "metadata": {},
   "outputs": [
    {
     "name": "stdout",
     "output_type": "stream",
     "text": [
      "['Race Perceived Prior To Stop' 'race perceived prior']\n"
     ]
    }
   ],
   "source": [
    "import os\n",
    "from glob import glob\n",
    "\n",
    "PATH = os.getcwd()\n",
    "EXT = \"*.csv\"\n",
    "\n",
    "cols = []\n",
    "for path, subdir, files in os.walk(PATH):\n",
    "    for file in glob(os.path.join(path, EXT)):\n",
    "        df = pd.read_csv(file, index_col=None)\n",
    "        \n",
    "        for col in df.columns:\n",
    "            cols.append(col)\n",
    "                \n",
    "print(pd.unique([match for match in cols if 'prior'.lower() in match.lower()]))"
   ]
  },
  {
   "cell_type": "code",
   "execution_count": 241,
   "id": "778bb59e",
   "metadata": {
    "scrolled": false
   },
   "outputs": [],
   "source": [
    "berk = pd.read_csv('Berkeley_PD_-_Stop_Data__October_1__2020_-_Present_.csv')\n",
    "# berk['Is Stop Made in Response to Call for Service'].value_counts()\n",
    "# berk['Perceived Race or Ethnicity'].value_counts()"
   ]
  },
  {
   "cell_type": "code",
   "execution_count": 242,
   "id": "15a2edd5",
   "metadata": {
    "scrolled": true
   },
   "outputs": [
    {
     "name": "stdout",
     "output_type": "stream",
     "text": [
      "no dropped pid dupes\n",
      "final BPD is (6466, 15)\n",
      "\n",
      "final saved!\n"
     ]
    }
   ],
   "source": [
    "import glob\n",
    "def convert_simplify_BK(df):\n",
    "    i = df\n",
    "    i = i.rename(columns={'Date of Stop':'date',\n",
    "#                           'StopDate':'Date',\n",
    "#                           'Date of Stop':'Date',\n",
    "                          'Time of Stop':'time',\n",
    "#                           'stopTime':'Time',\n",
    "#                           'Time of Stop':'Time',\n",
    "                          \n",
    "                          'Officer Type of Assignment':'assignment',\n",
    "#                           'Officer Type of Assignment':'assignment',\n",
    "                          \n",
    "                          'Is Stop Made in Response to Call for Service':'service call',\n",
    "#                           'stopInResponseToCFS':'service call',\n",
    "                          \n",
    "#                           'stopDuration':'Duration',\n",
    "                          'Duration of Stop':'Duration',\n",
    "                          \n",
    "                          'Person Number':'PID',\n",
    "                          \n",
    "                          'Perceived Race or Ethnicity':'race',\n",
    "                          'Race Perceived Prior To Stop':'race perceived prior',\n",
    "                          'Perceived Gender':'sex',\n",
    "#                           'Perceived Gender 1-4':'sex',\n",
    "                          'Perceived Age':'age',\n",
    "#                           'Perceived Age':'age',\n",
    "                          \n",
    "                          'Traffic Violation Type':'type',\n",
    "                          \n",
    "                          'Reason for Stop':'reason',\n",
    "                          'Suspicion SubType':'basis',\n",
    "                          'Actions Taken':'actions taken',\n",
    "                          \n",
    "                          'Basis for Search':'search basis',\n",
    "                          'Basis for Property Seizure':'seizure basis',\n",
    "                          'Type of Property Seized':'property seized',\n",
    "                          'Contraband or Evidence':'evidence',\n",
    "                          \n",
    "                          'Result of Stop':'result',\n",
    "                          'Traffic Violation Offense Codes':'offense code',\n",
    "                          \n",
    "                          'If K12 School Is Stop of a Student':'student'})\n",
    "\n",
    "    i = i[(i['service call']!='True')\\\n",
    "          & (i['assignment']=='Patrol, traffic enforcement, field operations')\\\n",
    "#           & ((i['type']==1) | (i['type']==2) | (i['type']==3))\\\n",
    "          &  (i['reason']=='Traffic Violation')]\n",
    "\n",
    "    i.loc[i['type'] == 1,'type'] = '1 Moving'\n",
    "    i.loc[i['type'] == 2,'type'] = '2 Equipment'\n",
    "    i.loc[i['type'] == 3,'type'] = '3 Non-Moving'\n",
    "    \n",
    "    try:\n",
    "        i = i[i['student']!='True']\n",
    "    except:\n",
    "        print('no student drop')\n",
    "        pass\n",
    "    \n",
    "    \n",
    "\n",
    "    \n",
    "    try:     \n",
    "        i.loc[i['race'] == '1','race'] = 'asian'\n",
    "        i.loc[i['race'] == '2','race'] = 'black/african american'\n",
    "        i.loc[i['race'] == '3','race'] = 'hispanic/latino(a)'\n",
    "        i.loc[i['race'] == '4','race'] = 'middle eastern or south asian'\n",
    "        i.loc[i['race'] == '5','race'] = 'native american'\n",
    "        i.loc[i['race'] == '6','race'] = 'pacific islander'\n",
    "        i.loc[i['race'] == '7','race'] = 'white'\n",
    "        i.loc[i['race'] == 1,'race'] = 'asian'\n",
    "        i.loc[i['race'] == 2,'race'] = 'black/african american'\n",
    "        i.loc[i['race'] == 3,'race'] = 'hispanic/latino(a)'\n",
    "        i.loc[i['race'] == 4,'race'] = 'middle eastern or south asian'\n",
    "        i.loc[i['race'] == 5,'race'] = 'native american'\n",
    "        i.loc[i['race'] == 6,'race'] = 'pacific islander'\n",
    "        i.loc[i['race'] == 7,'race'] = 'white'\n",
    "    except: \n",
    "        print('race switch failed')\n",
    "        pass\n",
    " \n",
    "    already_good = ['asian','black/african american','hispanic/latino(a)','middle eastern or south asian',\n",
    "                    'native american','pacific islander','white']\n",
    "    \n",
    "    race_list = []\n",
    "    for race in i['race']:\n",
    "        try:\n",
    "            if len(race.split('|'))>1:\n",
    "                race_list.append('mixed')\n",
    "            else:\n",
    "                race_list.append(race)\n",
    "        except:\n",
    "            try:\n",
    "                race_str = race.str.replace(',','')\n",
    "                race_list.append(race_str)\n",
    "            except:\n",
    "                    race_list.append(race)\n",
    "\n",
    "\n",
    "    \n",
    "    i['race'] = race_list\n",
    "    i['race'] = i['race'].replace(',','', regex=True)\n",
    "    \n",
    "    \n",
    "#     try:\n",
    "#         i['Date'] = pd.to_datetime(i['Date'])\n",
    "#         i['Time'] = i['Date'].dt.time\n",
    "#     except: \n",
    "#         try: \n",
    "#             i['Time'] = i['Date'].dt.time\n",
    "#         except:\n",
    "#             print('no time changes')\n",
    "#             pass\n",
    "\n",
    "    \n",
    "    try: \n",
    "        i = i.drop_duplicates(subset=['stop_id'], keep='first')\n",
    "    except: \n",
    "        print('no dropped pid dupes')\n",
    "        pass\n",
    "    \n",
    "    \n",
    "    output_df = i[['date','time','Duration','race', 'sex','age','type', 'race perceived prior',\n",
    "                   'reason','offense code','basis', 'actions taken', 'property seized', 'search basis',\n",
    "                   'result']]\n",
    "\n",
    "    return output_df\n",
    "\n",
    "path = os.getcwd()\n",
    "files = glob.glob(path + \"/*.csv\")\n",
    "\n",
    "for i in files: \n",
    "    if 'AB953' not in i:\n",
    "        BPD = convert_simplify_BK(pd.read_csv(i))\n",
    "        \n",
    "print(f'final BPD is {BPD.shape}')\n",
    "\n",
    "BPD.to_csv('ALL-BPD-AB953.csv',index=False)\n",
    "print('\\nfinal saved!')"
   ]
  },
  {
   "cell_type": "code",
   "execution_count": 215,
   "id": "86d6dd1d",
   "metadata": {},
   "outputs": [
    {
     "data": {
      "text/plain": [
       "White                         2074\n",
       "Black/African American        1952\n",
       "Hispanic/Latino               1126\n",
       "Asian                          639\n",
       "Middle Eastern/South Asian     524\n",
       "mixed                          116\n",
       "Pacific Islander                35\n",
       "Name: race, dtype: int64"
      ]
     },
     "execution_count": 215,
     "metadata": {},
     "output_type": "execute_result"
    }
   ],
   "source": [
    "BPD['race'].value_counts()"
   ]
  },
  {
   "cell_type": "markdown",
   "id": "dbabe885",
   "metadata": {},
   "source": [
    "## Davis PD"
   ]
  },
  {
   "cell_type": "code",
   "execution_count": 243,
   "id": "6e6da5de",
   "metadata": {
    "scrolled": true
   },
   "outputs": [
    {
     "name": "stdout",
     "output_type": "stream",
     "text": [
      "/Users/karatechop\n"
     ]
    }
   ],
   "source": [
    "cd"
   ]
  },
  {
   "cell_type": "code",
   "execution_count": 244,
   "id": "2ad3e8f1",
   "metadata": {
    "scrolled": true
   },
   "outputs": [
    {
     "name": "stdout",
     "output_type": "stream",
     "text": [
      "/Users/karatechop/Documents/GitHub/senior-thesis-pretextual-stops/Data/RIPA-DATA-CA-as-of-2022 (CSV)/Waves 3_4/Davis PD\n"
     ]
    }
   ],
   "source": [
    "cd '/Users/karatechop/Documents/GitHub/senior-thesis-pretextual-stops/Data/RIPA-DATA-CA-as-of-2022 (CSV)/Waves 3_4/Davis PD'"
   ]
  },
  {
   "cell_type": "code",
   "execution_count": 245,
   "id": "f060b618",
   "metadata": {},
   "outputs": [
    {
     "name": "stdout",
     "output_type": "stream",
     "text": [
      "ALL-DAVIS-AB953.csv\r\n",
      "Jan-Dec_2020_Reported_Stop_Data_PUBLIC.csv\r\n",
      "\u001b[34moriginal\u001b[m\u001b[m/\r\n"
     ]
    }
   ],
   "source": [
    "ls"
   ]
  },
  {
   "cell_type": "code",
   "execution_count": 219,
   "id": "a44e8927",
   "metadata": {},
   "outputs": [
    {
     "name": "stdout",
     "output_type": "stream",
     "text": [
      "['Stop - Actions Taken' 'actions taken']\n"
     ]
    }
   ],
   "source": [
    "import os\n",
    "from glob import glob\n",
    "\n",
    "PATH = os.getcwd()\n",
    "EXT = \"*.csv\"\n",
    "\n",
    "cols = []\n",
    "for path, subdir, files in os.walk(PATH):\n",
    "    for file in glob(os.path.join(path, EXT)):\n",
    "        df = pd.read_csv(file, index_col=None)\n",
    "        \n",
    "        for col in df.columns:\n",
    "            cols.append(col)\n",
    "                \n",
    "print(pd.unique([match for match in cols if 'action'.lower() in match.lower()]))"
   ]
  },
  {
   "cell_type": "code",
   "execution_count": 220,
   "id": "7d0e8175",
   "metadata": {},
   "outputs": [
    {
     "data": {
      "text/plain": [
       "Index(['Date', 'Time', 'Street', 'Cross Street', 'Source of Call',\n",
       "       'Total OnScene Time', 'Stop - K-12?', 'Stop - School Code',\n",
       "       'Stop - Officer Assignment', 'Stop - Reason For',\n",
       "       'Stop - Suspicion Types', 'Stop - Violation Type', 'Stop - Perc Race',\n",
       "       'Stop - Perc Disabilities', 'Stop - Perc Gender', 'Stop - Perc LGBT?',\n",
       "       'Stop - Limited English?', 'Stop - Perc Age', 'Stop - Actions Taken',\n",
       "       'Stop - Search Basis', 'Stop - Evidence Discovered',\n",
       "       'Stop - Seized Property Basis', 'Stop - Seized Property Type',\n",
       "       'Stop - Result', 'Stop - Citation Code 1', 'Stop - Citation Desc 1',\n",
       "       'Stop - Custodial Code 1', 'Stop - Custodial Desc 1',\n",
       "       'Stop - Cite/Release Code 1', 'Stop - Cite/Release Desc 1',\n",
       "       'Stop - Warning Code 1', 'Stop - Warning Desc 1', 'Stop - Educ Section',\n",
       "       'Stop - Educ Subdivision'],\n",
       "      dtype='object')"
      ]
     },
     "execution_count": 220,
     "metadata": {},
     "output_type": "execute_result"
    }
   ],
   "source": [
    "davis = pd.read_csv('Jan-Dec_2020_Reported_Stop_Data_PUBLIC.csv')\n",
    "davis['Stop - Violation Type'].value_counts()\n",
    "davis.columns"
   ]
  },
  {
   "cell_type": "code",
   "execution_count": 246,
   "id": "4e8b247e",
   "metadata": {
    "scrolled": false
   },
   "outputs": [
    {
     "name": "stdout",
     "output_type": "stream",
     "text": [
      "no dropped pid dupes\n",
      "final DAVIS is (1496, 13)\n",
      "\n",
      "final saved!\n"
     ]
    }
   ],
   "source": [
    "import glob\n",
    "def convert_simplify_DAVIS(df):\n",
    "    i = df\n",
    "    i = i.rename(columns={'Date':'date',\n",
    "#                           'StopDate':'Date',\n",
    "#                           'Date of Stop':'Date',\n",
    "                          'Time':'time',\n",
    "#                           'stopTime':'Time',\n",
    "#                           'Time of Stop':'Time',\n",
    "                          \n",
    "                          'Stop - Officer Assignment':'assignment',\n",
    "#                           'Officer Type of Assignment':'assignment',\n",
    "                          \n",
    "                          'Source of Call':'service call',\n",
    "#                           'stopInResponseToCFS':'service call',\n",
    "                          \n",
    "#                           'stopDuration':'Duration',\n",
    "                          'Total OnScene Time':'Duration',\n",
    "                          \n",
    "                          'Person Number':'PID',\n",
    "                          \n",
    "                          'Stop - Perc Race':'race',\n",
    "#                           'Stop - Perc Race':'race perceived prior',\n",
    "                          'Stop - Perc Gender':'sex',\n",
    "#                           'Perceived Gender 1-4':'sex',\n",
    "                          'Stop - Perc Age':'age',\n",
    "#                           'Perceived Age':'age',\n",
    "                          \n",
    "                          'Stop - Violation Type':'type',\n",
    "                          \n",
    "                          'Stop - Reason For':'reason',\n",
    "#                           'Stop - Actions Taken':'basis',\n",
    "                          'Stop - Actions Taken':'actions taken',\n",
    "                          \n",
    "                          'Stop - Search Basis':'search basis',\n",
    "                          'Stop - Seized Property Basis':'seizure basis',\n",
    "                          'Stop - Seized Property Type':'property seized',\n",
    "                          'Stop - Evidence Discovered':'evidence',\n",
    "                          \n",
    "                          'Stop - Result':'result',\n",
    "                          'Stop - Citation Code 1':'offense code',\n",
    "                          \n",
    "                          'Stop - K-12?':'student'})\n",
    "\n",
    "    i = i[(i['assignment']=='Patrol, traffic enforcement, field operations')\\\n",
    "#           & ((i['type']==1) | (i['type']==2) | (i['type']==3))\\\n",
    "          &  (i['reason']=='Traffic violation')]\n",
    "\n",
    "    i.loc[i['type'] == 1,'type'] = '1 Moving'\n",
    "    i.loc[i['type'] == 2,'type'] = '2 Equipment'\n",
    "    i.loc[i['type'] == 3,'type'] = '3 Non-Moving'\n",
    "    \n",
    "    i.loc[i['type'] == 'Moving violation','type'] = '1 Moving'\n",
    "    i.loc[i['type'] == 'Equipment violation','type'] = '2 Equipment'\n",
    "    i.loc[i['type'] == 'Non-moving violation, including registration','type'] = '3 Non-Moving'\n",
    "    \n",
    "    try:\n",
    "        i = i[i['student']!='True']\n",
    "    except:\n",
    "        print('no student drop')\n",
    "        pass\n",
    "    \n",
    "    \n",
    "    \n",
    "    try: \n",
    "        i.loc[i['race'] == 'Asian','race'] = 'asian'    \n",
    "        i.loc[i['race'] == 'Black/African American','race'] = 'black/african american'    \n",
    "        i.loc[i['race'] == 'Hispanic/Latino','race'] = 'hispanic/latino(a)'    \n",
    "        i.loc[i['race'] == 'Middle Eastern or South Asian'] = 'middle eastern or south asian'    \n",
    "        i.loc[i['race'] == 'Native American','race'] = 'native american'   \n",
    "        i.loc[i['race'] == 'Pacific Islander','race'] = 'pacific islander'   \n",
    "        i.loc[i['race'] == 'White','race'] = 'white'\n",
    "        i['race'][~i['race'].isin(['asian','black/african american','hispanic/latino(a)','middle eastern or south asian',\n",
    "                'native american','pacific islander','white'])] = 'mixed'\n",
    "    except: \n",
    "        print('race switch failed')\n",
    "        pass\n",
    " \n",
    "    \n",
    "    race_list = []\n",
    "    for race in i['race']:\n",
    "        try:\n",
    "            if len(race.split('/'))>2:\n",
    "                race_list.append('mixed')\n",
    "            else:\n",
    "                race_list.append(race)\n",
    "        except:\n",
    "            try:\n",
    "                race_str = race.str.replace(',','')\n",
    "                race_list.append(race_str)\n",
    "            except:\n",
    "                    race_list.append(race)\n",
    "        \n",
    "    already_good = ['asian','black/african american','hispanic/latino(a)','middle eastern or south asian',\n",
    "                    'native american','pacific islander','white','mixed']\n",
    "    \n",
    "    i['race'] = race_list\n",
    "    i['race'] = i['race'].replace(',','', regex=True)\n",
    "    \n",
    "    \n",
    "#     try:\n",
    "#         i['Date'] = pd.to_datetime(i['Date'])\n",
    "#         i['Time'] = i['Date'].dt.time\n",
    "#     except: \n",
    "#         try: \n",
    "#             i['Time'] = i['Date'].dt.time\n",
    "#         except:\n",
    "#             print('no time changes')\n",
    "#             pass\n",
    "\n",
    "    \n",
    "    try: \n",
    "        i = i.drop_duplicates(subset=['stop_id'], keep='first')\n",
    "    except: \n",
    "        print('no dropped pid dupes')\n",
    "        pass\n",
    "    \n",
    "    \n",
    "    output_df = i[['date','time','Duration','race', 'sex','age','type',\n",
    "                   'reason','offense code', 'actions taken', 'property seized', 'search basis',\n",
    "                   'result']]\n",
    "\n",
    "    return output_df\n",
    "\n",
    "path = os.getcwd()\n",
    "files = glob.glob(path + \"/*.csv\")\n",
    "\n",
    "for i in files: \n",
    "    if 'AB953' not in i:\n",
    "        DAVIS = convert_simplify_DAVIS(pd.read_csv(i))\n",
    "        \n",
    "print(f'final DAVIS is {DAVIS.shape}')\n",
    "\n",
    "DAVIS.to_csv('ALL-DAVIS-AB953.csv',index=False)\n",
    "print('\\nfinal saved!')"
   ]
  },
  {
   "cell_type": "code",
   "execution_count": 222,
   "id": "4af965b7",
   "metadata": {},
   "outputs": [
    {
     "data": {
      "text/plain": [
       "1 Moving                         852\n",
       "2 Equipment                      373\n",
       "3 Non-Moving                     186\n",
       "middle eastern or south asian     85\n",
       "Name: type, dtype: int64"
      ]
     },
     "execution_count": 222,
     "metadata": {},
     "output_type": "execute_result"
    }
   ],
   "source": [
    "DAVIS['type'].value_counts()"
   ]
  },
  {
   "cell_type": "markdown",
   "id": "809875aa",
   "metadata": {},
   "source": [
    "## Marin County"
   ]
  },
  {
   "cell_type": "code",
   "execution_count": 3,
   "id": "f1f32f06",
   "metadata": {
    "scrolled": false
   },
   "outputs": [
    {
     "name": "stdout",
     "output_type": "stream",
     "text": [
      "/Users/karatechop\n"
     ]
    }
   ],
   "source": [
    "cd"
   ]
  },
  {
   "cell_type": "code",
   "execution_count": 4,
   "id": "f53114c3",
   "metadata": {
    "scrolled": true
   },
   "outputs": [
    {
     "name": "stdout",
     "output_type": "stream",
     "text": [
      "/Users/karatechop/Documents/GitHub/senior-thesis-pretextual-stops/Data/RIPA-DATA-CA-as-of-2022 (CSV)/Waves 3_4/Marin County Sherrifs Office\n"
     ]
    }
   ],
   "source": [
    "cd '/Users/karatechop/Documents/GitHub/senior-thesis-pretextual-stops/Data/RIPA-DATA-CA-as-of-2022 (CSV)/Waves 3_4/Marin County Sherrifs Office'"
   ]
  },
  {
   "cell_type": "code",
   "execution_count": 251,
   "id": "b1622557",
   "metadata": {},
   "outputs": [
    {
     "name": "stdout",
     "output_type": "stream",
     "text": [
      "ALL-MARIN-AB953.csv                \u001b[34moriginal\u001b[m\u001b[m/\r\n",
      "PRA_RIPA_Marin_County_Sheriff.csv\r\n"
     ]
    }
   ],
   "source": [
    "ls"
   ]
  },
  {
   "cell_type": "code",
   "execution_count": 226,
   "id": "9a88bd19",
   "metadata": {
    "scrolled": true
   },
   "outputs": [
    {
     "data": {
      "text/plain": [
       "\"\\n'Date/Time of Stop':'Date',\\n'Date/Time of Stop':'Time',\\n'Officer Type of Assignment':'assignment',\\n'Other Assignment Type':'assignment',\\n'Is Stop Made in Response to Call for Service':'service',\\n'Duration of Stop':'duration',\\n'Perceived Race or Ethnicity':'race',\\n'Perceived Race or Ethnicity 2':'race',\\n'Race Noted Before Detention':'race',\\n'Perceived Gender 1‐4':'gender',\\n'Perceived Gender 5 ‐ Gender Nonconforming':'gender',\\n'Agency ORI':'age',\\n'Perceived Age':'age',\\n'Traffic Violation Type':'traffic',\\n'Traffic Violation ‐ CJIS Offense Code':'traffic',\\n'Suspicion CJIS Offense Code':'suspicion',\\n'Suspicion Sub‐Type':'suspicion',\\n'Suspicion Sub‐Type 2':'suspicion',\\n'Actions Taken':'actions',\\n'Actions Taken 2':'actions',\\n'Actions Taken 3':'actions',\\n'Actions Taken 4':'actions',\\n'Basis for Search':'search',\\n'Basis for Search Narrative':'search',\\n'Basis for Property Seizure':'seizure',\\n'Basis for Property Seizure':'property',\\n'Type of Property Seized':'property',\\n'Type of Property Seized 2':'property',\\n'Type of Property Seized 3':'property',\\n'Contraband or Evidence':'evidence',\\n'Contraband or Evidence 2':'evidence',\\n'Contraband or Evidence 3':'evidence',\\n'If K‐12 School, Is Stop of a Student':'student',\\n'Is Stop Made in Response to Call for Service':'service',\\n'reason':'reason',\\n'reason':'reason',\\n'reason':'reason',\""
      ]
     },
     "execution_count": 226,
     "metadata": {},
     "output_type": "execute_result"
    }
   ],
   "source": [
    "# import os\n",
    "# from glob import glob\n",
    "# import pyperclip as clip\n",
    "\n",
    "# PATH = os.getcwd()\n",
    "# EXT = \"*.csv\"\n",
    "\n",
    "# cols = []\n",
    "# for path, subdir, files in os.walk(PATH):\n",
    "#     for file in glob(os.path.join(path, EXT)):\n",
    "#         df = pd.read_csv(file, index_col=None)\n",
    "        \n",
    "#         for col in df.columns:\n",
    "#             cols.append(col)\n",
    "\n",
    "# keyword = 'reason'  \n",
    "# # copy_str = ''\n",
    "\n",
    "# options = pd.unique([match for match in cols if keyword.lower() in match.lower()])\n",
    "\n",
    "# for result in options:\n",
    "#     copy_str = copy_str + f\"\\n'{result}':'{keyword}',\"\n",
    "# clip.copy(copy_str)\n",
    "\n",
    "# clip.paste()"
   ]
  },
  {
   "cell_type": "code",
   "execution_count": 252,
   "id": "9015c305",
   "metadata": {},
   "outputs": [
    {
     "data": {
      "text/plain": [
       "No     5625\n",
       "Yes    1122\n",
       "Name: Is Stop Made in Response to Call for Service, dtype: int64"
      ]
     },
     "execution_count": 252,
     "metadata": {},
     "output_type": "execute_result"
    }
   ],
   "source": [
    "marin = pd.read_csv('PRA_RIPA_Marin_County_Sheriff.csv')\n",
    "marin['Is Stop Made in Response to Call for Service'].value_counts()\n",
    "# marin.columns"
   ]
  },
  {
   "cell_type": "code",
   "execution_count": 6,
   "id": "713a0d6d",
   "metadata": {
    "scrolled": false
   },
   "outputs": [
    {
     "name": "stdout",
     "output_type": "stream",
     "text": [
      "no dropped pid dupes\n",
      "final MARIN is (4746, 13)\n",
      "\n",
      "final saved!\n"
     ]
    }
   ],
   "source": [
    "import glob\n",
    "def convert_simplify_MARIN(df):\n",
    "    i = df\n",
    "    i = i.rename(columns={'Date/Time of Stop':'date',\n",
    "                            \n",
    "                            'Officer Type of Assignment':'assignment',\n",
    "                            'Officer Years of Experience':'experience',\n",
    "\n",
    "                            'Is Stop Made in Response to Call for Service':'service call',\n",
    "                            'Duration of Stop':'Duration',\n",
    "                          \n",
    "                            'Perceived Race or Ethnicity':'race',\n",
    "                            'Race Noted Before Detention':'race perceived prior',\n",
    "                            'Perceived Gender 1‐4':'sex',\n",
    "                            'Perceived Age':'age',\n",
    "                          \n",
    "                            'Traffic Violation Type':'type',\n",
    "                          \n",
    "                            'Rea00n for Stop':'reason',\n",
    "                            'Suspicion Sub‐Type':'suspicion',\n",
    "                            'Actions Taken':'actions taken',\n",
    "                            'Result of Stop':'result',\n",
    "                           \n",
    "                            'Basis for Search':'search basis',\n",
    "                            'Basis for Property Seizure':'seizure basis',\n",
    "                            'Type of Property Seized':'property seized',\n",
    "                            'Contraband or Evidence':'evidence',\n",
    "                            \n",
    "                            'If K‐12 School, Is Stop of a Student':'student'})\n",
    "\n",
    "    i = i[(i['service call']!='Yes')\\\n",
    "          & (i['assignment']=='1_Patrol, traffic enforcement, field operations')\\\n",
    "#           & ((i['type']==1) | (i['type']==2) | (i['type']==3))\\\n",
    "          &  (i['reason']=='1_Traffic violation')]\n",
    "\n",
    "    i.loc[i['type'] == 1,'type'] = '1 Moving'\n",
    "    i.loc[i['type'] == 2,'type'] = '2 Equipment'\n",
    "    i.loc[i['type'] == 3,'type'] = '3 Non-Moving'\n",
    "    \n",
    "    i.loc[i['type'] == 'Moving violation','type'] = '1 Moving'\n",
    "    i.loc[i['type'] == 'Equipment violation','type'] = '2 Equipment'\n",
    "    i.loc[i['type'] == 'Non-moving violation, including registration','type'] = '3 Non-Moving'\n",
    "    \n",
    "    try:\n",
    "        i = i[i['student']!='True']\n",
    "    except:\n",
    "        print('no student drop')\n",
    "        pass\n",
    "    \n",
    "    \n",
    "    i['race'] = [i[:1] for i in i['race']]\n",
    "    \n",
    "    \n",
    "    try:     \n",
    "        i.loc[i['race'] == '1','race'] = 'asian'\n",
    "        i.loc[i['race'] == '2','race'] = 'black/african american'\n",
    "        i.loc[i['race'] == '3','race'] = 'hispanic/latino(a)'\n",
    "        i.loc[i['race'] == '4','race'] = 'middle eastern or south asian'\n",
    "        i.loc[i['race'] == '5','race'] = 'native american'\n",
    "        i.loc[i['race'] == '6','race'] = 'pacific islander'\n",
    "        i.loc[i['race'] == '7','race'] = 'white'\n",
    "        i.loc[i['race'] == 1,'race'] = 'asian'\n",
    "        i.loc[i['race'] == 2,'race'] = 'black/african american'\n",
    "        i.loc[i['race'] == 3,'race'] = 'hispanic/latino(a)'\n",
    "        i.loc[i['race'] == 4,'race'] = 'middle eastern or south asian'\n",
    "        i.loc[i['race'] == 5,'race'] = 'native american'\n",
    "        i.loc[i['race'] == 6,'race'] = 'pacific islander'\n",
    "        i.loc[i['race'] == 7,'race'] = 'white'\n",
    "    except: \n",
    "        print('race switch failed')\n",
    "        pass\n",
    "    \n",
    "    \n",
    "#     try:\n",
    "#         i['Date'] = pd.to_datetime(i['Date'])\n",
    "#         i['Time'] = i['Date'].dt.time\n",
    "#     except: \n",
    "#         try: \n",
    "#             i['Time'] = i['Date'].dt.time\n",
    "#         except:\n",
    "#             print('no time changes')\n",
    "#             pass\n",
    "    i['date'] = pd.to_datetime(i['date'])\n",
    "    i['time'] = i['date'].dt.time\n",
    "    \n",
    "    try: \n",
    "        i = i.drop_duplicates(subset=['stop_id'], keep='first')\n",
    "    except: \n",
    "        print('no dropped pid dupes')\n",
    "        pass\n",
    "    \n",
    "    \n",
    "    output_df = i[['date','time','Duration','race', 'sex','age','type','race perceived prior',\n",
    "                   'reason', 'actions taken', 'property seized', 'search basis',\n",
    "                   'result']]\n",
    "\n",
    "    return output_df\n",
    "\n",
    "path = os.getcwd()\n",
    "files = glob.glob(path + \"/*.csv\")\n",
    "\n",
    "for i in files: \n",
    "    if 'AB953' not in i:\n",
    "        MARIN = convert_simplify_MARIN(pd.read_csv(i))\n",
    "        \n",
    "print(f'final MARIN is {MARIN.shape}')\n",
    "\n",
    "MARIN.to_csv('ALL-MARIN-AB953.csv',index=False)\n",
    "print('\\nfinal saved!')"
   ]
  },
  {
   "cell_type": "code",
   "execution_count": 230,
   "id": "ebde53af",
   "metadata": {},
   "outputs": [
    {
     "data": {
      "text/plain": [
       "5             1127\n",
       "10             534\n",
       "4              419\n",
       "6              387\n",
       "7              327\n",
       "3              266\n",
       "15             250\n",
       "8              233\n",
       "20             116\n",
       "2              108\n",
       "9              106\n",
       "12              84\n",
       "30              74\n",
       "11              57\n",
       "13              55\n",
       "25              54\n",
       "60              36\n",
       "1               32\n",
       "40              30\n",
       "14              30\n",
       "18              29\n",
       "16              23\n",
       "45              21\n",
       "17              21\n",
       "35              21\n",
       "19              16\n",
       "22              15\n",
       "50              13\n",
       "23               9\n",
       "5 minutes        9\n",
       "24               9\n",
       "26               9\n",
       "43               8\n",
       "70               8\n",
       "90               8\n",
       "36               8\n",
       "10 min           7\n",
       "55               7\n",
       "120              7\n",
       "29               7\n",
       "32               5\n",
       "34               5\n",
       "7 min            5\n",
       "27               5\n",
       "5 min            5\n",
       "80               5\n",
       "4 minutes        4\n",
       "15 min           4\n",
       "38               4\n",
       "20 min           4\n",
       "Name: Duration, dtype: int64"
      ]
     },
     "execution_count": 230,
     "metadata": {},
     "output_type": "execute_result"
    }
   ],
   "source": [
    "MARIN['Duration'].value_counts()[:50]"
   ]
  },
  {
   "cell_type": "code",
   "execution_count": null,
   "id": "91805da0",
   "metadata": {},
   "outputs": [],
   "source": []
  },
  {
   "cell_type": "code",
   "execution_count": null,
   "id": "7096debc",
   "metadata": {},
   "outputs": [],
   "source": []
  },
  {
   "cell_type": "code",
   "execution_count": null,
   "id": "7254469d",
   "metadata": {},
   "outputs": [],
   "source": []
  }
 ],
 "metadata": {
  "kernelspec": {
   "display_name": "Python 3 (ipykernel)",
   "language": "python",
   "name": "python3"
  },
  "language_info": {
   "codemirror_mode": {
    "name": "ipython",
    "version": 3
   },
   "file_extension": ".py",
   "mimetype": "text/x-python",
   "name": "python",
   "nbconvert_exporter": "python",
   "pygments_lexer": "ipython3",
   "version": "3.10.6"
  }
 },
 "nbformat": 4,
 "nbformat_minor": 5
}
